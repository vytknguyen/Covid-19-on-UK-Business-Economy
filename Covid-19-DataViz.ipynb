{
 "cells": [
  {
   "cell_type": "markdown",
   "metadata": {},
   "source": [
    "# THE IMPACT OF COVID-19 ON THE UK BUSINESS ECONOMY PATTERN"
   ]
  },
  {
   "cell_type": "code",
   "execution_count": 3,
   "metadata": {},
   "outputs": [
    {
     "name": "stderr",
     "output_type": "stream",
     "text": [
      "/var/folders/ws/thjk0xtn2878tj62hhzdv2d00000gn/T/ipykernel_8977/476662553.py:29: UserWarning: \n",
      "The dash_core_components package is deprecated. Please replace\n",
      "`import dash_core_components as dcc` with `from dash import dcc`\n",
      "  import dash_core_components as dcc\n",
      "/var/folders/ws/thjk0xtn2878tj62hhzdv2d00000gn/T/ipykernel_8977/476662553.py:30: UserWarning: \n",
      "The dash_html_components package is deprecated. Please replace\n",
      "`import dash_html_components as html` with `from dash import html`\n",
      "  import dash_html_components as html\n"
     ]
    }
   ],
   "source": [
    "# we need to install some packages (remove # to install)\n",
    "\n",
    "# import sys\n",
    "# !{sys.executable} -m pip install folium\n",
    "# !{sys.executable} -m pip install geopandas\n",
    "# !{sys.executable} -m pip install dash\n",
    "# !{sys.executable} -m pip install dash_core_components\n",
    "# !{sys.executable} -m pip install dash_html_components\n",
    "\n",
    "# Libraries to work with numbers\n",
    "import datetime as dt\n",
    "import numpy as np \n",
    "import pandas as pd\n",
    "from scipy import stats\n",
    "\n",
    "# Libraries to plot\n",
    "import os\n",
    "import re\n",
    "import folium\n",
    "import geopandas as gpd\n",
    "import missingno as msno\n",
    "import plotly.express as px\n",
    "import plotly.graph_objects as go\n",
    "import seaborn as sns\n",
    "import matplotlib.pyplot as plt\n",
    "\n",
    "# Libraries to build dashboard\n",
    "import dash\n",
    "import dash_core_components as dcc\n",
    "import dash_html_components as html\n",
    "from dash.dependencies import Input, Output\n",
    "from folium.plugins import MarkerCluster, HeatMap\n",
    "\n",
    "import warnings\n",
    "warnings.filterwarnings(\"ignore\")"
   ]
  },
  {
   "cell_type": "code",
   "execution_count": 4,
   "metadata": {},
   "outputs": [
    {
     "data": {
      "text/html": [
       "<div>\n",
       "<style scoped>\n",
       "    .dataframe tbody tr th:only-of-type {\n",
       "        vertical-align: middle;\n",
       "    }\n",
       "\n",
       "    .dataframe tbody tr th {\n",
       "        vertical-align: top;\n",
       "    }\n",
       "\n",
       "    .dataframe thead th {\n",
       "        text-align: right;\n",
       "    }\n",
       "</style>\n",
       "<table border=\"1\" class=\"dataframe\">\n",
       "  <thead>\n",
       "    <tr style=\"text-align: right;\">\n",
       "      <th></th>\n",
       "      <th>CompanyName</th>\n",
       "      <th>CompanyNumber</th>\n",
       "      <th>RegAddress.CareOf</th>\n",
       "      <th>RegAddress.POBox</th>\n",
       "      <th>RegAddress.AddressLine1</th>\n",
       "      <th>RegAddress.AddressLine2</th>\n",
       "      <th>RegAddress.PostTown</th>\n",
       "      <th>RegAddress.County</th>\n",
       "      <th>RegAddress.Country</th>\n",
       "      <th>RegAddress.PostCode</th>\n",
       "      <th>...</th>\n",
       "      <th>PreviousName_7.CONDATE</th>\n",
       "      <th>PreviousName_7.CompanyName</th>\n",
       "      <th>PreviousName_8.CONDATE</th>\n",
       "      <th>PreviousName_8.CompanyName</th>\n",
       "      <th>PreviousName_9.CONDATE</th>\n",
       "      <th>PreviousName_9.CompanyName</th>\n",
       "      <th>PreviousName_10.CONDATE</th>\n",
       "      <th>PreviousName_10.CompanyName</th>\n",
       "      <th>ConfStmtNextDueDate</th>\n",
       "      <th>ConfStmtLastMadeUpDate</th>\n",
       "    </tr>\n",
       "  </thead>\n",
       "  <tbody>\n",
       "    <tr>\n",
       "      <th>0</th>\n",
       "      <td>! LTD</td>\n",
       "      <td>08209948</td>\n",
       "      <td>NaN</td>\n",
       "      <td>NaN</td>\n",
       "      <td>METROHOUSE 57 PEPPER ROAD</td>\n",
       "      <td>HUNSLET</td>\n",
       "      <td>LEEDS</td>\n",
       "      <td>YORKSHIRE</td>\n",
       "      <td>NaN</td>\n",
       "      <td>LS10 2RU</td>\n",
       "      <td>...</td>\n",
       "      <td>NaN</td>\n",
       "      <td>NaN</td>\n",
       "      <td>NaN</td>\n",
       "      <td>NaN</td>\n",
       "      <td>NaN</td>\n",
       "      <td>NaN</td>\n",
       "      <td>NaN</td>\n",
       "      <td>NaN</td>\n",
       "      <td>25/09/2022</td>\n",
       "      <td>11/09/2021</td>\n",
       "    </tr>\n",
       "    <tr>\n",
       "      <th>1</th>\n",
       "      <td>!? LTD</td>\n",
       "      <td>11399177</td>\n",
       "      <td>NaN</td>\n",
       "      <td>NaN</td>\n",
       "      <td>THE STUDIO HATHERLOW HOUSE</td>\n",
       "      <td>HATHERLOW</td>\n",
       "      <td>ROMILEY</td>\n",
       "      <td>NaN</td>\n",
       "      <td>UNITED KINGDOM</td>\n",
       "      <td>SK6 3DY</td>\n",
       "      <td>...</td>\n",
       "      <td>NaN</td>\n",
       "      <td>NaN</td>\n",
       "      <td>NaN</td>\n",
       "      <td>NaN</td>\n",
       "      <td>NaN</td>\n",
       "      <td>NaN</td>\n",
       "      <td>NaN</td>\n",
       "      <td>NaN</td>\n",
       "      <td>19/06/2023</td>\n",
       "      <td>05/06/2022</td>\n",
       "    </tr>\n",
       "    <tr>\n",
       "      <th>2</th>\n",
       "      <td>!BIG IMPACT GRAPHICS LIMITED</td>\n",
       "      <td>11743365</td>\n",
       "      <td>NaN</td>\n",
       "      <td>NaN</td>\n",
       "      <td>372 OLD STREET</td>\n",
       "      <td>335 ROSDEN HOUSE</td>\n",
       "      <td>LONDON</td>\n",
       "      <td>NaN</td>\n",
       "      <td>UNITED KINGDOM</td>\n",
       "      <td>EC1V 9LT</td>\n",
       "      <td>...</td>\n",
       "      <td>NaN</td>\n",
       "      <td>NaN</td>\n",
       "      <td>NaN</td>\n",
       "      <td>NaN</td>\n",
       "      <td>NaN</td>\n",
       "      <td>NaN</td>\n",
       "      <td>NaN</td>\n",
       "      <td>NaN</td>\n",
       "      <td>10/01/2023</td>\n",
       "      <td>27/12/2021</td>\n",
       "    </tr>\n",
       "    <tr>\n",
       "      <th>3</th>\n",
       "      <td>!GOBERUB LTD</td>\n",
       "      <td>13404790</td>\n",
       "      <td>NaN</td>\n",
       "      <td>NaN</td>\n",
       "      <td>13 SOUTHMILL ROAD</td>\n",
       "      <td>NaN</td>\n",
       "      <td>BISHOP'S STORTFORD</td>\n",
       "      <td>HERTFORDSHIRE</td>\n",
       "      <td>ENGLAND</td>\n",
       "      <td>CM23 3FR</td>\n",
       "      <td>...</td>\n",
       "      <td>NaN</td>\n",
       "      <td>NaN</td>\n",
       "      <td>NaN</td>\n",
       "      <td>NaN</td>\n",
       "      <td>NaN</td>\n",
       "      <td>NaN</td>\n",
       "      <td>NaN</td>\n",
       "      <td>NaN</td>\n",
       "      <td>30/05/2023</td>\n",
       "      <td>16/05/2022</td>\n",
       "    </tr>\n",
       "    <tr>\n",
       "      <th>4</th>\n",
       "      <td>!NFOGENIE LTD</td>\n",
       "      <td>13522064</td>\n",
       "      <td>NaN</td>\n",
       "      <td>NaN</td>\n",
       "      <td>71-75 SHELTON STREET</td>\n",
       "      <td>NaN</td>\n",
       "      <td>LONDON</td>\n",
       "      <td>GREATER LONDON</td>\n",
       "      <td>UNITED KINGDOM</td>\n",
       "      <td>WC2H 9JQ</td>\n",
       "      <td>...</td>\n",
       "      <td>NaN</td>\n",
       "      <td>NaN</td>\n",
       "      <td>NaN</td>\n",
       "      <td>NaN</td>\n",
       "      <td>NaN</td>\n",
       "      <td>NaN</td>\n",
       "      <td>NaN</td>\n",
       "      <td>NaN</td>\n",
       "      <td>03/08/2022</td>\n",
       "      <td>NaN</td>\n",
       "    </tr>\n",
       "  </tbody>\n",
       "</table>\n",
       "<p>5 rows × 55 columns</p>\n",
       "</div>"
      ],
      "text/plain": [
       "                    CompanyName  CompanyNumber RegAddress.CareOf  \\\n",
       "0                         ! LTD       08209948               NaN   \n",
       "1                        !? LTD       11399177               NaN   \n",
       "2  !BIG IMPACT GRAPHICS LIMITED       11743365               NaN   \n",
       "3                  !GOBERUB LTD       13404790               NaN   \n",
       "4                 !NFOGENIE LTD       13522064               NaN   \n",
       "\n",
       "  RegAddress.POBox     RegAddress.AddressLine1  RegAddress.AddressLine2  \\\n",
       "0              NaN   METROHOUSE 57 PEPPER ROAD                  HUNSLET   \n",
       "1              NaN  THE STUDIO HATHERLOW HOUSE                HATHERLOW   \n",
       "2              NaN              372 OLD STREET         335 ROSDEN HOUSE   \n",
       "3              NaN           13 SOUTHMILL ROAD                      NaN   \n",
       "4              NaN        71-75 SHELTON STREET                      NaN   \n",
       "\n",
       "  RegAddress.PostTown RegAddress.County RegAddress.Country  \\\n",
       "0               LEEDS         YORKSHIRE                NaN   \n",
       "1             ROMILEY               NaN     UNITED KINGDOM   \n",
       "2              LONDON               NaN     UNITED KINGDOM   \n",
       "3  BISHOP'S STORTFORD     HERTFORDSHIRE            ENGLAND   \n",
       "4              LONDON    GREATER LONDON     UNITED KINGDOM   \n",
       "\n",
       "  RegAddress.PostCode  ... PreviousName_7.CONDATE  PreviousName_7.CompanyName  \\\n",
       "0            LS10 2RU  ...                    NaN                         NaN   \n",
       "1             SK6 3DY  ...                    NaN                         NaN   \n",
       "2            EC1V 9LT  ...                    NaN                         NaN   \n",
       "3            CM23 3FR  ...                    NaN                         NaN   \n",
       "4            WC2H 9JQ  ...                    NaN                         NaN   \n",
       "\n",
       "  PreviousName_8.CONDATE   PreviousName_8.CompanyName PreviousName_9.CONDATE  \\\n",
       "0                    NaN                          NaN                    NaN   \n",
       "1                    NaN                          NaN                    NaN   \n",
       "2                    NaN                          NaN                    NaN   \n",
       "3                    NaN                          NaN                    NaN   \n",
       "4                    NaN                          NaN                    NaN   \n",
       "\n",
       "    PreviousName_9.CompanyName  PreviousName_10.CONDATE  \\\n",
       "0                          NaN                      NaN   \n",
       "1                          NaN                      NaN   \n",
       "2                          NaN                      NaN   \n",
       "3                          NaN                      NaN   \n",
       "4                          NaN                      NaN   \n",
       "\n",
       "   PreviousName_10.CompanyName ConfStmtNextDueDate  ConfStmtLastMadeUpDate  \n",
       "0                          NaN          25/09/2022              11/09/2021  \n",
       "1                          NaN          19/06/2023              05/06/2022  \n",
       "2                          NaN          10/01/2023              27/12/2021  \n",
       "3                          NaN          30/05/2023              16/05/2022  \n",
       "4                          NaN          03/08/2022                     NaN  \n",
       "\n",
       "[5 rows x 55 columns]"
      ]
     },
     "execution_count": 4,
     "metadata": {},
     "output_type": "execute_result"
    }
   ],
   "source": [
    "# Get data \n",
    "part1 = pd.read_csv(\"BasicCompanyData-2022-07-01-part1_7.csv\", low_memory=False, na_values=np.nan)\n",
    "part2 = pd.read_csv(\"BasicCompanyData-2022-07-01-part2_7.csv\", low_memory=False, na_values=np.nan)\n",
    "part3 = pd.read_csv(\"BasicCompanyData-2022-07-01-part3_7.csv\", low_memory=False, na_values=np.nan)\n",
    "part4 = pd.read_csv(\"BasicCompanyData-2022-07-01-part4_7.csv\", low_memory=False, na_values=np.nan)\n",
    "part5 = pd.read_csv(\"BasicCompanyData-2022-07-01-part5_7.csv\", low_memory=False, na_values=np.nan)\n",
    "part6 = pd.read_csv(\"BasicCompanyData-2022-07-01-part6_7.csv\", low_memory=False, na_values=np.nan)\n",
    "part7 = pd.read_csv(\"BasicCompanyData-2022-07-01-part7_7.csv\", low_memory=False, na_values=np.nan)\n",
    "\n",
    "# Combine data\n",
    "frames = [part1, part2, part3, part4, part5, part6, part7]\n",
    "df = pd.concat(frames)\n",
    "df.head()"
   ]
  },
  {
   "cell_type": "code",
   "execution_count": 5,
   "metadata": {},
   "outputs": [],
   "source": [
    "# %% Pre-processing data\n",
    "\n",
    "# 1. Drop columns that will not be used\n",
    "df.drop(['RegAddress.CareOf',\n",
    "         'RegAddress.POBox',\n",
    "         'Accounts.AccountRefDay',\n",
    "         'Accounts.NextDueDate',\n",
    "         'Returns.NextDueDate',\n",
    "         'Returns.LastMadeUpDate',\n",
    "         'Mortgages.NumMortCharges',\n",
    "         'Mortgages.NumMortOutstanding',\n",
    "         'Mortgages.NumMortPartSatisfied',\n",
    "         'Mortgages.NumMortSatisfied',\n",
    "         'URI',\n",
    "         'PreviousName_1.CONDATE', \n",
    "         ' PreviousName_1.CompanyName',\n",
    "         ' PreviousName_2.CONDATE',\n",
    "         ' PreviousName_2.CompanyName',\n",
    "         'PreviousName_3.CONDATE',\n",
    "         ' PreviousName_3.CompanyName',\n",
    "         'PreviousName_4.CONDATE',\n",
    "         ' PreviousName_4.CompanyName',\n",
    "         'PreviousName_5.CONDATE',\n",
    "         ' PreviousName_5.CompanyName',\n",
    "         'PreviousName_6.CONDATE',\n",
    "         ' PreviousName_6.CompanyName',\n",
    "         'PreviousName_7.CONDATE', \n",
    "         ' PreviousName_7.CompanyName',\n",
    "         'PreviousName_8.CONDATE',\n",
    "         ' PreviousName_8.CompanyName',\n",
    "         'PreviousName_9.CONDATE',\n",
    "         ' PreviousName_9.CompanyName',\n",
    "         'PreviousName_10.CONDATE',\n",
    "         ' PreviousName_10.CompanyName',\n",
    "         \"DissolutionDate\"],\n",
    "        axis=1, inplace=True)\n",
    "\n",
    "# 2. Replace \".\" in column names\n",
    "df.columns = df.columns.str.replace(' ', '') \n",
    "\n",
    "# 3. Rename Country of Origin to the \"United Kingdom\"\n",
    "df['CountryOfOrigin'].replace({'ENGLAND': 'United Kingdom',\n",
    "                              'GB': 'United Kingdom',\n",
    "                              'WALES': 'United Kingdom',\n",
    "                              'CHANNEL ISLANDS': 'United Kingdom',\n",
    "                              'VIRGIN ISLANDS': 'United Kingdom',\n",
    "                              'VIRGIN ISLANDS, BRITISH': 'United Kingdom',\n",
    "                              'Great Britain': 'United Kingdom',\n",
    "                              'ENGLAND & WALES': 'United Kingdom',\n",
    "                              'ISLE OF MAN': 'United Kingdom',\n",
    "                              'NORTHERN ISLAND': 'United Kingdom',\n",
    "                              'GIBRALTAR': 'United Kingdom',\n",
    "                              'British Virgin Island': 'United Kingdom',\n",
    "                              'UNITED KINGDOM': 'United Kingdom',},\n",
    "                              inplace=True)\n",
    "\n",
    "# 4. Get uk data\n",
    "uk = df[df.CountryOfOrigin == \"United Kingdom\"]\n",
    "\n",
    "# 5. Clean uk data\n",
    "uk = uk[~uk['RegAddress.Country'].isin([np.nan,'UNITED STATES','BRAZIL',\n",
    "                                      'CANADA','LUXEMBOURG','BARBADOS',\n",
    "                                      'SWITZERLAND', 'VIRGIN ISLANDS',\n",
    "                                      'GUERNSEY','CHANNEL ISLANDS',\n",
    "                                      'JERSEY','CAYMAN ISLANDS',\n",
    "                                      'BAHAMAS','BELIZE','URUGUAY',\n",
    "                                      'GIBRALTAR','MALTA','LUXEMBOURG',\n",
    "                                      'BERMUDA','BARBADOS','VIRGIN ISLANDS, BRITISH',\n",
    "                                      'CYMRU', 'U','COSTA RICA', 'SAINT KITTS AND NEVIS', \n",
    "                                      'BAHRAIN', 'LEBANON','PARAGUAY', 'ITALY', 'NETHERLANDS', \n",
    "                                      'GY1 2HL', 'CYPRUS','CYMRU', 'U',\n",
    "                                      'COSTA RICA', 'SAINT KITTS AND NEVIS','BRITISH ISLES',\n",
    "                                      'WESTERN SAHARA', 'SWEDEN','HONG KONG','TANZANIA','NEW ZEALAND',\n",
    "                                      'UNITED ARAB EMIRATES', 'AZERBAIJAN','MONACO',\n",
    "                                      ])]\n",
    "# 6. Clean uk regions\n",
    "uk['RegAddress.Country'] = uk['RegAddress.Country'].replace({'LIVERPOOL':'ENGLAND',\n",
    "                                                            'NORTHERN IRELAND': 'IRELAND',\n",
    "                                                            'IRELAND UNITED KINGDOM': 'IRELAND',\n",
    "                                                            'CHANNEL ISLANDSSW1W 0AU': 'ENGLAND', \n",
    "                                                            'PO33 2TG': 'ENGLAND',\n",
    "                                                            'SCOTLAND  UK': 'SCOTLAND',\n",
    "                                                            'ENGLAND & WALES': 'ENGLAND',  # Change to \"England\" as all regions are in this area\n",
    "                                                            'UNITED KINGDOM':'ENGLAND', \n",
    "                                                            },regex=True)\n",
    "\n",
    "# 7. Parsing datetime\n",
    "uk[\"IncorporationDate\"] = pd.to_datetime(uk[\"IncorporationDate\"])\n",
    "\n",
    "# 8. Extract datetime into month and year format\n",
    "uk['Year-Month'] = uk['IncorporationDate'].apply(lambda x:x.strftime('%Y-%m'))\n",
    "uk['Month'] = uk['IncorporationDate'].dt.month\n",
    "uk['Year'] = uk['IncorporationDate'].dt.year\n",
    "\n",
    "# 9. Get data since covid-19 took place\n",
    "uk_covid = uk[uk['Year'] >= 2020]"
   ]
  },
  {
   "cell_type": "markdown",
   "metadata": {},
   "source": [
    "# Visualisation 1: Active Companies amongst Industries during Covid-19"
   ]
  },
  {
   "cell_type": "code",
   "execution_count": 102,
   "metadata": {},
   "outputs": [],
   "source": [
    "# Prepare data\n",
    "plot1 = uk_covid.copy()\n",
    "\n",
    "# 1. Classify the status of the companies into \"active\" and \"distressed\"\n",
    "plot1[\"CompanyStatus\"] = plot1[\"CompanyStatus\"].replace({\"Liquidation\": \"Distressed\",\n",
    "                            'ADMINISTRATION ORDER': 'Distressed',\n",
    "                            'In Administration': 'Distressed',\n",
    "                            'In Administration/Administrative Receiver': 'Distressed',\n",
    "                            'In Administration/Receiver Manager': 'Distressed',\n",
    "                            'RECEIVERSHIP': 'Distressed',\n",
    "                            'ADMINISTRATIVE RECEIVER': 'Distressed',\n",
    "                            'RECEIVER MANAGER / ADMINISTRATIVE RECEIVER': 'Distressed',\n",
    "                            'Active': 'Active',\n",
    "                            'Active - Proposal to Strike off': 'Active',\n",
    "                            'Voluntary Arrangement': 'Active',\n",
    "                            'Live but Receiver Manager on at least one charge': 'Active',\n",
    "                            'RECEIVER MANAGER / Distressed': 'Distressed',\n",
    "                            'Distressed/Administrative Receiver': 'Distressed'},\n",
    "                            regex = True)\n",
    "\n",
    "# 2. Drop empty rows\n",
    "plot1.drop(plot1.loc[plot1['SICCode.SicText_1'].isin([np.nan,'nan','None ','None','None Supplied'])].index, inplace=True)\n",
    "\n",
    "# 3. Clean SIC code\n",
    "plot1['SIC_1'] = plot1['SICCode.SicText_1'].str.slice(0,5,1)\n",
    "plot1['SIC_1'] = plot1['SIC_1'].replace(' ', '') \n",
    "# Make sure all codes are numbers\n",
    "plot1['SIC_1'] = pd.to_numeric(plot1['SIC_1'])"
   ]
  },
  {
   "cell_type": "code",
   "execution_count": 103,
   "metadata": {},
   "outputs": [],
   "source": [
    "# 4. Using SIC_1 to assign industries\n",
    "plot1['Industry'] = np.nan\n",
    "\n",
    "# Category 1: Agriculture, Forestry and Fishing\n",
    "cat_1 = list(np.arange(1110, 3221, 1))\n",
    "# Category 2: Mining and Quarrying\n",
    "cat_2 = list(np.arange(5102, 9901, 1))\n",
    "# Category 3: Manufacturing\n",
    "cat_3 = list(np.arange(10110, 33201, 1))\n",
    "# Category 4: Electricity, gas, steam and air conditioning supply\n",
    "cat_4 = list(np.arange(35110, 35301, 1))\n",
    "# Category 5: Water supply, sewerage, waste management and remediation activities\n",
    "cat_5 = list(np.arange(36000, 39001, 1))\n",
    "# Category 6: Construction\n",
    "cat_6 = list(np.arange(41100, 44000, 1))\n",
    "# Category 7: Wholesale and retail trade; repair of motor vehicles and motorcycles\n",
    "cat_7 = list(np.arange(45111, 47991, 1))\n",
    "# Category 8: Transportation and storage\n",
    "cat_8 = list(np.arange(49100, 53203, 1))\n",
    "# Category 9: Accommodation and food service activities\n",
    "cat_9 = list(np.arange(55100, 56303, 1))\n",
    "# Category 10: Information and communication\n",
    "cat_10 = list(np.arange(58110, 63991, 1))\n",
    "# Category 11: Financial and insurance activities\n",
    "cat_11 = list(np.arange(64110, 66301, 1))\n",
    "# Category 12: Real estate activities\n",
    "cat_12 = list(np.arange(68100, 68321, 1))\n",
    "# Category 13: Professional, scientific and technical activities\n",
    "cat_13 = list(np.arange(69101, 75001, 1))\n",
    "# Category 14: Administrative and support service activities\n",
    "cat_14 = list(np.arange(77110, 82991, 1))\n",
    "# Category 15: Public administration and defence; compulsory social security\n",
    "cat_15 = list(np.arange(84110, 84301, 1))\n",
    "# Category 16: Education\n",
    "cat_16 = list(np.arange(85100, 85601, 1))\n",
    "# Category 17: Human health and social work activities\n",
    "cat_17 = list(np.arange(86101, 88991, 1))\n",
    "# Category 18: Arts, entertainment and recreation\n",
    "cat_18 = list(np.arange(90010, 93291, 1))\n",
    "# Category 19: Other service activities\n",
    "cat_19 = list(np.arange(94110, 96091, 1))\n",
    "# Category 20: Activities of households as employers; undifferentiated goods- and services-producing activities of households for own use\n",
    "cat_20 = list(np.arange(97000, 98201, 1))\n",
    "# Category 21: Activities of extraterritorial organisations and bodies\n",
    "cat_21 = list(np.arange(99000, 100000, 1))\n",
    "\n",
    "# Assign classifications to companies\n",
    "plot1.loc[plot1['SIC_1'].isin(cat_1), 'Industry'] = str('Agriculture, Forestry & Fishing')\n",
    "plot1.loc[plot1['SIC_1'].isin(cat_2), 'Industry'] = str('Mining & Quarrying')\n",
    "plot1.loc[plot1['SIC_1'].isin(cat_3), 'Industry'] = str('Manufacturing')\n",
    "plot1.loc[plot1['SIC_1'].isin(cat_4), 'Industry'] = str('Energy Supply')\n",
    "\n",
    "plot1.loc[plot1['SIC_1'].isin(cat_5), 'Industry'] = str('Water Supply, Sewerage, Waste Management')\n",
    "plot1.loc[plot1['SIC_1'].isin(cat_6), 'Industry'] = str('Construction')\n",
    "plot1.loc[plot1['SIC_1'].isin(cat_7), 'Industry'] = str('Wholesale & Retail')\n",
    "plot1.loc[plot1['SIC_1'].isin(cat_8), 'Industry'] = str('Transportation & Storage')\n",
    "\n",
    "plot1.loc[plot1['SIC_1'].isin(cat_9), 'Industry'] = str('Accommodation & Food')\n",
    "plot1.loc[plot1['SIC_1'].isin(cat_10), 'Industry'] = str('Information & Communication')\n",
    "plot1.loc[plot1['SIC_1'].isin(cat_11), 'Industry'] = str('Financial & Insurance')\n",
    "plot1.loc[plot1['SIC_1'].isin(cat_12), 'Industry'] = str('Real Estate')\n",
    "\n",
    "plot1.loc[plot1['SIC_1'].isin(cat_13), 'Industry'] = str('Professional, Scientific & Technical')\n",
    "plot1.loc[plot1['SIC_1'].isin(cat_14), 'Industry'] = str('Administrative Servives')\n",
    "plot1.loc[plot1['SIC_1'].isin(cat_15), 'Industry'] = str('Administration & Security')\n",
    "plot1.loc[plot1['SIC_1'].isin(cat_16), 'Industry'] = str('Education')\n",
    "\n",
    "plot1.loc[plot1['SIC_1'].isin(cat_17), 'Industry'] = str('Health & Social Work')\n",
    "plot1.loc[plot1['SIC_1'].isin(cat_18), 'Industry'] = str('Arts & Entertainment')\n",
    "plot1.loc[plot1['SIC_1'].isin(cat_19), 'Industry'] = str('Other Services')\n",
    "plot1.loc[plot1['SIC_1'].isin(cat_20), 'Industry'] = str('Households as Employers')\n",
    "plot1.loc[plot1['SIC_1'].isin(cat_21), 'Industry'] = str('Extraterritorial Organisations')\n",
    "\n",
    "# 5. Clean company category\n",
    "plot1['CompanyCategory'].replace({'PRI/LTD BY GUAR/NSC (Private, limited by guarantee, no share capital)': 'Private Limited No Share Capital',\n",
    "                                  \"PRI/LBG/NSC (Private, Limited by guarantee, no share capital, use of 'Limited' exemption)\": 'Private Limited Exemption',\n",
    "                                  'Limited Liability Partnership': 'Limited Partnership',\n",
    "                                  'Private Unlimited Company': 'Private Unlimited'},\n",
    "                                  inplace = True)"
   ]
  },
  {
   "cell_type": "code",
   "execution_count": 104,
   "metadata": {},
   "outputs": [
    {
     "data": {
      "application/vnd.plotly.v1+json": {
       "config": {
        "plotlyServerURL": "https://plot.ly"
       },
       "data": [
        {
         "alignmentgroup": "True",
         "hovertemplate": "Industry=%{x}<br>Year-Month=2020-01<br>Sum=%{y}<extra></extra>",
         "ids": [
          "Accommodation & Food"
         ],
         "legendgroup": "Accommodation & Food",
         "marker": {
          "color": "#636efa",
          "pattern": {
           "shape": ""
          }
         },
         "name": "Accommodation & Food",
         "offsetgroup": "Accommodation & Food",
         "orientation": "v",
         "showlegend": true,
         "textposition": "auto",
         "type": "bar",
         "x": [
          "Accommodation & Food"
         ],
         "xaxis": "x",
         "y": [
          2622
         ],
         "yaxis": "y"
        },
        {
         "alignmentgroup": "True",
         "hovertemplate": "Industry=%{x}<br>Year-Month=2020-01<br>Sum=%{y}<extra></extra>",
         "ids": [
          "Administration & Security"
         ],
         "legendgroup": "Administration & Security",
         "marker": {
          "color": "#EF553B",
          "pattern": {
           "shape": ""
          }
         },
         "name": "Administration & Security",
         "offsetgroup": "Administration & Security",
         "orientation": "v",
         "showlegend": true,
         "textposition": "auto",
         "type": "bar",
         "x": [
          "Administration & Security"
         ],
         "xaxis": "x",
         "y": [
          116
         ],
         "yaxis": "y"
        },
        {
         "alignmentgroup": "True",
         "hovertemplate": "Industry=%{x}<br>Year-Month=2020-01<br>Sum=%{y}<extra></extra>",
         "ids": [
          "Administrative Servives"
         ],
         "legendgroup": "Administrative Servives",
         "marker": {
          "color": "#00cc96",
          "pattern": {
           "shape": ""
          }
         },
         "name": "Administrative Servives",
         "offsetgroup": "Administrative Servives",
         "orientation": "v",
         "showlegend": true,
         "textposition": "auto",
         "type": "bar",
         "x": [
          "Administrative Servives"
         ],
         "xaxis": "x",
         "y": [
          2786
         ],
         "yaxis": "y"
        },
        {
         "alignmentgroup": "True",
         "hovertemplate": "Industry=%{x}<br>Year-Month=2020-01<br>Sum=%{y}<extra></extra>",
         "ids": [
          "Agriculture, Forestry & Fishing"
         ],
         "legendgroup": "Agriculture, Forestry & Fishing",
         "marker": {
          "color": "#ab63fa",
          "pattern": {
           "shape": ""
          }
         },
         "name": "Agriculture, Forestry & Fishing",
         "offsetgroup": "Agriculture, Forestry & Fishing",
         "orientation": "v",
         "showlegend": true,
         "textposition": "auto",
         "type": "bar",
         "x": [
          "Agriculture, Forestry & Fishing"
         ],
         "xaxis": "x",
         "y": [
          219
         ],
         "yaxis": "y"
        },
        {
         "alignmentgroup": "True",
         "hovertemplate": "Industry=%{x}<br>Year-Month=2020-01<br>Sum=%{y}<extra></extra>",
         "ids": [
          "Arts & Entertainment"
         ],
         "legendgroup": "Arts & Entertainment",
         "marker": {
          "color": "#FFA15A",
          "pattern": {
           "shape": ""
          }
         },
         "name": "Arts & Entertainment",
         "offsetgroup": "Arts & Entertainment",
         "orientation": "v",
         "showlegend": true,
         "textposition": "auto",
         "type": "bar",
         "x": [
          "Arts & Entertainment"
         ],
         "xaxis": "x",
         "y": [
          904
         ],
         "yaxis": "y"
        },
        {
         "alignmentgroup": "True",
         "hovertemplate": "Industry=%{x}<br>Year-Month=2020-01<br>Sum=%{y}<extra></extra>",
         "ids": [
          "Construction"
         ],
         "legendgroup": "Construction",
         "marker": {
          "color": "#19d3f3",
          "pattern": {
           "shape": ""
          }
         },
         "name": "Construction",
         "offsetgroup": "Construction",
         "orientation": "v",
         "showlegend": true,
         "textposition": "auto",
         "type": "bar",
         "x": [
          "Construction"
         ],
         "xaxis": "x",
         "y": [
          4172
         ],
         "yaxis": "y"
        },
        {
         "alignmentgroup": "True",
         "hovertemplate": "Industry=%{x}<br>Year-Month=2020-01<br>Sum=%{y}<extra></extra>",
         "ids": [
          "Education"
         ],
         "legendgroup": "Education",
         "marker": {
          "color": "#FF6692",
          "pattern": {
           "shape": ""
          }
         },
         "name": "Education",
         "offsetgroup": "Education",
         "orientation": "v",
         "showlegend": true,
         "textposition": "auto",
         "type": "bar",
         "x": [
          "Education"
         ],
         "xaxis": "x",
         "y": [
          687
         ],
         "yaxis": "y"
        },
        {
         "alignmentgroup": "True",
         "hovertemplate": "Industry=%{x}<br>Year-Month=2020-01<br>Sum=%{y}<extra></extra>",
         "ids": [
          "Energy Supply"
         ],
         "legendgroup": "Energy Supply",
         "marker": {
          "color": "#B6E880",
          "pattern": {
           "shape": ""
          }
         },
         "name": "Energy Supply",
         "offsetgroup": "Energy Supply",
         "orientation": "v",
         "showlegend": true,
         "textposition": "auto",
         "type": "bar",
         "x": [
          "Energy Supply"
         ],
         "xaxis": "x",
         "y": [
          110
         ],
         "yaxis": "y"
        },
        {
         "alignmentgroup": "True",
         "hovertemplate": "Industry=%{x}<br>Year-Month=2020-01<br>Sum=%{y}<extra></extra>",
         "ids": [
          "Extraterritorial Organisations"
         ],
         "legendgroup": "Extraterritorial Organisations",
         "marker": {
          "color": "#FF97FF",
          "pattern": {
           "shape": ""
          }
         },
         "name": "Extraterritorial Organisations",
         "offsetgroup": "Extraterritorial Organisations",
         "orientation": "v",
         "showlegend": true,
         "textposition": "auto",
         "type": "bar",
         "x": [
          "Extraterritorial Organisations"
         ],
         "xaxis": "x",
         "y": [
          632
         ],
         "yaxis": "y"
        },
        {
         "alignmentgroup": "True",
         "hovertemplate": "Industry=%{x}<br>Year-Month=2020-01<br>Sum=%{y}<extra></extra>",
         "ids": [
          "Financial & Insurance"
         ],
         "legendgroup": "Financial & Insurance",
         "marker": {
          "color": "#FECB52",
          "pattern": {
           "shape": ""
          }
         },
         "name": "Financial & Insurance",
         "offsetgroup": "Financial & Insurance",
         "orientation": "v",
         "showlegend": true,
         "textposition": "auto",
         "type": "bar",
         "x": [
          "Financial & Insurance"
         ],
         "xaxis": "x",
         "y": [
          1518
         ],
         "yaxis": "y"
        },
        {
         "alignmentgroup": "True",
         "hovertemplate": "Industry=%{x}<br>Year-Month=2020-01<br>Sum=%{y}<extra></extra>",
         "ids": [
          "Health & Social Work"
         ],
         "legendgroup": "Health & Social Work",
         "marker": {
          "color": "#636efa",
          "pattern": {
           "shape": ""
          }
         },
         "name": "Health & Social Work",
         "offsetgroup": "Health & Social Work",
         "orientation": "v",
         "showlegend": true,
         "textposition": "auto",
         "type": "bar",
         "x": [
          "Health & Social Work"
         ],
         "xaxis": "x",
         "y": [
          1504
         ],
         "yaxis": "y"
        },
        {
         "alignmentgroup": "True",
         "hovertemplate": "Industry=%{x}<br>Year-Month=2020-01<br>Sum=%{y}<extra></extra>",
         "ids": [
          "Households as Employers"
         ],
         "legendgroup": "Households as Employers",
         "marker": {
          "color": "#EF553B",
          "pattern": {
           "shape": ""
          }
         },
         "name": "Households as Employers",
         "offsetgroup": "Households as Employers",
         "orientation": "v",
         "showlegend": true,
         "textposition": "auto",
         "type": "bar",
         "x": [
          "Households as Employers"
         ],
         "xaxis": "x",
         "y": [
          424
         ],
         "yaxis": "y"
        },
        {
         "alignmentgroup": "True",
         "hovertemplate": "Industry=%{x}<br>Year-Month=2020-01<br>Sum=%{y}<extra></extra>",
         "ids": [
          "Information & Communication"
         ],
         "legendgroup": "Information & Communication",
         "marker": {
          "color": "#00cc96",
          "pattern": {
           "shape": ""
          }
         },
         "name": "Information & Communication",
         "offsetgroup": "Information & Communication",
         "orientation": "v",
         "showlegend": true,
         "textposition": "auto",
         "type": "bar",
         "x": [
          "Information & Communication"
         ],
         "xaxis": "x",
         "y": [
          2952
         ],
         "yaxis": "y"
        },
        {
         "alignmentgroup": "True",
         "hovertemplate": "Industry=%{x}<br>Year-Month=2020-01<br>Sum=%{y}<extra></extra>",
         "ids": [
          "Manufacturing"
         ],
         "legendgroup": "Manufacturing",
         "marker": {
          "color": "#ab63fa",
          "pattern": {
           "shape": ""
          }
         },
         "name": "Manufacturing",
         "offsetgroup": "Manufacturing",
         "orientation": "v",
         "showlegend": true,
         "textposition": "auto",
         "type": "bar",
         "x": [
          "Manufacturing"
         ],
         "xaxis": "x",
         "y": [
          1633
         ],
         "yaxis": "y"
        },
        {
         "alignmentgroup": "True",
         "hovertemplate": "Industry=%{x}<br>Year-Month=2020-01<br>Sum=%{y}<extra></extra>",
         "ids": [
          "Mining & Quarrying"
         ],
         "legendgroup": "Mining & Quarrying",
         "marker": {
          "color": "#FFA15A",
          "pattern": {
           "shape": ""
          }
         },
         "name": "Mining & Quarrying",
         "offsetgroup": "Mining & Quarrying",
         "orientation": "v",
         "showlegend": true,
         "textposition": "auto",
         "type": "bar",
         "x": [
          "Mining & Quarrying"
         ],
         "xaxis": "x",
         "y": [
          70
         ],
         "yaxis": "y"
        },
        {
         "alignmentgroup": "True",
         "hovertemplate": "Industry=%{x}<br>Year-Month=2020-01<br>Sum=%{y}<extra></extra>",
         "ids": [
          "Other Services"
         ],
         "legendgroup": "Other Services",
         "marker": {
          "color": "#19d3f3",
          "pattern": {
           "shape": ""
          }
         },
         "name": "Other Services",
         "offsetgroup": "Other Services",
         "orientation": "v",
         "showlegend": true,
         "textposition": "auto",
         "type": "bar",
         "x": [
          "Other Services"
         ],
         "xaxis": "x",
         "y": [
          1949
         ],
         "yaxis": "y"
        },
        {
         "alignmentgroup": "True",
         "hovertemplate": "Industry=%{x}<br>Year-Month=2020-01<br>Sum=%{y}<extra></extra>",
         "ids": [
          "Professional, Scientific & Technical"
         ],
         "legendgroup": "Professional, Scientific & Technical",
         "marker": {
          "color": "#FF6692",
          "pattern": {
           "shape": ""
          }
         },
         "name": "Professional, Scientific & Technical",
         "offsetgroup": "Professional, Scientific & Technical",
         "orientation": "v",
         "showlegend": true,
         "textposition": "auto",
         "type": "bar",
         "x": [
          "Professional, Scientific & Technical"
         ],
         "xaxis": "x",
         "y": [
          4371
         ],
         "yaxis": "y"
        },
        {
         "alignmentgroup": "True",
         "hovertemplate": "Industry=%{x}<br>Year-Month=2020-01<br>Sum=%{y}<extra></extra>",
         "ids": [
          "Real Estate"
         ],
         "legendgroup": "Real Estate",
         "marker": {
          "color": "#B6E880",
          "pattern": {
           "shape": ""
          }
         },
         "name": "Real Estate",
         "offsetgroup": "Real Estate",
         "orientation": "v",
         "showlegend": true,
         "textposition": "auto",
         "type": "bar",
         "x": [
          "Real Estate"
         ],
         "xaxis": "x",
         "y": [
          3911
         ],
         "yaxis": "y"
        },
        {
         "alignmentgroup": "True",
         "hovertemplate": "Industry=%{x}<br>Year-Month=2020-01<br>Sum=%{y}<extra></extra>",
         "ids": [
          "Transportation & Storage"
         ],
         "legendgroup": "Transportation & Storage",
         "marker": {
          "color": "#FF97FF",
          "pattern": {
           "shape": ""
          }
         },
         "name": "Transportation & Storage",
         "offsetgroup": "Transportation & Storage",
         "orientation": "v",
         "showlegend": true,
         "textposition": "auto",
         "type": "bar",
         "x": [
          "Transportation & Storage"
         ],
         "xaxis": "x",
         "y": [
          1577
         ],
         "yaxis": "y"
        },
        {
         "alignmentgroup": "True",
         "hovertemplate": "Industry=%{x}<br>Year-Month=2020-01<br>Sum=%{y}<extra></extra>",
         "ids": [
          "Water Supply, Sewerage, Waste Management"
         ],
         "legendgroup": "Water Supply, Sewerage, Waste Management",
         "marker": {
          "color": "#FECB52",
          "pattern": {
           "shape": ""
          }
         },
         "name": "Water Supply, Sewerage, Waste Management",
         "offsetgroup": "Water Supply, Sewerage, Waste Management",
         "orientation": "v",
         "showlegend": true,
         "textposition": "auto",
         "type": "bar",
         "x": [
          "Water Supply, Sewerage, Waste Management"
         ],
         "xaxis": "x",
         "y": [
          119
         ],
         "yaxis": "y"
        },
        {
         "alignmentgroup": "True",
         "hovertemplate": "Industry=%{x}<br>Year-Month=2020-01<br>Sum=%{y}<extra></extra>",
         "ids": [
          "Wholesale & Retail"
         ],
         "legendgroup": "Wholesale & Retail",
         "marker": {
          "color": "#636efa",
          "pattern": {
           "shape": ""
          }
         },
         "name": "Wholesale & Retail",
         "offsetgroup": "Wholesale & Retail",
         "orientation": "v",
         "showlegend": true,
         "textposition": "auto",
         "type": "bar",
         "x": [
          "Wholesale & Retail"
         ],
         "xaxis": "x",
         "y": [
          5538
         ],
         "yaxis": "y"
        }
       ],
       "frames": [
        {
         "data": [
          {
           "alignmentgroup": "True",
           "hovertemplate": "Industry=%{x}<br>Year-Month=2020-01<br>Sum=%{y}<extra></extra>",
           "ids": [
            "Accommodation & Food"
           ],
           "legendgroup": "Accommodation & Food",
           "marker": {
            "color": "#636efa",
            "pattern": {
             "shape": ""
            }
           },
           "name": "Accommodation & Food",
           "offsetgroup": "Accommodation & Food",
           "orientation": "v",
           "showlegend": true,
           "textposition": "auto",
           "type": "bar",
           "x": [
            "Accommodation & Food"
           ],
           "xaxis": "x",
           "y": [
            2622
           ],
           "yaxis": "y"
          },
          {
           "alignmentgroup": "True",
           "hovertemplate": "Industry=%{x}<br>Year-Month=2020-01<br>Sum=%{y}<extra></extra>",
           "ids": [
            "Administration & Security"
           ],
           "legendgroup": "Administration & Security",
           "marker": {
            "color": "#EF553B",
            "pattern": {
             "shape": ""
            }
           },
           "name": "Administration & Security",
           "offsetgroup": "Administration & Security",
           "orientation": "v",
           "showlegend": true,
           "textposition": "auto",
           "type": "bar",
           "x": [
            "Administration & Security"
           ],
           "xaxis": "x",
           "y": [
            116
           ],
           "yaxis": "y"
          },
          {
           "alignmentgroup": "True",
           "hovertemplate": "Industry=%{x}<br>Year-Month=2020-01<br>Sum=%{y}<extra></extra>",
           "ids": [
            "Administrative Servives"
           ],
           "legendgroup": "Administrative Servives",
           "marker": {
            "color": "#00cc96",
            "pattern": {
             "shape": ""
            }
           },
           "name": "Administrative Servives",
           "offsetgroup": "Administrative Servives",
           "orientation": "v",
           "showlegend": true,
           "textposition": "auto",
           "type": "bar",
           "x": [
            "Administrative Servives"
           ],
           "xaxis": "x",
           "y": [
            2786
           ],
           "yaxis": "y"
          },
          {
           "alignmentgroup": "True",
           "hovertemplate": "Industry=%{x}<br>Year-Month=2020-01<br>Sum=%{y}<extra></extra>",
           "ids": [
            "Agriculture, Forestry & Fishing"
           ],
           "legendgroup": "Agriculture, Forestry & Fishing",
           "marker": {
            "color": "#ab63fa",
            "pattern": {
             "shape": ""
            }
           },
           "name": "Agriculture, Forestry & Fishing",
           "offsetgroup": "Agriculture, Forestry & Fishing",
           "orientation": "v",
           "showlegend": true,
           "textposition": "auto",
           "type": "bar",
           "x": [
            "Agriculture, Forestry & Fishing"
           ],
           "xaxis": "x",
           "y": [
            219
           ],
           "yaxis": "y"
          },
          {
           "alignmentgroup": "True",
           "hovertemplate": "Industry=%{x}<br>Year-Month=2020-01<br>Sum=%{y}<extra></extra>",
           "ids": [
            "Arts & Entertainment"
           ],
           "legendgroup": "Arts & Entertainment",
           "marker": {
            "color": "#FFA15A",
            "pattern": {
             "shape": ""
            }
           },
           "name": "Arts & Entertainment",
           "offsetgroup": "Arts & Entertainment",
           "orientation": "v",
           "showlegend": true,
           "textposition": "auto",
           "type": "bar",
           "x": [
            "Arts & Entertainment"
           ],
           "xaxis": "x",
           "y": [
            904
           ],
           "yaxis": "y"
          },
          {
           "alignmentgroup": "True",
           "hovertemplate": "Industry=%{x}<br>Year-Month=2020-01<br>Sum=%{y}<extra></extra>",
           "ids": [
            "Construction"
           ],
           "legendgroup": "Construction",
           "marker": {
            "color": "#19d3f3",
            "pattern": {
             "shape": ""
            }
           },
           "name": "Construction",
           "offsetgroup": "Construction",
           "orientation": "v",
           "showlegend": true,
           "textposition": "auto",
           "type": "bar",
           "x": [
            "Construction"
           ],
           "xaxis": "x",
           "y": [
            4172
           ],
           "yaxis": "y"
          },
          {
           "alignmentgroup": "True",
           "hovertemplate": "Industry=%{x}<br>Year-Month=2020-01<br>Sum=%{y}<extra></extra>",
           "ids": [
            "Education"
           ],
           "legendgroup": "Education",
           "marker": {
            "color": "#FF6692",
            "pattern": {
             "shape": ""
            }
           },
           "name": "Education",
           "offsetgroup": "Education",
           "orientation": "v",
           "showlegend": true,
           "textposition": "auto",
           "type": "bar",
           "x": [
            "Education"
           ],
           "xaxis": "x",
           "y": [
            687
           ],
           "yaxis": "y"
          },
          {
           "alignmentgroup": "True",
           "hovertemplate": "Industry=%{x}<br>Year-Month=2020-01<br>Sum=%{y}<extra></extra>",
           "ids": [
            "Energy Supply"
           ],
           "legendgroup": "Energy Supply",
           "marker": {
            "color": "#B6E880",
            "pattern": {
             "shape": ""
            }
           },
           "name": "Energy Supply",
           "offsetgroup": "Energy Supply",
           "orientation": "v",
           "showlegend": true,
           "textposition": "auto",
           "type": "bar",
           "x": [
            "Energy Supply"
           ],
           "xaxis": "x",
           "y": [
            110
           ],
           "yaxis": "y"
          },
          {
           "alignmentgroup": "True",
           "hovertemplate": "Industry=%{x}<br>Year-Month=2020-01<br>Sum=%{y}<extra></extra>",
           "ids": [
            "Extraterritorial Organisations"
           ],
           "legendgroup": "Extraterritorial Organisations",
           "marker": {
            "color": "#FF97FF",
            "pattern": {
             "shape": ""
            }
           },
           "name": "Extraterritorial Organisations",
           "offsetgroup": "Extraterritorial Organisations",
           "orientation": "v",
           "showlegend": true,
           "textposition": "auto",
           "type": "bar",
           "x": [
            "Extraterritorial Organisations"
           ],
           "xaxis": "x",
           "y": [
            632
           ],
           "yaxis": "y"
          },
          {
           "alignmentgroup": "True",
           "hovertemplate": "Industry=%{x}<br>Year-Month=2020-01<br>Sum=%{y}<extra></extra>",
           "ids": [
            "Financial & Insurance"
           ],
           "legendgroup": "Financial & Insurance",
           "marker": {
            "color": "#FECB52",
            "pattern": {
             "shape": ""
            }
           },
           "name": "Financial & Insurance",
           "offsetgroup": "Financial & Insurance",
           "orientation": "v",
           "showlegend": true,
           "textposition": "auto",
           "type": "bar",
           "x": [
            "Financial & Insurance"
           ],
           "xaxis": "x",
           "y": [
            1518
           ],
           "yaxis": "y"
          },
          {
           "alignmentgroup": "True",
           "hovertemplate": "Industry=%{x}<br>Year-Month=2020-01<br>Sum=%{y}<extra></extra>",
           "ids": [
            "Health & Social Work"
           ],
           "legendgroup": "Health & Social Work",
           "marker": {
            "color": "#636efa",
            "pattern": {
             "shape": ""
            }
           },
           "name": "Health & Social Work",
           "offsetgroup": "Health & Social Work",
           "orientation": "v",
           "showlegend": true,
           "textposition": "auto",
           "type": "bar",
           "x": [
            "Health & Social Work"
           ],
           "xaxis": "x",
           "y": [
            1504
           ],
           "yaxis": "y"
          },
          {
           "alignmentgroup": "True",
           "hovertemplate": "Industry=%{x}<br>Year-Month=2020-01<br>Sum=%{y}<extra></extra>",
           "ids": [
            "Households as Employers"
           ],
           "legendgroup": "Households as Employers",
           "marker": {
            "color": "#EF553B",
            "pattern": {
             "shape": ""
            }
           },
           "name": "Households as Employers",
           "offsetgroup": "Households as Employers",
           "orientation": "v",
           "showlegend": true,
           "textposition": "auto",
           "type": "bar",
           "x": [
            "Households as Employers"
           ],
           "xaxis": "x",
           "y": [
            424
           ],
           "yaxis": "y"
          },
          {
           "alignmentgroup": "True",
           "hovertemplate": "Industry=%{x}<br>Year-Month=2020-01<br>Sum=%{y}<extra></extra>",
           "ids": [
            "Information & Communication"
           ],
           "legendgroup": "Information & Communication",
           "marker": {
            "color": "#00cc96",
            "pattern": {
             "shape": ""
            }
           },
           "name": "Information & Communication",
           "offsetgroup": "Information & Communication",
           "orientation": "v",
           "showlegend": true,
           "textposition": "auto",
           "type": "bar",
           "x": [
            "Information & Communication"
           ],
           "xaxis": "x",
           "y": [
            2952
           ],
           "yaxis": "y"
          },
          {
           "alignmentgroup": "True",
           "hovertemplate": "Industry=%{x}<br>Year-Month=2020-01<br>Sum=%{y}<extra></extra>",
           "ids": [
            "Manufacturing"
           ],
           "legendgroup": "Manufacturing",
           "marker": {
            "color": "#ab63fa",
            "pattern": {
             "shape": ""
            }
           },
           "name": "Manufacturing",
           "offsetgroup": "Manufacturing",
           "orientation": "v",
           "showlegend": true,
           "textposition": "auto",
           "type": "bar",
           "x": [
            "Manufacturing"
           ],
           "xaxis": "x",
           "y": [
            1633
           ],
           "yaxis": "y"
          },
          {
           "alignmentgroup": "True",
           "hovertemplate": "Industry=%{x}<br>Year-Month=2020-01<br>Sum=%{y}<extra></extra>",
           "ids": [
            "Mining & Quarrying"
           ],
           "legendgroup": "Mining & Quarrying",
           "marker": {
            "color": "#FFA15A",
            "pattern": {
             "shape": ""
            }
           },
           "name": "Mining & Quarrying",
           "offsetgroup": "Mining & Quarrying",
           "orientation": "v",
           "showlegend": true,
           "textposition": "auto",
           "type": "bar",
           "x": [
            "Mining & Quarrying"
           ],
           "xaxis": "x",
           "y": [
            70
           ],
           "yaxis": "y"
          },
          {
           "alignmentgroup": "True",
           "hovertemplate": "Industry=%{x}<br>Year-Month=2020-01<br>Sum=%{y}<extra></extra>",
           "ids": [
            "Other Services"
           ],
           "legendgroup": "Other Services",
           "marker": {
            "color": "#19d3f3",
            "pattern": {
             "shape": ""
            }
           },
           "name": "Other Services",
           "offsetgroup": "Other Services",
           "orientation": "v",
           "showlegend": true,
           "textposition": "auto",
           "type": "bar",
           "x": [
            "Other Services"
           ],
           "xaxis": "x",
           "y": [
            1949
           ],
           "yaxis": "y"
          },
          {
           "alignmentgroup": "True",
           "hovertemplate": "Industry=%{x}<br>Year-Month=2020-01<br>Sum=%{y}<extra></extra>",
           "ids": [
            "Professional, Scientific & Technical"
           ],
           "legendgroup": "Professional, Scientific & Technical",
           "marker": {
            "color": "#FF6692",
            "pattern": {
             "shape": ""
            }
           },
           "name": "Professional, Scientific & Technical",
           "offsetgroup": "Professional, Scientific & Technical",
           "orientation": "v",
           "showlegend": true,
           "textposition": "auto",
           "type": "bar",
           "x": [
            "Professional, Scientific & Technical"
           ],
           "xaxis": "x",
           "y": [
            4371
           ],
           "yaxis": "y"
          },
          {
           "alignmentgroup": "True",
           "hovertemplate": "Industry=%{x}<br>Year-Month=2020-01<br>Sum=%{y}<extra></extra>",
           "ids": [
            "Real Estate"
           ],
           "legendgroup": "Real Estate",
           "marker": {
            "color": "#B6E880",
            "pattern": {
             "shape": ""
            }
           },
           "name": "Real Estate",
           "offsetgroup": "Real Estate",
           "orientation": "v",
           "showlegend": true,
           "textposition": "auto",
           "type": "bar",
           "x": [
            "Real Estate"
           ],
           "xaxis": "x",
           "y": [
            3911
           ],
           "yaxis": "y"
          },
          {
           "alignmentgroup": "True",
           "hovertemplate": "Industry=%{x}<br>Year-Month=2020-01<br>Sum=%{y}<extra></extra>",
           "ids": [
            "Transportation & Storage"
           ],
           "legendgroup": "Transportation & Storage",
           "marker": {
            "color": "#FF97FF",
            "pattern": {
             "shape": ""
            }
           },
           "name": "Transportation & Storage",
           "offsetgroup": "Transportation & Storage",
           "orientation": "v",
           "showlegend": true,
           "textposition": "auto",
           "type": "bar",
           "x": [
            "Transportation & Storage"
           ],
           "xaxis": "x",
           "y": [
            1577
           ],
           "yaxis": "y"
          },
          {
           "alignmentgroup": "True",
           "hovertemplate": "Industry=%{x}<br>Year-Month=2020-01<br>Sum=%{y}<extra></extra>",
           "ids": [
            "Water Supply, Sewerage, Waste Management"
           ],
           "legendgroup": "Water Supply, Sewerage, Waste Management",
           "marker": {
            "color": "#FECB52",
            "pattern": {
             "shape": ""
            }
           },
           "name": "Water Supply, Sewerage, Waste Management",
           "offsetgroup": "Water Supply, Sewerage, Waste Management",
           "orientation": "v",
           "showlegend": true,
           "textposition": "auto",
           "type": "bar",
           "x": [
            "Water Supply, Sewerage, Waste Management"
           ],
           "xaxis": "x",
           "y": [
            119
           ],
           "yaxis": "y"
          },
          {
           "alignmentgroup": "True",
           "hovertemplate": "Industry=%{x}<br>Year-Month=2020-01<br>Sum=%{y}<extra></extra>",
           "ids": [
            "Wholesale & Retail"
           ],
           "legendgroup": "Wholesale & Retail",
           "marker": {
            "color": "#636efa",
            "pattern": {
             "shape": ""
            }
           },
           "name": "Wholesale & Retail",
           "offsetgroup": "Wholesale & Retail",
           "orientation": "v",
           "showlegend": true,
           "textposition": "auto",
           "type": "bar",
           "x": [
            "Wholesale & Retail"
           ],
           "xaxis": "x",
           "y": [
            5538
           ],
           "yaxis": "y"
          }
         ],
         "name": "2020-01"
        },
        {
         "data": [
          {
           "alignmentgroup": "True",
           "hovertemplate": "Industry=%{x}<br>Year-Month=2020-02<br>Sum=%{y}<extra></extra>",
           "ids": [
            "Accommodation & Food"
           ],
           "legendgroup": "Accommodation & Food",
           "marker": {
            "color": "#636efa",
            "pattern": {
             "shape": ""
            }
           },
           "name": "Accommodation & Food",
           "offsetgroup": "Accommodation & Food",
           "orientation": "v",
           "showlegend": true,
           "textposition": "auto",
           "type": "bar",
           "x": [
            "Accommodation & Food"
           ],
           "xaxis": "x",
           "y": [
            2713
           ],
           "yaxis": "y"
          },
          {
           "alignmentgroup": "True",
           "hovertemplate": "Industry=%{x}<br>Year-Month=2020-02<br>Sum=%{y}<extra></extra>",
           "ids": [
            "Administration & Security"
           ],
           "legendgroup": "Administration & Security",
           "marker": {
            "color": "#EF553B",
            "pattern": {
             "shape": ""
            }
           },
           "name": "Administration & Security",
           "offsetgroup": "Administration & Security",
           "orientation": "v",
           "showlegend": true,
           "textposition": "auto",
           "type": "bar",
           "x": [
            "Administration & Security"
           ],
           "xaxis": "x",
           "y": [
            99
           ],
           "yaxis": "y"
          },
          {
           "alignmentgroup": "True",
           "hovertemplate": "Industry=%{x}<br>Year-Month=2020-02<br>Sum=%{y}<extra></extra>",
           "ids": [
            "Administrative Servives"
           ],
           "legendgroup": "Administrative Servives",
           "marker": {
            "color": "#00cc96",
            "pattern": {
             "shape": ""
            }
           },
           "name": "Administrative Servives",
           "offsetgroup": "Administrative Servives",
           "orientation": "v",
           "showlegend": true,
           "textposition": "auto",
           "type": "bar",
           "x": [
            "Administrative Servives"
           ],
           "xaxis": "x",
           "y": [
            2851
           ],
           "yaxis": "y"
          },
          {
           "alignmentgroup": "True",
           "hovertemplate": "Industry=%{x}<br>Year-Month=2020-02<br>Sum=%{y}<extra></extra>",
           "ids": [
            "Agriculture, Forestry & Fishing"
           ],
           "legendgroup": "Agriculture, Forestry & Fishing",
           "marker": {
            "color": "#ab63fa",
            "pattern": {
             "shape": ""
            }
           },
           "name": "Agriculture, Forestry & Fishing",
           "offsetgroup": "Agriculture, Forestry & Fishing",
           "orientation": "v",
           "showlegend": true,
           "textposition": "auto",
           "type": "bar",
           "x": [
            "Agriculture, Forestry & Fishing"
           ],
           "xaxis": "x",
           "y": [
            250
           ],
           "yaxis": "y"
          },
          {
           "alignmentgroup": "True",
           "hovertemplate": "Industry=%{x}<br>Year-Month=2020-02<br>Sum=%{y}<extra></extra>",
           "ids": [
            "Arts & Entertainment"
           ],
           "legendgroup": "Arts & Entertainment",
           "marker": {
            "color": "#FFA15A",
            "pattern": {
             "shape": ""
            }
           },
           "name": "Arts & Entertainment",
           "offsetgroup": "Arts & Entertainment",
           "orientation": "v",
           "showlegend": true,
           "textposition": "auto",
           "type": "bar",
           "x": [
            "Arts & Entertainment"
           ],
           "xaxis": "x",
           "y": [
            964
           ],
           "yaxis": "y"
          },
          {
           "alignmentgroup": "True",
           "hovertemplate": "Industry=%{x}<br>Year-Month=2020-02<br>Sum=%{y}<extra></extra>",
           "ids": [
            "Construction"
           ],
           "legendgroup": "Construction",
           "marker": {
            "color": "#19d3f3",
            "pattern": {
             "shape": ""
            }
           },
           "name": "Construction",
           "offsetgroup": "Construction",
           "orientation": "v",
           "showlegend": true,
           "textposition": "auto",
           "type": "bar",
           "x": [
            "Construction"
           ],
           "xaxis": "x",
           "y": [
            4291
           ],
           "yaxis": "y"
          },
          {
           "alignmentgroup": "True",
           "hovertemplate": "Industry=%{x}<br>Year-Month=2020-02<br>Sum=%{y}<extra></extra>",
           "ids": [
            "Education"
           ],
           "legendgroup": "Education",
           "marker": {
            "color": "#FF6692",
            "pattern": {
             "shape": ""
            }
           },
           "name": "Education",
           "offsetgroup": "Education",
           "orientation": "v",
           "showlegend": true,
           "textposition": "auto",
           "type": "bar",
           "x": [
            "Education"
           ],
           "xaxis": "x",
           "y": [
            824
           ],
           "yaxis": "y"
          },
          {
           "alignmentgroup": "True",
           "hovertemplate": "Industry=%{x}<br>Year-Month=2020-02<br>Sum=%{y}<extra></extra>",
           "ids": [
            "Energy Supply"
           ],
           "legendgroup": "Energy Supply",
           "marker": {
            "color": "#B6E880",
            "pattern": {
             "shape": ""
            }
           },
           "name": "Energy Supply",
           "offsetgroup": "Energy Supply",
           "orientation": "v",
           "showlegend": true,
           "textposition": "auto",
           "type": "bar",
           "x": [
            "Energy Supply"
           ],
           "xaxis": "x",
           "y": [
            94
           ],
           "yaxis": "y"
          },
          {
           "alignmentgroup": "True",
           "hovertemplate": "Industry=%{x}<br>Year-Month=2020-02<br>Sum=%{y}<extra></extra>",
           "ids": [
            "Extraterritorial Organisations"
           ],
           "legendgroup": "Extraterritorial Organisations",
           "marker": {
            "color": "#FF97FF",
            "pattern": {
             "shape": ""
            }
           },
           "name": "Extraterritorial Organisations",
           "offsetgroup": "Extraterritorial Organisations",
           "orientation": "v",
           "showlegend": true,
           "textposition": "auto",
           "type": "bar",
           "x": [
            "Extraterritorial Organisations"
           ],
           "xaxis": "x",
           "y": [
            823
           ],
           "yaxis": "y"
          },
          {
           "alignmentgroup": "True",
           "hovertemplate": "Industry=%{x}<br>Year-Month=2020-02<br>Sum=%{y}<extra></extra>",
           "ids": [
            "Financial & Insurance"
           ],
           "legendgroup": "Financial & Insurance",
           "marker": {
            "color": "#FECB52",
            "pattern": {
             "shape": ""
            }
           },
           "name": "Financial & Insurance",
           "offsetgroup": "Financial & Insurance",
           "orientation": "v",
           "showlegend": true,
           "textposition": "auto",
           "type": "bar",
           "x": [
            "Financial & Insurance"
           ],
           "xaxis": "x",
           "y": [
            1743
           ],
           "yaxis": "y"
          },
          {
           "alignmentgroup": "True",
           "hovertemplate": "Industry=%{x}<br>Year-Month=2020-02<br>Sum=%{y}<extra></extra>",
           "ids": [
            "Health & Social Work"
           ],
           "legendgroup": "Health & Social Work",
           "marker": {
            "color": "#636efa",
            "pattern": {
             "shape": ""
            }
           },
           "name": "Health & Social Work",
           "offsetgroup": "Health & Social Work",
           "orientation": "v",
           "showlegend": true,
           "textposition": "auto",
           "type": "bar",
           "x": [
            "Health & Social Work"
           ],
           "xaxis": "x",
           "y": [
            1546
           ],
           "yaxis": "y"
          },
          {
           "alignmentgroup": "True",
           "hovertemplate": "Industry=%{x}<br>Year-Month=2020-02<br>Sum=%{y}<extra></extra>",
           "ids": [
            "Households as Employers"
           ],
           "legendgroup": "Households as Employers",
           "marker": {
            "color": "#EF553B",
            "pattern": {
             "shape": ""
            }
           },
           "name": "Households as Employers",
           "offsetgroup": "Households as Employers",
           "orientation": "v",
           "showlegend": true,
           "textposition": "auto",
           "type": "bar",
           "x": [
            "Households as Employers"
           ],
           "xaxis": "x",
           "y": [
            487
           ],
           "yaxis": "y"
          },
          {
           "alignmentgroup": "True",
           "hovertemplate": "Industry=%{x}<br>Year-Month=2020-02<br>Sum=%{y}<extra></extra>",
           "ids": [
            "Information & Communication"
           ],
           "legendgroup": "Information & Communication",
           "marker": {
            "color": "#00cc96",
            "pattern": {
             "shape": ""
            }
           },
           "name": "Information & Communication",
           "offsetgroup": "Information & Communication",
           "orientation": "v",
           "showlegend": true,
           "textposition": "auto",
           "type": "bar",
           "x": [
            "Information & Communication"
           ],
           "xaxis": "x",
           "y": [
            2984
           ],
           "yaxis": "y"
          },
          {
           "alignmentgroup": "True",
           "hovertemplate": "Industry=%{x}<br>Year-Month=2020-02<br>Sum=%{y}<extra></extra>",
           "ids": [
            "Manufacturing"
           ],
           "legendgroup": "Manufacturing",
           "marker": {
            "color": "#ab63fa",
            "pattern": {
             "shape": ""
            }
           },
           "name": "Manufacturing",
           "offsetgroup": "Manufacturing",
           "orientation": "v",
           "showlegend": true,
           "textposition": "auto",
           "type": "bar",
           "x": [
            "Manufacturing"
           ],
           "xaxis": "x",
           "y": [
            1733
           ],
           "yaxis": "y"
          },
          {
           "alignmentgroup": "True",
           "hovertemplate": "Industry=%{x}<br>Year-Month=2020-02<br>Sum=%{y}<extra></extra>",
           "ids": [
            "Mining & Quarrying"
           ],
           "legendgroup": "Mining & Quarrying",
           "marker": {
            "color": "#FFA15A",
            "pattern": {
             "shape": ""
            }
           },
           "name": "Mining & Quarrying",
           "offsetgroup": "Mining & Quarrying",
           "orientation": "v",
           "showlegend": true,
           "textposition": "auto",
           "type": "bar",
           "x": [
            "Mining & Quarrying"
           ],
           "xaxis": "x",
           "y": [
            54
           ],
           "yaxis": "y"
          },
          {
           "alignmentgroup": "True",
           "hovertemplate": "Industry=%{x}<br>Year-Month=2020-02<br>Sum=%{y}<extra></extra>",
           "ids": [
            "Other Services"
           ],
           "legendgroup": "Other Services",
           "marker": {
            "color": "#19d3f3",
            "pattern": {
             "shape": ""
            }
           },
           "name": "Other Services",
           "offsetgroup": "Other Services",
           "orientation": "v",
           "showlegend": true,
           "textposition": "auto",
           "type": "bar",
           "x": [
            "Other Services"
           ],
           "xaxis": "x",
           "y": [
            2046
           ],
           "yaxis": "y"
          },
          {
           "alignmentgroup": "True",
           "hovertemplate": "Industry=%{x}<br>Year-Month=2020-02<br>Sum=%{y}<extra></extra>",
           "ids": [
            "Professional, Scientific & Technical"
           ],
           "legendgroup": "Professional, Scientific & Technical",
           "marker": {
            "color": "#FF6692",
            "pattern": {
             "shape": ""
            }
           },
           "name": "Professional, Scientific & Technical",
           "offsetgroup": "Professional, Scientific & Technical",
           "orientation": "v",
           "showlegend": true,
           "textposition": "auto",
           "type": "bar",
           "x": [
            "Professional, Scientific & Technical"
           ],
           "xaxis": "x",
           "y": [
            4686
           ],
           "yaxis": "y"
          },
          {
           "alignmentgroup": "True",
           "hovertemplate": "Industry=%{x}<br>Year-Month=2020-02<br>Sum=%{y}<extra></extra>",
           "ids": [
            "Real Estate"
           ],
           "legendgroup": "Real Estate",
           "marker": {
            "color": "#B6E880",
            "pattern": {
             "shape": ""
            }
           },
           "name": "Real Estate",
           "offsetgroup": "Real Estate",
           "orientation": "v",
           "showlegend": true,
           "textposition": "auto",
           "type": "bar",
           "x": [
            "Real Estate"
           ],
           "xaxis": "x",
           "y": [
            4197
           ],
           "yaxis": "y"
          },
          {
           "alignmentgroup": "True",
           "hovertemplate": "Industry=%{x}<br>Year-Month=2020-02<br>Sum=%{y}<extra></extra>",
           "ids": [
            "Transportation & Storage"
           ],
           "legendgroup": "Transportation & Storage",
           "marker": {
            "color": "#FF97FF",
            "pattern": {
             "shape": ""
            }
           },
           "name": "Transportation & Storage",
           "offsetgroup": "Transportation & Storage",
           "orientation": "v",
           "showlegend": true,
           "textposition": "auto",
           "type": "bar",
           "x": [
            "Transportation & Storage"
           ],
           "xaxis": "x",
           "y": [
            1535
           ],
           "yaxis": "y"
          },
          {
           "alignmentgroup": "True",
           "hovertemplate": "Industry=%{x}<br>Year-Month=2020-02<br>Sum=%{y}<extra></extra>",
           "ids": [
            "Water Supply, Sewerage, Waste Management"
           ],
           "legendgroup": "Water Supply, Sewerage, Waste Management",
           "marker": {
            "color": "#FECB52",
            "pattern": {
             "shape": ""
            }
           },
           "name": "Water Supply, Sewerage, Waste Management",
           "offsetgroup": "Water Supply, Sewerage, Waste Management",
           "orientation": "v",
           "showlegend": true,
           "textposition": "auto",
           "type": "bar",
           "x": [
            "Water Supply, Sewerage, Waste Management"
           ],
           "xaxis": "x",
           "y": [
            107
           ],
           "yaxis": "y"
          },
          {
           "alignmentgroup": "True",
           "hovertemplate": "Industry=%{x}<br>Year-Month=2020-02<br>Sum=%{y}<extra></extra>",
           "ids": [
            "Wholesale & Retail"
           ],
           "legendgroup": "Wholesale & Retail",
           "marker": {
            "color": "#636efa",
            "pattern": {
             "shape": ""
            }
           },
           "name": "Wholesale & Retail",
           "offsetgroup": "Wholesale & Retail",
           "orientation": "v",
           "showlegend": true,
           "textposition": "auto",
           "type": "bar",
           "x": [
            "Wholesale & Retail"
           ],
           "xaxis": "x",
           "y": [
            5929
           ],
           "yaxis": "y"
          }
         ],
         "name": "2020-02"
        },
        {
         "data": [
          {
           "alignmentgroup": "True",
           "hovertemplate": "Industry=%{x}<br>Year-Month=2020-03<br>Sum=%{y}<extra></extra>",
           "ids": [
            "Accommodation & Food"
           ],
           "legendgroup": "Accommodation & Food",
           "marker": {
            "color": "#636efa",
            "pattern": {
             "shape": ""
            }
           },
           "name": "Accommodation & Food",
           "offsetgroup": "Accommodation & Food",
           "orientation": "v",
           "showlegend": true,
           "textposition": "auto",
           "type": "bar",
           "x": [
            "Accommodation & Food"
           ],
           "xaxis": "x",
           "y": [
            2178
           ],
           "yaxis": "y"
          },
          {
           "alignmentgroup": "True",
           "hovertemplate": "Industry=%{x}<br>Year-Month=2020-03<br>Sum=%{y}<extra></extra>",
           "ids": [
            "Administration & Security"
           ],
           "legendgroup": "Administration & Security",
           "marker": {
            "color": "#EF553B",
            "pattern": {
             "shape": ""
            }
           },
           "name": "Administration & Security",
           "offsetgroup": "Administration & Security",
           "orientation": "v",
           "showlegend": true,
           "textposition": "auto",
           "type": "bar",
           "x": [
            "Administration & Security"
           ],
           "xaxis": "x",
           "y": [
            91
           ],
           "yaxis": "y"
          },
          {
           "alignmentgroup": "True",
           "hovertemplate": "Industry=%{x}<br>Year-Month=2020-03<br>Sum=%{y}<extra></extra>",
           "ids": [
            "Administrative Servives"
           ],
           "legendgroup": "Administrative Servives",
           "marker": {
            "color": "#00cc96",
            "pattern": {
             "shape": ""
            }
           },
           "name": "Administrative Servives",
           "offsetgroup": "Administrative Servives",
           "orientation": "v",
           "showlegend": true,
           "textposition": "auto",
           "type": "bar",
           "x": [
            "Administrative Servives"
           ],
           "xaxis": "x",
           "y": [
            2711
           ],
           "yaxis": "y"
          },
          {
           "alignmentgroup": "True",
           "hovertemplate": "Industry=%{x}<br>Year-Month=2020-03<br>Sum=%{y}<extra></extra>",
           "ids": [
            "Agriculture, Forestry & Fishing"
           ],
           "legendgroup": "Agriculture, Forestry & Fishing",
           "marker": {
            "color": "#ab63fa",
            "pattern": {
             "shape": ""
            }
           },
           "name": "Agriculture, Forestry & Fishing",
           "offsetgroup": "Agriculture, Forestry & Fishing",
           "orientation": "v",
           "showlegend": true,
           "textposition": "auto",
           "type": "bar",
           "x": [
            "Agriculture, Forestry & Fishing"
           ],
           "xaxis": "x",
           "y": [
            257
           ],
           "yaxis": "y"
          },
          {
           "alignmentgroup": "True",
           "hovertemplate": "Industry=%{x}<br>Year-Month=2020-03<br>Sum=%{y}<extra></extra>",
           "ids": [
            "Arts & Entertainment"
           ],
           "legendgroup": "Arts & Entertainment",
           "marker": {
            "color": "#FFA15A",
            "pattern": {
             "shape": ""
            }
           },
           "name": "Arts & Entertainment",
           "offsetgroup": "Arts & Entertainment",
           "orientation": "v",
           "showlegend": true,
           "textposition": "auto",
           "type": "bar",
           "x": [
            "Arts & Entertainment"
           ],
           "xaxis": "x",
           "y": [
            799
           ],
           "yaxis": "y"
          },
          {
           "alignmentgroup": "True",
           "hovertemplate": "Industry=%{x}<br>Year-Month=2020-03<br>Sum=%{y}<extra></extra>",
           "ids": [
            "Construction"
           ],
           "legendgroup": "Construction",
           "marker": {
            "color": "#19d3f3",
            "pattern": {
             "shape": ""
            }
           },
           "name": "Construction",
           "offsetgroup": "Construction",
           "orientation": "v",
           "showlegend": true,
           "textposition": "auto",
           "type": "bar",
           "x": [
            "Construction"
           ],
           "xaxis": "x",
           "y": [
            3334
           ],
           "yaxis": "y"
          },
          {
           "alignmentgroup": "True",
           "hovertemplate": "Industry=%{x}<br>Year-Month=2020-03<br>Sum=%{y}<extra></extra>",
           "ids": [
            "Education"
           ],
           "legendgroup": "Education",
           "marker": {
            "color": "#FF6692",
            "pattern": {
             "shape": ""
            }
           },
           "name": "Education",
           "offsetgroup": "Education",
           "orientation": "v",
           "showlegend": true,
           "textposition": "auto",
           "type": "bar",
           "x": [
            "Education"
           ],
           "xaxis": "x",
           "y": [
            670
           ],
           "yaxis": "y"
          },
          {
           "alignmentgroup": "True",
           "hovertemplate": "Industry=%{x}<br>Year-Month=2020-03<br>Sum=%{y}<extra></extra>",
           "ids": [
            "Energy Supply"
           ],
           "legendgroup": "Energy Supply",
           "marker": {
            "color": "#B6E880",
            "pattern": {
             "shape": ""
            }
           },
           "name": "Energy Supply",
           "offsetgroup": "Energy Supply",
           "orientation": "v",
           "showlegend": true,
           "textposition": "auto",
           "type": "bar",
           "x": [
            "Energy Supply"
           ],
           "xaxis": "x",
           "y": [
            82
           ],
           "yaxis": "y"
          },
          {
           "alignmentgroup": "True",
           "hovertemplate": "Industry=%{x}<br>Year-Month=2020-03<br>Sum=%{y}<extra></extra>",
           "ids": [
            "Extraterritorial Organisations"
           ],
           "legendgroup": "Extraterritorial Organisations",
           "marker": {
            "color": "#FF97FF",
            "pattern": {
             "shape": ""
            }
           },
           "name": "Extraterritorial Organisations",
           "offsetgroup": "Extraterritorial Organisations",
           "orientation": "v",
           "showlegend": true,
           "textposition": "auto",
           "type": "bar",
           "x": [
            "Extraterritorial Organisations"
           ],
           "xaxis": "x",
           "y": [
            695
           ],
           "yaxis": "y"
          },
          {
           "alignmentgroup": "True",
           "hovertemplate": "Industry=%{x}<br>Year-Month=2020-03<br>Sum=%{y}<extra></extra>",
           "ids": [
            "Financial & Insurance"
           ],
           "legendgroup": "Financial & Insurance",
           "marker": {
            "color": "#FECB52",
            "pattern": {
             "shape": ""
            }
           },
           "name": "Financial & Insurance",
           "offsetgroup": "Financial & Insurance",
           "orientation": "v",
           "showlegend": true,
           "textposition": "auto",
           "type": "bar",
           "x": [
            "Financial & Insurance"
           ],
           "xaxis": "x",
           "y": [
            1503
           ],
           "yaxis": "y"
          },
          {
           "alignmentgroup": "True",
           "hovertemplate": "Industry=%{x}<br>Year-Month=2020-03<br>Sum=%{y}<extra></extra>",
           "ids": [
            "Health & Social Work"
           ],
           "legendgroup": "Health & Social Work",
           "marker": {
            "color": "#636efa",
            "pattern": {
             "shape": ""
            }
           },
           "name": "Health & Social Work",
           "offsetgroup": "Health & Social Work",
           "orientation": "v",
           "showlegend": true,
           "textposition": "auto",
           "type": "bar",
           "x": [
            "Health & Social Work"
           ],
           "xaxis": "x",
           "y": [
            1391
           ],
           "yaxis": "y"
          },
          {
           "alignmentgroup": "True",
           "hovertemplate": "Industry=%{x}<br>Year-Month=2020-03<br>Sum=%{y}<extra></extra>",
           "ids": [
            "Households as Employers"
           ],
           "legendgroup": "Households as Employers",
           "marker": {
            "color": "#EF553B",
            "pattern": {
             "shape": ""
            }
           },
           "name": "Households as Employers",
           "offsetgroup": "Households as Employers",
           "orientation": "v",
           "showlegend": true,
           "textposition": "auto",
           "type": "bar",
           "x": [
            "Households as Employers"
           ],
           "xaxis": "x",
           "y": [
            474
           ],
           "yaxis": "y"
          },
          {
           "alignmentgroup": "True",
           "hovertemplate": "Industry=%{x}<br>Year-Month=2020-03<br>Sum=%{y}<extra></extra>",
           "ids": [
            "Information & Communication"
           ],
           "legendgroup": "Information & Communication",
           "marker": {
            "color": "#00cc96",
            "pattern": {
             "shape": ""
            }
           },
           "name": "Information & Communication",
           "offsetgroup": "Information & Communication",
           "orientation": "v",
           "showlegend": true,
           "textposition": "auto",
           "type": "bar",
           "x": [
            "Information & Communication"
           ],
           "xaxis": "x",
           "y": [
            2760
           ],
           "yaxis": "y"
          },
          {
           "alignmentgroup": "True",
           "hovertemplate": "Industry=%{x}<br>Year-Month=2020-03<br>Sum=%{y}<extra></extra>",
           "ids": [
            "Manufacturing"
           ],
           "legendgroup": "Manufacturing",
           "marker": {
            "color": "#ab63fa",
            "pattern": {
             "shape": ""
            }
           },
           "name": "Manufacturing",
           "offsetgroup": "Manufacturing",
           "orientation": "v",
           "showlegend": true,
           "textposition": "auto",
           "type": "bar",
           "x": [
            "Manufacturing"
           ],
           "xaxis": "x",
           "y": [
            1469
           ],
           "yaxis": "y"
          },
          {
           "alignmentgroup": "True",
           "hovertemplate": "Industry=%{x}<br>Year-Month=2020-03<br>Sum=%{y}<extra></extra>",
           "ids": [
            "Mining & Quarrying"
           ],
           "legendgroup": "Mining & Quarrying",
           "marker": {
            "color": "#FFA15A",
            "pattern": {
             "shape": ""
            }
           },
           "name": "Mining & Quarrying",
           "offsetgroup": "Mining & Quarrying",
           "orientation": "v",
           "showlegend": true,
           "textposition": "auto",
           "type": "bar",
           "x": [
            "Mining & Quarrying"
           ],
           "xaxis": "x",
           "y": [
            37
           ],
           "yaxis": "y"
          },
          {
           "alignmentgroup": "True",
           "hovertemplate": "Industry=%{x}<br>Year-Month=2020-03<br>Sum=%{y}<extra></extra>",
           "ids": [
            "Other Services"
           ],
           "legendgroup": "Other Services",
           "marker": {
            "color": "#19d3f3",
            "pattern": {
             "shape": ""
            }
           },
           "name": "Other Services",
           "offsetgroup": "Other Services",
           "orientation": "v",
           "showlegend": true,
           "textposition": "auto",
           "type": "bar",
           "x": [
            "Other Services"
           ],
           "xaxis": "x",
           "y": [
            1805
           ],
           "yaxis": "y"
          },
          {
           "alignmentgroup": "True",
           "hovertemplate": "Industry=%{x}<br>Year-Month=2020-03<br>Sum=%{y}<extra></extra>",
           "ids": [
            "Professional, Scientific & Technical"
           ],
           "legendgroup": "Professional, Scientific & Technical",
           "marker": {
            "color": "#FF6692",
            "pattern": {
             "shape": ""
            }
           },
           "name": "Professional, Scientific & Technical",
           "offsetgroup": "Professional, Scientific & Technical",
           "orientation": "v",
           "showlegend": true,
           "textposition": "auto",
           "type": "bar",
           "x": [
            "Professional, Scientific & Technical"
           ],
           "xaxis": "x",
           "y": [
            4252
           ],
           "yaxis": "y"
          },
          {
           "alignmentgroup": "True",
           "hovertemplate": "Industry=%{x}<br>Year-Month=2020-03<br>Sum=%{y}<extra></extra>",
           "ids": [
            "Real Estate"
           ],
           "legendgroup": "Real Estate",
           "marker": {
            "color": "#B6E880",
            "pattern": {
             "shape": ""
            }
           },
           "name": "Real Estate",
           "offsetgroup": "Real Estate",
           "orientation": "v",
           "showlegend": true,
           "textposition": "auto",
           "type": "bar",
           "x": [
            "Real Estate"
           ],
           "xaxis": "x",
           "y": [
            3307
           ],
           "yaxis": "y"
          },
          {
           "alignmentgroup": "True",
           "hovertemplate": "Industry=%{x}<br>Year-Month=2020-03<br>Sum=%{y}<extra></extra>",
           "ids": [
            "Transportation & Storage"
           ],
           "legendgroup": "Transportation & Storage",
           "marker": {
            "color": "#FF97FF",
            "pattern": {
             "shape": ""
            }
           },
           "name": "Transportation & Storage",
           "offsetgroup": "Transportation & Storage",
           "orientation": "v",
           "showlegend": true,
           "textposition": "auto",
           "type": "bar",
           "x": [
            "Transportation & Storage"
           ],
           "xaxis": "x",
           "y": [
            1443
           ],
           "yaxis": "y"
          },
          {
           "alignmentgroup": "True",
           "hovertemplate": "Industry=%{x}<br>Year-Month=2020-03<br>Sum=%{y}<extra></extra>",
           "ids": [
            "Water Supply, Sewerage, Waste Management"
           ],
           "legendgroup": "Water Supply, Sewerage, Waste Management",
           "marker": {
            "color": "#FECB52",
            "pattern": {
             "shape": ""
            }
           },
           "name": "Water Supply, Sewerage, Waste Management",
           "offsetgroup": "Water Supply, Sewerage, Waste Management",
           "orientation": "v",
           "showlegend": true,
           "textposition": "auto",
           "type": "bar",
           "x": [
            "Water Supply, Sewerage, Waste Management"
           ],
           "xaxis": "x",
           "y": [
            104
           ],
           "yaxis": "y"
          },
          {
           "alignmentgroup": "True",
           "hovertemplate": "Industry=%{x}<br>Year-Month=2020-03<br>Sum=%{y}<extra></extra>",
           "ids": [
            "Wholesale & Retail"
           ],
           "legendgroup": "Wholesale & Retail",
           "marker": {
            "color": "#636efa",
            "pattern": {
             "shape": ""
            }
           },
           "name": "Wholesale & Retail",
           "offsetgroup": "Wholesale & Retail",
           "orientation": "v",
           "showlegend": true,
           "textposition": "auto",
           "type": "bar",
           "x": [
            "Wholesale & Retail"
           ],
           "xaxis": "x",
           "y": [
            5022
           ],
           "yaxis": "y"
          }
         ],
         "name": "2020-03"
        },
        {
         "data": [
          {
           "alignmentgroup": "True",
           "hovertemplate": "Industry=%{x}<br>Year-Month=2020-04<br>Sum=%{y}<extra></extra>",
           "ids": [
            "Accommodation & Food"
           ],
           "legendgroup": "Accommodation & Food",
           "marker": {
            "color": "#636efa",
            "pattern": {
             "shape": ""
            }
           },
           "name": "Accommodation & Food",
           "offsetgroup": "Accommodation & Food",
           "orientation": "v",
           "showlegend": true,
           "textposition": "auto",
           "type": "bar",
           "x": [
            "Accommodation & Food"
           ],
           "xaxis": "x",
           "y": [
            1743
           ],
           "yaxis": "y"
          },
          {
           "alignmentgroup": "True",
           "hovertemplate": "Industry=%{x}<br>Year-Month=2020-04<br>Sum=%{y}<extra></extra>",
           "ids": [
            "Administration & Security"
           ],
           "legendgroup": "Administration & Security",
           "marker": {
            "color": "#EF553B",
            "pattern": {
             "shape": ""
            }
           },
           "name": "Administration & Security",
           "offsetgroup": "Administration & Security",
           "orientation": "v",
           "showlegend": true,
           "textposition": "auto",
           "type": "bar",
           "x": [
            "Administration & Security"
           ],
           "xaxis": "x",
           "y": [
            84
           ],
           "yaxis": "y"
          },
          {
           "alignmentgroup": "True",
           "hovertemplate": "Industry=%{x}<br>Year-Month=2020-04<br>Sum=%{y}<extra></extra>",
           "ids": [
            "Administrative Servives"
           ],
           "legendgroup": "Administrative Servives",
           "marker": {
            "color": "#00cc96",
            "pattern": {
             "shape": ""
            }
           },
           "name": "Administrative Servives",
           "offsetgroup": "Administrative Servives",
           "orientation": "v",
           "showlegend": true,
           "textposition": "auto",
           "type": "bar",
           "x": [
            "Administrative Servives"
           ],
           "xaxis": "x",
           "y": [
            2427
           ],
           "yaxis": "y"
          },
          {
           "alignmentgroup": "True",
           "hovertemplate": "Industry=%{x}<br>Year-Month=2020-04<br>Sum=%{y}<extra></extra>",
           "ids": [
            "Agriculture, Forestry & Fishing"
           ],
           "legendgroup": "Agriculture, Forestry & Fishing",
           "marker": {
            "color": "#ab63fa",
            "pattern": {
             "shape": ""
            }
           },
           "name": "Agriculture, Forestry & Fishing",
           "offsetgroup": "Agriculture, Forestry & Fishing",
           "orientation": "v",
           "showlegend": true,
           "textposition": "auto",
           "type": "bar",
           "x": [
            "Agriculture, Forestry & Fishing"
           ],
           "xaxis": "x",
           "y": [
            232
           ],
           "yaxis": "y"
          },
          {
           "alignmentgroup": "True",
           "hovertemplate": "Industry=%{x}<br>Year-Month=2020-04<br>Sum=%{y}<extra></extra>",
           "ids": [
            "Arts & Entertainment"
           ],
           "legendgroup": "Arts & Entertainment",
           "marker": {
            "color": "#FFA15A",
            "pattern": {
             "shape": ""
            }
           },
           "name": "Arts & Entertainment",
           "offsetgroup": "Arts & Entertainment",
           "orientation": "v",
           "showlegend": true,
           "textposition": "auto",
           "type": "bar",
           "x": [
            "Arts & Entertainment"
           ],
           "xaxis": "x",
           "y": [
            710
           ],
           "yaxis": "y"
          },
          {
           "alignmentgroup": "True",
           "hovertemplate": "Industry=%{x}<br>Year-Month=2020-04<br>Sum=%{y}<extra></extra>",
           "ids": [
            "Construction"
           ],
           "legendgroup": "Construction",
           "marker": {
            "color": "#19d3f3",
            "pattern": {
             "shape": ""
            }
           },
           "name": "Construction",
           "offsetgroup": "Construction",
           "orientation": "v",
           "showlegend": true,
           "textposition": "auto",
           "type": "bar",
           "x": [
            "Construction"
           ],
           "xaxis": "x",
           "y": [
            3047
           ],
           "yaxis": "y"
          },
          {
           "alignmentgroup": "True",
           "hovertemplate": "Industry=%{x}<br>Year-Month=2020-04<br>Sum=%{y}<extra></extra>",
           "ids": [
            "Education"
           ],
           "legendgroup": "Education",
           "marker": {
            "color": "#FF6692",
            "pattern": {
             "shape": ""
            }
           },
           "name": "Education",
           "offsetgroup": "Education",
           "orientation": "v",
           "showlegend": true,
           "textposition": "auto",
           "type": "bar",
           "x": [
            "Education"
           ],
           "xaxis": "x",
           "y": [
            684
           ],
           "yaxis": "y"
          },
          {
           "alignmentgroup": "True",
           "hovertemplate": "Industry=%{x}<br>Year-Month=2020-04<br>Sum=%{y}<extra></extra>",
           "ids": [
            "Energy Supply"
           ],
           "legendgroup": "Energy Supply",
           "marker": {
            "color": "#B6E880",
            "pattern": {
             "shape": ""
            }
           },
           "name": "Energy Supply",
           "offsetgroup": "Energy Supply",
           "orientation": "v",
           "showlegend": true,
           "textposition": "auto",
           "type": "bar",
           "x": [
            "Energy Supply"
           ],
           "xaxis": "x",
           "y": [
            108
           ],
           "yaxis": "y"
          },
          {
           "alignmentgroup": "True",
           "hovertemplate": "Industry=%{x}<br>Year-Month=2020-04<br>Sum=%{y}<extra></extra>",
           "ids": [
            "Extraterritorial Organisations"
           ],
           "legendgroup": "Extraterritorial Organisations",
           "marker": {
            "color": "#FF97FF",
            "pattern": {
             "shape": ""
            }
           },
           "name": "Extraterritorial Organisations",
           "offsetgroup": "Extraterritorial Organisations",
           "orientation": "v",
           "showlegend": true,
           "textposition": "auto",
           "type": "bar",
           "x": [
            "Extraterritorial Organisations"
           ],
           "xaxis": "x",
           "y": [
            836
           ],
           "yaxis": "y"
          },
          {
           "alignmentgroup": "True",
           "hovertemplate": "Industry=%{x}<br>Year-Month=2020-04<br>Sum=%{y}<extra></extra>",
           "ids": [
            "Financial & Insurance"
           ],
           "legendgroup": "Financial & Insurance",
           "marker": {
            "color": "#FECB52",
            "pattern": {
             "shape": ""
            }
           },
           "name": "Financial & Insurance",
           "offsetgroup": "Financial & Insurance",
           "orientation": "v",
           "showlegend": true,
           "textposition": "auto",
           "type": "bar",
           "x": [
            "Financial & Insurance"
           ],
           "xaxis": "x",
           "y": [
            1374
           ],
           "yaxis": "y"
          },
          {
           "alignmentgroup": "True",
           "hovertemplate": "Industry=%{x}<br>Year-Month=2020-04<br>Sum=%{y}<extra></extra>",
           "ids": [
            "Health & Social Work"
           ],
           "legendgroup": "Health & Social Work",
           "marker": {
            "color": "#636efa",
            "pattern": {
             "shape": ""
            }
           },
           "name": "Health & Social Work",
           "offsetgroup": "Health & Social Work",
           "orientation": "v",
           "showlegend": true,
           "textposition": "auto",
           "type": "bar",
           "x": [
            "Health & Social Work"
           ],
           "xaxis": "x",
           "y": [
            1287
           ],
           "yaxis": "y"
          },
          {
           "alignmentgroup": "True",
           "hovertemplate": "Industry=%{x}<br>Year-Month=2020-04<br>Sum=%{y}<extra></extra>",
           "ids": [
            "Households as Employers"
           ],
           "legendgroup": "Households as Employers",
           "marker": {
            "color": "#EF553B",
            "pattern": {
             "shape": ""
            }
           },
           "name": "Households as Employers",
           "offsetgroup": "Households as Employers",
           "orientation": "v",
           "showlegend": true,
           "textposition": "auto",
           "type": "bar",
           "x": [
            "Households as Employers"
           ],
           "xaxis": "x",
           "y": [
            395
           ],
           "yaxis": "y"
          },
          {
           "alignmentgroup": "True",
           "hovertemplate": "Industry=%{x}<br>Year-Month=2020-04<br>Sum=%{y}<extra></extra>",
           "ids": [
            "Information & Communication"
           ],
           "legendgroup": "Information & Communication",
           "marker": {
            "color": "#00cc96",
            "pattern": {
             "shape": ""
            }
           },
           "name": "Information & Communication",
           "offsetgroup": "Information & Communication",
           "orientation": "v",
           "showlegend": true,
           "textposition": "auto",
           "type": "bar",
           "x": [
            "Information & Communication"
           ],
           "xaxis": "x",
           "y": [
            2975
           ],
           "yaxis": "y"
          },
          {
           "alignmentgroup": "True",
           "hovertemplate": "Industry=%{x}<br>Year-Month=2020-04<br>Sum=%{y}<extra></extra>",
           "ids": [
            "Manufacturing"
           ],
           "legendgroup": "Manufacturing",
           "marker": {
            "color": "#ab63fa",
            "pattern": {
             "shape": ""
            }
           },
           "name": "Manufacturing",
           "offsetgroup": "Manufacturing",
           "orientation": "v",
           "showlegend": true,
           "textposition": "auto",
           "type": "bar",
           "x": [
            "Manufacturing"
           ],
           "xaxis": "x",
           "y": [
            1374
           ],
           "yaxis": "y"
          },
          {
           "alignmentgroup": "True",
           "hovertemplate": "Industry=%{x}<br>Year-Month=2020-04<br>Sum=%{y}<extra></extra>",
           "ids": [
            "Mining & Quarrying"
           ],
           "legendgroup": "Mining & Quarrying",
           "marker": {
            "color": "#FFA15A",
            "pattern": {
             "shape": ""
            }
           },
           "name": "Mining & Quarrying",
           "offsetgroup": "Mining & Quarrying",
           "orientation": "v",
           "showlegend": true,
           "textposition": "auto",
           "type": "bar",
           "x": [
            "Mining & Quarrying"
           ],
           "xaxis": "x",
           "y": [
            54
           ],
           "yaxis": "y"
          },
          {
           "alignmentgroup": "True",
           "hovertemplate": "Industry=%{x}<br>Year-Month=2020-04<br>Sum=%{y}<extra></extra>",
           "ids": [
            "Other Services"
           ],
           "legendgroup": "Other Services",
           "marker": {
            "color": "#19d3f3",
            "pattern": {
             "shape": ""
            }
           },
           "name": "Other Services",
           "offsetgroup": "Other Services",
           "orientation": "v",
           "showlegend": true,
           "textposition": "auto",
           "type": "bar",
           "x": [
            "Other Services"
           ],
           "xaxis": "x",
           "y": [
            1515
           ],
           "yaxis": "y"
          },
          {
           "alignmentgroup": "True",
           "hovertemplate": "Industry=%{x}<br>Year-Month=2020-04<br>Sum=%{y}<extra></extra>",
           "ids": [
            "Professional, Scientific & Technical"
           ],
           "legendgroup": "Professional, Scientific & Technical",
           "marker": {
            "color": "#FF6692",
            "pattern": {
             "shape": ""
            }
           },
           "name": "Professional, Scientific & Technical",
           "offsetgroup": "Professional, Scientific & Technical",
           "orientation": "v",
           "showlegend": true,
           "textposition": "auto",
           "type": "bar",
           "x": [
            "Professional, Scientific & Technical"
           ],
           "xaxis": "x",
           "y": [
            4178
           ],
           "yaxis": "y"
          },
          {
           "alignmentgroup": "True",
           "hovertemplate": "Industry=%{x}<br>Year-Month=2020-04<br>Sum=%{y}<extra></extra>",
           "ids": [
            "Real Estate"
           ],
           "legendgroup": "Real Estate",
           "marker": {
            "color": "#B6E880",
            "pattern": {
             "shape": ""
            }
           },
           "name": "Real Estate",
           "offsetgroup": "Real Estate",
           "orientation": "v",
           "showlegend": true,
           "textposition": "auto",
           "type": "bar",
           "x": [
            "Real Estate"
           ],
           "xaxis": "x",
           "y": [
            3014
           ],
           "yaxis": "y"
          },
          {
           "alignmentgroup": "True",
           "hovertemplate": "Industry=%{x}<br>Year-Month=2020-04<br>Sum=%{y}<extra></extra>",
           "ids": [
            "Transportation & Storage"
           ],
           "legendgroup": "Transportation & Storage",
           "marker": {
            "color": "#FF97FF",
            "pattern": {
             "shape": ""
            }
           },
           "name": "Transportation & Storage",
           "offsetgroup": "Transportation & Storage",
           "orientation": "v",
           "showlegend": true,
           "textposition": "auto",
           "type": "bar",
           "x": [
            "Transportation & Storage"
           ],
           "xaxis": "x",
           "y": [
            1078
           ],
           "yaxis": "y"
          },
          {
           "alignmentgroup": "True",
           "hovertemplate": "Industry=%{x}<br>Year-Month=2020-04<br>Sum=%{y}<extra></extra>",
           "ids": [
            "Water Supply, Sewerage, Waste Management"
           ],
           "legendgroup": "Water Supply, Sewerage, Waste Management",
           "marker": {
            "color": "#FECB52",
            "pattern": {
             "shape": ""
            }
           },
           "name": "Water Supply, Sewerage, Waste Management",
           "offsetgroup": "Water Supply, Sewerage, Waste Management",
           "orientation": "v",
           "showlegend": true,
           "textposition": "auto",
           "type": "bar",
           "x": [
            "Water Supply, Sewerage, Waste Management"
           ],
           "xaxis": "x",
           "y": [
            104
           ],
           "yaxis": "y"
          },
          {
           "alignmentgroup": "True",
           "hovertemplate": "Industry=%{x}<br>Year-Month=2020-04<br>Sum=%{y}<extra></extra>",
           "ids": [
            "Wholesale & Retail"
           ],
           "legendgroup": "Wholesale & Retail",
           "marker": {
            "color": "#636efa",
            "pattern": {
             "shape": ""
            }
           },
           "name": "Wholesale & Retail",
           "offsetgroup": "Wholesale & Retail",
           "orientation": "v",
           "showlegend": true,
           "textposition": "auto",
           "type": "bar",
           "x": [
            "Wholesale & Retail"
           ],
           "xaxis": "x",
           "y": [
            5721
           ],
           "yaxis": "y"
          }
         ],
         "name": "2020-04"
        },
        {
         "data": [
          {
           "alignmentgroup": "True",
           "hovertemplate": "Industry=%{x}<br>Year-Month=2020-05<br>Sum=%{y}<extra></extra>",
           "ids": [
            "Accommodation & Food"
           ],
           "legendgroup": "Accommodation & Food",
           "marker": {
            "color": "#636efa",
            "pattern": {
             "shape": ""
            }
           },
           "name": "Accommodation & Food",
           "offsetgroup": "Accommodation & Food",
           "orientation": "v",
           "showlegend": true,
           "textposition": "auto",
           "type": "bar",
           "x": [
            "Accommodation & Food"
           ],
           "xaxis": "x",
           "y": [
            2189
           ],
           "yaxis": "y"
          },
          {
           "alignmentgroup": "True",
           "hovertemplate": "Industry=%{x}<br>Year-Month=2020-05<br>Sum=%{y}<extra></extra>",
           "ids": [
            "Administration & Security"
           ],
           "legendgroup": "Administration & Security",
           "marker": {
            "color": "#EF553B",
            "pattern": {
             "shape": ""
            }
           },
           "name": "Administration & Security",
           "offsetgroup": "Administration & Security",
           "orientation": "v",
           "showlegend": true,
           "textposition": "auto",
           "type": "bar",
           "x": [
            "Administration & Security"
           ],
           "xaxis": "x",
           "y": [
            113
           ],
           "yaxis": "y"
          },
          {
           "alignmentgroup": "True",
           "hovertemplate": "Industry=%{x}<br>Year-Month=2020-05<br>Sum=%{y}<extra></extra>",
           "ids": [
            "Administrative Servives"
           ],
           "legendgroup": "Administrative Servives",
           "marker": {
            "color": "#00cc96",
            "pattern": {
             "shape": ""
            }
           },
           "name": "Administrative Servives",
           "offsetgroup": "Administrative Servives",
           "orientation": "v",
           "showlegend": true,
           "textposition": "auto",
           "type": "bar",
           "x": [
            "Administrative Servives"
           ],
           "xaxis": "x",
           "y": [
            2714
           ],
           "yaxis": "y"
          },
          {
           "alignmentgroup": "True",
           "hovertemplate": "Industry=%{x}<br>Year-Month=2020-05<br>Sum=%{y}<extra></extra>",
           "ids": [
            "Agriculture, Forestry & Fishing"
           ],
           "legendgroup": "Agriculture, Forestry & Fishing",
           "marker": {
            "color": "#ab63fa",
            "pattern": {
             "shape": ""
            }
           },
           "name": "Agriculture, Forestry & Fishing",
           "offsetgroup": "Agriculture, Forestry & Fishing",
           "orientation": "v",
           "showlegend": true,
           "textposition": "auto",
           "type": "bar",
           "x": [
            "Agriculture, Forestry & Fishing"
           ],
           "xaxis": "x",
           "y": [
            216
           ],
           "yaxis": "y"
          },
          {
           "alignmentgroup": "True",
           "hovertemplate": "Industry=%{x}<br>Year-Month=2020-05<br>Sum=%{y}<extra></extra>",
           "ids": [
            "Arts & Entertainment"
           ],
           "legendgroup": "Arts & Entertainment",
           "marker": {
            "color": "#FFA15A",
            "pattern": {
             "shape": ""
            }
           },
           "name": "Arts & Entertainment",
           "offsetgroup": "Arts & Entertainment",
           "orientation": "v",
           "showlegend": true,
           "textposition": "auto",
           "type": "bar",
           "x": [
            "Arts & Entertainment"
           ],
           "xaxis": "x",
           "y": [
            750
           ],
           "yaxis": "y"
          },
          {
           "alignmentgroup": "True",
           "hovertemplate": "Industry=%{x}<br>Year-Month=2020-05<br>Sum=%{y}<extra></extra>",
           "ids": [
            "Construction"
           ],
           "legendgroup": "Construction",
           "marker": {
            "color": "#19d3f3",
            "pattern": {
             "shape": ""
            }
           },
           "name": "Construction",
           "offsetgroup": "Construction",
           "orientation": "v",
           "showlegend": true,
           "textposition": "auto",
           "type": "bar",
           "x": [
            "Construction"
           ],
           "xaxis": "x",
           "y": [
            3790
           ],
           "yaxis": "y"
          },
          {
           "alignmentgroup": "True",
           "hovertemplate": "Industry=%{x}<br>Year-Month=2020-05<br>Sum=%{y}<extra></extra>",
           "ids": [
            "Education"
           ],
           "legendgroup": "Education",
           "marker": {
            "color": "#FF6692",
            "pattern": {
             "shape": ""
            }
           },
           "name": "Education",
           "offsetgroup": "Education",
           "orientation": "v",
           "showlegend": true,
           "textposition": "auto",
           "type": "bar",
           "x": [
            "Education"
           ],
           "xaxis": "x",
           "y": [
            687
           ],
           "yaxis": "y"
          },
          {
           "alignmentgroup": "True",
           "hovertemplate": "Industry=%{x}<br>Year-Month=2020-05<br>Sum=%{y}<extra></extra>",
           "ids": [
            "Energy Supply"
           ],
           "legendgroup": "Energy Supply",
           "marker": {
            "color": "#B6E880",
            "pattern": {
             "shape": ""
            }
           },
           "name": "Energy Supply",
           "offsetgroup": "Energy Supply",
           "orientation": "v",
           "showlegend": true,
           "textposition": "auto",
           "type": "bar",
           "x": [
            "Energy Supply"
           ],
           "xaxis": "x",
           "y": [
            85
           ],
           "yaxis": "y"
          },
          {
           "alignmentgroup": "True",
           "hovertemplate": "Industry=%{x}<br>Year-Month=2020-05<br>Sum=%{y}<extra></extra>",
           "ids": [
            "Extraterritorial Organisations"
           ],
           "legendgroup": "Extraterritorial Organisations",
           "marker": {
            "color": "#FF97FF",
            "pattern": {
             "shape": ""
            }
           },
           "name": "Extraterritorial Organisations",
           "offsetgroup": "Extraterritorial Organisations",
           "orientation": "v",
           "showlegend": true,
           "textposition": "auto",
           "type": "bar",
           "x": [
            "Extraterritorial Organisations"
           ],
           "xaxis": "x",
           "y": [
            830
           ],
           "yaxis": "y"
          },
          {
           "alignmentgroup": "True",
           "hovertemplate": "Industry=%{x}<br>Year-Month=2020-05<br>Sum=%{y}<extra></extra>",
           "ids": [
            "Financial & Insurance"
           ],
           "legendgroup": "Financial & Insurance",
           "marker": {
            "color": "#FECB52",
            "pattern": {
             "shape": ""
            }
           },
           "name": "Financial & Insurance",
           "offsetgroup": "Financial & Insurance",
           "orientation": "v",
           "showlegend": true,
           "textposition": "auto",
           "type": "bar",
           "x": [
            "Financial & Insurance"
           ],
           "xaxis": "x",
           "y": [
            1425
           ],
           "yaxis": "y"
          },
          {
           "alignmentgroup": "True",
           "hovertemplate": "Industry=%{x}<br>Year-Month=2020-05<br>Sum=%{y}<extra></extra>",
           "ids": [
            "Health & Social Work"
           ],
           "legendgroup": "Health & Social Work",
           "marker": {
            "color": "#636efa",
            "pattern": {
             "shape": ""
            }
           },
           "name": "Health & Social Work",
           "offsetgroup": "Health & Social Work",
           "orientation": "v",
           "showlegend": true,
           "textposition": "auto",
           "type": "bar",
           "x": [
            "Health & Social Work"
           ],
           "xaxis": "x",
           "y": [
            1233
           ],
           "yaxis": "y"
          },
          {
           "alignmentgroup": "True",
           "hovertemplate": "Industry=%{x}<br>Year-Month=2020-05<br>Sum=%{y}<extra></extra>",
           "ids": [
            "Households as Employers"
           ],
           "legendgroup": "Households as Employers",
           "marker": {
            "color": "#EF553B",
            "pattern": {
             "shape": ""
            }
           },
           "name": "Households as Employers",
           "offsetgroup": "Households as Employers",
           "orientation": "v",
           "showlegend": true,
           "textposition": "auto",
           "type": "bar",
           "x": [
            "Households as Employers"
           ],
           "xaxis": "x",
           "y": [
            396
           ],
           "yaxis": "y"
          },
          {
           "alignmentgroup": "True",
           "hovertemplate": "Industry=%{x}<br>Year-Month=2020-05<br>Sum=%{y}<extra></extra>",
           "ids": [
            "Information & Communication"
           ],
           "legendgroup": "Information & Communication",
           "marker": {
            "color": "#00cc96",
            "pattern": {
             "shape": ""
            }
           },
           "name": "Information & Communication",
           "offsetgroup": "Information & Communication",
           "orientation": "v",
           "showlegend": true,
           "textposition": "auto",
           "type": "bar",
           "x": [
            "Information & Communication"
           ],
           "xaxis": "x",
           "y": [
            2800
           ],
           "yaxis": "y"
          },
          {
           "alignmentgroup": "True",
           "hovertemplate": "Industry=%{x}<br>Year-Month=2020-05<br>Sum=%{y}<extra></extra>",
           "ids": [
            "Manufacturing"
           ],
           "legendgroup": "Manufacturing",
           "marker": {
            "color": "#ab63fa",
            "pattern": {
             "shape": ""
            }
           },
           "name": "Manufacturing",
           "offsetgroup": "Manufacturing",
           "orientation": "v",
           "showlegend": true,
           "textposition": "auto",
           "type": "bar",
           "x": [
            "Manufacturing"
           ],
           "xaxis": "x",
           "y": [
            1568
           ],
           "yaxis": "y"
          },
          {
           "alignmentgroup": "True",
           "hovertemplate": "Industry=%{x}<br>Year-Month=2020-05<br>Sum=%{y}<extra></extra>",
           "ids": [
            "Mining & Quarrying"
           ],
           "legendgroup": "Mining & Quarrying",
           "marker": {
            "color": "#FFA15A",
            "pattern": {
             "shape": ""
            }
           },
           "name": "Mining & Quarrying",
           "offsetgroup": "Mining & Quarrying",
           "orientation": "v",
           "showlegend": true,
           "textposition": "auto",
           "type": "bar",
           "x": [
            "Mining & Quarrying"
           ],
           "xaxis": "x",
           "y": [
            45
           ],
           "yaxis": "y"
          },
          {
           "alignmentgroup": "True",
           "hovertemplate": "Industry=%{x}<br>Year-Month=2020-05<br>Sum=%{y}<extra></extra>",
           "ids": [
            "Other Services"
           ],
           "legendgroup": "Other Services",
           "marker": {
            "color": "#19d3f3",
            "pattern": {
             "shape": ""
            }
           },
           "name": "Other Services",
           "offsetgroup": "Other Services",
           "orientation": "v",
           "showlegend": true,
           "textposition": "auto",
           "type": "bar",
           "x": [
            "Other Services"
           ],
           "xaxis": "x",
           "y": [
            1760
           ],
           "yaxis": "y"
          },
          {
           "alignmentgroup": "True",
           "hovertemplate": "Industry=%{x}<br>Year-Month=2020-05<br>Sum=%{y}<extra></extra>",
           "ids": [
            "Professional, Scientific & Technical"
           ],
           "legendgroup": "Professional, Scientific & Technical",
           "marker": {
            "color": "#FF6692",
            "pattern": {
             "shape": ""
            }
           },
           "name": "Professional, Scientific & Technical",
           "offsetgroup": "Professional, Scientific & Technical",
           "orientation": "v",
           "showlegend": true,
           "textposition": "auto",
           "type": "bar",
           "x": [
            "Professional, Scientific & Technical"
           ],
           "xaxis": "x",
           "y": [
            4112
           ],
           "yaxis": "y"
          },
          {
           "alignmentgroup": "True",
           "hovertemplate": "Industry=%{x}<br>Year-Month=2020-05<br>Sum=%{y}<extra></extra>",
           "ids": [
            "Real Estate"
           ],
           "legendgroup": "Real Estate",
           "marker": {
            "color": "#B6E880",
            "pattern": {
             "shape": ""
            }
           },
           "name": "Real Estate",
           "offsetgroup": "Real Estate",
           "orientation": "v",
           "showlegend": true,
           "textposition": "auto",
           "type": "bar",
           "x": [
            "Real Estate"
           ],
           "xaxis": "x",
           "y": [
            3580
           ],
           "yaxis": "y"
          },
          {
           "alignmentgroup": "True",
           "hovertemplate": "Industry=%{x}<br>Year-Month=2020-05<br>Sum=%{y}<extra></extra>",
           "ids": [
            "Transportation & Storage"
           ],
           "legendgroup": "Transportation & Storage",
           "marker": {
            "color": "#FF97FF",
            "pattern": {
             "shape": ""
            }
           },
           "name": "Transportation & Storage",
           "offsetgroup": "Transportation & Storage",
           "orientation": "v",
           "showlegend": true,
           "textposition": "auto",
           "type": "bar",
           "x": [
            "Transportation & Storage"
           ],
           "xaxis": "x",
           "y": [
            1347
           ],
           "yaxis": "y"
          },
          {
           "alignmentgroup": "True",
           "hovertemplate": "Industry=%{x}<br>Year-Month=2020-05<br>Sum=%{y}<extra></extra>",
           "ids": [
            "Water Supply, Sewerage, Waste Management"
           ],
           "legendgroup": "Water Supply, Sewerage, Waste Management",
           "marker": {
            "color": "#FECB52",
            "pattern": {
             "shape": ""
            }
           },
           "name": "Water Supply, Sewerage, Waste Management",
           "offsetgroup": "Water Supply, Sewerage, Waste Management",
           "orientation": "v",
           "showlegend": true,
           "textposition": "auto",
           "type": "bar",
           "x": [
            "Water Supply, Sewerage, Waste Management"
           ],
           "xaxis": "x",
           "y": [
            124
           ],
           "yaxis": "y"
          },
          {
           "alignmentgroup": "True",
           "hovertemplate": "Industry=%{x}<br>Year-Month=2020-05<br>Sum=%{y}<extra></extra>",
           "ids": [
            "Wholesale & Retail"
           ],
           "legendgroup": "Wholesale & Retail",
           "marker": {
            "color": "#636efa",
            "pattern": {
             "shape": ""
            }
           },
           "name": "Wholesale & Retail",
           "offsetgroup": "Wholesale & Retail",
           "orientation": "v",
           "showlegend": true,
           "textposition": "auto",
           "type": "bar",
           "x": [
            "Wholesale & Retail"
           ],
           "xaxis": "x",
           "y": [
            6933
           ],
           "yaxis": "y"
          }
         ],
         "name": "2020-05"
        },
        {
         "data": [
          {
           "alignmentgroup": "True",
           "hovertemplate": "Industry=%{x}<br>Year-Month=2020-06<br>Sum=%{y}<extra></extra>",
           "ids": [
            "Accommodation & Food"
           ],
           "legendgroup": "Accommodation & Food",
           "marker": {
            "color": "#636efa",
            "pattern": {
             "shape": ""
            }
           },
           "name": "Accommodation & Food",
           "offsetgroup": "Accommodation & Food",
           "orientation": "v",
           "showlegend": true,
           "textposition": "auto",
           "type": "bar",
           "x": [
            "Accommodation & Food"
           ],
           "xaxis": "x",
           "y": [
            2878
           ],
           "yaxis": "y"
          },
          {
           "alignmentgroup": "True",
           "hovertemplate": "Industry=%{x}<br>Year-Month=2020-06<br>Sum=%{y}<extra></extra>",
           "ids": [
            "Administration & Security"
           ],
           "legendgroup": "Administration & Security",
           "marker": {
            "color": "#EF553B",
            "pattern": {
             "shape": ""
            }
           },
           "name": "Administration & Security",
           "offsetgroup": "Administration & Security",
           "orientation": "v",
           "showlegend": true,
           "textposition": "auto",
           "type": "bar",
           "x": [
            "Administration & Security"
           ],
           "xaxis": "x",
           "y": [
            126
           ],
           "yaxis": "y"
          },
          {
           "alignmentgroup": "True",
           "hovertemplate": "Industry=%{x}<br>Year-Month=2020-06<br>Sum=%{y}<extra></extra>",
           "ids": [
            "Administrative Servives"
           ],
           "legendgroup": "Administrative Servives",
           "marker": {
            "color": "#00cc96",
            "pattern": {
             "shape": ""
            }
           },
           "name": "Administrative Servives",
           "offsetgroup": "Administrative Servives",
           "orientation": "v",
           "showlegend": true,
           "textposition": "auto",
           "type": "bar",
           "x": [
            "Administrative Servives"
           ],
           "xaxis": "x",
           "y": [
            3049
           ],
           "yaxis": "y"
          },
          {
           "alignmentgroup": "True",
           "hovertemplate": "Industry=%{x}<br>Year-Month=2020-06<br>Sum=%{y}<extra></extra>",
           "ids": [
            "Agriculture, Forestry & Fishing"
           ],
           "legendgroup": "Agriculture, Forestry & Fishing",
           "marker": {
            "color": "#ab63fa",
            "pattern": {
             "shape": ""
            }
           },
           "name": "Agriculture, Forestry & Fishing",
           "offsetgroup": "Agriculture, Forestry & Fishing",
           "orientation": "v",
           "showlegend": true,
           "textposition": "auto",
           "type": "bar",
           "x": [
            "Agriculture, Forestry & Fishing"
           ],
           "xaxis": "x",
           "y": [
            315
           ],
           "yaxis": "y"
          },
          {
           "alignmentgroup": "True",
           "hovertemplate": "Industry=%{x}<br>Year-Month=2020-06<br>Sum=%{y}<extra></extra>",
           "ids": [
            "Arts & Entertainment"
           ],
           "legendgroup": "Arts & Entertainment",
           "marker": {
            "color": "#FFA15A",
            "pattern": {
             "shape": ""
            }
           },
           "name": "Arts & Entertainment",
           "offsetgroup": "Arts & Entertainment",
           "orientation": "v",
           "showlegend": true,
           "textposition": "auto",
           "type": "bar",
           "x": [
            "Arts & Entertainment"
           ],
           "xaxis": "x",
           "y": [
            871
           ],
           "yaxis": "y"
          },
          {
           "alignmentgroup": "True",
           "hovertemplate": "Industry=%{x}<br>Year-Month=2020-06<br>Sum=%{y}<extra></extra>",
           "ids": [
            "Construction"
           ],
           "legendgroup": "Construction",
           "marker": {
            "color": "#19d3f3",
            "pattern": {
             "shape": ""
            }
           },
           "name": "Construction",
           "offsetgroup": "Construction",
           "orientation": "v",
           "showlegend": true,
           "textposition": "auto",
           "type": "bar",
           "x": [
            "Construction"
           ],
           "xaxis": "x",
           "y": [
            4503
           ],
           "yaxis": "y"
          },
          {
           "alignmentgroup": "True",
           "hovertemplate": "Industry=%{x}<br>Year-Month=2020-06<br>Sum=%{y}<extra></extra>",
           "ids": [
            "Education"
           ],
           "legendgroup": "Education",
           "marker": {
            "color": "#FF6692",
            "pattern": {
             "shape": ""
            }
           },
           "name": "Education",
           "offsetgroup": "Education",
           "orientation": "v",
           "showlegend": true,
           "textposition": "auto",
           "type": "bar",
           "x": [
            "Education"
           ],
           "xaxis": "x",
           "y": [
            869
           ],
           "yaxis": "y"
          },
          {
           "alignmentgroup": "True",
           "hovertemplate": "Industry=%{x}<br>Year-Month=2020-06<br>Sum=%{y}<extra></extra>",
           "ids": [
            "Energy Supply"
           ],
           "legendgroup": "Energy Supply",
           "marker": {
            "color": "#B6E880",
            "pattern": {
             "shape": ""
            }
           },
           "name": "Energy Supply",
           "offsetgroup": "Energy Supply",
           "orientation": "v",
           "showlegend": true,
           "textposition": "auto",
           "type": "bar",
           "x": [
            "Energy Supply"
           ],
           "xaxis": "x",
           "y": [
            111
           ],
           "yaxis": "y"
          },
          {
           "alignmentgroup": "True",
           "hovertemplate": "Industry=%{x}<br>Year-Month=2020-06<br>Sum=%{y}<extra></extra>",
           "ids": [
            "Extraterritorial Organisations"
           ],
           "legendgroup": "Extraterritorial Organisations",
           "marker": {
            "color": "#FF97FF",
            "pattern": {
             "shape": ""
            }
           },
           "name": "Extraterritorial Organisations",
           "offsetgroup": "Extraterritorial Organisations",
           "orientation": "v",
           "showlegend": true,
           "textposition": "auto",
           "type": "bar",
           "x": [
            "Extraterritorial Organisations"
           ],
           "xaxis": "x",
           "y": [
            871
           ],
           "yaxis": "y"
          },
          {
           "alignmentgroup": "True",
           "hovertemplate": "Industry=%{x}<br>Year-Month=2020-06<br>Sum=%{y}<extra></extra>",
           "ids": [
            "Financial & Insurance"
           ],
           "legendgroup": "Financial & Insurance",
           "marker": {
            "color": "#FECB52",
            "pattern": {
             "shape": ""
            }
           },
           "name": "Financial & Insurance",
           "offsetgroup": "Financial & Insurance",
           "orientation": "v",
           "showlegend": true,
           "textposition": "auto",
           "type": "bar",
           "x": [
            "Financial & Insurance"
           ],
           "xaxis": "x",
           "y": [
            1525
           ],
           "yaxis": "y"
          },
          {
           "alignmentgroup": "True",
           "hovertemplate": "Industry=%{x}<br>Year-Month=2020-06<br>Sum=%{y}<extra></extra>",
           "ids": [
            "Health & Social Work"
           ],
           "legendgroup": "Health & Social Work",
           "marker": {
            "color": "#636efa",
            "pattern": {
             "shape": ""
            }
           },
           "name": "Health & Social Work",
           "offsetgroup": "Health & Social Work",
           "orientation": "v",
           "showlegend": true,
           "textposition": "auto",
           "type": "bar",
           "x": [
            "Health & Social Work"
           ],
           "xaxis": "x",
           "y": [
            1585
           ],
           "yaxis": "y"
          },
          {
           "alignmentgroup": "True",
           "hovertemplate": "Industry=%{x}<br>Year-Month=2020-06<br>Sum=%{y}<extra></extra>",
           "ids": [
            "Households as Employers"
           ],
           "legendgroup": "Households as Employers",
           "marker": {
            "color": "#EF553B",
            "pattern": {
             "shape": ""
            }
           },
           "name": "Households as Employers",
           "offsetgroup": "Households as Employers",
           "orientation": "v",
           "showlegend": true,
           "textposition": "auto",
           "type": "bar",
           "x": [
            "Households as Employers"
           ],
           "xaxis": "x",
           "y": [
            508
           ],
           "yaxis": "y"
          },
          {
           "alignmentgroup": "True",
           "hovertemplate": "Industry=%{x}<br>Year-Month=2020-06<br>Sum=%{y}<extra></extra>",
           "ids": [
            "Information & Communication"
           ],
           "legendgroup": "Information & Communication",
           "marker": {
            "color": "#00cc96",
            "pattern": {
             "shape": ""
            }
           },
           "name": "Information & Communication",
           "offsetgroup": "Information & Communication",
           "orientation": "v",
           "showlegend": true,
           "textposition": "auto",
           "type": "bar",
           "x": [
            "Information & Communication"
           ],
           "xaxis": "x",
           "y": [
            3417
           ],
           "yaxis": "y"
          },
          {
           "alignmentgroup": "True",
           "hovertemplate": "Industry=%{x}<br>Year-Month=2020-06<br>Sum=%{y}<extra></extra>",
           "ids": [
            "Manufacturing"
           ],
           "legendgroup": "Manufacturing",
           "marker": {
            "color": "#ab63fa",
            "pattern": {
             "shape": ""
            }
           },
           "name": "Manufacturing",
           "offsetgroup": "Manufacturing",
           "orientation": "v",
           "showlegend": true,
           "textposition": "auto",
           "type": "bar",
           "x": [
            "Manufacturing"
           ],
           "xaxis": "x",
           "y": [
            1916
           ],
           "yaxis": "y"
          },
          {
           "alignmentgroup": "True",
           "hovertemplate": "Industry=%{x}<br>Year-Month=2020-06<br>Sum=%{y}<extra></extra>",
           "ids": [
            "Mining & Quarrying"
           ],
           "legendgroup": "Mining & Quarrying",
           "marker": {
            "color": "#FFA15A",
            "pattern": {
             "shape": ""
            }
           },
           "name": "Mining & Quarrying",
           "offsetgroup": "Mining & Quarrying",
           "orientation": "v",
           "showlegend": true,
           "textposition": "auto",
           "type": "bar",
           "x": [
            "Mining & Quarrying"
           ],
           "xaxis": "x",
           "y": [
            57
           ],
           "yaxis": "y"
          },
          {
           "alignmentgroup": "True",
           "hovertemplate": "Industry=%{x}<br>Year-Month=2020-06<br>Sum=%{y}<extra></extra>",
           "ids": [
            "Other Services"
           ],
           "legendgroup": "Other Services",
           "marker": {
            "color": "#19d3f3",
            "pattern": {
             "shape": ""
            }
           },
           "name": "Other Services",
           "offsetgroup": "Other Services",
           "orientation": "v",
           "showlegend": true,
           "textposition": "auto",
           "type": "bar",
           "x": [
            "Other Services"
           ],
           "xaxis": "x",
           "y": [
            2261
           ],
           "yaxis": "y"
          },
          {
           "alignmentgroup": "True",
           "hovertemplate": "Industry=%{x}<br>Year-Month=2020-06<br>Sum=%{y}<extra></extra>",
           "ids": [
            "Professional, Scientific & Technical"
           ],
           "legendgroup": "Professional, Scientific & Technical",
           "marker": {
            "color": "#FF6692",
            "pattern": {
             "shape": ""
            }
           },
           "name": "Professional, Scientific & Technical",
           "offsetgroup": "Professional, Scientific & Technical",
           "orientation": "v",
           "showlegend": true,
           "textposition": "auto",
           "type": "bar",
           "x": [
            "Professional, Scientific & Technical"
           ],
           "xaxis": "x",
           "y": [
            4825
           ],
           "yaxis": "y"
          },
          {
           "alignmentgroup": "True",
           "hovertemplate": "Industry=%{x}<br>Year-Month=2020-06<br>Sum=%{y}<extra></extra>",
           "ids": [
            "Real Estate"
           ],
           "legendgroup": "Real Estate",
           "marker": {
            "color": "#B6E880",
            "pattern": {
             "shape": ""
            }
           },
           "name": "Real Estate",
           "offsetgroup": "Real Estate",
           "orientation": "v",
           "showlegend": true,
           "textposition": "auto",
           "type": "bar",
           "x": [
            "Real Estate"
           ],
           "xaxis": "x",
           "y": [
            4306
           ],
           "yaxis": "y"
          },
          {
           "alignmentgroup": "True",
           "hovertemplate": "Industry=%{x}<br>Year-Month=2020-06<br>Sum=%{y}<extra></extra>",
           "ids": [
            "Transportation & Storage"
           ],
           "legendgroup": "Transportation & Storage",
           "marker": {
            "color": "#FF97FF",
            "pattern": {
             "shape": ""
            }
           },
           "name": "Transportation & Storage",
           "offsetgroup": "Transportation & Storage",
           "orientation": "v",
           "showlegend": true,
           "textposition": "auto",
           "type": "bar",
           "x": [
            "Transportation & Storage"
           ],
           "xaxis": "x",
           "y": [
            1529
           ],
           "yaxis": "y"
          },
          {
           "alignmentgroup": "True",
           "hovertemplate": "Industry=%{x}<br>Year-Month=2020-06<br>Sum=%{y}<extra></extra>",
           "ids": [
            "Water Supply, Sewerage, Waste Management"
           ],
           "legendgroup": "Water Supply, Sewerage, Waste Management",
           "marker": {
            "color": "#FECB52",
            "pattern": {
             "shape": ""
            }
           },
           "name": "Water Supply, Sewerage, Waste Management",
           "offsetgroup": "Water Supply, Sewerage, Waste Management",
           "orientation": "v",
           "showlegend": true,
           "textposition": "auto",
           "type": "bar",
           "x": [
            "Water Supply, Sewerage, Waste Management"
           ],
           "xaxis": "x",
           "y": [
            147
           ],
           "yaxis": "y"
          },
          {
           "alignmentgroup": "True",
           "hovertemplate": "Industry=%{x}<br>Year-Month=2020-06<br>Sum=%{y}<extra></extra>",
           "ids": [
            "Wholesale & Retail"
           ],
           "legendgroup": "Wholesale & Retail",
           "marker": {
            "color": "#636efa",
            "pattern": {
             "shape": ""
            }
           },
           "name": "Wholesale & Retail",
           "offsetgroup": "Wholesale & Retail",
           "orientation": "v",
           "showlegend": true,
           "textposition": "auto",
           "type": "bar",
           "x": [
            "Wholesale & Retail"
           ],
           "xaxis": "x",
           "y": [
            8213
           ],
           "yaxis": "y"
          }
         ],
         "name": "2020-06"
        },
        {
         "data": [
          {
           "alignmentgroup": "True",
           "hovertemplate": "Industry=%{x}<br>Year-Month=2020-07<br>Sum=%{y}<extra></extra>",
           "ids": [
            "Accommodation & Food"
           ],
           "legendgroup": "Accommodation & Food",
           "marker": {
            "color": "#636efa",
            "pattern": {
             "shape": ""
            }
           },
           "name": "Accommodation & Food",
           "offsetgroup": "Accommodation & Food",
           "orientation": "v",
           "showlegend": true,
           "textposition": "auto",
           "type": "bar",
           "x": [
            "Accommodation & Food"
           ],
           "xaxis": "x",
           "y": [
            3196
           ],
           "yaxis": "y"
          },
          {
           "alignmentgroup": "True",
           "hovertemplate": "Industry=%{x}<br>Year-Month=2020-07<br>Sum=%{y}<extra></extra>",
           "ids": [
            "Administration & Security"
           ],
           "legendgroup": "Administration & Security",
           "marker": {
            "color": "#EF553B",
            "pattern": {
             "shape": ""
            }
           },
           "name": "Administration & Security",
           "offsetgroup": "Administration & Security",
           "orientation": "v",
           "showlegend": true,
           "textposition": "auto",
           "type": "bar",
           "x": [
            "Administration & Security"
           ],
           "xaxis": "x",
           "y": [
            129
           ],
           "yaxis": "y"
          },
          {
           "alignmentgroup": "True",
           "hovertemplate": "Industry=%{x}<br>Year-Month=2020-07<br>Sum=%{y}<extra></extra>",
           "ids": [
            "Administrative Servives"
           ],
           "legendgroup": "Administrative Servives",
           "marker": {
            "color": "#00cc96",
            "pattern": {
             "shape": ""
            }
           },
           "name": "Administrative Servives",
           "offsetgroup": "Administrative Servives",
           "orientation": "v",
           "showlegend": true,
           "textposition": "auto",
           "type": "bar",
           "x": [
            "Administrative Servives"
           ],
           "xaxis": "x",
           "y": [
            3555
           ],
           "yaxis": "y"
          },
          {
           "alignmentgroup": "True",
           "hovertemplate": "Industry=%{x}<br>Year-Month=2020-07<br>Sum=%{y}<extra></extra>",
           "ids": [
            "Agriculture, Forestry & Fishing"
           ],
           "legendgroup": "Agriculture, Forestry & Fishing",
           "marker": {
            "color": "#ab63fa",
            "pattern": {
             "shape": ""
            }
           },
           "name": "Agriculture, Forestry & Fishing",
           "offsetgroup": "Agriculture, Forestry & Fishing",
           "orientation": "v",
           "showlegend": true,
           "textposition": "auto",
           "type": "bar",
           "x": [
            "Agriculture, Forestry & Fishing"
           ],
           "xaxis": "x",
           "y": [
            303
           ],
           "yaxis": "y"
          },
          {
           "alignmentgroup": "True",
           "hovertemplate": "Industry=%{x}<br>Year-Month=2020-07<br>Sum=%{y}<extra></extra>",
           "ids": [
            "Arts & Entertainment"
           ],
           "legendgroup": "Arts & Entertainment",
           "marker": {
            "color": "#FFA15A",
            "pattern": {
             "shape": ""
            }
           },
           "name": "Arts & Entertainment",
           "offsetgroup": "Arts & Entertainment",
           "orientation": "v",
           "showlegend": true,
           "textposition": "auto",
           "type": "bar",
           "x": [
            "Arts & Entertainment"
           ],
           "xaxis": "x",
           "y": [
            984
           ],
           "yaxis": "y"
          },
          {
           "alignmentgroup": "True",
           "hovertemplate": "Industry=%{x}<br>Year-Month=2020-07<br>Sum=%{y}<extra></extra>",
           "ids": [
            "Construction"
           ],
           "legendgroup": "Construction",
           "marker": {
            "color": "#19d3f3",
            "pattern": {
             "shape": ""
            }
           },
           "name": "Construction",
           "offsetgroup": "Construction",
           "orientation": "v",
           "showlegend": true,
           "textposition": "auto",
           "type": "bar",
           "x": [
            "Construction"
           ],
           "xaxis": "x",
           "y": [
            4872
           ],
           "yaxis": "y"
          },
          {
           "alignmentgroup": "True",
           "hovertemplate": "Industry=%{x}<br>Year-Month=2020-07<br>Sum=%{y}<extra></extra>",
           "ids": [
            "Education"
           ],
           "legendgroup": "Education",
           "marker": {
            "color": "#FF6692",
            "pattern": {
             "shape": ""
            }
           },
           "name": "Education",
           "offsetgroup": "Education",
           "orientation": "v",
           "showlegend": true,
           "textposition": "auto",
           "type": "bar",
           "x": [
            "Education"
           ],
           "xaxis": "x",
           "y": [
            970
           ],
           "yaxis": "y"
          },
          {
           "alignmentgroup": "True",
           "hovertemplate": "Industry=%{x}<br>Year-Month=2020-07<br>Sum=%{y}<extra></extra>",
           "ids": [
            "Energy Supply"
           ],
           "legendgroup": "Energy Supply",
           "marker": {
            "color": "#B6E880",
            "pattern": {
             "shape": ""
            }
           },
           "name": "Energy Supply",
           "offsetgroup": "Energy Supply",
           "orientation": "v",
           "showlegend": true,
           "textposition": "auto",
           "type": "bar",
           "x": [
            "Energy Supply"
           ],
           "xaxis": "x",
           "y": [
            129
           ],
           "yaxis": "y"
          },
          {
           "alignmentgroup": "True",
           "hovertemplate": "Industry=%{x}<br>Year-Month=2020-07<br>Sum=%{y}<extra></extra>",
           "ids": [
            "Extraterritorial Organisations"
           ],
           "legendgroup": "Extraterritorial Organisations",
           "marker": {
            "color": "#FF97FF",
            "pattern": {
             "shape": ""
            }
           },
           "name": "Extraterritorial Organisations",
           "offsetgroup": "Extraterritorial Organisations",
           "orientation": "v",
           "showlegend": true,
           "textposition": "auto",
           "type": "bar",
           "x": [
            "Extraterritorial Organisations"
           ],
           "xaxis": "x",
           "y": [
            970
           ],
           "yaxis": "y"
          },
          {
           "alignmentgroup": "True",
           "hovertemplate": "Industry=%{x}<br>Year-Month=2020-07<br>Sum=%{y}<extra></extra>",
           "ids": [
            "Financial & Insurance"
           ],
           "legendgroup": "Financial & Insurance",
           "marker": {
            "color": "#FECB52",
            "pattern": {
             "shape": ""
            }
           },
           "name": "Financial & Insurance",
           "offsetgroup": "Financial & Insurance",
           "orientation": "v",
           "showlegend": true,
           "textposition": "auto",
           "type": "bar",
           "x": [
            "Financial & Insurance"
           ],
           "xaxis": "x",
           "y": [
            1752
           ],
           "yaxis": "y"
          },
          {
           "alignmentgroup": "True",
           "hovertemplate": "Industry=%{x}<br>Year-Month=2020-07<br>Sum=%{y}<extra></extra>",
           "ids": [
            "Health & Social Work"
           ],
           "legendgroup": "Health & Social Work",
           "marker": {
            "color": "#636efa",
            "pattern": {
             "shape": ""
            }
           },
           "name": "Health & Social Work",
           "offsetgroup": "Health & Social Work",
           "orientation": "v",
           "showlegend": true,
           "textposition": "auto",
           "type": "bar",
           "x": [
            "Health & Social Work"
           ],
           "xaxis": "x",
           "y": [
            1690
           ],
           "yaxis": "y"
          },
          {
           "alignmentgroup": "True",
           "hovertemplate": "Industry=%{x}<br>Year-Month=2020-07<br>Sum=%{y}<extra></extra>",
           "ids": [
            "Households as Employers"
           ],
           "legendgroup": "Households as Employers",
           "marker": {
            "color": "#EF553B",
            "pattern": {
             "shape": ""
            }
           },
           "name": "Households as Employers",
           "offsetgroup": "Households as Employers",
           "orientation": "v",
           "showlegend": true,
           "textposition": "auto",
           "type": "bar",
           "x": [
            "Households as Employers"
           ],
           "xaxis": "x",
           "y": [
            562
           ],
           "yaxis": "y"
          },
          {
           "alignmentgroup": "True",
           "hovertemplate": "Industry=%{x}<br>Year-Month=2020-07<br>Sum=%{y}<extra></extra>",
           "ids": [
            "Information & Communication"
           ],
           "legendgroup": "Information & Communication",
           "marker": {
            "color": "#00cc96",
            "pattern": {
             "shape": ""
            }
           },
           "name": "Information & Communication",
           "offsetgroup": "Information & Communication",
           "orientation": "v",
           "showlegend": true,
           "textposition": "auto",
           "type": "bar",
           "x": [
            "Information & Communication"
           ],
           "xaxis": "x",
           "y": [
            3499
           ],
           "yaxis": "y"
          },
          {
           "alignmentgroup": "True",
           "hovertemplate": "Industry=%{x}<br>Year-Month=2020-07<br>Sum=%{y}<extra></extra>",
           "ids": [
            "Manufacturing"
           ],
           "legendgroup": "Manufacturing",
           "marker": {
            "color": "#ab63fa",
            "pattern": {
             "shape": ""
            }
           },
           "name": "Manufacturing",
           "offsetgroup": "Manufacturing",
           "orientation": "v",
           "showlegend": true,
           "textposition": "auto",
           "type": "bar",
           "x": [
            "Manufacturing"
           ],
           "xaxis": "x",
           "y": [
            2086
           ],
           "yaxis": "y"
          },
          {
           "alignmentgroup": "True",
           "hovertemplate": "Industry=%{x}<br>Year-Month=2020-07<br>Sum=%{y}<extra></extra>",
           "ids": [
            "Mining & Quarrying"
           ],
           "legendgroup": "Mining & Quarrying",
           "marker": {
            "color": "#FFA15A",
            "pattern": {
             "shape": ""
            }
           },
           "name": "Mining & Quarrying",
           "offsetgroup": "Mining & Quarrying",
           "orientation": "v",
           "showlegend": true,
           "textposition": "auto",
           "type": "bar",
           "x": [
            "Mining & Quarrying"
           ],
           "xaxis": "x",
           "y": [
            56
           ],
           "yaxis": "y"
          },
          {
           "alignmentgroup": "True",
           "hovertemplate": "Industry=%{x}<br>Year-Month=2020-07<br>Sum=%{y}<extra></extra>",
           "ids": [
            "Other Services"
           ],
           "legendgroup": "Other Services",
           "marker": {
            "color": "#19d3f3",
            "pattern": {
             "shape": ""
            }
           },
           "name": "Other Services",
           "offsetgroup": "Other Services",
           "orientation": "v",
           "showlegend": true,
           "textposition": "auto",
           "type": "bar",
           "x": [
            "Other Services"
           ],
           "xaxis": "x",
           "y": [
            2706
           ],
           "yaxis": "y"
          },
          {
           "alignmentgroup": "True",
           "hovertemplate": "Industry=%{x}<br>Year-Month=2020-07<br>Sum=%{y}<extra></extra>",
           "ids": [
            "Professional, Scientific & Technical"
           ],
           "legendgroup": "Professional, Scientific & Technical",
           "marker": {
            "color": "#FF6692",
            "pattern": {
             "shape": ""
            }
           },
           "name": "Professional, Scientific & Technical",
           "offsetgroup": "Professional, Scientific & Technical",
           "orientation": "v",
           "showlegend": true,
           "textposition": "auto",
           "type": "bar",
           "x": [
            "Professional, Scientific & Technical"
           ],
           "xaxis": "x",
           "y": [
            5275
           ],
           "yaxis": "y"
          },
          {
           "alignmentgroup": "True",
           "hovertemplate": "Industry=%{x}<br>Year-Month=2020-07<br>Sum=%{y}<extra></extra>",
           "ids": [
            "Real Estate"
           ],
           "legendgroup": "Real Estate",
           "marker": {
            "color": "#B6E880",
            "pattern": {
             "shape": ""
            }
           },
           "name": "Real Estate",
           "offsetgroup": "Real Estate",
           "orientation": "v",
           "showlegend": true,
           "textposition": "auto",
           "type": "bar",
           "x": [
            "Real Estate"
           ],
           "xaxis": "x",
           "y": [
            5267
           ],
           "yaxis": "y"
          },
          {
           "alignmentgroup": "True",
           "hovertemplate": "Industry=%{x}<br>Year-Month=2020-07<br>Sum=%{y}<extra></extra>",
           "ids": [
            "Transportation & Storage"
           ],
           "legendgroup": "Transportation & Storage",
           "marker": {
            "color": "#FF97FF",
            "pattern": {
             "shape": ""
            }
           },
           "name": "Transportation & Storage",
           "offsetgroup": "Transportation & Storage",
           "orientation": "v",
           "showlegend": true,
           "textposition": "auto",
           "type": "bar",
           "x": [
            "Transportation & Storage"
           ],
           "xaxis": "x",
           "y": [
            1686
           ],
           "yaxis": "y"
          },
          {
           "alignmentgroup": "True",
           "hovertemplate": "Industry=%{x}<br>Year-Month=2020-07<br>Sum=%{y}<extra></extra>",
           "ids": [
            "Water Supply, Sewerage, Waste Management"
           ],
           "legendgroup": "Water Supply, Sewerage, Waste Management",
           "marker": {
            "color": "#FECB52",
            "pattern": {
             "shape": ""
            }
           },
           "name": "Water Supply, Sewerage, Waste Management",
           "offsetgroup": "Water Supply, Sewerage, Waste Management",
           "orientation": "v",
           "showlegend": true,
           "textposition": "auto",
           "type": "bar",
           "x": [
            "Water Supply, Sewerage, Waste Management"
           ],
           "xaxis": "x",
           "y": [
            137
           ],
           "yaxis": "y"
          },
          {
           "alignmentgroup": "True",
           "hovertemplate": "Industry=%{x}<br>Year-Month=2020-07<br>Sum=%{y}<extra></extra>",
           "ids": [
            "Wholesale & Retail"
           ],
           "legendgroup": "Wholesale & Retail",
           "marker": {
            "color": "#636efa",
            "pattern": {
             "shape": ""
            }
           },
           "name": "Wholesale & Retail",
           "offsetgroup": "Wholesale & Retail",
           "orientation": "v",
           "showlegend": true,
           "textposition": "auto",
           "type": "bar",
           "x": [
            "Wholesale & Retail"
           ],
           "xaxis": "x",
           "y": [
            8542
           ],
           "yaxis": "y"
          }
         ],
         "name": "2020-07"
        },
        {
         "data": [
          {
           "alignmentgroup": "True",
           "hovertemplate": "Industry=%{x}<br>Year-Month=2020-08<br>Sum=%{y}<extra></extra>",
           "ids": [
            "Accommodation & Food"
           ],
           "legendgroup": "Accommodation & Food",
           "marker": {
            "color": "#636efa",
            "pattern": {
             "shape": ""
            }
           },
           "name": "Accommodation & Food",
           "offsetgroup": "Accommodation & Food",
           "orientation": "v",
           "showlegend": true,
           "textposition": "auto",
           "type": "bar",
           "x": [
            "Accommodation & Food"
           ],
           "xaxis": "x",
           "y": [
            2540
           ],
           "yaxis": "y"
          },
          {
           "alignmentgroup": "True",
           "hovertemplate": "Industry=%{x}<br>Year-Month=2020-08<br>Sum=%{y}<extra></extra>",
           "ids": [
            "Administration & Security"
           ],
           "legendgroup": "Administration & Security",
           "marker": {
            "color": "#EF553B",
            "pattern": {
             "shape": ""
            }
           },
           "name": "Administration & Security",
           "offsetgroup": "Administration & Security",
           "orientation": "v",
           "showlegend": true,
           "textposition": "auto",
           "type": "bar",
           "x": [
            "Administration & Security"
           ],
           "xaxis": "x",
           "y": [
            113
           ],
           "yaxis": "y"
          },
          {
           "alignmentgroup": "True",
           "hovertemplate": "Industry=%{x}<br>Year-Month=2020-08<br>Sum=%{y}<extra></extra>",
           "ids": [
            "Administrative Servives"
           ],
           "legendgroup": "Administrative Servives",
           "marker": {
            "color": "#00cc96",
            "pattern": {
             "shape": ""
            }
           },
           "name": "Administrative Servives",
           "offsetgroup": "Administrative Servives",
           "orientation": "v",
           "showlegend": true,
           "textposition": "auto",
           "type": "bar",
           "x": [
            "Administrative Servives"
           ],
           "xaxis": "x",
           "y": [
            2889
           ],
           "yaxis": "y"
          },
          {
           "alignmentgroup": "True",
           "hovertemplate": "Industry=%{x}<br>Year-Month=2020-08<br>Sum=%{y}<extra></extra>",
           "ids": [
            "Agriculture, Forestry & Fishing"
           ],
           "legendgroup": "Agriculture, Forestry & Fishing",
           "marker": {
            "color": "#ab63fa",
            "pattern": {
             "shape": ""
            }
           },
           "name": "Agriculture, Forestry & Fishing",
           "offsetgroup": "Agriculture, Forestry & Fishing",
           "orientation": "v",
           "showlegend": true,
           "textposition": "auto",
           "type": "bar",
           "x": [
            "Agriculture, Forestry & Fishing"
           ],
           "xaxis": "x",
           "y": [
            209
           ],
           "yaxis": "y"
          },
          {
           "alignmentgroup": "True",
           "hovertemplate": "Industry=%{x}<br>Year-Month=2020-08<br>Sum=%{y}<extra></extra>",
           "ids": [
            "Arts & Entertainment"
           ],
           "legendgroup": "Arts & Entertainment",
           "marker": {
            "color": "#FFA15A",
            "pattern": {
             "shape": ""
            }
           },
           "name": "Arts & Entertainment",
           "offsetgroup": "Arts & Entertainment",
           "orientation": "v",
           "showlegend": true,
           "textposition": "auto",
           "type": "bar",
           "x": [
            "Arts & Entertainment"
           ],
           "xaxis": "x",
           "y": [
            875
           ],
           "yaxis": "y"
          },
          {
           "alignmentgroup": "True",
           "hovertemplate": "Industry=%{x}<br>Year-Month=2020-08<br>Sum=%{y}<extra></extra>",
           "ids": [
            "Construction"
           ],
           "legendgroup": "Construction",
           "marker": {
            "color": "#19d3f3",
            "pattern": {
             "shape": ""
            }
           },
           "name": "Construction",
           "offsetgroup": "Construction",
           "orientation": "v",
           "showlegend": true,
           "textposition": "auto",
           "type": "bar",
           "x": [
            "Construction"
           ],
           "xaxis": "x",
           "y": [
            3985
           ],
           "yaxis": "y"
          },
          {
           "alignmentgroup": "True",
           "hovertemplate": "Industry=%{x}<br>Year-Month=2020-08<br>Sum=%{y}<extra></extra>",
           "ids": [
            "Education"
           ],
           "legendgroup": "Education",
           "marker": {
            "color": "#FF6692",
            "pattern": {
             "shape": ""
            }
           },
           "name": "Education",
           "offsetgroup": "Education",
           "orientation": "v",
           "showlegend": true,
           "textposition": "auto",
           "type": "bar",
           "x": [
            "Education"
           ],
           "xaxis": "x",
           "y": [
            823
           ],
           "yaxis": "y"
          },
          {
           "alignmentgroup": "True",
           "hovertemplate": "Industry=%{x}<br>Year-Month=2020-08<br>Sum=%{y}<extra></extra>",
           "ids": [
            "Energy Supply"
           ],
           "legendgroup": "Energy Supply",
           "marker": {
            "color": "#B6E880",
            "pattern": {
             "shape": ""
            }
           },
           "name": "Energy Supply",
           "offsetgroup": "Energy Supply",
           "orientation": "v",
           "showlegend": true,
           "textposition": "auto",
           "type": "bar",
           "x": [
            "Energy Supply"
           ],
           "xaxis": "x",
           "y": [
            80
           ],
           "yaxis": "y"
          },
          {
           "alignmentgroup": "True",
           "hovertemplate": "Industry=%{x}<br>Year-Month=2020-08<br>Sum=%{y}<extra></extra>",
           "ids": [
            "Extraterritorial Organisations"
           ],
           "legendgroup": "Extraterritorial Organisations",
           "marker": {
            "color": "#FF97FF",
            "pattern": {
             "shape": ""
            }
           },
           "name": "Extraterritorial Organisations",
           "offsetgroup": "Extraterritorial Organisations",
           "orientation": "v",
           "showlegend": true,
           "textposition": "auto",
           "type": "bar",
           "x": [
            "Extraterritorial Organisations"
           ],
           "xaxis": "x",
           "y": [
            751
           ],
           "yaxis": "y"
          },
          {
           "alignmentgroup": "True",
           "hovertemplate": "Industry=%{x}<br>Year-Month=2020-08<br>Sum=%{y}<extra></extra>",
           "ids": [
            "Financial & Insurance"
           ],
           "legendgroup": "Financial & Insurance",
           "marker": {
            "color": "#FECB52",
            "pattern": {
             "shape": ""
            }
           },
           "name": "Financial & Insurance",
           "offsetgroup": "Financial & Insurance",
           "orientation": "v",
           "showlegend": true,
           "textposition": "auto",
           "type": "bar",
           "x": [
            "Financial & Insurance"
           ],
           "xaxis": "x",
           "y": [
            1441
           ],
           "yaxis": "y"
          },
          {
           "alignmentgroup": "True",
           "hovertemplate": "Industry=%{x}<br>Year-Month=2020-08<br>Sum=%{y}<extra></extra>",
           "ids": [
            "Health & Social Work"
           ],
           "legendgroup": "Health & Social Work",
           "marker": {
            "color": "#636efa",
            "pattern": {
             "shape": ""
            }
           },
           "name": "Health & Social Work",
           "offsetgroup": "Health & Social Work",
           "orientation": "v",
           "showlegend": true,
           "textposition": "auto",
           "type": "bar",
           "x": [
            "Health & Social Work"
           ],
           "xaxis": "x",
           "y": [
            1455
           ],
           "yaxis": "y"
          },
          {
           "alignmentgroup": "True",
           "hovertemplate": "Industry=%{x}<br>Year-Month=2020-08<br>Sum=%{y}<extra></extra>",
           "ids": [
            "Households as Employers"
           ],
           "legendgroup": "Households as Employers",
           "marker": {
            "color": "#EF553B",
            "pattern": {
             "shape": ""
            }
           },
           "name": "Households as Employers",
           "offsetgroup": "Households as Employers",
           "orientation": "v",
           "showlegend": true,
           "textposition": "auto",
           "type": "bar",
           "x": [
            "Households as Employers"
           ],
           "xaxis": "x",
           "y": [
            446
           ],
           "yaxis": "y"
          },
          {
           "alignmentgroup": "True",
           "hovertemplate": "Industry=%{x}<br>Year-Month=2020-08<br>Sum=%{y}<extra></extra>",
           "ids": [
            "Information & Communication"
           ],
           "legendgroup": "Information & Communication",
           "marker": {
            "color": "#00cc96",
            "pattern": {
             "shape": ""
            }
           },
           "name": "Information & Communication",
           "offsetgroup": "Information & Communication",
           "orientation": "v",
           "showlegend": true,
           "textposition": "auto",
           "type": "bar",
           "x": [
            "Information & Communication"
           ],
           "xaxis": "x",
           "y": [
            2908
           ],
           "yaxis": "y"
          },
          {
           "alignmentgroup": "True",
           "hovertemplate": "Industry=%{x}<br>Year-Month=2020-08<br>Sum=%{y}<extra></extra>",
           "ids": [
            "Manufacturing"
           ],
           "legendgroup": "Manufacturing",
           "marker": {
            "color": "#ab63fa",
            "pattern": {
             "shape": ""
            }
           },
           "name": "Manufacturing",
           "offsetgroup": "Manufacturing",
           "orientation": "v",
           "showlegend": true,
           "textposition": "auto",
           "type": "bar",
           "x": [
            "Manufacturing"
           ],
           "xaxis": "x",
           "y": [
            1654
           ],
           "yaxis": "y"
          },
          {
           "alignmentgroup": "True",
           "hovertemplate": "Industry=%{x}<br>Year-Month=2020-08<br>Sum=%{y}<extra></extra>",
           "ids": [
            "Mining & Quarrying"
           ],
           "legendgroup": "Mining & Quarrying",
           "marker": {
            "color": "#FFA15A",
            "pattern": {
             "shape": ""
            }
           },
           "name": "Mining & Quarrying",
           "offsetgroup": "Mining & Quarrying",
           "orientation": "v",
           "showlegend": true,
           "textposition": "auto",
           "type": "bar",
           "x": [
            "Mining & Quarrying"
           ],
           "xaxis": "x",
           "y": [
            47
           ],
           "yaxis": "y"
          },
          {
           "alignmentgroup": "True",
           "hovertemplate": "Industry=%{x}<br>Year-Month=2020-08<br>Sum=%{y}<extra></extra>",
           "ids": [
            "Other Services"
           ],
           "legendgroup": "Other Services",
           "marker": {
            "color": "#19d3f3",
            "pattern": {
             "shape": ""
            }
           },
           "name": "Other Services",
           "offsetgroup": "Other Services",
           "orientation": "v",
           "showlegend": true,
           "textposition": "auto",
           "type": "bar",
           "x": [
            "Other Services"
           ],
           "xaxis": "x",
           "y": [
            2325
           ],
           "yaxis": "y"
          },
          {
           "alignmentgroup": "True",
           "hovertemplate": "Industry=%{x}<br>Year-Month=2020-08<br>Sum=%{y}<extra></extra>",
           "ids": [
            "Professional, Scientific & Technical"
           ],
           "legendgroup": "Professional, Scientific & Technical",
           "marker": {
            "color": "#FF6692",
            "pattern": {
             "shape": ""
            }
           },
           "name": "Professional, Scientific & Technical",
           "offsetgroup": "Professional, Scientific & Technical",
           "orientation": "v",
           "showlegend": true,
           "textposition": "auto",
           "type": "bar",
           "x": [
            "Professional, Scientific & Technical"
           ],
           "xaxis": "x",
           "y": [
            4255
           ],
           "yaxis": "y"
          },
          {
           "alignmentgroup": "True",
           "hovertemplate": "Industry=%{x}<br>Year-Month=2020-08<br>Sum=%{y}<extra></extra>",
           "ids": [
            "Real Estate"
           ],
           "legendgroup": "Real Estate",
           "marker": {
            "color": "#B6E880",
            "pattern": {
             "shape": ""
            }
           },
           "name": "Real Estate",
           "offsetgroup": "Real Estate",
           "orientation": "v",
           "showlegend": true,
           "textposition": "auto",
           "type": "bar",
           "x": [
            "Real Estate"
           ],
           "xaxis": "x",
           "y": [
            4198
           ],
           "yaxis": "y"
          },
          {
           "alignmentgroup": "True",
           "hovertemplate": "Industry=%{x}<br>Year-Month=2020-08<br>Sum=%{y}<extra></extra>",
           "ids": [
            "Transportation & Storage"
           ],
           "legendgroup": "Transportation & Storage",
           "marker": {
            "color": "#FF97FF",
            "pattern": {
             "shape": ""
            }
           },
           "name": "Transportation & Storage",
           "offsetgroup": "Transportation & Storage",
           "orientation": "v",
           "showlegend": true,
           "textposition": "auto",
           "type": "bar",
           "x": [
            "Transportation & Storage"
           ],
           "xaxis": "x",
           "y": [
            1404
           ],
           "yaxis": "y"
          },
          {
           "alignmentgroup": "True",
           "hovertemplate": "Industry=%{x}<br>Year-Month=2020-08<br>Sum=%{y}<extra></extra>",
           "ids": [
            "Water Supply, Sewerage, Waste Management"
           ],
           "legendgroup": "Water Supply, Sewerage, Waste Management",
           "marker": {
            "color": "#FECB52",
            "pattern": {
             "shape": ""
            }
           },
           "name": "Water Supply, Sewerage, Waste Management",
           "offsetgroup": "Water Supply, Sewerage, Waste Management",
           "orientation": "v",
           "showlegend": true,
           "textposition": "auto",
           "type": "bar",
           "x": [
            "Water Supply, Sewerage, Waste Management"
           ],
           "xaxis": "x",
           "y": [
            131
           ],
           "yaxis": "y"
          },
          {
           "alignmentgroup": "True",
           "hovertemplate": "Industry=%{x}<br>Year-Month=2020-08<br>Sum=%{y}<extra></extra>",
           "ids": [
            "Wholesale & Retail"
           ],
           "legendgroup": "Wholesale & Retail",
           "marker": {
            "color": "#636efa",
            "pattern": {
             "shape": ""
            }
           },
           "name": "Wholesale & Retail",
           "offsetgroup": "Wholesale & Retail",
           "orientation": "v",
           "showlegend": true,
           "textposition": "auto",
           "type": "bar",
           "x": [
            "Wholesale & Retail"
           ],
           "xaxis": "x",
           "y": [
            6874
           ],
           "yaxis": "y"
          }
         ],
         "name": "2020-08"
        },
        {
         "data": [
          {
           "alignmentgroup": "True",
           "hovertemplate": "Industry=%{x}<br>Year-Month=2020-09<br>Sum=%{y}<extra></extra>",
           "ids": [
            "Accommodation & Food"
           ],
           "legendgroup": "Accommodation & Food",
           "marker": {
            "color": "#636efa",
            "pattern": {
             "shape": ""
            }
           },
           "name": "Accommodation & Food",
           "offsetgroup": "Accommodation & Food",
           "orientation": "v",
           "showlegend": true,
           "textposition": "auto",
           "type": "bar",
           "x": [
            "Accommodation & Food"
           ],
           "xaxis": "x",
           "y": [
            3138
           ],
           "yaxis": "y"
          },
          {
           "alignmentgroup": "True",
           "hovertemplate": "Industry=%{x}<br>Year-Month=2020-09<br>Sum=%{y}<extra></extra>",
           "ids": [
            "Administration & Security"
           ],
           "legendgroup": "Administration & Security",
           "marker": {
            "color": "#EF553B",
            "pattern": {
             "shape": ""
            }
           },
           "name": "Administration & Security",
           "offsetgroup": "Administration & Security",
           "orientation": "v",
           "showlegend": true,
           "textposition": "auto",
           "type": "bar",
           "x": [
            "Administration & Security"
           ],
           "xaxis": "x",
           "y": [
            116
           ],
           "yaxis": "y"
          },
          {
           "alignmentgroup": "True",
           "hovertemplate": "Industry=%{x}<br>Year-Month=2020-09<br>Sum=%{y}<extra></extra>",
           "ids": [
            "Administrative Servives"
           ],
           "legendgroup": "Administrative Servives",
           "marker": {
            "color": "#00cc96",
            "pattern": {
             "shape": ""
            }
           },
           "name": "Administrative Servives",
           "offsetgroup": "Administrative Servives",
           "orientation": "v",
           "showlegend": true,
           "textposition": "auto",
           "type": "bar",
           "x": [
            "Administrative Servives"
           ],
           "xaxis": "x",
           "y": [
            3643
           ],
           "yaxis": "y"
          },
          {
           "alignmentgroup": "True",
           "hovertemplate": "Industry=%{x}<br>Year-Month=2020-09<br>Sum=%{y}<extra></extra>",
           "ids": [
            "Agriculture, Forestry & Fishing"
           ],
           "legendgroup": "Agriculture, Forestry & Fishing",
           "marker": {
            "color": "#ab63fa",
            "pattern": {
             "shape": ""
            }
           },
           "name": "Agriculture, Forestry & Fishing",
           "offsetgroup": "Agriculture, Forestry & Fishing",
           "orientation": "v",
           "showlegend": true,
           "textposition": "auto",
           "type": "bar",
           "x": [
            "Agriculture, Forestry & Fishing"
           ],
           "xaxis": "x",
           "y": [
            287
           ],
           "yaxis": "y"
          },
          {
           "alignmentgroup": "True",
           "hovertemplate": "Industry=%{x}<br>Year-Month=2020-09<br>Sum=%{y}<extra></extra>",
           "ids": [
            "Arts & Entertainment"
           ],
           "legendgroup": "Arts & Entertainment",
           "marker": {
            "color": "#FFA15A",
            "pattern": {
             "shape": ""
            }
           },
           "name": "Arts & Entertainment",
           "offsetgroup": "Arts & Entertainment",
           "orientation": "v",
           "showlegend": true,
           "textposition": "auto",
           "type": "bar",
           "x": [
            "Arts & Entertainment"
           ],
           "xaxis": "x",
           "y": [
            908
           ],
           "yaxis": "y"
          },
          {
           "alignmentgroup": "True",
           "hovertemplate": "Industry=%{x}<br>Year-Month=2020-09<br>Sum=%{y}<extra></extra>",
           "ids": [
            "Construction"
           ],
           "legendgroup": "Construction",
           "marker": {
            "color": "#19d3f3",
            "pattern": {
             "shape": ""
            }
           },
           "name": "Construction",
           "offsetgroup": "Construction",
           "orientation": "v",
           "showlegend": true,
           "textposition": "auto",
           "type": "bar",
           "x": [
            "Construction"
           ],
           "xaxis": "x",
           "y": [
            4899
           ],
           "yaxis": "y"
          },
          {
           "alignmentgroup": "True",
           "hovertemplate": "Industry=%{x}<br>Year-Month=2020-09<br>Sum=%{y}<extra></extra>",
           "ids": [
            "Education"
           ],
           "legendgroup": "Education",
           "marker": {
            "color": "#FF6692",
            "pattern": {
             "shape": ""
            }
           },
           "name": "Education",
           "offsetgroup": "Education",
           "orientation": "v",
           "showlegend": true,
           "textposition": "auto",
           "type": "bar",
           "x": [
            "Education"
           ],
           "xaxis": "x",
           "y": [
            892
           ],
           "yaxis": "y"
          },
          {
           "alignmentgroup": "True",
           "hovertemplate": "Industry=%{x}<br>Year-Month=2020-09<br>Sum=%{y}<extra></extra>",
           "ids": [
            "Energy Supply"
           ],
           "legendgroup": "Energy Supply",
           "marker": {
            "color": "#B6E880",
            "pattern": {
             "shape": ""
            }
           },
           "name": "Energy Supply",
           "offsetgroup": "Energy Supply",
           "orientation": "v",
           "showlegend": true,
           "textposition": "auto",
           "type": "bar",
           "x": [
            "Energy Supply"
           ],
           "xaxis": "x",
           "y": [
            143
           ],
           "yaxis": "y"
          },
          {
           "alignmentgroup": "True",
           "hovertemplate": "Industry=%{x}<br>Year-Month=2020-09<br>Sum=%{y}<extra></extra>",
           "ids": [
            "Extraterritorial Organisations"
           ],
           "legendgroup": "Extraterritorial Organisations",
           "marker": {
            "color": "#FF97FF",
            "pattern": {
             "shape": ""
            }
           },
           "name": "Extraterritorial Organisations",
           "offsetgroup": "Extraterritorial Organisations",
           "orientation": "v",
           "showlegend": true,
           "textposition": "auto",
           "type": "bar",
           "x": [
            "Extraterritorial Organisations"
           ],
           "xaxis": "x",
           "y": [
            824
           ],
           "yaxis": "y"
          },
          {
           "alignmentgroup": "True",
           "hovertemplate": "Industry=%{x}<br>Year-Month=2020-09<br>Sum=%{y}<extra></extra>",
           "ids": [
            "Financial & Insurance"
           ],
           "legendgroup": "Financial & Insurance",
           "marker": {
            "color": "#FECB52",
            "pattern": {
             "shape": ""
            }
           },
           "name": "Financial & Insurance",
           "offsetgroup": "Financial & Insurance",
           "orientation": "v",
           "showlegend": true,
           "textposition": "auto",
           "type": "bar",
           "x": [
            "Financial & Insurance"
           ],
           "xaxis": "x",
           "y": [
            1861
           ],
           "yaxis": "y"
          },
          {
           "alignmentgroup": "True",
           "hovertemplate": "Industry=%{x}<br>Year-Month=2020-09<br>Sum=%{y}<extra></extra>",
           "ids": [
            "Health & Social Work"
           ],
           "legendgroup": "Health & Social Work",
           "marker": {
            "color": "#636efa",
            "pattern": {
             "shape": ""
            }
           },
           "name": "Health & Social Work",
           "offsetgroup": "Health & Social Work",
           "orientation": "v",
           "showlegend": true,
           "textposition": "auto",
           "type": "bar",
           "x": [
            "Health & Social Work"
           ],
           "xaxis": "x",
           "y": [
            1709
           ],
           "yaxis": "y"
          },
          {
           "alignmentgroup": "True",
           "hovertemplate": "Industry=%{x}<br>Year-Month=2020-09<br>Sum=%{y}<extra></extra>",
           "ids": [
            "Households as Employers"
           ],
           "legendgroup": "Households as Employers",
           "marker": {
            "color": "#EF553B",
            "pattern": {
             "shape": ""
            }
           },
           "name": "Households as Employers",
           "offsetgroup": "Households as Employers",
           "orientation": "v",
           "showlegend": true,
           "textposition": "auto",
           "type": "bar",
           "x": [
            "Households as Employers"
           ],
           "xaxis": "x",
           "y": [
            510
           ],
           "yaxis": "y"
          },
          {
           "alignmentgroup": "True",
           "hovertemplate": "Industry=%{x}<br>Year-Month=2020-09<br>Sum=%{y}<extra></extra>",
           "ids": [
            "Information & Communication"
           ],
           "legendgroup": "Information & Communication",
           "marker": {
            "color": "#00cc96",
            "pattern": {
             "shape": ""
            }
           },
           "name": "Information & Communication",
           "offsetgroup": "Information & Communication",
           "orientation": "v",
           "showlegend": true,
           "textposition": "auto",
           "type": "bar",
           "x": [
            "Information & Communication"
           ],
           "xaxis": "x",
           "y": [
            3424
           ],
           "yaxis": "y"
          },
          {
           "alignmentgroup": "True",
           "hovertemplate": "Industry=%{x}<br>Year-Month=2020-09<br>Sum=%{y}<extra></extra>",
           "ids": [
            "Manufacturing"
           ],
           "legendgroup": "Manufacturing",
           "marker": {
            "color": "#ab63fa",
            "pattern": {
             "shape": ""
            }
           },
           "name": "Manufacturing",
           "offsetgroup": "Manufacturing",
           "orientation": "v",
           "showlegend": true,
           "textposition": "auto",
           "type": "bar",
           "x": [
            "Manufacturing"
           ],
           "xaxis": "x",
           "y": [
            1891
           ],
           "yaxis": "y"
          },
          {
           "alignmentgroup": "True",
           "hovertemplate": "Industry=%{x}<br>Year-Month=2020-09<br>Sum=%{y}<extra></extra>",
           "ids": [
            "Mining & Quarrying"
           ],
           "legendgroup": "Mining & Quarrying",
           "marker": {
            "color": "#FFA15A",
            "pattern": {
             "shape": ""
            }
           },
           "name": "Mining & Quarrying",
           "offsetgroup": "Mining & Quarrying",
           "orientation": "v",
           "showlegend": true,
           "textposition": "auto",
           "type": "bar",
           "x": [
            "Mining & Quarrying"
           ],
           "xaxis": "x",
           "y": [
            52
           ],
           "yaxis": "y"
          },
          {
           "alignmentgroup": "True",
           "hovertemplate": "Industry=%{x}<br>Year-Month=2020-09<br>Sum=%{y}<extra></extra>",
           "ids": [
            "Other Services"
           ],
           "legendgroup": "Other Services",
           "marker": {
            "color": "#19d3f3",
            "pattern": {
             "shape": ""
            }
           },
           "name": "Other Services",
           "offsetgroup": "Other Services",
           "orientation": "v",
           "showlegend": true,
           "textposition": "auto",
           "type": "bar",
           "x": [
            "Other Services"
           ],
           "xaxis": "x",
           "y": [
            2446
           ],
           "yaxis": "y"
          },
          {
           "alignmentgroup": "True",
           "hovertemplate": "Industry=%{x}<br>Year-Month=2020-09<br>Sum=%{y}<extra></extra>",
           "ids": [
            "Professional, Scientific & Technical"
           ],
           "legendgroup": "Professional, Scientific & Technical",
           "marker": {
            "color": "#FF6692",
            "pattern": {
             "shape": ""
            }
           },
           "name": "Professional, Scientific & Technical",
           "offsetgroup": "Professional, Scientific & Technical",
           "orientation": "v",
           "showlegend": true,
           "textposition": "auto",
           "type": "bar",
           "x": [
            "Professional, Scientific & Technical"
           ],
           "xaxis": "x",
           "y": [
            5228
           ],
           "yaxis": "y"
          },
          {
           "alignmentgroup": "True",
           "hovertemplate": "Industry=%{x}<br>Year-Month=2020-09<br>Sum=%{y}<extra></extra>",
           "ids": [
            "Real Estate"
           ],
           "legendgroup": "Real Estate",
           "marker": {
            "color": "#B6E880",
            "pattern": {
             "shape": ""
            }
           },
           "name": "Real Estate",
           "offsetgroup": "Real Estate",
           "orientation": "v",
           "showlegend": true,
           "textposition": "auto",
           "type": "bar",
           "x": [
            "Real Estate"
           ],
           "xaxis": "x",
           "y": [
            4790
           ],
           "yaxis": "y"
          },
          {
           "alignmentgroup": "True",
           "hovertemplate": "Industry=%{x}<br>Year-Month=2020-09<br>Sum=%{y}<extra></extra>",
           "ids": [
            "Transportation & Storage"
           ],
           "legendgroup": "Transportation & Storage",
           "marker": {
            "color": "#FF97FF",
            "pattern": {
             "shape": ""
            }
           },
           "name": "Transportation & Storage",
           "offsetgroup": "Transportation & Storage",
           "orientation": "v",
           "showlegend": true,
           "textposition": "auto",
           "type": "bar",
           "x": [
            "Transportation & Storage"
           ],
           "xaxis": "x",
           "y": [
            1955
           ],
           "yaxis": "y"
          },
          {
           "alignmentgroup": "True",
           "hovertemplate": "Industry=%{x}<br>Year-Month=2020-09<br>Sum=%{y}<extra></extra>",
           "ids": [
            "Water Supply, Sewerage, Waste Management"
           ],
           "legendgroup": "Water Supply, Sewerage, Waste Management",
           "marker": {
            "color": "#FECB52",
            "pattern": {
             "shape": ""
            }
           },
           "name": "Water Supply, Sewerage, Waste Management",
           "offsetgroup": "Water Supply, Sewerage, Waste Management",
           "orientation": "v",
           "showlegend": true,
           "textposition": "auto",
           "type": "bar",
           "x": [
            "Water Supply, Sewerage, Waste Management"
           ],
           "xaxis": "x",
           "y": [
            143
           ],
           "yaxis": "y"
          },
          {
           "alignmentgroup": "True",
           "hovertemplate": "Industry=%{x}<br>Year-Month=2020-09<br>Sum=%{y}<extra></extra>",
           "ids": [
            "Wholesale & Retail"
           ],
           "legendgroup": "Wholesale & Retail",
           "marker": {
            "color": "#636efa",
            "pattern": {
             "shape": ""
            }
           },
           "name": "Wholesale & Retail",
           "offsetgroup": "Wholesale & Retail",
           "orientation": "v",
           "showlegend": true,
           "textposition": "auto",
           "type": "bar",
           "x": [
            "Wholesale & Retail"
           ],
           "xaxis": "x",
           "y": [
            7850
           ],
           "yaxis": "y"
          }
         ],
         "name": "2020-09"
        },
        {
         "data": [
          {
           "alignmentgroup": "True",
           "hovertemplate": "Industry=%{x}<br>Year-Month=2020-10<br>Sum=%{y}<extra></extra>",
           "ids": [
            "Accommodation & Food"
           ],
           "legendgroup": "Accommodation & Food",
           "marker": {
            "color": "#636efa",
            "pattern": {
             "shape": ""
            }
           },
           "name": "Accommodation & Food",
           "offsetgroup": "Accommodation & Food",
           "orientation": "v",
           "showlegend": true,
           "textposition": "auto",
           "type": "bar",
           "x": [
            "Accommodation & Food"
           ],
           "xaxis": "x",
           "y": [
            2993
           ],
           "yaxis": "y"
          },
          {
           "alignmentgroup": "True",
           "hovertemplate": "Industry=%{x}<br>Year-Month=2020-10<br>Sum=%{y}<extra></extra>",
           "ids": [
            "Administration & Security"
           ],
           "legendgroup": "Administration & Security",
           "marker": {
            "color": "#EF553B",
            "pattern": {
             "shape": ""
            }
           },
           "name": "Administration & Security",
           "offsetgroup": "Administration & Security",
           "orientation": "v",
           "showlegend": true,
           "textposition": "auto",
           "type": "bar",
           "x": [
            "Administration & Security"
           ],
           "xaxis": "x",
           "y": [
            120
           ],
           "yaxis": "y"
          },
          {
           "alignmentgroup": "True",
           "hovertemplate": "Industry=%{x}<br>Year-Month=2020-10<br>Sum=%{y}<extra></extra>",
           "ids": [
            "Administrative Servives"
           ],
           "legendgroup": "Administrative Servives",
           "marker": {
            "color": "#00cc96",
            "pattern": {
             "shape": ""
            }
           },
           "name": "Administrative Servives",
           "offsetgroup": "Administrative Servives",
           "orientation": "v",
           "showlegend": true,
           "textposition": "auto",
           "type": "bar",
           "x": [
            "Administrative Servives"
           ],
           "xaxis": "x",
           "y": [
            3318
           ],
           "yaxis": "y"
          },
          {
           "alignmentgroup": "True",
           "hovertemplate": "Industry=%{x}<br>Year-Month=2020-10<br>Sum=%{y}<extra></extra>",
           "ids": [
            "Agriculture, Forestry & Fishing"
           ],
           "legendgroup": "Agriculture, Forestry & Fishing",
           "marker": {
            "color": "#ab63fa",
            "pattern": {
             "shape": ""
            }
           },
           "name": "Agriculture, Forestry & Fishing",
           "offsetgroup": "Agriculture, Forestry & Fishing",
           "orientation": "v",
           "showlegend": true,
           "textposition": "auto",
           "type": "bar",
           "x": [
            "Agriculture, Forestry & Fishing"
           ],
           "xaxis": "x",
           "y": [
            286
           ],
           "yaxis": "y"
          },
          {
           "alignmentgroup": "True",
           "hovertemplate": "Industry=%{x}<br>Year-Month=2020-10<br>Sum=%{y}<extra></extra>",
           "ids": [
            "Arts & Entertainment"
           ],
           "legendgroup": "Arts & Entertainment",
           "marker": {
            "color": "#FFA15A",
            "pattern": {
             "shape": ""
            }
           },
           "name": "Arts & Entertainment",
           "offsetgroup": "Arts & Entertainment",
           "orientation": "v",
           "showlegend": true,
           "textposition": "auto",
           "type": "bar",
           "x": [
            "Arts & Entertainment"
           ],
           "xaxis": "x",
           "y": [
            920
           ],
           "yaxis": "y"
          },
          {
           "alignmentgroup": "True",
           "hovertemplate": "Industry=%{x}<br>Year-Month=2020-10<br>Sum=%{y}<extra></extra>",
           "ids": [
            "Construction"
           ],
           "legendgroup": "Construction",
           "marker": {
            "color": "#19d3f3",
            "pattern": {
             "shape": ""
            }
           },
           "name": "Construction",
           "offsetgroup": "Construction",
           "orientation": "v",
           "showlegend": true,
           "textposition": "auto",
           "type": "bar",
           "x": [
            "Construction"
           ],
           "xaxis": "x",
           "y": [
            4949
           ],
           "yaxis": "y"
          },
          {
           "alignmentgroup": "True",
           "hovertemplate": "Industry=%{x}<br>Year-Month=2020-10<br>Sum=%{y}<extra></extra>",
           "ids": [
            "Education"
           ],
           "legendgroup": "Education",
           "marker": {
            "color": "#FF6692",
            "pattern": {
             "shape": ""
            }
           },
           "name": "Education",
           "offsetgroup": "Education",
           "orientation": "v",
           "showlegend": true,
           "textposition": "auto",
           "type": "bar",
           "x": [
            "Education"
           ],
           "xaxis": "x",
           "y": [
            924
           ],
           "yaxis": "y"
          },
          {
           "alignmentgroup": "True",
           "hovertemplate": "Industry=%{x}<br>Year-Month=2020-10<br>Sum=%{y}<extra></extra>",
           "ids": [
            "Energy Supply"
           ],
           "legendgroup": "Energy Supply",
           "marker": {
            "color": "#B6E880",
            "pattern": {
             "shape": ""
            }
           },
           "name": "Energy Supply",
           "offsetgroup": "Energy Supply",
           "orientation": "v",
           "showlegend": true,
           "textposition": "auto",
           "type": "bar",
           "x": [
            "Energy Supply"
           ],
           "xaxis": "x",
           "y": [
            122
           ],
           "yaxis": "y"
          },
          {
           "alignmentgroup": "True",
           "hovertemplate": "Industry=%{x}<br>Year-Month=2020-10<br>Sum=%{y}<extra></extra>",
           "ids": [
            "Extraterritorial Organisations"
           ],
           "legendgroup": "Extraterritorial Organisations",
           "marker": {
            "color": "#FF97FF",
            "pattern": {
             "shape": ""
            }
           },
           "name": "Extraterritorial Organisations",
           "offsetgroup": "Extraterritorial Organisations",
           "orientation": "v",
           "showlegend": true,
           "textposition": "auto",
           "type": "bar",
           "x": [
            "Extraterritorial Organisations"
           ],
           "xaxis": "x",
           "y": [
            1063
           ],
           "yaxis": "y"
          },
          {
           "alignmentgroup": "True",
           "hovertemplate": "Industry=%{x}<br>Year-Month=2020-10<br>Sum=%{y}<extra></extra>",
           "ids": [
            "Financial & Insurance"
           ],
           "legendgroup": "Financial & Insurance",
           "marker": {
            "color": "#FECB52",
            "pattern": {
             "shape": ""
            }
           },
           "name": "Financial & Insurance",
           "offsetgroup": "Financial & Insurance",
           "orientation": "v",
           "showlegend": true,
           "textposition": "auto",
           "type": "bar",
           "x": [
            "Financial & Insurance"
           ],
           "xaxis": "x",
           "y": [
            1874
           ],
           "yaxis": "y"
          },
          {
           "alignmentgroup": "True",
           "hovertemplate": "Industry=%{x}<br>Year-Month=2020-10<br>Sum=%{y}<extra></extra>",
           "ids": [
            "Health & Social Work"
           ],
           "legendgroup": "Health & Social Work",
           "marker": {
            "color": "#636efa",
            "pattern": {
             "shape": ""
            }
           },
           "name": "Health & Social Work",
           "offsetgroup": "Health & Social Work",
           "orientation": "v",
           "showlegend": true,
           "textposition": "auto",
           "type": "bar",
           "x": [
            "Health & Social Work"
           ],
           "xaxis": "x",
           "y": [
            1700
           ],
           "yaxis": "y"
          },
          {
           "alignmentgroup": "True",
           "hovertemplate": "Industry=%{x}<br>Year-Month=2020-10<br>Sum=%{y}<extra></extra>",
           "ids": [
            "Households as Employers"
           ],
           "legendgroup": "Households as Employers",
           "marker": {
            "color": "#EF553B",
            "pattern": {
             "shape": ""
            }
           },
           "name": "Households as Employers",
           "offsetgroup": "Households as Employers",
           "orientation": "v",
           "showlegend": true,
           "textposition": "auto",
           "type": "bar",
           "x": [
            "Households as Employers"
           ],
           "xaxis": "x",
           "y": [
            541
           ],
           "yaxis": "y"
          },
          {
           "alignmentgroup": "True",
           "hovertemplate": "Industry=%{x}<br>Year-Month=2020-10<br>Sum=%{y}<extra></extra>",
           "ids": [
            "Information & Communication"
           ],
           "legendgroup": "Information & Communication",
           "marker": {
            "color": "#00cc96",
            "pattern": {
             "shape": ""
            }
           },
           "name": "Information & Communication",
           "offsetgroup": "Information & Communication",
           "orientation": "v",
           "showlegend": true,
           "textposition": "auto",
           "type": "bar",
           "x": [
            "Information & Communication"
           ],
           "xaxis": "x",
           "y": [
            3473
           ],
           "yaxis": "y"
          },
          {
           "alignmentgroup": "True",
           "hovertemplate": "Industry=%{x}<br>Year-Month=2020-10<br>Sum=%{y}<extra></extra>",
           "ids": [
            "Manufacturing"
           ],
           "legendgroup": "Manufacturing",
           "marker": {
            "color": "#ab63fa",
            "pattern": {
             "shape": ""
            }
           },
           "name": "Manufacturing",
           "offsetgroup": "Manufacturing",
           "orientation": "v",
           "showlegend": true,
           "textposition": "auto",
           "type": "bar",
           "x": [
            "Manufacturing"
           ],
           "xaxis": "x",
           "y": [
            2047
           ],
           "yaxis": "y"
          },
          {
           "alignmentgroup": "True",
           "hovertemplate": "Industry=%{x}<br>Year-Month=2020-10<br>Sum=%{y}<extra></extra>",
           "ids": [
            "Mining & Quarrying"
           ],
           "legendgroup": "Mining & Quarrying",
           "marker": {
            "color": "#FFA15A",
            "pattern": {
             "shape": ""
            }
           },
           "name": "Mining & Quarrying",
           "offsetgroup": "Mining & Quarrying",
           "orientation": "v",
           "showlegend": true,
           "textposition": "auto",
           "type": "bar",
           "x": [
            "Mining & Quarrying"
           ],
           "xaxis": "x",
           "y": [
            69
           ],
           "yaxis": "y"
          },
          {
           "alignmentgroup": "True",
           "hovertemplate": "Industry=%{x}<br>Year-Month=2020-10<br>Sum=%{y}<extra></extra>",
           "ids": [
            "Other Services"
           ],
           "legendgroup": "Other Services",
           "marker": {
            "color": "#19d3f3",
            "pattern": {
             "shape": ""
            }
           },
           "name": "Other Services",
           "offsetgroup": "Other Services",
           "orientation": "v",
           "showlegend": true,
           "textposition": "auto",
           "type": "bar",
           "x": [
            "Other Services"
           ],
           "xaxis": "x",
           "y": [
            2216
           ],
           "yaxis": "y"
          },
          {
           "alignmentgroup": "True",
           "hovertemplate": "Industry=%{x}<br>Year-Month=2020-10<br>Sum=%{y}<extra></extra>",
           "ids": [
            "Professional, Scientific & Technical"
           ],
           "legendgroup": "Professional, Scientific & Technical",
           "marker": {
            "color": "#FF6692",
            "pattern": {
             "shape": ""
            }
           },
           "name": "Professional, Scientific & Technical",
           "offsetgroup": "Professional, Scientific & Technical",
           "orientation": "v",
           "showlegend": true,
           "textposition": "auto",
           "type": "bar",
           "x": [
            "Professional, Scientific & Technical"
           ],
           "xaxis": "x",
           "y": [
            5327
           ],
           "yaxis": "y"
          },
          {
           "alignmentgroup": "True",
           "hovertemplate": "Industry=%{x}<br>Year-Month=2020-10<br>Sum=%{y}<extra></extra>",
           "ids": [
            "Real Estate"
           ],
           "legendgroup": "Real Estate",
           "marker": {
            "color": "#B6E880",
            "pattern": {
             "shape": ""
            }
           },
           "name": "Real Estate",
           "offsetgroup": "Real Estate",
           "orientation": "v",
           "showlegend": true,
           "textposition": "auto",
           "type": "bar",
           "x": [
            "Real Estate"
           ],
           "xaxis": "x",
           "y": [
            4805
           ],
           "yaxis": "y"
          },
          {
           "alignmentgroup": "True",
           "hovertemplate": "Industry=%{x}<br>Year-Month=2020-10<br>Sum=%{y}<extra></extra>",
           "ids": [
            "Transportation & Storage"
           ],
           "legendgroup": "Transportation & Storage",
           "marker": {
            "color": "#FF97FF",
            "pattern": {
             "shape": ""
            }
           },
           "name": "Transportation & Storage",
           "offsetgroup": "Transportation & Storage",
           "orientation": "v",
           "showlegend": true,
           "textposition": "auto",
           "type": "bar",
           "x": [
            "Transportation & Storage"
           ],
           "xaxis": "x",
           "y": [
            1654
           ],
           "yaxis": "y"
          },
          {
           "alignmentgroup": "True",
           "hovertemplate": "Industry=%{x}<br>Year-Month=2020-10<br>Sum=%{y}<extra></extra>",
           "ids": [
            "Water Supply, Sewerage, Waste Management"
           ],
           "legendgroup": "Water Supply, Sewerage, Waste Management",
           "marker": {
            "color": "#FECB52",
            "pattern": {
             "shape": ""
            }
           },
           "name": "Water Supply, Sewerage, Waste Management",
           "offsetgroup": "Water Supply, Sewerage, Waste Management",
           "orientation": "v",
           "showlegend": true,
           "textposition": "auto",
           "type": "bar",
           "x": [
            "Water Supply, Sewerage, Waste Management"
           ],
           "xaxis": "x",
           "y": [
            140
           ],
           "yaxis": "y"
          },
          {
           "alignmentgroup": "True",
           "hovertemplate": "Industry=%{x}<br>Year-Month=2020-10<br>Sum=%{y}<extra></extra>",
           "ids": [
            "Wholesale & Retail"
           ],
           "legendgroup": "Wholesale & Retail",
           "marker": {
            "color": "#636efa",
            "pattern": {
             "shape": ""
            }
           },
           "name": "Wholesale & Retail",
           "offsetgroup": "Wholesale & Retail",
           "orientation": "v",
           "showlegend": true,
           "textposition": "auto",
           "type": "bar",
           "x": [
            "Wholesale & Retail"
           ],
           "xaxis": "x",
           "y": [
            7713
           ],
           "yaxis": "y"
          }
         ],
         "name": "2020-10"
        },
        {
         "data": [
          {
           "alignmentgroup": "True",
           "hovertemplate": "Industry=%{x}<br>Year-Month=2020-11<br>Sum=%{y}<extra></extra>",
           "ids": [
            "Accommodation & Food"
           ],
           "legendgroup": "Accommodation & Food",
           "marker": {
            "color": "#636efa",
            "pattern": {
             "shape": ""
            }
           },
           "name": "Accommodation & Food",
           "offsetgroup": "Accommodation & Food",
           "orientation": "v",
           "showlegend": true,
           "textposition": "auto",
           "type": "bar",
           "x": [
            "Accommodation & Food"
           ],
           "xaxis": "x",
           "y": [
            2513
           ],
           "yaxis": "y"
          },
          {
           "alignmentgroup": "True",
           "hovertemplate": "Industry=%{x}<br>Year-Month=2020-11<br>Sum=%{y}<extra></extra>",
           "ids": [
            "Administration & Security"
           ],
           "legendgroup": "Administration & Security",
           "marker": {
            "color": "#EF553B",
            "pattern": {
             "shape": ""
            }
           },
           "name": "Administration & Security",
           "offsetgroup": "Administration & Security",
           "orientation": "v",
           "showlegend": true,
           "textposition": "auto",
           "type": "bar",
           "x": [
            "Administration & Security"
           ],
           "xaxis": "x",
           "y": [
            155
           ],
           "yaxis": "y"
          },
          {
           "alignmentgroup": "True",
           "hovertemplate": "Industry=%{x}<br>Year-Month=2020-11<br>Sum=%{y}<extra></extra>",
           "ids": [
            "Administrative Servives"
           ],
           "legendgroup": "Administrative Servives",
           "marker": {
            "color": "#00cc96",
            "pattern": {
             "shape": ""
            }
           },
           "name": "Administrative Servives",
           "offsetgroup": "Administrative Servives",
           "orientation": "v",
           "showlegend": true,
           "textposition": "auto",
           "type": "bar",
           "x": [
            "Administrative Servives"
           ],
           "xaxis": "x",
           "y": [
            3148
           ],
           "yaxis": "y"
          },
          {
           "alignmentgroup": "True",
           "hovertemplate": "Industry=%{x}<br>Year-Month=2020-11<br>Sum=%{y}<extra></extra>",
           "ids": [
            "Agriculture, Forestry & Fishing"
           ],
           "legendgroup": "Agriculture, Forestry & Fishing",
           "marker": {
            "color": "#ab63fa",
            "pattern": {
             "shape": ""
            }
           },
           "name": "Agriculture, Forestry & Fishing",
           "offsetgroup": "Agriculture, Forestry & Fishing",
           "orientation": "v",
           "showlegend": true,
           "textposition": "auto",
           "type": "bar",
           "x": [
            "Agriculture, Forestry & Fishing"
           ],
           "xaxis": "x",
           "y": [
            256
           ],
           "yaxis": "y"
          },
          {
           "alignmentgroup": "True",
           "hovertemplate": "Industry=%{x}<br>Year-Month=2020-11<br>Sum=%{y}<extra></extra>",
           "ids": [
            "Arts & Entertainment"
           ],
           "legendgroup": "Arts & Entertainment",
           "marker": {
            "color": "#FFA15A",
            "pattern": {
             "shape": ""
            }
           },
           "name": "Arts & Entertainment",
           "offsetgroup": "Arts & Entertainment",
           "orientation": "v",
           "showlegend": true,
           "textposition": "auto",
           "type": "bar",
           "x": [
            "Arts & Entertainment"
           ],
           "xaxis": "x",
           "y": [
            841
           ],
           "yaxis": "y"
          },
          {
           "alignmentgroup": "True",
           "hovertemplate": "Industry=%{x}<br>Year-Month=2020-11<br>Sum=%{y}<extra></extra>",
           "ids": [
            "Construction"
           ],
           "legendgroup": "Construction",
           "marker": {
            "color": "#19d3f3",
            "pattern": {
             "shape": ""
            }
           },
           "name": "Construction",
           "offsetgroup": "Construction",
           "orientation": "v",
           "showlegend": true,
           "textposition": "auto",
           "type": "bar",
           "x": [
            "Construction"
           ],
           "xaxis": "x",
           "y": [
            4256
           ],
           "yaxis": "y"
          },
          {
           "alignmentgroup": "True",
           "hovertemplate": "Industry=%{x}<br>Year-Month=2020-11<br>Sum=%{y}<extra></extra>",
           "ids": [
            "Education"
           ],
           "legendgroup": "Education",
           "marker": {
            "color": "#FF6692",
            "pattern": {
             "shape": ""
            }
           },
           "name": "Education",
           "offsetgroup": "Education",
           "orientation": "v",
           "showlegend": true,
           "textposition": "auto",
           "type": "bar",
           "x": [
            "Education"
           ],
           "xaxis": "x",
           "y": [
            822
           ],
           "yaxis": "y"
          },
          {
           "alignmentgroup": "True",
           "hovertemplate": "Industry=%{x}<br>Year-Month=2020-11<br>Sum=%{y}<extra></extra>",
           "ids": [
            "Energy Supply"
           ],
           "legendgroup": "Energy Supply",
           "marker": {
            "color": "#B6E880",
            "pattern": {
             "shape": ""
            }
           },
           "name": "Energy Supply",
           "offsetgroup": "Energy Supply",
           "orientation": "v",
           "showlegend": true,
           "textposition": "auto",
           "type": "bar",
           "x": [
            "Energy Supply"
           ],
           "xaxis": "x",
           "y": [
            136
           ],
           "yaxis": "y"
          },
          {
           "alignmentgroup": "True",
           "hovertemplate": "Industry=%{x}<br>Year-Month=2020-11<br>Sum=%{y}<extra></extra>",
           "ids": [
            "Extraterritorial Organisations"
           ],
           "legendgroup": "Extraterritorial Organisations",
           "marker": {
            "color": "#FF97FF",
            "pattern": {
             "shape": ""
            }
           },
           "name": "Extraterritorial Organisations",
           "offsetgroup": "Extraterritorial Organisations",
           "orientation": "v",
           "showlegend": true,
           "textposition": "auto",
           "type": "bar",
           "x": [
            "Extraterritorial Organisations"
           ],
           "xaxis": "x",
           "y": [
            924
           ],
           "yaxis": "y"
          },
          {
           "alignmentgroup": "True",
           "hovertemplate": "Industry=%{x}<br>Year-Month=2020-11<br>Sum=%{y}<extra></extra>",
           "ids": [
            "Financial & Insurance"
           ],
           "legendgroup": "Financial & Insurance",
           "marker": {
            "color": "#FECB52",
            "pattern": {
             "shape": ""
            }
           },
           "name": "Financial & Insurance",
           "offsetgroup": "Financial & Insurance",
           "orientation": "v",
           "showlegend": true,
           "textposition": "auto",
           "type": "bar",
           "x": [
            "Financial & Insurance"
           ],
           "xaxis": "x",
           "y": [
            1667
           ],
           "yaxis": "y"
          },
          {
           "alignmentgroup": "True",
           "hovertemplate": "Industry=%{x}<br>Year-Month=2020-11<br>Sum=%{y}<extra></extra>",
           "ids": [
            "Health & Social Work"
           ],
           "legendgroup": "Health & Social Work",
           "marker": {
            "color": "#636efa",
            "pattern": {
             "shape": ""
            }
           },
           "name": "Health & Social Work",
           "offsetgroup": "Health & Social Work",
           "orientation": "v",
           "showlegend": true,
           "textposition": "auto",
           "type": "bar",
           "x": [
            "Health & Social Work"
           ],
           "xaxis": "x",
           "y": [
            1503
           ],
           "yaxis": "y"
          },
          {
           "alignmentgroup": "True",
           "hovertemplate": "Industry=%{x}<br>Year-Month=2020-11<br>Sum=%{y}<extra></extra>",
           "ids": [
            "Households as Employers"
           ],
           "legendgroup": "Households as Employers",
           "marker": {
            "color": "#EF553B",
            "pattern": {
             "shape": ""
            }
           },
           "name": "Households as Employers",
           "offsetgroup": "Households as Employers",
           "orientation": "v",
           "showlegend": true,
           "textposition": "auto",
           "type": "bar",
           "x": [
            "Households as Employers"
           ],
           "xaxis": "x",
           "y": [
            536
           ],
           "yaxis": "y"
          },
          {
           "alignmentgroup": "True",
           "hovertemplate": "Industry=%{x}<br>Year-Month=2020-11<br>Sum=%{y}<extra></extra>",
           "ids": [
            "Information & Communication"
           ],
           "legendgroup": "Information & Communication",
           "marker": {
            "color": "#00cc96",
            "pattern": {
             "shape": ""
            }
           },
           "name": "Information & Communication",
           "offsetgroup": "Information & Communication",
           "orientation": "v",
           "showlegend": true,
           "textposition": "auto",
           "type": "bar",
           "x": [
            "Information & Communication"
           ],
           "xaxis": "x",
           "y": [
            3129
           ],
           "yaxis": "y"
          },
          {
           "alignmentgroup": "True",
           "hovertemplate": "Industry=%{x}<br>Year-Month=2020-11<br>Sum=%{y}<extra></extra>",
           "ids": [
            "Manufacturing"
           ],
           "legendgroup": "Manufacturing",
           "marker": {
            "color": "#ab63fa",
            "pattern": {
             "shape": ""
            }
           },
           "name": "Manufacturing",
           "offsetgroup": "Manufacturing",
           "orientation": "v",
           "showlegend": true,
           "textposition": "auto",
           "type": "bar",
           "x": [
            "Manufacturing"
           ],
           "xaxis": "x",
           "y": [
            1712
           ],
           "yaxis": "y"
          },
          {
           "alignmentgroup": "True",
           "hovertemplate": "Industry=%{x}<br>Year-Month=2020-11<br>Sum=%{y}<extra></extra>",
           "ids": [
            "Mining & Quarrying"
           ],
           "legendgroup": "Mining & Quarrying",
           "marker": {
            "color": "#FFA15A",
            "pattern": {
             "shape": ""
            }
           },
           "name": "Mining & Quarrying",
           "offsetgroup": "Mining & Quarrying",
           "orientation": "v",
           "showlegend": true,
           "textposition": "auto",
           "type": "bar",
           "x": [
            "Mining & Quarrying"
           ],
           "xaxis": "x",
           "y": [
            55
           ],
           "yaxis": "y"
          },
          {
           "alignmentgroup": "True",
           "hovertemplate": "Industry=%{x}<br>Year-Month=2020-11<br>Sum=%{y}<extra></extra>",
           "ids": [
            "Other Services"
           ],
           "legendgroup": "Other Services",
           "marker": {
            "color": "#19d3f3",
            "pattern": {
             "shape": ""
            }
           },
           "name": "Other Services",
           "offsetgroup": "Other Services",
           "orientation": "v",
           "showlegend": true,
           "textposition": "auto",
           "type": "bar",
           "x": [
            "Other Services"
           ],
           "xaxis": "x",
           "y": [
            1938
           ],
           "yaxis": "y"
          },
          {
           "alignmentgroup": "True",
           "hovertemplate": "Industry=%{x}<br>Year-Month=2020-11<br>Sum=%{y}<extra></extra>",
           "ids": [
            "Professional, Scientific & Technical"
           ],
           "legendgroup": "Professional, Scientific & Technical",
           "marker": {
            "color": "#FF6692",
            "pattern": {
             "shape": ""
            }
           },
           "name": "Professional, Scientific & Technical",
           "offsetgroup": "Professional, Scientific & Technical",
           "orientation": "v",
           "showlegend": true,
           "textposition": "auto",
           "type": "bar",
           "x": [
            "Professional, Scientific & Technical"
           ],
           "xaxis": "x",
           "y": [
            4595
           ],
           "yaxis": "y"
          },
          {
           "alignmentgroup": "True",
           "hovertemplate": "Industry=%{x}<br>Year-Month=2020-11<br>Sum=%{y}<extra></extra>",
           "ids": [
            "Real Estate"
           ],
           "legendgroup": "Real Estate",
           "marker": {
            "color": "#B6E880",
            "pattern": {
             "shape": ""
            }
           },
           "name": "Real Estate",
           "offsetgroup": "Real Estate",
           "orientation": "v",
           "showlegend": true,
           "textposition": "auto",
           "type": "bar",
           "x": [
            "Real Estate"
           ],
           "xaxis": "x",
           "y": [
            4400
           ],
           "yaxis": "y"
          },
          {
           "alignmentgroup": "True",
           "hovertemplate": "Industry=%{x}<br>Year-Month=2020-11<br>Sum=%{y}<extra></extra>",
           "ids": [
            "Transportation & Storage"
           ],
           "legendgroup": "Transportation & Storage",
           "marker": {
            "color": "#FF97FF",
            "pattern": {
             "shape": ""
            }
           },
           "name": "Transportation & Storage",
           "offsetgroup": "Transportation & Storage",
           "orientation": "v",
           "showlegend": true,
           "textposition": "auto",
           "type": "bar",
           "x": [
            "Transportation & Storage"
           ],
           "xaxis": "x",
           "y": [
            1639
           ],
           "yaxis": "y"
          },
          {
           "alignmentgroup": "True",
           "hovertemplate": "Industry=%{x}<br>Year-Month=2020-11<br>Sum=%{y}<extra></extra>",
           "ids": [
            "Water Supply, Sewerage, Waste Management"
           ],
           "legendgroup": "Water Supply, Sewerage, Waste Management",
           "marker": {
            "color": "#FECB52",
            "pattern": {
             "shape": ""
            }
           },
           "name": "Water Supply, Sewerage, Waste Management",
           "offsetgroup": "Water Supply, Sewerage, Waste Management",
           "orientation": "v",
           "showlegend": true,
           "textposition": "auto",
           "type": "bar",
           "x": [
            "Water Supply, Sewerage, Waste Management"
           ],
           "xaxis": "x",
           "y": [
            128
           ],
           "yaxis": "y"
          },
          {
           "alignmentgroup": "True",
           "hovertemplate": "Industry=%{x}<br>Year-Month=2020-11<br>Sum=%{y}<extra></extra>",
           "ids": [
            "Wholesale & Retail"
           ],
           "legendgroup": "Wholesale & Retail",
           "marker": {
            "color": "#636efa",
            "pattern": {
             "shape": ""
            }
           },
           "name": "Wholesale & Retail",
           "offsetgroup": "Wholesale & Retail",
           "orientation": "v",
           "showlegend": true,
           "textposition": "auto",
           "type": "bar",
           "x": [
            "Wholesale & Retail"
           ],
           "xaxis": "x",
           "y": [
            7081
           ],
           "yaxis": "y"
          }
         ],
         "name": "2020-11"
        },
        {
         "data": [
          {
           "alignmentgroup": "True",
           "hovertemplate": "Industry=%{x}<br>Year-Month=2020-12<br>Sum=%{y}<extra></extra>",
           "ids": [
            "Accommodation & Food"
           ],
           "legendgroup": "Accommodation & Food",
           "marker": {
            "color": "#636efa",
            "pattern": {
             "shape": ""
            }
           },
           "name": "Accommodation & Food",
           "offsetgroup": "Accommodation & Food",
           "orientation": "v",
           "showlegend": true,
           "textposition": "auto",
           "type": "bar",
           "x": [
            "Accommodation & Food"
           ],
           "xaxis": "x",
           "y": [
            2027
           ],
           "yaxis": "y"
          },
          {
           "alignmentgroup": "True",
           "hovertemplate": "Industry=%{x}<br>Year-Month=2020-12<br>Sum=%{y}<extra></extra>",
           "ids": [
            "Administration & Security"
           ],
           "legendgroup": "Administration & Security",
           "marker": {
            "color": "#EF553B",
            "pattern": {
             "shape": ""
            }
           },
           "name": "Administration & Security",
           "offsetgroup": "Administration & Security",
           "orientation": "v",
           "showlegend": true,
           "textposition": "auto",
           "type": "bar",
           "x": [
            "Administration & Security"
           ],
           "xaxis": "x",
           "y": [
            105
           ],
           "yaxis": "y"
          },
          {
           "alignmentgroup": "True",
           "hovertemplate": "Industry=%{x}<br>Year-Month=2020-12<br>Sum=%{y}<extra></extra>",
           "ids": [
            "Administrative Servives"
           ],
           "legendgroup": "Administrative Servives",
           "marker": {
            "color": "#00cc96",
            "pattern": {
             "shape": ""
            }
           },
           "name": "Administrative Servives",
           "offsetgroup": "Administrative Servives",
           "orientation": "v",
           "showlegend": true,
           "textposition": "auto",
           "type": "bar",
           "x": [
            "Administrative Servives"
           ],
           "xaxis": "x",
           "y": [
            2276
           ],
           "yaxis": "y"
          },
          {
           "alignmentgroup": "True",
           "hovertemplate": "Industry=%{x}<br>Year-Month=2020-12<br>Sum=%{y}<extra></extra>",
           "ids": [
            "Agriculture, Forestry & Fishing"
           ],
           "legendgroup": "Agriculture, Forestry & Fishing",
           "marker": {
            "color": "#ab63fa",
            "pattern": {
             "shape": ""
            }
           },
           "name": "Agriculture, Forestry & Fishing",
           "offsetgroup": "Agriculture, Forestry & Fishing",
           "orientation": "v",
           "showlegend": true,
           "textposition": "auto",
           "type": "bar",
           "x": [
            "Agriculture, Forestry & Fishing"
           ],
           "xaxis": "x",
           "y": [
            224
           ],
           "yaxis": "y"
          },
          {
           "alignmentgroup": "True",
           "hovertemplate": "Industry=%{x}<br>Year-Month=2020-12<br>Sum=%{y}<extra></extra>",
           "ids": [
            "Arts & Entertainment"
           ],
           "legendgroup": "Arts & Entertainment",
           "marker": {
            "color": "#FFA15A",
            "pattern": {
             "shape": ""
            }
           },
           "name": "Arts & Entertainment",
           "offsetgroup": "Arts & Entertainment",
           "orientation": "v",
           "showlegend": true,
           "textposition": "auto",
           "type": "bar",
           "x": [
            "Arts & Entertainment"
           ],
           "xaxis": "x",
           "y": [
            698
           ],
           "yaxis": "y"
          },
          {
           "alignmentgroup": "True",
           "hovertemplate": "Industry=%{x}<br>Year-Month=2020-12<br>Sum=%{y}<extra></extra>",
           "ids": [
            "Construction"
           ],
           "legendgroup": "Construction",
           "marker": {
            "color": "#19d3f3",
            "pattern": {
             "shape": ""
            }
           },
           "name": "Construction",
           "offsetgroup": "Construction",
           "orientation": "v",
           "showlegend": true,
           "textposition": "auto",
           "type": "bar",
           "x": [
            "Construction"
           ],
           "xaxis": "x",
           "y": [
            3408
           ],
           "yaxis": "y"
          },
          {
           "alignmentgroup": "True",
           "hovertemplate": "Industry=%{x}<br>Year-Month=2020-12<br>Sum=%{y}<extra></extra>",
           "ids": [
            "Education"
           ],
           "legendgroup": "Education",
           "marker": {
            "color": "#FF6692",
            "pattern": {
             "shape": ""
            }
           },
           "name": "Education",
           "offsetgroup": "Education",
           "orientation": "v",
           "showlegend": true,
           "textposition": "auto",
           "type": "bar",
           "x": [
            "Education"
           ],
           "xaxis": "x",
           "y": [
            735
           ],
           "yaxis": "y"
          },
          {
           "alignmentgroup": "True",
           "hovertemplate": "Industry=%{x}<br>Year-Month=2020-12<br>Sum=%{y}<extra></extra>",
           "ids": [
            "Energy Supply"
           ],
           "legendgroup": "Energy Supply",
           "marker": {
            "color": "#B6E880",
            "pattern": {
             "shape": ""
            }
           },
           "name": "Energy Supply",
           "offsetgroup": "Energy Supply",
           "orientation": "v",
           "showlegend": true,
           "textposition": "auto",
           "type": "bar",
           "x": [
            "Energy Supply"
           ],
           "xaxis": "x",
           "y": [
            96
           ],
           "yaxis": "y"
          },
          {
           "alignmentgroup": "True",
           "hovertemplate": "Industry=%{x}<br>Year-Month=2020-12<br>Sum=%{y}<extra></extra>",
           "ids": [
            "Extraterritorial Organisations"
           ],
           "legendgroup": "Extraterritorial Organisations",
           "marker": {
            "color": "#FF97FF",
            "pattern": {
             "shape": ""
            }
           },
           "name": "Extraterritorial Organisations",
           "offsetgroup": "Extraterritorial Organisations",
           "orientation": "v",
           "showlegend": true,
           "textposition": "auto",
           "type": "bar",
           "x": [
            "Extraterritorial Organisations"
           ],
           "xaxis": "x",
           "y": [
            895
           ],
           "yaxis": "y"
          },
          {
           "alignmentgroup": "True",
           "hovertemplate": "Industry=%{x}<br>Year-Month=2020-12<br>Sum=%{y}<extra></extra>",
           "ids": [
            "Financial & Insurance"
           ],
           "legendgroup": "Financial & Insurance",
           "marker": {
            "color": "#FECB52",
            "pattern": {
             "shape": ""
            }
           },
           "name": "Financial & Insurance",
           "offsetgroup": "Financial & Insurance",
           "orientation": "v",
           "showlegend": true,
           "textposition": "auto",
           "type": "bar",
           "x": [
            "Financial & Insurance"
           ],
           "xaxis": "x",
           "y": [
            1463
           ],
           "yaxis": "y"
          },
          {
           "alignmentgroup": "True",
           "hovertemplate": "Industry=%{x}<br>Year-Month=2020-12<br>Sum=%{y}<extra></extra>",
           "ids": [
            "Health & Social Work"
           ],
           "legendgroup": "Health & Social Work",
           "marker": {
            "color": "#636efa",
            "pattern": {
             "shape": ""
            }
           },
           "name": "Health & Social Work",
           "offsetgroup": "Health & Social Work",
           "orientation": "v",
           "showlegend": true,
           "textposition": "auto",
           "type": "bar",
           "x": [
            "Health & Social Work"
           ],
           "xaxis": "x",
           "y": [
            1278
           ],
           "yaxis": "y"
          },
          {
           "alignmentgroup": "True",
           "hovertemplate": "Industry=%{x}<br>Year-Month=2020-12<br>Sum=%{y}<extra></extra>",
           "ids": [
            "Households as Employers"
           ],
           "legendgroup": "Households as Employers",
           "marker": {
            "color": "#EF553B",
            "pattern": {
             "shape": ""
            }
           },
           "name": "Households as Employers",
           "offsetgroup": "Households as Employers",
           "orientation": "v",
           "showlegend": true,
           "textposition": "auto",
           "type": "bar",
           "x": [
            "Households as Employers"
           ],
           "xaxis": "x",
           "y": [
            420
           ],
           "yaxis": "y"
          },
          {
           "alignmentgroup": "True",
           "hovertemplate": "Industry=%{x}<br>Year-Month=2020-12<br>Sum=%{y}<extra></extra>",
           "ids": [
            "Information & Communication"
           ],
           "legendgroup": "Information & Communication",
           "marker": {
            "color": "#00cc96",
            "pattern": {
             "shape": ""
            }
           },
           "name": "Information & Communication",
           "offsetgroup": "Information & Communication",
           "orientation": "v",
           "showlegend": true,
           "textposition": "auto",
           "type": "bar",
           "x": [
            "Information & Communication"
           ],
           "xaxis": "x",
           "y": [
            2760
           ],
           "yaxis": "y"
          },
          {
           "alignmentgroup": "True",
           "hovertemplate": "Industry=%{x}<br>Year-Month=2020-12<br>Sum=%{y}<extra></extra>",
           "ids": [
            "Manufacturing"
           ],
           "legendgroup": "Manufacturing",
           "marker": {
            "color": "#ab63fa",
            "pattern": {
             "shape": ""
            }
           },
           "name": "Manufacturing",
           "offsetgroup": "Manufacturing",
           "orientation": "v",
           "showlegend": true,
           "textposition": "auto",
           "type": "bar",
           "x": [
            "Manufacturing"
           ],
           "xaxis": "x",
           "y": [
            1564
           ],
           "yaxis": "y"
          },
          {
           "alignmentgroup": "True",
           "hovertemplate": "Industry=%{x}<br>Year-Month=2020-12<br>Sum=%{y}<extra></extra>",
           "ids": [
            "Mining & Quarrying"
           ],
           "legendgroup": "Mining & Quarrying",
           "marker": {
            "color": "#FFA15A",
            "pattern": {
             "shape": ""
            }
           },
           "name": "Mining & Quarrying",
           "offsetgroup": "Mining & Quarrying",
           "orientation": "v",
           "showlegend": true,
           "textposition": "auto",
           "type": "bar",
           "x": [
            "Mining & Quarrying"
           ],
           "xaxis": "x",
           "y": [
            49
           ],
           "yaxis": "y"
          },
          {
           "alignmentgroup": "True",
           "hovertemplate": "Industry=%{x}<br>Year-Month=2020-12<br>Sum=%{y}<extra></extra>",
           "ids": [
            "Other Services"
           ],
           "legendgroup": "Other Services",
           "marker": {
            "color": "#19d3f3",
            "pattern": {
             "shape": ""
            }
           },
           "name": "Other Services",
           "offsetgroup": "Other Services",
           "orientation": "v",
           "showlegend": true,
           "textposition": "auto",
           "type": "bar",
           "x": [
            "Other Services"
           ],
           "xaxis": "x",
           "y": [
            1636
           ],
           "yaxis": "y"
          },
          {
           "alignmentgroup": "True",
           "hovertemplate": "Industry=%{x}<br>Year-Month=2020-12<br>Sum=%{y}<extra></extra>",
           "ids": [
            "Professional, Scientific & Technical"
           ],
           "legendgroup": "Professional, Scientific & Technical",
           "marker": {
            "color": "#FF6692",
            "pattern": {
             "shape": ""
            }
           },
           "name": "Professional, Scientific & Technical",
           "offsetgroup": "Professional, Scientific & Technical",
           "orientation": "v",
           "showlegend": true,
           "textposition": "auto",
           "type": "bar",
           "x": [
            "Professional, Scientific & Technical"
           ],
           "xaxis": "x",
           "y": [
            3720
           ],
           "yaxis": "y"
          },
          {
           "alignmentgroup": "True",
           "hovertemplate": "Industry=%{x}<br>Year-Month=2020-12<br>Sum=%{y}<extra></extra>",
           "ids": [
            "Real Estate"
           ],
           "legendgroup": "Real Estate",
           "marker": {
            "color": "#B6E880",
            "pattern": {
             "shape": ""
            }
           },
           "name": "Real Estate",
           "offsetgroup": "Real Estate",
           "orientation": "v",
           "showlegend": true,
           "textposition": "auto",
           "type": "bar",
           "x": [
            "Real Estate"
           ],
           "xaxis": "x",
           "y": [
            3345
           ],
           "yaxis": "y"
          },
          {
           "alignmentgroup": "True",
           "hovertemplate": "Industry=%{x}<br>Year-Month=2020-12<br>Sum=%{y}<extra></extra>",
           "ids": [
            "Transportation & Storage"
           ],
           "legendgroup": "Transportation & Storage",
           "marker": {
            "color": "#FF97FF",
            "pattern": {
             "shape": ""
            }
           },
           "name": "Transportation & Storage",
           "offsetgroup": "Transportation & Storage",
           "orientation": "v",
           "showlegend": true,
           "textposition": "auto",
           "type": "bar",
           "x": [
            "Transportation & Storage"
           ],
           "xaxis": "x",
           "y": [
            1249
           ],
           "yaxis": "y"
          },
          {
           "alignmentgroup": "True",
           "hovertemplate": "Industry=%{x}<br>Year-Month=2020-12<br>Sum=%{y}<extra></extra>",
           "ids": [
            "Water Supply, Sewerage, Waste Management"
           ],
           "legendgroup": "Water Supply, Sewerage, Waste Management",
           "marker": {
            "color": "#FECB52",
            "pattern": {
             "shape": ""
            }
           },
           "name": "Water Supply, Sewerage, Waste Management",
           "offsetgroup": "Water Supply, Sewerage, Waste Management",
           "orientation": "v",
           "showlegend": true,
           "textposition": "auto",
           "type": "bar",
           "x": [
            "Water Supply, Sewerage, Waste Management"
           ],
           "xaxis": "x",
           "y": [
            101
           ],
           "yaxis": "y"
          },
          {
           "alignmentgroup": "True",
           "hovertemplate": "Industry=%{x}<br>Year-Month=2020-12<br>Sum=%{y}<extra></extra>",
           "ids": [
            "Wholesale & Retail"
           ],
           "legendgroup": "Wholesale & Retail",
           "marker": {
            "color": "#636efa",
            "pattern": {
             "shape": ""
            }
           },
           "name": "Wholesale & Retail",
           "offsetgroup": "Wholesale & Retail",
           "orientation": "v",
           "showlegend": true,
           "textposition": "auto",
           "type": "bar",
           "x": [
            "Wholesale & Retail"
           ],
           "xaxis": "x",
           "y": [
            6230
           ],
           "yaxis": "y"
          }
         ],
         "name": "2020-12"
        },
        {
         "data": [
          {
           "alignmentgroup": "True",
           "hovertemplate": "Industry=%{x}<br>Year-Month=2021-01<br>Sum=%{y}<extra></extra>",
           "ids": [
            "Accommodation & Food"
           ],
           "legendgroup": "Accommodation & Food",
           "marker": {
            "color": "#636efa",
            "pattern": {
             "shape": ""
            }
           },
           "name": "Accommodation & Food",
           "offsetgroup": "Accommodation & Food",
           "orientation": "v",
           "showlegend": true,
           "textposition": "auto",
           "type": "bar",
           "x": [
            "Accommodation & Food"
           ],
           "xaxis": "x",
           "y": [
            3112
           ],
           "yaxis": "y"
          },
          {
           "alignmentgroup": "True",
           "hovertemplate": "Industry=%{x}<br>Year-Month=2021-01<br>Sum=%{y}<extra></extra>",
           "ids": [
            "Administration & Security"
           ],
           "legendgroup": "Administration & Security",
           "marker": {
            "color": "#EF553B",
            "pattern": {
             "shape": ""
            }
           },
           "name": "Administration & Security",
           "offsetgroup": "Administration & Security",
           "orientation": "v",
           "showlegend": true,
           "textposition": "auto",
           "type": "bar",
           "x": [
            "Administration & Security"
           ],
           "xaxis": "x",
           "y": [
            143
           ],
           "yaxis": "y"
          },
          {
           "alignmentgroup": "True",
           "hovertemplate": "Industry=%{x}<br>Year-Month=2021-01<br>Sum=%{y}<extra></extra>",
           "ids": [
            "Administrative Servives"
           ],
           "legendgroup": "Administrative Servives",
           "marker": {
            "color": "#00cc96",
            "pattern": {
             "shape": ""
            }
           },
           "name": "Administrative Servives",
           "offsetgroup": "Administrative Servives",
           "orientation": "v",
           "showlegend": true,
           "textposition": "auto",
           "type": "bar",
           "x": [
            "Administrative Servives"
           ],
           "xaxis": "x",
           "y": [
            3748
           ],
           "yaxis": "y"
          },
          {
           "alignmentgroup": "True",
           "hovertemplate": "Industry=%{x}<br>Year-Month=2021-01<br>Sum=%{y}<extra></extra>",
           "ids": [
            "Agriculture, Forestry & Fishing"
           ],
           "legendgroup": "Agriculture, Forestry & Fishing",
           "marker": {
            "color": "#ab63fa",
            "pattern": {
             "shape": ""
            }
           },
           "name": "Agriculture, Forestry & Fishing",
           "offsetgroup": "Agriculture, Forestry & Fishing",
           "orientation": "v",
           "showlegend": true,
           "textposition": "auto",
           "type": "bar",
           "x": [
            "Agriculture, Forestry & Fishing"
           ],
           "xaxis": "x",
           "y": [
            339
           ],
           "yaxis": "y"
          },
          {
           "alignmentgroup": "True",
           "hovertemplate": "Industry=%{x}<br>Year-Month=2021-01<br>Sum=%{y}<extra></extra>",
           "ids": [
            "Arts & Entertainment"
           ],
           "legendgroup": "Arts & Entertainment",
           "marker": {
            "color": "#FFA15A",
            "pattern": {
             "shape": ""
            }
           },
           "name": "Arts & Entertainment",
           "offsetgroup": "Arts & Entertainment",
           "orientation": "v",
           "showlegend": true,
           "textposition": "auto",
           "type": "bar",
           "x": [
            "Arts & Entertainment"
           ],
           "xaxis": "x",
           "y": [
            1104
           ],
           "yaxis": "y"
          },
          {
           "alignmentgroup": "True",
           "hovertemplate": "Industry=%{x}<br>Year-Month=2021-01<br>Sum=%{y}<extra></extra>",
           "ids": [
            "Construction"
           ],
           "legendgroup": "Construction",
           "marker": {
            "color": "#19d3f3",
            "pattern": {
             "shape": ""
            }
           },
           "name": "Construction",
           "offsetgroup": "Construction",
           "orientation": "v",
           "showlegend": true,
           "textposition": "auto",
           "type": "bar",
           "x": [
            "Construction"
           ],
           "xaxis": "x",
           "y": [
            5468
           ],
           "yaxis": "y"
          },
          {
           "alignmentgroup": "True",
           "hovertemplate": "Industry=%{x}<br>Year-Month=2021-01<br>Sum=%{y}<extra></extra>",
           "ids": [
            "Education"
           ],
           "legendgroup": "Education",
           "marker": {
            "color": "#FF6692",
            "pattern": {
             "shape": ""
            }
           },
           "name": "Education",
           "offsetgroup": "Education",
           "orientation": "v",
           "showlegend": true,
           "textposition": "auto",
           "type": "bar",
           "x": [
            "Education"
           ],
           "xaxis": "x",
           "y": [
            1031
           ],
           "yaxis": "y"
          },
          {
           "alignmentgroup": "True",
           "hovertemplate": "Industry=%{x}<br>Year-Month=2021-01<br>Sum=%{y}<extra></extra>",
           "ids": [
            "Energy Supply"
           ],
           "legendgroup": "Energy Supply",
           "marker": {
            "color": "#B6E880",
            "pattern": {
             "shape": ""
            }
           },
           "name": "Energy Supply",
           "offsetgroup": "Energy Supply",
           "orientation": "v",
           "showlegend": true,
           "textposition": "auto",
           "type": "bar",
           "x": [
            "Energy Supply"
           ],
           "xaxis": "x",
           "y": [
            139
           ],
           "yaxis": "y"
          },
          {
           "alignmentgroup": "True",
           "hovertemplate": "Industry=%{x}<br>Year-Month=2021-01<br>Sum=%{y}<extra></extra>",
           "ids": [
            "Extraterritorial Organisations"
           ],
           "legendgroup": "Extraterritorial Organisations",
           "marker": {
            "color": "#FF97FF",
            "pattern": {
             "shape": ""
            }
           },
           "name": "Extraterritorial Organisations",
           "offsetgroup": "Extraterritorial Organisations",
           "orientation": "v",
           "showlegend": true,
           "textposition": "auto",
           "type": "bar",
           "x": [
            "Extraterritorial Organisations"
           ],
           "xaxis": "x",
           "y": [
            1298
           ],
           "yaxis": "y"
          },
          {
           "alignmentgroup": "True",
           "hovertemplate": "Industry=%{x}<br>Year-Month=2021-01<br>Sum=%{y}<extra></extra>",
           "ids": [
            "Financial & Insurance"
           ],
           "legendgroup": "Financial & Insurance",
           "marker": {
            "color": "#FECB52",
            "pattern": {
             "shape": ""
            }
           },
           "name": "Financial & Insurance",
           "offsetgroup": "Financial & Insurance",
           "orientation": "v",
           "showlegend": true,
           "textposition": "auto",
           "type": "bar",
           "x": [
            "Financial & Insurance"
           ],
           "xaxis": "x",
           "y": [
            2178
           ],
           "yaxis": "y"
          },
          {
           "alignmentgroup": "True",
           "hovertemplate": "Industry=%{x}<br>Year-Month=2021-01<br>Sum=%{y}<extra></extra>",
           "ids": [
            "Health & Social Work"
           ],
           "legendgroup": "Health & Social Work",
           "marker": {
            "color": "#636efa",
            "pattern": {
             "shape": ""
            }
           },
           "name": "Health & Social Work",
           "offsetgroup": "Health & Social Work",
           "orientation": "v",
           "showlegend": true,
           "textposition": "auto",
           "type": "bar",
           "x": [
            "Health & Social Work"
           ],
           "xaxis": "x",
           "y": [
            1956
           ],
           "yaxis": "y"
          },
          {
           "alignmentgroup": "True",
           "hovertemplate": "Industry=%{x}<br>Year-Month=2021-01<br>Sum=%{y}<extra></extra>",
           "ids": [
            "Households as Employers"
           ],
           "legendgroup": "Households as Employers",
           "marker": {
            "color": "#EF553B",
            "pattern": {
             "shape": ""
            }
           },
           "name": "Households as Employers",
           "offsetgroup": "Households as Employers",
           "orientation": "v",
           "showlegend": true,
           "textposition": "auto",
           "type": "bar",
           "x": [
            "Households as Employers"
           ],
           "xaxis": "x",
           "y": [
            582
           ],
           "yaxis": "y"
          },
          {
           "alignmentgroup": "True",
           "hovertemplate": "Industry=%{x}<br>Year-Month=2021-01<br>Sum=%{y}<extra></extra>",
           "ids": [
            "Information & Communication"
           ],
           "legendgroup": "Information & Communication",
           "marker": {
            "color": "#00cc96",
            "pattern": {
             "shape": ""
            }
           },
           "name": "Information & Communication",
           "offsetgroup": "Information & Communication",
           "orientation": "v",
           "showlegend": true,
           "textposition": "auto",
           "type": "bar",
           "x": [
            "Information & Communication"
           ],
           "xaxis": "x",
           "y": [
            4001
           ],
           "yaxis": "y"
          },
          {
           "alignmentgroup": "True",
           "hovertemplate": "Industry=%{x}<br>Year-Month=2021-01<br>Sum=%{y}<extra></extra>",
           "ids": [
            "Manufacturing"
           ],
           "legendgroup": "Manufacturing",
           "marker": {
            "color": "#ab63fa",
            "pattern": {
             "shape": ""
            }
           },
           "name": "Manufacturing",
           "offsetgroup": "Manufacturing",
           "orientation": "v",
           "showlegend": true,
           "textposition": "auto",
           "type": "bar",
           "x": [
            "Manufacturing"
           ],
           "xaxis": "x",
           "y": [
            2211
           ],
           "yaxis": "y"
          },
          {
           "alignmentgroup": "True",
           "hovertemplate": "Industry=%{x}<br>Year-Month=2021-01<br>Sum=%{y}<extra></extra>",
           "ids": [
            "Mining & Quarrying"
           ],
           "legendgroup": "Mining & Quarrying",
           "marker": {
            "color": "#FFA15A",
            "pattern": {
             "shape": ""
            }
           },
           "name": "Mining & Quarrying",
           "offsetgroup": "Mining & Quarrying",
           "orientation": "v",
           "showlegend": true,
           "textposition": "auto",
           "type": "bar",
           "x": [
            "Mining & Quarrying"
           ],
           "xaxis": "x",
           "y": [
            83
           ],
           "yaxis": "y"
          },
          {
           "alignmentgroup": "True",
           "hovertemplate": "Industry=%{x}<br>Year-Month=2021-01<br>Sum=%{y}<extra></extra>",
           "ids": [
            "Other Services"
           ],
           "legendgroup": "Other Services",
           "marker": {
            "color": "#19d3f3",
            "pattern": {
             "shape": ""
            }
           },
           "name": "Other Services",
           "offsetgroup": "Other Services",
           "orientation": "v",
           "showlegend": true,
           "textposition": "auto",
           "type": "bar",
           "x": [
            "Other Services"
           ],
           "xaxis": "x",
           "y": [
            2293
           ],
           "yaxis": "y"
          },
          {
           "alignmentgroup": "True",
           "hovertemplate": "Industry=%{x}<br>Year-Month=2021-01<br>Sum=%{y}<extra></extra>",
           "ids": [
            "Professional, Scientific & Technical"
           ],
           "legendgroup": "Professional, Scientific & Technical",
           "marker": {
            "color": "#FF6692",
            "pattern": {
             "shape": ""
            }
           },
           "name": "Professional, Scientific & Technical",
           "offsetgroup": "Professional, Scientific & Technical",
           "orientation": "v",
           "showlegend": true,
           "textposition": "auto",
           "type": "bar",
           "x": [
            "Professional, Scientific & Technical"
           ],
           "xaxis": "x",
           "y": [
            5389
           ],
           "yaxis": "y"
          },
          {
           "alignmentgroup": "True",
           "hovertemplate": "Industry=%{x}<br>Year-Month=2021-01<br>Sum=%{y}<extra></extra>",
           "ids": [
            "Real Estate"
           ],
           "legendgroup": "Real Estate",
           "marker": {
            "color": "#B6E880",
            "pattern": {
             "shape": ""
            }
           },
           "name": "Real Estate",
           "offsetgroup": "Real Estate",
           "orientation": "v",
           "showlegend": true,
           "textposition": "auto",
           "type": "bar",
           "x": [
            "Real Estate"
           ],
           "xaxis": "x",
           "y": [
            5294
           ],
           "yaxis": "y"
          },
          {
           "alignmentgroup": "True",
           "hovertemplate": "Industry=%{x}<br>Year-Month=2021-01<br>Sum=%{y}<extra></extra>",
           "ids": [
            "Transportation & Storage"
           ],
           "legendgroup": "Transportation & Storage",
           "marker": {
            "color": "#FF97FF",
            "pattern": {
             "shape": ""
            }
           },
           "name": "Transportation & Storage",
           "offsetgroup": "Transportation & Storage",
           "orientation": "v",
           "showlegend": true,
           "textposition": "auto",
           "type": "bar",
           "x": [
            "Transportation & Storage"
           ],
           "xaxis": "x",
           "y": [
            2156
           ],
           "yaxis": "y"
          },
          {
           "alignmentgroup": "True",
           "hovertemplate": "Industry=%{x}<br>Year-Month=2021-01<br>Sum=%{y}<extra></extra>",
           "ids": [
            "Water Supply, Sewerage, Waste Management"
           ],
           "legendgroup": "Water Supply, Sewerage, Waste Management",
           "marker": {
            "color": "#FECB52",
            "pattern": {
             "shape": ""
            }
           },
           "name": "Water Supply, Sewerage, Waste Management",
           "offsetgroup": "Water Supply, Sewerage, Waste Management",
           "orientation": "v",
           "showlegend": true,
           "textposition": "auto",
           "type": "bar",
           "x": [
            "Water Supply, Sewerage, Waste Management"
           ],
           "xaxis": "x",
           "y": [
            195
           ],
           "yaxis": "y"
          },
          {
           "alignmentgroup": "True",
           "hovertemplate": "Industry=%{x}<br>Year-Month=2021-01<br>Sum=%{y}<extra></extra>",
           "ids": [
            "Wholesale & Retail"
           ],
           "legendgroup": "Wholesale & Retail",
           "marker": {
            "color": "#636efa",
            "pattern": {
             "shape": ""
            }
           },
           "name": "Wholesale & Retail",
           "offsetgroup": "Wholesale & Retail",
           "orientation": "v",
           "showlegend": true,
           "textposition": "auto",
           "type": "bar",
           "x": [
            "Wholesale & Retail"
           ],
           "xaxis": "x",
           "y": [
            10238
           ],
           "yaxis": "y"
          }
         ],
         "name": "2021-01"
        },
        {
         "data": [
          {
           "alignmentgroup": "True",
           "hovertemplate": "Industry=%{x}<br>Year-Month=2021-02<br>Sum=%{y}<extra></extra>",
           "ids": [
            "Accommodation & Food"
           ],
           "legendgroup": "Accommodation & Food",
           "marker": {
            "color": "#636efa",
            "pattern": {
             "shape": ""
            }
           },
           "name": "Accommodation & Food",
           "offsetgroup": "Accommodation & Food",
           "orientation": "v",
           "showlegend": true,
           "textposition": "auto",
           "type": "bar",
           "x": [
            "Accommodation & Food"
           ],
           "xaxis": "x",
           "y": [
            3330
           ],
           "yaxis": "y"
          },
          {
           "alignmentgroup": "True",
           "hovertemplate": "Industry=%{x}<br>Year-Month=2021-02<br>Sum=%{y}<extra></extra>",
           "ids": [
            "Administration & Security"
           ],
           "legendgroup": "Administration & Security",
           "marker": {
            "color": "#EF553B",
            "pattern": {
             "shape": ""
            }
           },
           "name": "Administration & Security",
           "offsetgroup": "Administration & Security",
           "orientation": "v",
           "showlegend": true,
           "textposition": "auto",
           "type": "bar",
           "x": [
            "Administration & Security"
           ],
           "xaxis": "x",
           "y": [
            151
           ],
           "yaxis": "y"
          },
          {
           "alignmentgroup": "True",
           "hovertemplate": "Industry=%{x}<br>Year-Month=2021-02<br>Sum=%{y}<extra></extra>",
           "ids": [
            "Administrative Servives"
           ],
           "legendgroup": "Administrative Servives",
           "marker": {
            "color": "#00cc96",
            "pattern": {
             "shape": ""
            }
           },
           "name": "Administrative Servives",
           "offsetgroup": "Administrative Servives",
           "orientation": "v",
           "showlegend": true,
           "textposition": "auto",
           "type": "bar",
           "x": [
            "Administrative Servives"
           ],
           "xaxis": "x",
           "y": [
            3749
           ],
           "yaxis": "y"
          },
          {
           "alignmentgroup": "True",
           "hovertemplate": "Industry=%{x}<br>Year-Month=2021-02<br>Sum=%{y}<extra></extra>",
           "ids": [
            "Agriculture, Forestry & Fishing"
           ],
           "legendgroup": "Agriculture, Forestry & Fishing",
           "marker": {
            "color": "#ab63fa",
            "pattern": {
             "shape": ""
            }
           },
           "name": "Agriculture, Forestry & Fishing",
           "offsetgroup": "Agriculture, Forestry & Fishing",
           "orientation": "v",
           "showlegend": true,
           "textposition": "auto",
           "type": "bar",
           "x": [
            "Agriculture, Forestry & Fishing"
           ],
           "xaxis": "x",
           "y": [
            365
           ],
           "yaxis": "y"
          },
          {
           "alignmentgroup": "True",
           "hovertemplate": "Industry=%{x}<br>Year-Month=2021-02<br>Sum=%{y}<extra></extra>",
           "ids": [
            "Arts & Entertainment"
           ],
           "legendgroup": "Arts & Entertainment",
           "marker": {
            "color": "#FFA15A",
            "pattern": {
             "shape": ""
            }
           },
           "name": "Arts & Entertainment",
           "offsetgroup": "Arts & Entertainment",
           "orientation": "v",
           "showlegend": true,
           "textposition": "auto",
           "type": "bar",
           "x": [
            "Arts & Entertainment"
           ],
           "xaxis": "x",
           "y": [
            1091
           ],
           "yaxis": "y"
          },
          {
           "alignmentgroup": "True",
           "hovertemplate": "Industry=%{x}<br>Year-Month=2021-02<br>Sum=%{y}<extra></extra>",
           "ids": [
            "Construction"
           ],
           "legendgroup": "Construction",
           "marker": {
            "color": "#19d3f3",
            "pattern": {
             "shape": ""
            }
           },
           "name": "Construction",
           "offsetgroup": "Construction",
           "orientation": "v",
           "showlegend": true,
           "textposition": "auto",
           "type": "bar",
           "x": [
            "Construction"
           ],
           "xaxis": "x",
           "y": [
            5319
           ],
           "yaxis": "y"
          },
          {
           "alignmentgroup": "True",
           "hovertemplate": "Industry=%{x}<br>Year-Month=2021-02<br>Sum=%{y}<extra></extra>",
           "ids": [
            "Education"
           ],
           "legendgroup": "Education",
           "marker": {
            "color": "#FF6692",
            "pattern": {
             "shape": ""
            }
           },
           "name": "Education",
           "offsetgroup": "Education",
           "orientation": "v",
           "showlegend": true,
           "textposition": "auto",
           "type": "bar",
           "x": [
            "Education"
           ],
           "xaxis": "x",
           "y": [
            926
           ],
           "yaxis": "y"
          },
          {
           "alignmentgroup": "True",
           "hovertemplate": "Industry=%{x}<br>Year-Month=2021-02<br>Sum=%{y}<extra></extra>",
           "ids": [
            "Energy Supply"
           ],
           "legendgroup": "Energy Supply",
           "marker": {
            "color": "#B6E880",
            "pattern": {
             "shape": ""
            }
           },
           "name": "Energy Supply",
           "offsetgroup": "Energy Supply",
           "orientation": "v",
           "showlegend": true,
           "textposition": "auto",
           "type": "bar",
           "x": [
            "Energy Supply"
           ],
           "xaxis": "x",
           "y": [
            131
           ],
           "yaxis": "y"
          },
          {
           "alignmentgroup": "True",
           "hovertemplate": "Industry=%{x}<br>Year-Month=2021-02<br>Sum=%{y}<extra></extra>",
           "ids": [
            "Extraterritorial Organisations"
           ],
           "legendgroup": "Extraterritorial Organisations",
           "marker": {
            "color": "#FF97FF",
            "pattern": {
             "shape": ""
            }
           },
           "name": "Extraterritorial Organisations",
           "offsetgroup": "Extraterritorial Organisations",
           "orientation": "v",
           "showlegend": true,
           "textposition": "auto",
           "type": "bar",
           "x": [
            "Extraterritorial Organisations"
           ],
           "xaxis": "x",
           "y": [
            1169
           ],
           "yaxis": "y"
          },
          {
           "alignmentgroup": "True",
           "hovertemplate": "Industry=%{x}<br>Year-Month=2021-02<br>Sum=%{y}<extra></extra>",
           "ids": [
            "Financial & Insurance"
           ],
           "legendgroup": "Financial & Insurance",
           "marker": {
            "color": "#FECB52",
            "pattern": {
             "shape": ""
            }
           },
           "name": "Financial & Insurance",
           "offsetgroup": "Financial & Insurance",
           "orientation": "v",
           "showlegend": true,
           "textposition": "auto",
           "type": "bar",
           "x": [
            "Financial & Insurance"
           ],
           "xaxis": "x",
           "y": [
            2217
           ],
           "yaxis": "y"
          },
          {
           "alignmentgroup": "True",
           "hovertemplate": "Industry=%{x}<br>Year-Month=2021-02<br>Sum=%{y}<extra></extra>",
           "ids": [
            "Health & Social Work"
           ],
           "legendgroup": "Health & Social Work",
           "marker": {
            "color": "#636efa",
            "pattern": {
             "shape": ""
            }
           },
           "name": "Health & Social Work",
           "offsetgroup": "Health & Social Work",
           "orientation": "v",
           "showlegend": true,
           "textposition": "auto",
           "type": "bar",
           "x": [
            "Health & Social Work"
           ],
           "xaxis": "x",
           "y": [
            1822
           ],
           "yaxis": "y"
          },
          {
           "alignmentgroup": "True",
           "hovertemplate": "Industry=%{x}<br>Year-Month=2021-02<br>Sum=%{y}<extra></extra>",
           "ids": [
            "Households as Employers"
           ],
           "legendgroup": "Households as Employers",
           "marker": {
            "color": "#EF553B",
            "pattern": {
             "shape": ""
            }
           },
           "name": "Households as Employers",
           "offsetgroup": "Households as Employers",
           "orientation": "v",
           "showlegend": true,
           "textposition": "auto",
           "type": "bar",
           "x": [
            "Households as Employers"
           ],
           "xaxis": "x",
           "y": [
            573
           ],
           "yaxis": "y"
          },
          {
           "alignmentgroup": "True",
           "hovertemplate": "Industry=%{x}<br>Year-Month=2021-02<br>Sum=%{y}<extra></extra>",
           "ids": [
            "Information & Communication"
           ],
           "legendgroup": "Information & Communication",
           "marker": {
            "color": "#00cc96",
            "pattern": {
             "shape": ""
            }
           },
           "name": "Information & Communication",
           "offsetgroup": "Information & Communication",
           "orientation": "v",
           "showlegend": true,
           "textposition": "auto",
           "type": "bar",
           "x": [
            "Information & Communication"
           ],
           "xaxis": "x",
           "y": [
            3858
           ],
           "yaxis": "y"
          },
          {
           "alignmentgroup": "True",
           "hovertemplate": "Industry=%{x}<br>Year-Month=2021-02<br>Sum=%{y}<extra></extra>",
           "ids": [
            "Manufacturing"
           ],
           "legendgroup": "Manufacturing",
           "marker": {
            "color": "#ab63fa",
            "pattern": {
             "shape": ""
            }
           },
           "name": "Manufacturing",
           "offsetgroup": "Manufacturing",
           "orientation": "v",
           "showlegend": true,
           "textposition": "auto",
           "type": "bar",
           "x": [
            "Manufacturing"
           ],
           "xaxis": "x",
           "y": [
            2226
           ],
           "yaxis": "y"
          },
          {
           "alignmentgroup": "True",
           "hovertemplate": "Industry=%{x}<br>Year-Month=2021-02<br>Sum=%{y}<extra></extra>",
           "ids": [
            "Mining & Quarrying"
           ],
           "legendgroup": "Mining & Quarrying",
           "marker": {
            "color": "#FFA15A",
            "pattern": {
             "shape": ""
            }
           },
           "name": "Mining & Quarrying",
           "offsetgroup": "Mining & Quarrying",
           "orientation": "v",
           "showlegend": true,
           "textposition": "auto",
           "type": "bar",
           "x": [
            "Mining & Quarrying"
           ],
           "xaxis": "x",
           "y": [
            68
           ],
           "yaxis": "y"
          },
          {
           "alignmentgroup": "True",
           "hovertemplate": "Industry=%{x}<br>Year-Month=2021-02<br>Sum=%{y}<extra></extra>",
           "ids": [
            "Other Services"
           ],
           "legendgroup": "Other Services",
           "marker": {
            "color": "#19d3f3",
            "pattern": {
             "shape": ""
            }
           },
           "name": "Other Services",
           "offsetgroup": "Other Services",
           "orientation": "v",
           "showlegend": true,
           "textposition": "auto",
           "type": "bar",
           "x": [
            "Other Services"
           ],
           "xaxis": "x",
           "y": [
            2347
           ],
           "yaxis": "y"
          },
          {
           "alignmentgroup": "True",
           "hovertemplate": "Industry=%{x}<br>Year-Month=2021-02<br>Sum=%{y}<extra></extra>",
           "ids": [
            "Professional, Scientific & Technical"
           ],
           "legendgroup": "Professional, Scientific & Technical",
           "marker": {
            "color": "#FF6692",
            "pattern": {
             "shape": ""
            }
           },
           "name": "Professional, Scientific & Technical",
           "offsetgroup": "Professional, Scientific & Technical",
           "orientation": "v",
           "showlegend": true,
           "textposition": "auto",
           "type": "bar",
           "x": [
            "Professional, Scientific & Technical"
           ],
           "xaxis": "x",
           "y": [
            5078
           ],
           "yaxis": "y"
          },
          {
           "alignmentgroup": "True",
           "hovertemplate": "Industry=%{x}<br>Year-Month=2021-02<br>Sum=%{y}<extra></extra>",
           "ids": [
            "Real Estate"
           ],
           "legendgroup": "Real Estate",
           "marker": {
            "color": "#B6E880",
            "pattern": {
             "shape": ""
            }
           },
           "name": "Real Estate",
           "offsetgroup": "Real Estate",
           "orientation": "v",
           "showlegend": true,
           "textposition": "auto",
           "type": "bar",
           "x": [
            "Real Estate"
           ],
           "xaxis": "x",
           "y": [
            4868
           ],
           "yaxis": "y"
          },
          {
           "alignmentgroup": "True",
           "hovertemplate": "Industry=%{x}<br>Year-Month=2021-02<br>Sum=%{y}<extra></extra>",
           "ids": [
            "Transportation & Storage"
           ],
           "legendgroup": "Transportation & Storage",
           "marker": {
            "color": "#FF97FF",
            "pattern": {
             "shape": ""
            }
           },
           "name": "Transportation & Storage",
           "offsetgroup": "Transportation & Storage",
           "orientation": "v",
           "showlegend": true,
           "textposition": "auto",
           "type": "bar",
           "x": [
            "Transportation & Storage"
           ],
           "xaxis": "x",
           "y": [
            2040
           ],
           "yaxis": "y"
          },
          {
           "alignmentgroup": "True",
           "hovertemplate": "Industry=%{x}<br>Year-Month=2021-02<br>Sum=%{y}<extra></extra>",
           "ids": [
            "Water Supply, Sewerage, Waste Management"
           ],
           "legendgroup": "Water Supply, Sewerage, Waste Management",
           "marker": {
            "color": "#FECB52",
            "pattern": {
             "shape": ""
            }
           },
           "name": "Water Supply, Sewerage, Waste Management",
           "offsetgroup": "Water Supply, Sewerage, Waste Management",
           "orientation": "v",
           "showlegend": true,
           "textposition": "auto",
           "type": "bar",
           "x": [
            "Water Supply, Sewerage, Waste Management"
           ],
           "xaxis": "x",
           "y": [
            187
           ],
           "yaxis": "y"
          },
          {
           "alignmentgroup": "True",
           "hovertemplate": "Industry=%{x}<br>Year-Month=2021-02<br>Sum=%{y}<extra></extra>",
           "ids": [
            "Wholesale & Retail"
           ],
           "legendgroup": "Wholesale & Retail",
           "marker": {
            "color": "#636efa",
            "pattern": {
             "shape": ""
            }
           },
           "name": "Wholesale & Retail",
           "offsetgroup": "Wholesale & Retail",
           "orientation": "v",
           "showlegend": true,
           "textposition": "auto",
           "type": "bar",
           "x": [
            "Wholesale & Retail"
           ],
           "xaxis": "x",
           "y": [
            10225
           ],
           "yaxis": "y"
          }
         ],
         "name": "2021-02"
        },
        {
         "data": [
          {
           "alignmentgroup": "True",
           "hovertemplate": "Industry=%{x}<br>Year-Month=2021-03<br>Sum=%{y}<extra></extra>",
           "ids": [
            "Accommodation & Food"
           ],
           "legendgroup": "Accommodation & Food",
           "marker": {
            "color": "#636efa",
            "pattern": {
             "shape": ""
            }
           },
           "name": "Accommodation & Food",
           "offsetgroup": "Accommodation & Food",
           "orientation": "v",
           "showlegend": true,
           "textposition": "auto",
           "type": "bar",
           "x": [
            "Accommodation & Food"
           ],
           "xaxis": "x",
           "y": [
            4263
           ],
           "yaxis": "y"
          },
          {
           "alignmentgroup": "True",
           "hovertemplate": "Industry=%{x}<br>Year-Month=2021-03<br>Sum=%{y}<extra></extra>",
           "ids": [
            "Administration & Security"
           ],
           "legendgroup": "Administration & Security",
           "marker": {
            "color": "#EF553B",
            "pattern": {
             "shape": ""
            }
           },
           "name": "Administration & Security",
           "offsetgroup": "Administration & Security",
           "orientation": "v",
           "showlegend": true,
           "textposition": "auto",
           "type": "bar",
           "x": [
            "Administration & Security"
           ],
           "xaxis": "x",
           "y": [
            156
           ],
           "yaxis": "y"
          },
          {
           "alignmentgroup": "True",
           "hovertemplate": "Industry=%{x}<br>Year-Month=2021-03<br>Sum=%{y}<extra></extra>",
           "ids": [
            "Administrative Servives"
           ],
           "legendgroup": "Administrative Servives",
           "marker": {
            "color": "#00cc96",
            "pattern": {
             "shape": ""
            }
           },
           "name": "Administrative Servives",
           "offsetgroup": "Administrative Servives",
           "orientation": "v",
           "showlegend": true,
           "textposition": "auto",
           "type": "bar",
           "x": [
            "Administrative Servives"
           ],
           "xaxis": "x",
           "y": [
            5031
           ],
           "yaxis": "y"
          },
          {
           "alignmentgroup": "True",
           "hovertemplate": "Industry=%{x}<br>Year-Month=2021-03<br>Sum=%{y}<extra></extra>",
           "ids": [
            "Agriculture, Forestry & Fishing"
           ],
           "legendgroup": "Agriculture, Forestry & Fishing",
           "marker": {
            "color": "#ab63fa",
            "pattern": {
             "shape": ""
            }
           },
           "name": "Agriculture, Forestry & Fishing",
           "offsetgroup": "Agriculture, Forestry & Fishing",
           "orientation": "v",
           "showlegend": true,
           "textposition": "auto",
           "type": "bar",
           "x": [
            "Agriculture, Forestry & Fishing"
           ],
           "xaxis": "x",
           "y": [
            434
           ],
           "yaxis": "y"
          },
          {
           "alignmentgroup": "True",
           "hovertemplate": "Industry=%{x}<br>Year-Month=2021-03<br>Sum=%{y}<extra></extra>",
           "ids": [
            "Arts & Entertainment"
           ],
           "legendgroup": "Arts & Entertainment",
           "marker": {
            "color": "#FFA15A",
            "pattern": {
             "shape": ""
            }
           },
           "name": "Arts & Entertainment",
           "offsetgroup": "Arts & Entertainment",
           "orientation": "v",
           "showlegend": true,
           "textposition": "auto",
           "type": "bar",
           "x": [
            "Arts & Entertainment"
           ],
           "xaxis": "x",
           "y": [
            1342
           ],
           "yaxis": "y"
          },
          {
           "alignmentgroup": "True",
           "hovertemplate": "Industry=%{x}<br>Year-Month=2021-03<br>Sum=%{y}<extra></extra>",
           "ids": [
            "Construction"
           ],
           "legendgroup": "Construction",
           "marker": {
            "color": "#19d3f3",
            "pattern": {
             "shape": ""
            }
           },
           "name": "Construction",
           "offsetgroup": "Construction",
           "orientation": "v",
           "showlegend": true,
           "textposition": "auto",
           "type": "bar",
           "x": [
            "Construction"
           ],
           "xaxis": "x",
           "y": [
            6733
           ],
           "yaxis": "y"
          },
          {
           "alignmentgroup": "True",
           "hovertemplate": "Industry=%{x}<br>Year-Month=2021-03<br>Sum=%{y}<extra></extra>",
           "ids": [
            "Education"
           ],
           "legendgroup": "Education",
           "marker": {
            "color": "#FF6692",
            "pattern": {
             "shape": ""
            }
           },
           "name": "Education",
           "offsetgroup": "Education",
           "orientation": "v",
           "showlegend": true,
           "textposition": "auto",
           "type": "bar",
           "x": [
            "Education"
           ],
           "xaxis": "x",
           "y": [
            1171
           ],
           "yaxis": "y"
          },
          {
           "alignmentgroup": "True",
           "hovertemplate": "Industry=%{x}<br>Year-Month=2021-03<br>Sum=%{y}<extra></extra>",
           "ids": [
            "Energy Supply"
           ],
           "legendgroup": "Energy Supply",
           "marker": {
            "color": "#B6E880",
            "pattern": {
             "shape": ""
            }
           },
           "name": "Energy Supply",
           "offsetgroup": "Energy Supply",
           "orientation": "v",
           "showlegend": true,
           "textposition": "auto",
           "type": "bar",
           "x": [
            "Energy Supply"
           ],
           "xaxis": "x",
           "y": [
            159
           ],
           "yaxis": "y"
          },
          {
           "alignmentgroup": "True",
           "hovertemplate": "Industry=%{x}<br>Year-Month=2021-03<br>Sum=%{y}<extra></extra>",
           "ids": [
            "Extraterritorial Organisations"
           ],
           "legendgroup": "Extraterritorial Organisations",
           "marker": {
            "color": "#FF97FF",
            "pattern": {
             "shape": ""
            }
           },
           "name": "Extraterritorial Organisations",
           "offsetgroup": "Extraterritorial Organisations",
           "orientation": "v",
           "showlegend": true,
           "textposition": "auto",
           "type": "bar",
           "x": [
            "Extraterritorial Organisations"
           ],
           "xaxis": "x",
           "y": [
            1614
           ],
           "yaxis": "y"
          },
          {
           "alignmentgroup": "True",
           "hovertemplate": "Industry=%{x}<br>Year-Month=2021-03<br>Sum=%{y}<extra></extra>",
           "ids": [
            "Financial & Insurance"
           ],
           "legendgroup": "Financial & Insurance",
           "marker": {
            "color": "#FECB52",
            "pattern": {
             "shape": ""
            }
           },
           "name": "Financial & Insurance",
           "offsetgroup": "Financial & Insurance",
           "orientation": "v",
           "showlegend": true,
           "textposition": "auto",
           "type": "bar",
           "x": [
            "Financial & Insurance"
           ],
           "xaxis": "x",
           "y": [
            2524
           ],
           "yaxis": "y"
          },
          {
           "alignmentgroup": "True",
           "hovertemplate": "Industry=%{x}<br>Year-Month=2021-03<br>Sum=%{y}<extra></extra>",
           "ids": [
            "Health & Social Work"
           ],
           "legendgroup": "Health & Social Work",
           "marker": {
            "color": "#636efa",
            "pattern": {
             "shape": ""
            }
           },
           "name": "Health & Social Work",
           "offsetgroup": "Health & Social Work",
           "orientation": "v",
           "showlegend": true,
           "textposition": "auto",
           "type": "bar",
           "x": [
            "Health & Social Work"
           ],
           "xaxis": "x",
           "y": [
            2273
           ],
           "yaxis": "y"
          },
          {
           "alignmentgroup": "True",
           "hovertemplate": "Industry=%{x}<br>Year-Month=2021-03<br>Sum=%{y}<extra></extra>",
           "ids": [
            "Households as Employers"
           ],
           "legendgroup": "Households as Employers",
           "marker": {
            "color": "#EF553B",
            "pattern": {
             "shape": ""
            }
           },
           "name": "Households as Employers",
           "offsetgroup": "Households as Employers",
           "orientation": "v",
           "showlegend": true,
           "textposition": "auto",
           "type": "bar",
           "x": [
            "Households as Employers"
           ],
           "xaxis": "x",
           "y": [
            705
           ],
           "yaxis": "y"
          },
          {
           "alignmentgroup": "True",
           "hovertemplate": "Industry=%{x}<br>Year-Month=2021-03<br>Sum=%{y}<extra></extra>",
           "ids": [
            "Information & Communication"
           ],
           "legendgroup": "Information & Communication",
           "marker": {
            "color": "#00cc96",
            "pattern": {
             "shape": ""
            }
           },
           "name": "Information & Communication",
           "offsetgroup": "Information & Communication",
           "orientation": "v",
           "showlegend": true,
           "textposition": "auto",
           "type": "bar",
           "x": [
            "Information & Communication"
           ],
           "xaxis": "x",
           "y": [
            4719
           ],
           "yaxis": "y"
          },
          {
           "alignmentgroup": "True",
           "hovertemplate": "Industry=%{x}<br>Year-Month=2021-03<br>Sum=%{y}<extra></extra>",
           "ids": [
            "Manufacturing"
           ],
           "legendgroup": "Manufacturing",
           "marker": {
            "color": "#ab63fa",
            "pattern": {
             "shape": ""
            }
           },
           "name": "Manufacturing",
           "offsetgroup": "Manufacturing",
           "orientation": "v",
           "showlegend": true,
           "textposition": "auto",
           "type": "bar",
           "x": [
            "Manufacturing"
           ],
           "xaxis": "x",
           "y": [
            2667
           ],
           "yaxis": "y"
          },
          {
           "alignmentgroup": "True",
           "hovertemplate": "Industry=%{x}<br>Year-Month=2021-03<br>Sum=%{y}<extra></extra>",
           "ids": [
            "Mining & Quarrying"
           ],
           "legendgroup": "Mining & Quarrying",
           "marker": {
            "color": "#FFA15A",
            "pattern": {
             "shape": ""
            }
           },
           "name": "Mining & Quarrying",
           "offsetgroup": "Mining & Quarrying",
           "orientation": "v",
           "showlegend": true,
           "textposition": "auto",
           "type": "bar",
           "x": [
            "Mining & Quarrying"
           ],
           "xaxis": "x",
           "y": [
            82
           ],
           "yaxis": "y"
          },
          {
           "alignmentgroup": "True",
           "hovertemplate": "Industry=%{x}<br>Year-Month=2021-03<br>Sum=%{y}<extra></extra>",
           "ids": [
            "Other Services"
           ],
           "legendgroup": "Other Services",
           "marker": {
            "color": "#19d3f3",
            "pattern": {
             "shape": ""
            }
           },
           "name": "Other Services",
           "offsetgroup": "Other Services",
           "orientation": "v",
           "showlegend": true,
           "textposition": "auto",
           "type": "bar",
           "x": [
            "Other Services"
           ],
           "xaxis": "x",
           "y": [
            3063
           ],
           "yaxis": "y"
          },
          {
           "alignmentgroup": "True",
           "hovertemplate": "Industry=%{x}<br>Year-Month=2021-03<br>Sum=%{y}<extra></extra>",
           "ids": [
            "Professional, Scientific & Technical"
           ],
           "legendgroup": "Professional, Scientific & Technical",
           "marker": {
            "color": "#FF6692",
            "pattern": {
             "shape": ""
            }
           },
           "name": "Professional, Scientific & Technical",
           "offsetgroup": "Professional, Scientific & Technical",
           "orientation": "v",
           "showlegend": true,
           "textposition": "auto",
           "type": "bar",
           "x": [
            "Professional, Scientific & Technical"
           ],
           "xaxis": "x",
           "y": [
            6185
           ],
           "yaxis": "y"
          },
          {
           "alignmentgroup": "True",
           "hovertemplate": "Industry=%{x}<br>Year-Month=2021-03<br>Sum=%{y}<extra></extra>",
           "ids": [
            "Real Estate"
           ],
           "legendgroup": "Real Estate",
           "marker": {
            "color": "#B6E880",
            "pattern": {
             "shape": ""
            }
           },
           "name": "Real Estate",
           "offsetgroup": "Real Estate",
           "orientation": "v",
           "showlegend": true,
           "textposition": "auto",
           "type": "bar",
           "x": [
            "Real Estate"
           ],
           "xaxis": "x",
           "y": [
            6144
           ],
           "yaxis": "y"
          },
          {
           "alignmentgroup": "True",
           "hovertemplate": "Industry=%{x}<br>Year-Month=2021-03<br>Sum=%{y}<extra></extra>",
           "ids": [
            "Transportation & Storage"
           ],
           "legendgroup": "Transportation & Storage",
           "marker": {
            "color": "#FF97FF",
            "pattern": {
             "shape": ""
            }
           },
           "name": "Transportation & Storage",
           "offsetgroup": "Transportation & Storage",
           "orientation": "v",
           "showlegend": true,
           "textposition": "auto",
           "type": "bar",
           "x": [
            "Transportation & Storage"
           ],
           "xaxis": "x",
           "y": [
            2286
           ],
           "yaxis": "y"
          },
          {
           "alignmentgroup": "True",
           "hovertemplate": "Industry=%{x}<br>Year-Month=2021-03<br>Sum=%{y}<extra></extra>",
           "ids": [
            "Water Supply, Sewerage, Waste Management"
           ],
           "legendgroup": "Water Supply, Sewerage, Waste Management",
           "marker": {
            "color": "#FECB52",
            "pattern": {
             "shape": ""
            }
           },
           "name": "Water Supply, Sewerage, Waste Management",
           "offsetgroup": "Water Supply, Sewerage, Waste Management",
           "orientation": "v",
           "showlegend": true,
           "textposition": "auto",
           "type": "bar",
           "x": [
            "Water Supply, Sewerage, Waste Management"
           ],
           "xaxis": "x",
           "y": [
            254
           ],
           "yaxis": "y"
          },
          {
           "alignmentgroup": "True",
           "hovertemplate": "Industry=%{x}<br>Year-Month=2021-03<br>Sum=%{y}<extra></extra>",
           "ids": [
            "Wholesale & Retail"
           ],
           "legendgroup": "Wholesale & Retail",
           "marker": {
            "color": "#636efa",
            "pattern": {
             "shape": ""
            }
           },
           "name": "Wholesale & Retail",
           "offsetgroup": "Wholesale & Retail",
           "orientation": "v",
           "showlegend": true,
           "textposition": "auto",
           "type": "bar",
           "x": [
            "Wholesale & Retail"
           ],
           "xaxis": "x",
           "y": [
            12416
           ],
           "yaxis": "y"
          }
         ],
         "name": "2021-03"
        },
        {
         "data": [
          {
           "alignmentgroup": "True",
           "hovertemplate": "Industry=%{x}<br>Year-Month=2021-04<br>Sum=%{y}<extra></extra>",
           "ids": [
            "Accommodation & Food"
           ],
           "legendgroup": "Accommodation & Food",
           "marker": {
            "color": "#636efa",
            "pattern": {
             "shape": ""
            }
           },
           "name": "Accommodation & Food",
           "offsetgroup": "Accommodation & Food",
           "orientation": "v",
           "showlegend": true,
           "textposition": "auto",
           "type": "bar",
           "x": [
            "Accommodation & Food"
           ],
           "xaxis": "x",
           "y": [
            4068
           ],
           "yaxis": "y"
          },
          {
           "alignmentgroup": "True",
           "hovertemplate": "Industry=%{x}<br>Year-Month=2021-04<br>Sum=%{y}<extra></extra>",
           "ids": [
            "Administration & Security"
           ],
           "legendgroup": "Administration & Security",
           "marker": {
            "color": "#EF553B",
            "pattern": {
             "shape": ""
            }
           },
           "name": "Administration & Security",
           "offsetgroup": "Administration & Security",
           "orientation": "v",
           "showlegend": true,
           "textposition": "auto",
           "type": "bar",
           "x": [
            "Administration & Security"
           ],
           "xaxis": "x",
           "y": [
            179
           ],
           "yaxis": "y"
          },
          {
           "alignmentgroup": "True",
           "hovertemplate": "Industry=%{x}<br>Year-Month=2021-04<br>Sum=%{y}<extra></extra>",
           "ids": [
            "Administrative Servives"
           ],
           "legendgroup": "Administrative Servives",
           "marker": {
            "color": "#00cc96",
            "pattern": {
             "shape": ""
            }
           },
           "name": "Administrative Servives",
           "offsetgroup": "Administrative Servives",
           "orientation": "v",
           "showlegend": true,
           "textposition": "auto",
           "type": "bar",
           "x": [
            "Administrative Servives"
           ],
           "xaxis": "x",
           "y": [
            4190
           ],
           "yaxis": "y"
          },
          {
           "alignmentgroup": "True",
           "hovertemplate": "Industry=%{x}<br>Year-Month=2021-04<br>Sum=%{y}<extra></extra>",
           "ids": [
            "Agriculture, Forestry & Fishing"
           ],
           "legendgroup": "Agriculture, Forestry & Fishing",
           "marker": {
            "color": "#ab63fa",
            "pattern": {
             "shape": ""
            }
           },
           "name": "Agriculture, Forestry & Fishing",
           "offsetgroup": "Agriculture, Forestry & Fishing",
           "orientation": "v",
           "showlegend": true,
           "textposition": "auto",
           "type": "bar",
           "x": [
            "Agriculture, Forestry & Fishing"
           ],
           "xaxis": "x",
           "y": [
            369
           ],
           "yaxis": "y"
          },
          {
           "alignmentgroup": "True",
           "hovertemplate": "Industry=%{x}<br>Year-Month=2021-04<br>Sum=%{y}<extra></extra>",
           "ids": [
            "Arts & Entertainment"
           ],
           "legendgroup": "Arts & Entertainment",
           "marker": {
            "color": "#FFA15A",
            "pattern": {
             "shape": ""
            }
           },
           "name": "Arts & Entertainment",
           "offsetgroup": "Arts & Entertainment",
           "orientation": "v",
           "showlegend": true,
           "textposition": "auto",
           "type": "bar",
           "x": [
            "Arts & Entertainment"
           ],
           "xaxis": "x",
           "y": [
            1228
           ],
           "yaxis": "y"
          },
          {
           "alignmentgroup": "True",
           "hovertemplate": "Industry=%{x}<br>Year-Month=2021-04<br>Sum=%{y}<extra></extra>",
           "ids": [
            "Construction"
           ],
           "legendgroup": "Construction",
           "marker": {
            "color": "#19d3f3",
            "pattern": {
             "shape": ""
            }
           },
           "name": "Construction",
           "offsetgroup": "Construction",
           "orientation": "v",
           "showlegend": true,
           "textposition": "auto",
           "type": "bar",
           "x": [
            "Construction"
           ],
           "xaxis": "x",
           "y": [
            6180
           ],
           "yaxis": "y"
          },
          {
           "alignmentgroup": "True",
           "hovertemplate": "Industry=%{x}<br>Year-Month=2021-04<br>Sum=%{y}<extra></extra>",
           "ids": [
            "Education"
           ],
           "legendgroup": "Education",
           "marker": {
            "color": "#FF6692",
            "pattern": {
             "shape": ""
            }
           },
           "name": "Education",
           "offsetgroup": "Education",
           "orientation": "v",
           "showlegend": true,
           "textposition": "auto",
           "type": "bar",
           "x": [
            "Education"
           ],
           "xaxis": "x",
           "y": [
            1106
           ],
           "yaxis": "y"
          },
          {
           "alignmentgroup": "True",
           "hovertemplate": "Industry=%{x}<br>Year-Month=2021-04<br>Sum=%{y}<extra></extra>",
           "ids": [
            "Energy Supply"
           ],
           "legendgroup": "Energy Supply",
           "marker": {
            "color": "#B6E880",
            "pattern": {
             "shape": ""
            }
           },
           "name": "Energy Supply",
           "offsetgroup": "Energy Supply",
           "orientation": "v",
           "showlegend": true,
           "textposition": "auto",
           "type": "bar",
           "x": [
            "Energy Supply"
           ],
           "xaxis": "x",
           "y": [
            164
           ],
           "yaxis": "y"
          },
          {
           "alignmentgroup": "True",
           "hovertemplate": "Industry=%{x}<br>Year-Month=2021-04<br>Sum=%{y}<extra></extra>",
           "ids": [
            "Extraterritorial Organisations"
           ],
           "legendgroup": "Extraterritorial Organisations",
           "marker": {
            "color": "#FF97FF",
            "pattern": {
             "shape": ""
            }
           },
           "name": "Extraterritorial Organisations",
           "offsetgroup": "Extraterritorial Organisations",
           "orientation": "v",
           "showlegend": true,
           "textposition": "auto",
           "type": "bar",
           "x": [
            "Extraterritorial Organisations"
           ],
           "xaxis": "x",
           "y": [
            1509
           ],
           "yaxis": "y"
          },
          {
           "alignmentgroup": "True",
           "hovertemplate": "Industry=%{x}<br>Year-Month=2021-04<br>Sum=%{y}<extra></extra>",
           "ids": [
            "Financial & Insurance"
           ],
           "legendgroup": "Financial & Insurance",
           "marker": {
            "color": "#FECB52",
            "pattern": {
             "shape": ""
            }
           },
           "name": "Financial & Insurance",
           "offsetgroup": "Financial & Insurance",
           "orientation": "v",
           "showlegend": true,
           "textposition": "auto",
           "type": "bar",
           "x": [
            "Financial & Insurance"
           ],
           "xaxis": "x",
           "y": [
            2291
           ],
           "yaxis": "y"
          },
          {
           "alignmentgroup": "True",
           "hovertemplate": "Industry=%{x}<br>Year-Month=2021-04<br>Sum=%{y}<extra></extra>",
           "ids": [
            "Health & Social Work"
           ],
           "legendgroup": "Health & Social Work",
           "marker": {
            "color": "#636efa",
            "pattern": {
             "shape": ""
            }
           },
           "name": "Health & Social Work",
           "offsetgroup": "Health & Social Work",
           "orientation": "v",
           "showlegend": true,
           "textposition": "auto",
           "type": "bar",
           "x": [
            "Health & Social Work"
           ],
           "xaxis": "x",
           "y": [
            2078
           ],
           "yaxis": "y"
          },
          {
           "alignmentgroup": "True",
           "hovertemplate": "Industry=%{x}<br>Year-Month=2021-04<br>Sum=%{y}<extra></extra>",
           "ids": [
            "Households as Employers"
           ],
           "legendgroup": "Households as Employers",
           "marker": {
            "color": "#EF553B",
            "pattern": {
             "shape": ""
            }
           },
           "name": "Households as Employers",
           "offsetgroup": "Households as Employers",
           "orientation": "v",
           "showlegend": true,
           "textposition": "auto",
           "type": "bar",
           "x": [
            "Households as Employers"
           ],
           "xaxis": "x",
           "y": [
            662
           ],
           "yaxis": "y"
          },
          {
           "alignmentgroup": "True",
           "hovertemplate": "Industry=%{x}<br>Year-Month=2021-04<br>Sum=%{y}<extra></extra>",
           "ids": [
            "Information & Communication"
           ],
           "legendgroup": "Information & Communication",
           "marker": {
            "color": "#00cc96",
            "pattern": {
             "shape": ""
            }
           },
           "name": "Information & Communication",
           "offsetgroup": "Information & Communication",
           "orientation": "v",
           "showlegend": true,
           "textposition": "auto",
           "type": "bar",
           "x": [
            "Information & Communication"
           ],
           "xaxis": "x",
           "y": [
            4343
           ],
           "yaxis": "y"
          },
          {
           "alignmentgroup": "True",
           "hovertemplate": "Industry=%{x}<br>Year-Month=2021-04<br>Sum=%{y}<extra></extra>",
           "ids": [
            "Manufacturing"
           ],
           "legendgroup": "Manufacturing",
           "marker": {
            "color": "#ab63fa",
            "pattern": {
             "shape": ""
            }
           },
           "name": "Manufacturing",
           "offsetgroup": "Manufacturing",
           "orientation": "v",
           "showlegend": true,
           "textposition": "auto",
           "type": "bar",
           "x": [
            "Manufacturing"
           ],
           "xaxis": "x",
           "y": [
            2545
           ],
           "yaxis": "y"
          },
          {
           "alignmentgroup": "True",
           "hovertemplate": "Industry=%{x}<br>Year-Month=2021-04<br>Sum=%{y}<extra></extra>",
           "ids": [
            "Mining & Quarrying"
           ],
           "legendgroup": "Mining & Quarrying",
           "marker": {
            "color": "#FFA15A",
            "pattern": {
             "shape": ""
            }
           },
           "name": "Mining & Quarrying",
           "offsetgroup": "Mining & Quarrying",
           "orientation": "v",
           "showlegend": true,
           "textposition": "auto",
           "type": "bar",
           "x": [
            "Mining & Quarrying"
           ],
           "xaxis": "x",
           "y": [
            75
           ],
           "yaxis": "y"
          },
          {
           "alignmentgroup": "True",
           "hovertemplate": "Industry=%{x}<br>Year-Month=2021-04<br>Sum=%{y}<extra></extra>",
           "ids": [
            "Other Services"
           ],
           "legendgroup": "Other Services",
           "marker": {
            "color": "#19d3f3",
            "pattern": {
             "shape": ""
            }
           },
           "name": "Other Services",
           "offsetgroup": "Other Services",
           "orientation": "v",
           "showlegend": true,
           "textposition": "auto",
           "type": "bar",
           "x": [
            "Other Services"
           ],
           "xaxis": "x",
           "y": [
            3073
           ],
           "yaxis": "y"
          },
          {
           "alignmentgroup": "True",
           "hovertemplate": "Industry=%{x}<br>Year-Month=2021-04<br>Sum=%{y}<extra></extra>",
           "ids": [
            "Professional, Scientific & Technical"
           ],
           "legendgroup": "Professional, Scientific & Technical",
           "marker": {
            "color": "#FF6692",
            "pattern": {
             "shape": ""
            }
           },
           "name": "Professional, Scientific & Technical",
           "offsetgroup": "Professional, Scientific & Technical",
           "orientation": "v",
           "showlegend": true,
           "textposition": "auto",
           "type": "bar",
           "x": [
            "Professional, Scientific & Technical"
           ],
           "xaxis": "x",
           "y": [
            5943
           ],
           "yaxis": "y"
          },
          {
           "alignmentgroup": "True",
           "hovertemplate": "Industry=%{x}<br>Year-Month=2021-04<br>Sum=%{y}<extra></extra>",
           "ids": [
            "Real Estate"
           ],
           "legendgroup": "Real Estate",
           "marker": {
            "color": "#B6E880",
            "pattern": {
             "shape": ""
            }
           },
           "name": "Real Estate",
           "offsetgroup": "Real Estate",
           "orientation": "v",
           "showlegend": true,
           "textposition": "auto",
           "type": "bar",
           "x": [
            "Real Estate"
           ],
           "xaxis": "x",
           "y": [
            5666
           ],
           "yaxis": "y"
          },
          {
           "alignmentgroup": "True",
           "hovertemplate": "Industry=%{x}<br>Year-Month=2021-04<br>Sum=%{y}<extra></extra>",
           "ids": [
            "Transportation & Storage"
           ],
           "legendgroup": "Transportation & Storage",
           "marker": {
            "color": "#FF97FF",
            "pattern": {
             "shape": ""
            }
           },
           "name": "Transportation & Storage",
           "offsetgroup": "Transportation & Storage",
           "orientation": "v",
           "showlegend": true,
           "textposition": "auto",
           "type": "bar",
           "x": [
            "Transportation & Storage"
           ],
           "xaxis": "x",
           "y": [
            2438
           ],
           "yaxis": "y"
          },
          {
           "alignmentgroup": "True",
           "hovertemplate": "Industry=%{x}<br>Year-Month=2021-04<br>Sum=%{y}<extra></extra>",
           "ids": [
            "Water Supply, Sewerage, Waste Management"
           ],
           "legendgroup": "Water Supply, Sewerage, Waste Management",
           "marker": {
            "color": "#FECB52",
            "pattern": {
             "shape": ""
            }
           },
           "name": "Water Supply, Sewerage, Waste Management",
           "offsetgroup": "Water Supply, Sewerage, Waste Management",
           "orientation": "v",
           "showlegend": true,
           "textposition": "auto",
           "type": "bar",
           "x": [
            "Water Supply, Sewerage, Waste Management"
           ],
           "xaxis": "x",
           "y": [
            214
           ],
           "yaxis": "y"
          },
          {
           "alignmentgroup": "True",
           "hovertemplate": "Industry=%{x}<br>Year-Month=2021-04<br>Sum=%{y}<extra></extra>",
           "ids": [
            "Wholesale & Retail"
           ],
           "legendgroup": "Wholesale & Retail",
           "marker": {
            "color": "#636efa",
            "pattern": {
             "shape": ""
            }
           },
           "name": "Wholesale & Retail",
           "offsetgroup": "Wholesale & Retail",
           "orientation": "v",
           "showlegend": true,
           "textposition": "auto",
           "type": "bar",
           "x": [
            "Wholesale & Retail"
           ],
           "xaxis": "x",
           "y": [
            12389
           ],
           "yaxis": "y"
          }
         ],
         "name": "2021-04"
        },
        {
         "data": [
          {
           "alignmentgroup": "True",
           "hovertemplate": "Industry=%{x}<br>Year-Month=2021-05<br>Sum=%{y}<extra></extra>",
           "ids": [
            "Accommodation & Food"
           ],
           "legendgroup": "Accommodation & Food",
           "marker": {
            "color": "#636efa",
            "pattern": {
             "shape": ""
            }
           },
           "name": "Accommodation & Food",
           "offsetgroup": "Accommodation & Food",
           "orientation": "v",
           "showlegend": true,
           "textposition": "auto",
           "type": "bar",
           "x": [
            "Accommodation & Food"
           ],
           "xaxis": "x",
           "y": [
            3847
           ],
           "yaxis": "y"
          },
          {
           "alignmentgroup": "True",
           "hovertemplate": "Industry=%{x}<br>Year-Month=2021-05<br>Sum=%{y}<extra></extra>",
           "ids": [
            "Administration & Security"
           ],
           "legendgroup": "Administration & Security",
           "marker": {
            "color": "#EF553B",
            "pattern": {
             "shape": ""
            }
           },
           "name": "Administration & Security",
           "offsetgroup": "Administration & Security",
           "orientation": "v",
           "showlegend": true,
           "textposition": "auto",
           "type": "bar",
           "x": [
            "Administration & Security"
           ],
           "xaxis": "x",
           "y": [
            162
           ],
           "yaxis": "y"
          },
          {
           "alignmentgroup": "True",
           "hovertemplate": "Industry=%{x}<br>Year-Month=2021-05<br>Sum=%{y}<extra></extra>",
           "ids": [
            "Administrative Servives"
           ],
           "legendgroup": "Administrative Servives",
           "marker": {
            "color": "#00cc96",
            "pattern": {
             "shape": ""
            }
           },
           "name": "Administrative Servives",
           "offsetgroup": "Administrative Servives",
           "orientation": "v",
           "showlegend": true,
           "textposition": "auto",
           "type": "bar",
           "x": [
            "Administrative Servives"
           ],
           "xaxis": "x",
           "y": [
            4174
           ],
           "yaxis": "y"
          },
          {
           "alignmentgroup": "True",
           "hovertemplate": "Industry=%{x}<br>Year-Month=2021-05<br>Sum=%{y}<extra></extra>",
           "ids": [
            "Agriculture, Forestry & Fishing"
           ],
           "legendgroup": "Agriculture, Forestry & Fishing",
           "marker": {
            "color": "#ab63fa",
            "pattern": {
             "shape": ""
            }
           },
           "name": "Agriculture, Forestry & Fishing",
           "offsetgroup": "Agriculture, Forestry & Fishing",
           "orientation": "v",
           "showlegend": true,
           "textposition": "auto",
           "type": "bar",
           "x": [
            "Agriculture, Forestry & Fishing"
           ],
           "xaxis": "x",
           "y": [
            377
           ],
           "yaxis": "y"
          },
          {
           "alignmentgroup": "True",
           "hovertemplate": "Industry=%{x}<br>Year-Month=2021-05<br>Sum=%{y}<extra></extra>",
           "ids": [
            "Arts & Entertainment"
           ],
           "legendgroup": "Arts & Entertainment",
           "marker": {
            "color": "#FFA15A",
            "pattern": {
             "shape": ""
            }
           },
           "name": "Arts & Entertainment",
           "offsetgroup": "Arts & Entertainment",
           "orientation": "v",
           "showlegend": true,
           "textposition": "auto",
           "type": "bar",
           "x": [
            "Arts & Entertainment"
           ],
           "xaxis": "x",
           "y": [
            1214
           ],
           "yaxis": "y"
          },
          {
           "alignmentgroup": "True",
           "hovertemplate": "Industry=%{x}<br>Year-Month=2021-05<br>Sum=%{y}<extra></extra>",
           "ids": [
            "Construction"
           ],
           "legendgroup": "Construction",
           "marker": {
            "color": "#19d3f3",
            "pattern": {
             "shape": ""
            }
           },
           "name": "Construction",
           "offsetgroup": "Construction",
           "orientation": "v",
           "showlegend": true,
           "textposition": "auto",
           "type": "bar",
           "x": [
            "Construction"
           ],
           "xaxis": "x",
           "y": [
            6045
           ],
           "yaxis": "y"
          },
          {
           "alignmentgroup": "True",
           "hovertemplate": "Industry=%{x}<br>Year-Month=2021-05<br>Sum=%{y}<extra></extra>",
           "ids": [
            "Education"
           ],
           "legendgroup": "Education",
           "marker": {
            "color": "#FF6692",
            "pattern": {
             "shape": ""
            }
           },
           "name": "Education",
           "offsetgroup": "Education",
           "orientation": "v",
           "showlegend": true,
           "textposition": "auto",
           "type": "bar",
           "x": [
            "Education"
           ],
           "xaxis": "x",
           "y": [
            1109
           ],
           "yaxis": "y"
          },
          {
           "alignmentgroup": "True",
           "hovertemplate": "Industry=%{x}<br>Year-Month=2021-05<br>Sum=%{y}<extra></extra>",
           "ids": [
            "Energy Supply"
           ],
           "legendgroup": "Energy Supply",
           "marker": {
            "color": "#B6E880",
            "pattern": {
             "shape": ""
            }
           },
           "name": "Energy Supply",
           "offsetgroup": "Energy Supply",
           "orientation": "v",
           "showlegend": true,
           "textposition": "auto",
           "type": "bar",
           "x": [
            "Energy Supply"
           ],
           "xaxis": "x",
           "y": [
            183
           ],
           "yaxis": "y"
          },
          {
           "alignmentgroup": "True",
           "hovertemplate": "Industry=%{x}<br>Year-Month=2021-05<br>Sum=%{y}<extra></extra>",
           "ids": [
            "Extraterritorial Organisations"
           ],
           "legendgroup": "Extraterritorial Organisations",
           "marker": {
            "color": "#FF97FF",
            "pattern": {
             "shape": ""
            }
           },
           "name": "Extraterritorial Organisations",
           "offsetgroup": "Extraterritorial Organisations",
           "orientation": "v",
           "showlegend": true,
           "textposition": "auto",
           "type": "bar",
           "x": [
            "Extraterritorial Organisations"
           ],
           "xaxis": "x",
           "y": [
            1406
           ],
           "yaxis": "y"
          },
          {
           "alignmentgroup": "True",
           "hovertemplate": "Industry=%{x}<br>Year-Month=2021-05<br>Sum=%{y}<extra></extra>",
           "ids": [
            "Financial & Insurance"
           ],
           "legendgroup": "Financial & Insurance",
           "marker": {
            "color": "#FECB52",
            "pattern": {
             "shape": ""
            }
           },
           "name": "Financial & Insurance",
           "offsetgroup": "Financial & Insurance",
           "orientation": "v",
           "showlegend": true,
           "textposition": "auto",
           "type": "bar",
           "x": [
            "Financial & Insurance"
           ],
           "xaxis": "x",
           "y": [
            2342
           ],
           "yaxis": "y"
          },
          {
           "alignmentgroup": "True",
           "hovertemplate": "Industry=%{x}<br>Year-Month=2021-05<br>Sum=%{y}<extra></extra>",
           "ids": [
            "Health & Social Work"
           ],
           "legendgroup": "Health & Social Work",
           "marker": {
            "color": "#636efa",
            "pattern": {
             "shape": ""
            }
           },
           "name": "Health & Social Work",
           "offsetgroup": "Health & Social Work",
           "orientation": "v",
           "showlegend": true,
           "textposition": "auto",
           "type": "bar",
           "x": [
            "Health & Social Work"
           ],
           "xaxis": "x",
           "y": [
            2076
           ],
           "yaxis": "y"
          },
          {
           "alignmentgroup": "True",
           "hovertemplate": "Industry=%{x}<br>Year-Month=2021-05<br>Sum=%{y}<extra></extra>",
           "ids": [
            "Households as Employers"
           ],
           "legendgroup": "Households as Employers",
           "marker": {
            "color": "#EF553B",
            "pattern": {
             "shape": ""
            }
           },
           "name": "Households as Employers",
           "offsetgroup": "Households as Employers",
           "orientation": "v",
           "showlegend": true,
           "textposition": "auto",
           "type": "bar",
           "x": [
            "Households as Employers"
           ],
           "xaxis": "x",
           "y": [
            655
           ],
           "yaxis": "y"
          },
          {
           "alignmentgroup": "True",
           "hovertemplate": "Industry=%{x}<br>Year-Month=2021-05<br>Sum=%{y}<extra></extra>",
           "ids": [
            "Information & Communication"
           ],
           "legendgroup": "Information & Communication",
           "marker": {
            "color": "#00cc96",
            "pattern": {
             "shape": ""
            }
           },
           "name": "Information & Communication",
           "offsetgroup": "Information & Communication",
           "orientation": "v",
           "showlegend": true,
           "textposition": "auto",
           "type": "bar",
           "x": [
            "Information & Communication"
           ],
           "xaxis": "x",
           "y": [
            4084
           ],
           "yaxis": "y"
          },
          {
           "alignmentgroup": "True",
           "hovertemplate": "Industry=%{x}<br>Year-Month=2021-05<br>Sum=%{y}<extra></extra>",
           "ids": [
            "Manufacturing"
           ],
           "legendgroup": "Manufacturing",
           "marker": {
            "color": "#ab63fa",
            "pattern": {
             "shape": ""
            }
           },
           "name": "Manufacturing",
           "offsetgroup": "Manufacturing",
           "orientation": "v",
           "showlegend": true,
           "textposition": "auto",
           "type": "bar",
           "x": [
            "Manufacturing"
           ],
           "xaxis": "x",
           "y": [
            2234
           ],
           "yaxis": "y"
          },
          {
           "alignmentgroup": "True",
           "hovertemplate": "Industry=%{x}<br>Year-Month=2021-05<br>Sum=%{y}<extra></extra>",
           "ids": [
            "Mining & Quarrying"
           ],
           "legendgroup": "Mining & Quarrying",
           "marker": {
            "color": "#FFA15A",
            "pattern": {
             "shape": ""
            }
           },
           "name": "Mining & Quarrying",
           "offsetgroup": "Mining & Quarrying",
           "orientation": "v",
           "showlegend": true,
           "textposition": "auto",
           "type": "bar",
           "x": [
            "Mining & Quarrying"
           ],
           "xaxis": "x",
           "y": [
            71
           ],
           "yaxis": "y"
          },
          {
           "alignmentgroup": "True",
           "hovertemplate": "Industry=%{x}<br>Year-Month=2021-05<br>Sum=%{y}<extra></extra>",
           "ids": [
            "Other Services"
           ],
           "legendgroup": "Other Services",
           "marker": {
            "color": "#19d3f3",
            "pattern": {
             "shape": ""
            }
           },
           "name": "Other Services",
           "offsetgroup": "Other Services",
           "orientation": "v",
           "showlegend": true,
           "textposition": "auto",
           "type": "bar",
           "x": [
            "Other Services"
           ],
           "xaxis": "x",
           "y": [
            3053
           ],
           "yaxis": "y"
          },
          {
           "alignmentgroup": "True",
           "hovertemplate": "Industry=%{x}<br>Year-Month=2021-05<br>Sum=%{y}<extra></extra>",
           "ids": [
            "Professional, Scientific & Technical"
           ],
           "legendgroup": "Professional, Scientific & Technical",
           "marker": {
            "color": "#FF6692",
            "pattern": {
             "shape": ""
            }
           },
           "name": "Professional, Scientific & Technical",
           "offsetgroup": "Professional, Scientific & Technical",
           "orientation": "v",
           "showlegend": true,
           "textposition": "auto",
           "type": "bar",
           "x": [
            "Professional, Scientific & Technical"
           ],
           "xaxis": "x",
           "y": [
            5652
           ],
           "yaxis": "y"
          },
          {
           "alignmentgroup": "True",
           "hovertemplate": "Industry=%{x}<br>Year-Month=2021-05<br>Sum=%{y}<extra></extra>",
           "ids": [
            "Real Estate"
           ],
           "legendgroup": "Real Estate",
           "marker": {
            "color": "#B6E880",
            "pattern": {
             "shape": ""
            }
           },
           "name": "Real Estate",
           "offsetgroup": "Real Estate",
           "orientation": "v",
           "showlegend": true,
           "textposition": "auto",
           "type": "bar",
           "x": [
            "Real Estate"
           ],
           "xaxis": "x",
           "y": [
            5449
           ],
           "yaxis": "y"
          },
          {
           "alignmentgroup": "True",
           "hovertemplate": "Industry=%{x}<br>Year-Month=2021-05<br>Sum=%{y}<extra></extra>",
           "ids": [
            "Transportation & Storage"
           ],
           "legendgroup": "Transportation & Storage",
           "marker": {
            "color": "#FF97FF",
            "pattern": {
             "shape": ""
            }
           },
           "name": "Transportation & Storage",
           "offsetgroup": "Transportation & Storage",
           "orientation": "v",
           "showlegend": true,
           "textposition": "auto",
           "type": "bar",
           "x": [
            "Transportation & Storage"
           ],
           "xaxis": "x",
           "y": [
            2428
           ],
           "yaxis": "y"
          },
          {
           "alignmentgroup": "True",
           "hovertemplate": "Industry=%{x}<br>Year-Month=2021-05<br>Sum=%{y}<extra></extra>",
           "ids": [
            "Water Supply, Sewerage, Waste Management"
           ],
           "legendgroup": "Water Supply, Sewerage, Waste Management",
           "marker": {
            "color": "#FECB52",
            "pattern": {
             "shape": ""
            }
           },
           "name": "Water Supply, Sewerage, Waste Management",
           "offsetgroup": "Water Supply, Sewerage, Waste Management",
           "orientation": "v",
           "showlegend": true,
           "textposition": "auto",
           "type": "bar",
           "x": [
            "Water Supply, Sewerage, Waste Management"
           ],
           "xaxis": "x",
           "y": [
            184
           ],
           "yaxis": "y"
          },
          {
           "alignmentgroup": "True",
           "hovertemplate": "Industry=%{x}<br>Year-Month=2021-05<br>Sum=%{y}<extra></extra>",
           "ids": [
            "Wholesale & Retail"
           ],
           "legendgroup": "Wholesale & Retail",
           "marker": {
            "color": "#636efa",
            "pattern": {
             "shape": ""
            }
           },
           "name": "Wholesale & Retail",
           "offsetgroup": "Wholesale & Retail",
           "orientation": "v",
           "showlegend": true,
           "textposition": "auto",
           "type": "bar",
           "x": [
            "Wholesale & Retail"
           ],
           "xaxis": "x",
           "y": [
            11395
           ],
           "yaxis": "y"
          }
         ],
         "name": "2021-05"
        },
        {
         "data": [
          {
           "alignmentgroup": "True",
           "hovertemplate": "Industry=%{x}<br>Year-Month=2021-06<br>Sum=%{y}<extra></extra>",
           "ids": [
            "Accommodation & Food"
           ],
           "legendgroup": "Accommodation & Food",
           "marker": {
            "color": "#636efa",
            "pattern": {
             "shape": ""
            }
           },
           "name": "Accommodation & Food",
           "offsetgroup": "Accommodation & Food",
           "orientation": "v",
           "showlegend": true,
           "textposition": "auto",
           "type": "bar",
           "x": [
            "Accommodation & Food"
           ],
           "xaxis": "x",
           "y": [
            3850
           ],
           "yaxis": "y"
          },
          {
           "alignmentgroup": "True",
           "hovertemplate": "Industry=%{x}<br>Year-Month=2021-06<br>Sum=%{y}<extra></extra>",
           "ids": [
            "Administration & Security"
           ],
           "legendgroup": "Administration & Security",
           "marker": {
            "color": "#EF553B",
            "pattern": {
             "shape": ""
            }
           },
           "name": "Administration & Security",
           "offsetgroup": "Administration & Security",
           "orientation": "v",
           "showlegend": true,
           "textposition": "auto",
           "type": "bar",
           "x": [
            "Administration & Security"
           ],
           "xaxis": "x",
           "y": [
            146
           ],
           "yaxis": "y"
          },
          {
           "alignmentgroup": "True",
           "hovertemplate": "Industry=%{x}<br>Year-Month=2021-06<br>Sum=%{y}<extra></extra>",
           "ids": [
            "Administrative Servives"
           ],
           "legendgroup": "Administrative Servives",
           "marker": {
            "color": "#00cc96",
            "pattern": {
             "shape": ""
            }
           },
           "name": "Administrative Servives",
           "offsetgroup": "Administrative Servives",
           "orientation": "v",
           "showlegend": true,
           "textposition": "auto",
           "type": "bar",
           "x": [
            "Administrative Servives"
           ],
           "xaxis": "x",
           "y": [
            4106
           ],
           "yaxis": "y"
          },
          {
           "alignmentgroup": "True",
           "hovertemplate": "Industry=%{x}<br>Year-Month=2021-06<br>Sum=%{y}<extra></extra>",
           "ids": [
            "Agriculture, Forestry & Fishing"
           ],
           "legendgroup": "Agriculture, Forestry & Fishing",
           "marker": {
            "color": "#ab63fa",
            "pattern": {
             "shape": ""
            }
           },
           "name": "Agriculture, Forestry & Fishing",
           "offsetgroup": "Agriculture, Forestry & Fishing",
           "orientation": "v",
           "showlegend": true,
           "textposition": "auto",
           "type": "bar",
           "x": [
            "Agriculture, Forestry & Fishing"
           ],
           "xaxis": "x",
           "y": [
            304
           ],
           "yaxis": "y"
          },
          {
           "alignmentgroup": "True",
           "hovertemplate": "Industry=%{x}<br>Year-Month=2021-06<br>Sum=%{y}<extra></extra>",
           "ids": [
            "Arts & Entertainment"
           ],
           "legendgroup": "Arts & Entertainment",
           "marker": {
            "color": "#FFA15A",
            "pattern": {
             "shape": ""
            }
           },
           "name": "Arts & Entertainment",
           "offsetgroup": "Arts & Entertainment",
           "orientation": "v",
           "showlegend": true,
           "textposition": "auto",
           "type": "bar",
           "x": [
            "Arts & Entertainment"
           ],
           "xaxis": "x",
           "y": [
            1108
           ],
           "yaxis": "y"
          },
          {
           "alignmentgroup": "True",
           "hovertemplate": "Industry=%{x}<br>Year-Month=2021-06<br>Sum=%{y}<extra></extra>",
           "ids": [
            "Construction"
           ],
           "legendgroup": "Construction",
           "marker": {
            "color": "#19d3f3",
            "pattern": {
             "shape": ""
            }
           },
           "name": "Construction",
           "offsetgroup": "Construction",
           "orientation": "v",
           "showlegend": true,
           "textposition": "auto",
           "type": "bar",
           "x": [
            "Construction"
           ],
           "xaxis": "x",
           "y": [
            5742
           ],
           "yaxis": "y"
          },
          {
           "alignmentgroup": "True",
           "hovertemplate": "Industry=%{x}<br>Year-Month=2021-06<br>Sum=%{y}<extra></extra>",
           "ids": [
            "Education"
           ],
           "legendgroup": "Education",
           "marker": {
            "color": "#FF6692",
            "pattern": {
             "shape": ""
            }
           },
           "name": "Education",
           "offsetgroup": "Education",
           "orientation": "v",
           "showlegend": true,
           "textposition": "auto",
           "type": "bar",
           "x": [
            "Education"
           ],
           "xaxis": "x",
           "y": [
            1074
           ],
           "yaxis": "y"
          },
          {
           "alignmentgroup": "True",
           "hovertemplate": "Industry=%{x}<br>Year-Month=2021-06<br>Sum=%{y}<extra></extra>",
           "ids": [
            "Energy Supply"
           ],
           "legendgroup": "Energy Supply",
           "marker": {
            "color": "#B6E880",
            "pattern": {
             "shape": ""
            }
           },
           "name": "Energy Supply",
           "offsetgroup": "Energy Supply",
           "orientation": "v",
           "showlegend": true,
           "textposition": "auto",
           "type": "bar",
           "x": [
            "Energy Supply"
           ],
           "xaxis": "x",
           "y": [
            146
           ],
           "yaxis": "y"
          },
          {
           "alignmentgroup": "True",
           "hovertemplate": "Industry=%{x}<br>Year-Month=2021-06<br>Sum=%{y}<extra></extra>",
           "ids": [
            "Extraterritorial Organisations"
           ],
           "legendgroup": "Extraterritorial Organisations",
           "marker": {
            "color": "#FF97FF",
            "pattern": {
             "shape": ""
            }
           },
           "name": "Extraterritorial Organisations",
           "offsetgroup": "Extraterritorial Organisations",
           "orientation": "v",
           "showlegend": true,
           "textposition": "auto",
           "type": "bar",
           "x": [
            "Extraterritorial Organisations"
           ],
           "xaxis": "x",
           "y": [
            1080
           ],
           "yaxis": "y"
          },
          {
           "alignmentgroup": "True",
           "hovertemplate": "Industry=%{x}<br>Year-Month=2021-06<br>Sum=%{y}<extra></extra>",
           "ids": [
            "Financial & Insurance"
           ],
           "legendgroup": "Financial & Insurance",
           "marker": {
            "color": "#FECB52",
            "pattern": {
             "shape": ""
            }
           },
           "name": "Financial & Insurance",
           "offsetgroup": "Financial & Insurance",
           "orientation": "v",
           "showlegend": true,
           "textposition": "auto",
           "type": "bar",
           "x": [
            "Financial & Insurance"
           ],
           "xaxis": "x",
           "y": [
            2062
           ],
           "yaxis": "y"
          },
          {
           "alignmentgroup": "True",
           "hovertemplate": "Industry=%{x}<br>Year-Month=2021-06<br>Sum=%{y}<extra></extra>",
           "ids": [
            "Health & Social Work"
           ],
           "legendgroup": "Health & Social Work",
           "marker": {
            "color": "#636efa",
            "pattern": {
             "shape": ""
            }
           },
           "name": "Health & Social Work",
           "offsetgroup": "Health & Social Work",
           "orientation": "v",
           "showlegend": true,
           "textposition": "auto",
           "type": "bar",
           "x": [
            "Health & Social Work"
           ],
           "xaxis": "x",
           "y": [
            2078
           ],
           "yaxis": "y"
          },
          {
           "alignmentgroup": "True",
           "hovertemplate": "Industry=%{x}<br>Year-Month=2021-06<br>Sum=%{y}<extra></extra>",
           "ids": [
            "Households as Employers"
           ],
           "legendgroup": "Households as Employers",
           "marker": {
            "color": "#EF553B",
            "pattern": {
             "shape": ""
            }
           },
           "name": "Households as Employers",
           "offsetgroup": "Households as Employers",
           "orientation": "v",
           "showlegend": true,
           "textposition": "auto",
           "type": "bar",
           "x": [
            "Households as Employers"
           ],
           "xaxis": "x",
           "y": [
            588
           ],
           "yaxis": "y"
          },
          {
           "alignmentgroup": "True",
           "hovertemplate": "Industry=%{x}<br>Year-Month=2021-06<br>Sum=%{y}<extra></extra>",
           "ids": [
            "Information & Communication"
           ],
           "legendgroup": "Information & Communication",
           "marker": {
            "color": "#00cc96",
            "pattern": {
             "shape": ""
            }
           },
           "name": "Information & Communication",
           "offsetgroup": "Information & Communication",
           "orientation": "v",
           "showlegend": true,
           "textposition": "auto",
           "type": "bar",
           "x": [
            "Information & Communication"
           ],
           "xaxis": "x",
           "y": [
            4114
           ],
           "yaxis": "y"
          },
          {
           "alignmentgroup": "True",
           "hovertemplate": "Industry=%{x}<br>Year-Month=2021-06<br>Sum=%{y}<extra></extra>",
           "ids": [
            "Manufacturing"
           ],
           "legendgroup": "Manufacturing",
           "marker": {
            "color": "#ab63fa",
            "pattern": {
             "shape": ""
            }
           },
           "name": "Manufacturing",
           "offsetgroup": "Manufacturing",
           "orientation": "v",
           "showlegend": true,
           "textposition": "auto",
           "type": "bar",
           "x": [
            "Manufacturing"
           ],
           "xaxis": "x",
           "y": [
            2308
           ],
           "yaxis": "y"
          },
          {
           "alignmentgroup": "True",
           "hovertemplate": "Industry=%{x}<br>Year-Month=2021-06<br>Sum=%{y}<extra></extra>",
           "ids": [
            "Mining & Quarrying"
           ],
           "legendgroup": "Mining & Quarrying",
           "marker": {
            "color": "#FFA15A",
            "pattern": {
             "shape": ""
            }
           },
           "name": "Mining & Quarrying",
           "offsetgroup": "Mining & Quarrying",
           "orientation": "v",
           "showlegend": true,
           "textposition": "auto",
           "type": "bar",
           "x": [
            "Mining & Quarrying"
           ],
           "xaxis": "x",
           "y": [
            81
           ],
           "yaxis": "y"
          },
          {
           "alignmentgroup": "True",
           "hovertemplate": "Industry=%{x}<br>Year-Month=2021-06<br>Sum=%{y}<extra></extra>",
           "ids": [
            "Other Services"
           ],
           "legendgroup": "Other Services",
           "marker": {
            "color": "#19d3f3",
            "pattern": {
             "shape": ""
            }
           },
           "name": "Other Services",
           "offsetgroup": "Other Services",
           "orientation": "v",
           "showlegend": true,
           "textposition": "auto",
           "type": "bar",
           "x": [
            "Other Services"
           ],
           "xaxis": "x",
           "y": [
            2831
           ],
           "yaxis": "y"
          },
          {
           "alignmentgroup": "True",
           "hovertemplate": "Industry=%{x}<br>Year-Month=2021-06<br>Sum=%{y}<extra></extra>",
           "ids": [
            "Professional, Scientific & Technical"
           ],
           "legendgroup": "Professional, Scientific & Technical",
           "marker": {
            "color": "#FF6692",
            "pattern": {
             "shape": ""
            }
           },
           "name": "Professional, Scientific & Technical",
           "offsetgroup": "Professional, Scientific & Technical",
           "orientation": "v",
           "showlegend": true,
           "textposition": "auto",
           "type": "bar",
           "x": [
            "Professional, Scientific & Technical"
           ],
           "xaxis": "x",
           "y": [
            5251
           ],
           "yaxis": "y"
          },
          {
           "alignmentgroup": "True",
           "hovertemplate": "Industry=%{x}<br>Year-Month=2021-06<br>Sum=%{y}<extra></extra>",
           "ids": [
            "Real Estate"
           ],
           "legendgroup": "Real Estate",
           "marker": {
            "color": "#B6E880",
            "pattern": {
             "shape": ""
            }
           },
           "name": "Real Estate",
           "offsetgroup": "Real Estate",
           "orientation": "v",
           "showlegend": true,
           "textposition": "auto",
           "type": "bar",
           "x": [
            "Real Estate"
           ],
           "xaxis": "x",
           "y": [
            4979
           ],
           "yaxis": "y"
          },
          {
           "alignmentgroup": "True",
           "hovertemplate": "Industry=%{x}<br>Year-Month=2021-06<br>Sum=%{y}<extra></extra>",
           "ids": [
            "Transportation & Storage"
           ],
           "legendgroup": "Transportation & Storage",
           "marker": {
            "color": "#FF97FF",
            "pattern": {
             "shape": ""
            }
           },
           "name": "Transportation & Storage",
           "offsetgroup": "Transportation & Storage",
           "orientation": "v",
           "showlegend": true,
           "textposition": "auto",
           "type": "bar",
           "x": [
            "Transportation & Storage"
           ],
           "xaxis": "x",
           "y": [
            2257
           ],
           "yaxis": "y"
          },
          {
           "alignmentgroup": "True",
           "hovertemplate": "Industry=%{x}<br>Year-Month=2021-06<br>Sum=%{y}<extra></extra>",
           "ids": [
            "Water Supply, Sewerage, Waste Management"
           ],
           "legendgroup": "Water Supply, Sewerage, Waste Management",
           "marker": {
            "color": "#FECB52",
            "pattern": {
             "shape": ""
            }
           },
           "name": "Water Supply, Sewerage, Waste Management",
           "offsetgroup": "Water Supply, Sewerage, Waste Management",
           "orientation": "v",
           "showlegend": true,
           "textposition": "auto",
           "type": "bar",
           "x": [
            "Water Supply, Sewerage, Waste Management"
           ],
           "xaxis": "x",
           "y": [
            193
           ],
           "yaxis": "y"
          },
          {
           "alignmentgroup": "True",
           "hovertemplate": "Industry=%{x}<br>Year-Month=2021-06<br>Sum=%{y}<extra></extra>",
           "ids": [
            "Wholesale & Retail"
           ],
           "legendgroup": "Wholesale & Retail",
           "marker": {
            "color": "#636efa",
            "pattern": {
             "shape": ""
            }
           },
           "name": "Wholesale & Retail",
           "offsetgroup": "Wholesale & Retail",
           "orientation": "v",
           "showlegend": true,
           "textposition": "auto",
           "type": "bar",
           "x": [
            "Wholesale & Retail"
           ],
           "xaxis": "x",
           "y": [
            10660
           ],
           "yaxis": "y"
          }
         ],
         "name": "2021-06"
        },
        {
         "data": [
          {
           "alignmentgroup": "True",
           "hovertemplate": "Industry=%{x}<br>Year-Month=2021-07<br>Sum=%{y}<extra></extra>",
           "ids": [
            "Accommodation & Food"
           ],
           "legendgroup": "Accommodation & Food",
           "marker": {
            "color": "#636efa",
            "pattern": {
             "shape": ""
            }
           },
           "name": "Accommodation & Food",
           "offsetgroup": "Accommodation & Food",
           "orientation": "v",
           "showlegend": true,
           "textposition": "auto",
           "type": "bar",
           "x": [
            "Accommodation & Food"
           ],
           "xaxis": "x",
           "y": [
            3767
           ],
           "yaxis": "y"
          },
          {
           "alignmentgroup": "True",
           "hovertemplate": "Industry=%{x}<br>Year-Month=2021-07<br>Sum=%{y}<extra></extra>",
           "ids": [
            "Administration & Security"
           ],
           "legendgroup": "Administration & Security",
           "marker": {
            "color": "#EF553B",
            "pattern": {
             "shape": ""
            }
           },
           "name": "Administration & Security",
           "offsetgroup": "Administration & Security",
           "orientation": "v",
           "showlegend": true,
           "textposition": "auto",
           "type": "bar",
           "x": [
            "Administration & Security"
           ],
           "xaxis": "x",
           "y": [
            156
           ],
           "yaxis": "y"
          },
          {
           "alignmentgroup": "True",
           "hovertemplate": "Industry=%{x}<br>Year-Month=2021-07<br>Sum=%{y}<extra></extra>",
           "ids": [
            "Administrative Servives"
           ],
           "legendgroup": "Administrative Servives",
           "marker": {
            "color": "#00cc96",
            "pattern": {
             "shape": ""
            }
           },
           "name": "Administrative Servives",
           "offsetgroup": "Administrative Servives",
           "orientation": "v",
           "showlegend": true,
           "textposition": "auto",
           "type": "bar",
           "x": [
            "Administrative Servives"
           ],
           "xaxis": "x",
           "y": [
            4008
           ],
           "yaxis": "y"
          },
          {
           "alignmentgroup": "True",
           "hovertemplate": "Industry=%{x}<br>Year-Month=2021-07<br>Sum=%{y}<extra></extra>",
           "ids": [
            "Agriculture, Forestry & Fishing"
           ],
           "legendgroup": "Agriculture, Forestry & Fishing",
           "marker": {
            "color": "#ab63fa",
            "pattern": {
             "shape": ""
            }
           },
           "name": "Agriculture, Forestry & Fishing",
           "offsetgroup": "Agriculture, Forestry & Fishing",
           "orientation": "v",
           "showlegend": true,
           "textposition": "auto",
           "type": "bar",
           "x": [
            "Agriculture, Forestry & Fishing"
           ],
           "xaxis": "x",
           "y": [
            334
           ],
           "yaxis": "y"
          },
          {
           "alignmentgroup": "True",
           "hovertemplate": "Industry=%{x}<br>Year-Month=2021-07<br>Sum=%{y}<extra></extra>",
           "ids": [
            "Arts & Entertainment"
           ],
           "legendgroup": "Arts & Entertainment",
           "marker": {
            "color": "#FFA15A",
            "pattern": {
             "shape": ""
            }
           },
           "name": "Arts & Entertainment",
           "offsetgroup": "Arts & Entertainment",
           "orientation": "v",
           "showlegend": true,
           "textposition": "auto",
           "type": "bar",
           "x": [
            "Arts & Entertainment"
           ],
           "xaxis": "x",
           "y": [
            1101
           ],
           "yaxis": "y"
          },
          {
           "alignmentgroup": "True",
           "hovertemplate": "Industry=%{x}<br>Year-Month=2021-07<br>Sum=%{y}<extra></extra>",
           "ids": [
            "Construction"
           ],
           "legendgroup": "Construction",
           "marker": {
            "color": "#19d3f3",
            "pattern": {
             "shape": ""
            }
           },
           "name": "Construction",
           "offsetgroup": "Construction",
           "orientation": "v",
           "showlegend": true,
           "textposition": "auto",
           "type": "bar",
           "x": [
            "Construction"
           ],
           "xaxis": "x",
           "y": [
            5555
           ],
           "yaxis": "y"
          },
          {
           "alignmentgroup": "True",
           "hovertemplate": "Industry=%{x}<br>Year-Month=2021-07<br>Sum=%{y}<extra></extra>",
           "ids": [
            "Education"
           ],
           "legendgroup": "Education",
           "marker": {
            "color": "#FF6692",
            "pattern": {
             "shape": ""
            }
           },
           "name": "Education",
           "offsetgroup": "Education",
           "orientation": "v",
           "showlegend": true,
           "textposition": "auto",
           "type": "bar",
           "x": [
            "Education"
           ],
           "xaxis": "x",
           "y": [
            1058
           ],
           "yaxis": "y"
          },
          {
           "alignmentgroup": "True",
           "hovertemplate": "Industry=%{x}<br>Year-Month=2021-07<br>Sum=%{y}<extra></extra>",
           "ids": [
            "Energy Supply"
           ],
           "legendgroup": "Energy Supply",
           "marker": {
            "color": "#B6E880",
            "pattern": {
             "shape": ""
            }
           },
           "name": "Energy Supply",
           "offsetgroup": "Energy Supply",
           "orientation": "v",
           "showlegend": true,
           "textposition": "auto",
           "type": "bar",
           "x": [
            "Energy Supply"
           ],
           "xaxis": "x",
           "y": [
            170
           ],
           "yaxis": "y"
          },
          {
           "alignmentgroup": "True",
           "hovertemplate": "Industry=%{x}<br>Year-Month=2021-07<br>Sum=%{y}<extra></extra>",
           "ids": [
            "Extraterritorial Organisations"
           ],
           "legendgroup": "Extraterritorial Organisations",
           "marker": {
            "color": "#FF97FF",
            "pattern": {
             "shape": ""
            }
           },
           "name": "Extraterritorial Organisations",
           "offsetgroup": "Extraterritorial Organisations",
           "orientation": "v",
           "showlegend": true,
           "textposition": "auto",
           "type": "bar",
           "x": [
            "Extraterritorial Organisations"
           ],
           "xaxis": "x",
           "y": [
            1012
           ],
           "yaxis": "y"
          },
          {
           "alignmentgroup": "True",
           "hovertemplate": "Industry=%{x}<br>Year-Month=2021-07<br>Sum=%{y}<extra></extra>",
           "ids": [
            "Financial & Insurance"
           ],
           "legendgroup": "Financial & Insurance",
           "marker": {
            "color": "#FECB52",
            "pattern": {
             "shape": ""
            }
           },
           "name": "Financial & Insurance",
           "offsetgroup": "Financial & Insurance",
           "orientation": "v",
           "showlegend": true,
           "textposition": "auto",
           "type": "bar",
           "x": [
            "Financial & Insurance"
           ],
           "xaxis": "x",
           "y": [
            2163
           ],
           "yaxis": "y"
          },
          {
           "alignmentgroup": "True",
           "hovertemplate": "Industry=%{x}<br>Year-Month=2021-07<br>Sum=%{y}<extra></extra>",
           "ids": [
            "Health & Social Work"
           ],
           "legendgroup": "Health & Social Work",
           "marker": {
            "color": "#636efa",
            "pattern": {
             "shape": ""
            }
           },
           "name": "Health & Social Work",
           "offsetgroup": "Health & Social Work",
           "orientation": "v",
           "showlegend": true,
           "textposition": "auto",
           "type": "bar",
           "x": [
            "Health & Social Work"
           ],
           "xaxis": "x",
           "y": [
            2143
           ],
           "yaxis": "y"
          },
          {
           "alignmentgroup": "True",
           "hovertemplate": "Industry=%{x}<br>Year-Month=2021-07<br>Sum=%{y}<extra></extra>",
           "ids": [
            "Households as Employers"
           ],
           "legendgroup": "Households as Employers",
           "marker": {
            "color": "#EF553B",
            "pattern": {
             "shape": ""
            }
           },
           "name": "Households as Employers",
           "offsetgroup": "Households as Employers",
           "orientation": "v",
           "showlegend": true,
           "textposition": "auto",
           "type": "bar",
           "x": [
            "Households as Employers"
           ],
           "xaxis": "x",
           "y": [
            534
           ],
           "yaxis": "y"
          },
          {
           "alignmentgroup": "True",
           "hovertemplate": "Industry=%{x}<br>Year-Month=2021-07<br>Sum=%{y}<extra></extra>",
           "ids": [
            "Information & Communication"
           ],
           "legendgroup": "Information & Communication",
           "marker": {
            "color": "#00cc96",
            "pattern": {
             "shape": ""
            }
           },
           "name": "Information & Communication",
           "offsetgroup": "Information & Communication",
           "orientation": "v",
           "showlegend": true,
           "textposition": "auto",
           "type": "bar",
           "x": [
            "Information & Communication"
           ],
           "xaxis": "x",
           "y": [
            4275
           ],
           "yaxis": "y"
          },
          {
           "alignmentgroup": "True",
           "hovertemplate": "Industry=%{x}<br>Year-Month=2021-07<br>Sum=%{y}<extra></extra>",
           "ids": [
            "Manufacturing"
           ],
           "legendgroup": "Manufacturing",
           "marker": {
            "color": "#ab63fa",
            "pattern": {
             "shape": ""
            }
           },
           "name": "Manufacturing",
           "offsetgroup": "Manufacturing",
           "orientation": "v",
           "showlegend": true,
           "textposition": "auto",
           "type": "bar",
           "x": [
            "Manufacturing"
           ],
           "xaxis": "x",
           "y": [
            1982
           ],
           "yaxis": "y"
          },
          {
           "alignmentgroup": "True",
           "hovertemplate": "Industry=%{x}<br>Year-Month=2021-07<br>Sum=%{y}<extra></extra>",
           "ids": [
            "Mining & Quarrying"
           ],
           "legendgroup": "Mining & Quarrying",
           "marker": {
            "color": "#FFA15A",
            "pattern": {
             "shape": ""
            }
           },
           "name": "Mining & Quarrying",
           "offsetgroup": "Mining & Quarrying",
           "orientation": "v",
           "showlegend": true,
           "textposition": "auto",
           "type": "bar",
           "x": [
            "Mining & Quarrying"
           ],
           "xaxis": "x",
           "y": [
            79
           ],
           "yaxis": "y"
          },
          {
           "alignmentgroup": "True",
           "hovertemplate": "Industry=%{x}<br>Year-Month=2021-07<br>Sum=%{y}<extra></extra>",
           "ids": [
            "Other Services"
           ],
           "legendgroup": "Other Services",
           "marker": {
            "color": "#19d3f3",
            "pattern": {
             "shape": ""
            }
           },
           "name": "Other Services",
           "offsetgroup": "Other Services",
           "orientation": "v",
           "showlegend": true,
           "textposition": "auto",
           "type": "bar",
           "x": [
            "Other Services"
           ],
           "xaxis": "x",
           "y": [
            2760
           ],
           "yaxis": "y"
          },
          {
           "alignmentgroup": "True",
           "hovertemplate": "Industry=%{x}<br>Year-Month=2021-07<br>Sum=%{y}<extra></extra>",
           "ids": [
            "Professional, Scientific & Technical"
           ],
           "legendgroup": "Professional, Scientific & Technical",
           "marker": {
            "color": "#FF6692",
            "pattern": {
             "shape": ""
            }
           },
           "name": "Professional, Scientific & Technical",
           "offsetgroup": "Professional, Scientific & Technical",
           "orientation": "v",
           "showlegend": true,
           "textposition": "auto",
           "type": "bar",
           "x": [
            "Professional, Scientific & Technical"
           ],
           "xaxis": "x",
           "y": [
            5287
           ],
           "yaxis": "y"
          },
          {
           "alignmentgroup": "True",
           "hovertemplate": "Industry=%{x}<br>Year-Month=2021-07<br>Sum=%{y}<extra></extra>",
           "ids": [
            "Real Estate"
           ],
           "legendgroup": "Real Estate",
           "marker": {
            "color": "#B6E880",
            "pattern": {
             "shape": ""
            }
           },
           "name": "Real Estate",
           "offsetgroup": "Real Estate",
           "orientation": "v",
           "showlegend": true,
           "textposition": "auto",
           "type": "bar",
           "x": [
            "Real Estate"
           ],
           "xaxis": "x",
           "y": [
            4830
           ],
           "yaxis": "y"
          },
          {
           "alignmentgroup": "True",
           "hovertemplate": "Industry=%{x}<br>Year-Month=2021-07<br>Sum=%{y}<extra></extra>",
           "ids": [
            "Transportation & Storage"
           ],
           "legendgroup": "Transportation & Storage",
           "marker": {
            "color": "#FF97FF",
            "pattern": {
             "shape": ""
            }
           },
           "name": "Transportation & Storage",
           "offsetgroup": "Transportation & Storage",
           "orientation": "v",
           "showlegend": true,
           "textposition": "auto",
           "type": "bar",
           "x": [
            "Transportation & Storage"
           ],
           "xaxis": "x",
           "y": [
            2874
           ],
           "yaxis": "y"
          },
          {
           "alignmentgroup": "True",
           "hovertemplate": "Industry=%{x}<br>Year-Month=2021-07<br>Sum=%{y}<extra></extra>",
           "ids": [
            "Water Supply, Sewerage, Waste Management"
           ],
           "legendgroup": "Water Supply, Sewerage, Waste Management",
           "marker": {
            "color": "#FECB52",
            "pattern": {
             "shape": ""
            }
           },
           "name": "Water Supply, Sewerage, Waste Management",
           "offsetgroup": "Water Supply, Sewerage, Waste Management",
           "orientation": "v",
           "showlegend": true,
           "textposition": "auto",
           "type": "bar",
           "x": [
            "Water Supply, Sewerage, Waste Management"
           ],
           "xaxis": "x",
           "y": [
            247
           ],
           "yaxis": "y"
          },
          {
           "alignmentgroup": "True",
           "hovertemplate": "Industry=%{x}<br>Year-Month=2021-07<br>Sum=%{y}<extra></extra>",
           "ids": [
            "Wholesale & Retail"
           ],
           "legendgroup": "Wholesale & Retail",
           "marker": {
            "color": "#636efa",
            "pattern": {
             "shape": ""
            }
           },
           "name": "Wholesale & Retail",
           "offsetgroup": "Wholesale & Retail",
           "orientation": "v",
           "showlegend": true,
           "textposition": "auto",
           "type": "bar",
           "x": [
            "Wholesale & Retail"
           ],
           "xaxis": "x",
           "y": [
            9843
           ],
           "yaxis": "y"
          }
         ],
         "name": "2021-07"
        },
        {
         "data": [
          {
           "alignmentgroup": "True",
           "hovertemplate": "Industry=%{x}<br>Year-Month=2021-08<br>Sum=%{y}<extra></extra>",
           "ids": [
            "Accommodation & Food"
           ],
           "legendgroup": "Accommodation & Food",
           "marker": {
            "color": "#636efa",
            "pattern": {
             "shape": ""
            }
           },
           "name": "Accommodation & Food",
           "offsetgroup": "Accommodation & Food",
           "orientation": "v",
           "showlegend": true,
           "textposition": "auto",
           "type": "bar",
           "x": [
            "Accommodation & Food"
           ],
           "xaxis": "x",
           "y": [
            4279
           ],
           "yaxis": "y"
          },
          {
           "alignmentgroup": "True",
           "hovertemplate": "Industry=%{x}<br>Year-Month=2021-08<br>Sum=%{y}<extra></extra>",
           "ids": [
            "Administration & Security"
           ],
           "legendgroup": "Administration & Security",
           "marker": {
            "color": "#EF553B",
            "pattern": {
             "shape": ""
            }
           },
           "name": "Administration & Security",
           "offsetgroup": "Administration & Security",
           "orientation": "v",
           "showlegend": true,
           "textposition": "auto",
           "type": "bar",
           "x": [
            "Administration & Security"
           ],
           "xaxis": "x",
           "y": [
            164
           ],
           "yaxis": "y"
          },
          {
           "alignmentgroup": "True",
           "hovertemplate": "Industry=%{x}<br>Year-Month=2021-08<br>Sum=%{y}<extra></extra>",
           "ids": [
            "Administrative Servives"
           ],
           "legendgroup": "Administrative Servives",
           "marker": {
            "color": "#00cc96",
            "pattern": {
             "shape": ""
            }
           },
           "name": "Administrative Servives",
           "offsetgroup": "Administrative Servives",
           "orientation": "v",
           "showlegend": true,
           "textposition": "auto",
           "type": "bar",
           "x": [
            "Administrative Servives"
           ],
           "xaxis": "x",
           "y": [
            4296
           ],
           "yaxis": "y"
          },
          {
           "alignmentgroup": "True",
           "hovertemplate": "Industry=%{x}<br>Year-Month=2021-08<br>Sum=%{y}<extra></extra>",
           "ids": [
            "Agriculture, Forestry & Fishing"
           ],
           "legendgroup": "Agriculture, Forestry & Fishing",
           "marker": {
            "color": "#ab63fa",
            "pattern": {
             "shape": ""
            }
           },
           "name": "Agriculture, Forestry & Fishing",
           "offsetgroup": "Agriculture, Forestry & Fishing",
           "orientation": "v",
           "showlegend": true,
           "textposition": "auto",
           "type": "bar",
           "x": [
            "Agriculture, Forestry & Fishing"
           ],
           "xaxis": "x",
           "y": [
            371
           ],
           "yaxis": "y"
          },
          {
           "alignmentgroup": "True",
           "hovertemplate": "Industry=%{x}<br>Year-Month=2021-08<br>Sum=%{y}<extra></extra>",
           "ids": [
            "Arts & Entertainment"
           ],
           "legendgroup": "Arts & Entertainment",
           "marker": {
            "color": "#FFA15A",
            "pattern": {
             "shape": ""
            }
           },
           "name": "Arts & Entertainment",
           "offsetgroup": "Arts & Entertainment",
           "orientation": "v",
           "showlegend": true,
           "textposition": "auto",
           "type": "bar",
           "x": [
            "Arts & Entertainment"
           ],
           "xaxis": "x",
           "y": [
            1193
           ],
           "yaxis": "y"
          },
          {
           "alignmentgroup": "True",
           "hovertemplate": "Industry=%{x}<br>Year-Month=2021-08<br>Sum=%{y}<extra></extra>",
           "ids": [
            "Construction"
           ],
           "legendgroup": "Construction",
           "marker": {
            "color": "#19d3f3",
            "pattern": {
             "shape": ""
            }
           },
           "name": "Construction",
           "offsetgroup": "Construction",
           "orientation": "v",
           "showlegend": true,
           "textposition": "auto",
           "type": "bar",
           "x": [
            "Construction"
           ],
           "xaxis": "x",
           "y": [
            6019
           ],
           "yaxis": "y"
          },
          {
           "alignmentgroup": "True",
           "hovertemplate": "Industry=%{x}<br>Year-Month=2021-08<br>Sum=%{y}<extra></extra>",
           "ids": [
            "Education"
           ],
           "legendgroup": "Education",
           "marker": {
            "color": "#FF6692",
            "pattern": {
             "shape": ""
            }
           },
           "name": "Education",
           "offsetgroup": "Education",
           "orientation": "v",
           "showlegend": true,
           "textposition": "auto",
           "type": "bar",
           "x": [
            "Education"
           ],
           "xaxis": "x",
           "y": [
            1123
           ],
           "yaxis": "y"
          },
          {
           "alignmentgroup": "True",
           "hovertemplate": "Industry=%{x}<br>Year-Month=2021-08<br>Sum=%{y}<extra></extra>",
           "ids": [
            "Energy Supply"
           ],
           "legendgroup": "Energy Supply",
           "marker": {
            "color": "#B6E880",
            "pattern": {
             "shape": ""
            }
           },
           "name": "Energy Supply",
           "offsetgroup": "Energy Supply",
           "orientation": "v",
           "showlegend": true,
           "textposition": "auto",
           "type": "bar",
           "x": [
            "Energy Supply"
           ],
           "xaxis": "x",
           "y": [
            140
           ],
           "yaxis": "y"
          },
          {
           "alignmentgroup": "True",
           "hovertemplate": "Industry=%{x}<br>Year-Month=2021-08<br>Sum=%{y}<extra></extra>",
           "ids": [
            "Extraterritorial Organisations"
           ],
           "legendgroup": "Extraterritorial Organisations",
           "marker": {
            "color": "#FF97FF",
            "pattern": {
             "shape": ""
            }
           },
           "name": "Extraterritorial Organisations",
           "offsetgroup": "Extraterritorial Organisations",
           "orientation": "v",
           "showlegend": true,
           "textposition": "auto",
           "type": "bar",
           "x": [
            "Extraterritorial Organisations"
           ],
           "xaxis": "x",
           "y": [
            1164
           ],
           "yaxis": "y"
          },
          {
           "alignmentgroup": "True",
           "hovertemplate": "Industry=%{x}<br>Year-Month=2021-08<br>Sum=%{y}<extra></extra>",
           "ids": [
            "Financial & Insurance"
           ],
           "legendgroup": "Financial & Insurance",
           "marker": {
            "color": "#FECB52",
            "pattern": {
             "shape": ""
            }
           },
           "name": "Financial & Insurance",
           "offsetgroup": "Financial & Insurance",
           "orientation": "v",
           "showlegend": true,
           "textposition": "auto",
           "type": "bar",
           "x": [
            "Financial & Insurance"
           ],
           "xaxis": "x",
           "y": [
            2281
           ],
           "yaxis": "y"
          },
          {
           "alignmentgroup": "True",
           "hovertemplate": "Industry=%{x}<br>Year-Month=2021-08<br>Sum=%{y}<extra></extra>",
           "ids": [
            "Health & Social Work"
           ],
           "legendgroup": "Health & Social Work",
           "marker": {
            "color": "#636efa",
            "pattern": {
             "shape": ""
            }
           },
           "name": "Health & Social Work",
           "offsetgroup": "Health & Social Work",
           "orientation": "v",
           "showlegend": true,
           "textposition": "auto",
           "type": "bar",
           "x": [
            "Health & Social Work"
           ],
           "xaxis": "x",
           "y": [
            2385
           ],
           "yaxis": "y"
          },
          {
           "alignmentgroup": "True",
           "hovertemplate": "Industry=%{x}<br>Year-Month=2021-08<br>Sum=%{y}<extra></extra>",
           "ids": [
            "Households as Employers"
           ],
           "legendgroup": "Households as Employers",
           "marker": {
            "color": "#EF553B",
            "pattern": {
             "shape": ""
            }
           },
           "name": "Households as Employers",
           "offsetgroup": "Households as Employers",
           "orientation": "v",
           "showlegend": true,
           "textposition": "auto",
           "type": "bar",
           "x": [
            "Households as Employers"
           ],
           "xaxis": "x",
           "y": [
            619
           ],
           "yaxis": "y"
          },
          {
           "alignmentgroup": "True",
           "hovertemplate": "Industry=%{x}<br>Year-Month=2021-08<br>Sum=%{y}<extra></extra>",
           "ids": [
            "Information & Communication"
           ],
           "legendgroup": "Information & Communication",
           "marker": {
            "color": "#00cc96",
            "pattern": {
             "shape": ""
            }
           },
           "name": "Information & Communication",
           "offsetgroup": "Information & Communication",
           "orientation": "v",
           "showlegend": true,
           "textposition": "auto",
           "type": "bar",
           "x": [
            "Information & Communication"
           ],
           "xaxis": "x",
           "y": [
            4472
           ],
           "yaxis": "y"
          },
          {
           "alignmentgroup": "True",
           "hovertemplate": "Industry=%{x}<br>Year-Month=2021-08<br>Sum=%{y}<extra></extra>",
           "ids": [
            "Manufacturing"
           ],
           "legendgroup": "Manufacturing",
           "marker": {
            "color": "#ab63fa",
            "pattern": {
             "shape": ""
            }
           },
           "name": "Manufacturing",
           "offsetgroup": "Manufacturing",
           "orientation": "v",
           "showlegend": true,
           "textposition": "auto",
           "type": "bar",
           "x": [
            "Manufacturing"
           ],
           "xaxis": "x",
           "y": [
            2253
           ],
           "yaxis": "y"
          },
          {
           "alignmentgroup": "True",
           "hovertemplate": "Industry=%{x}<br>Year-Month=2021-08<br>Sum=%{y}<extra></extra>",
           "ids": [
            "Mining & Quarrying"
           ],
           "legendgroup": "Mining & Quarrying",
           "marker": {
            "color": "#FFA15A",
            "pattern": {
             "shape": ""
            }
           },
           "name": "Mining & Quarrying",
           "offsetgroup": "Mining & Quarrying",
           "orientation": "v",
           "showlegend": true,
           "textposition": "auto",
           "type": "bar",
           "x": [
            "Mining & Quarrying"
           ],
           "xaxis": "x",
           "y": [
            89
           ],
           "yaxis": "y"
          },
          {
           "alignmentgroup": "True",
           "hovertemplate": "Industry=%{x}<br>Year-Month=2021-08<br>Sum=%{y}<extra></extra>",
           "ids": [
            "Other Services"
           ],
           "legendgroup": "Other Services",
           "marker": {
            "color": "#19d3f3",
            "pattern": {
             "shape": ""
            }
           },
           "name": "Other Services",
           "offsetgroup": "Other Services",
           "orientation": "v",
           "showlegend": true,
           "textposition": "auto",
           "type": "bar",
           "x": [
            "Other Services"
           ],
           "xaxis": "x",
           "y": [
            2949
           ],
           "yaxis": "y"
          },
          {
           "alignmentgroup": "True",
           "hovertemplate": "Industry=%{x}<br>Year-Month=2021-08<br>Sum=%{y}<extra></extra>",
           "ids": [
            "Professional, Scientific & Technical"
           ],
           "legendgroup": "Professional, Scientific & Technical",
           "marker": {
            "color": "#FF6692",
            "pattern": {
             "shape": ""
            }
           },
           "name": "Professional, Scientific & Technical",
           "offsetgroup": "Professional, Scientific & Technical",
           "orientation": "v",
           "showlegend": true,
           "textposition": "auto",
           "type": "bar",
           "x": [
            "Professional, Scientific & Technical"
           ],
           "xaxis": "x",
           "y": [
            5756
           ],
           "yaxis": "y"
          },
          {
           "alignmentgroup": "True",
           "hovertemplate": "Industry=%{x}<br>Year-Month=2021-08<br>Sum=%{y}<extra></extra>",
           "ids": [
            "Real Estate"
           ],
           "legendgroup": "Real Estate",
           "marker": {
            "color": "#B6E880",
            "pattern": {
             "shape": ""
            }
           },
           "name": "Real Estate",
           "offsetgroup": "Real Estate",
           "orientation": "v",
           "showlegend": true,
           "textposition": "auto",
           "type": "bar",
           "x": [
            "Real Estate"
           ],
           "xaxis": "x",
           "y": [
            5211
           ],
           "yaxis": "y"
          },
          {
           "alignmentgroup": "True",
           "hovertemplate": "Industry=%{x}<br>Year-Month=2021-08<br>Sum=%{y}<extra></extra>",
           "ids": [
            "Transportation & Storage"
           ],
           "legendgroup": "Transportation & Storage",
           "marker": {
            "color": "#FF97FF",
            "pattern": {
             "shape": ""
            }
           },
           "name": "Transportation & Storage",
           "offsetgroup": "Transportation & Storage",
           "orientation": "v",
           "showlegend": true,
           "textposition": "auto",
           "type": "bar",
           "x": [
            "Transportation & Storage"
           ],
           "xaxis": "x",
           "y": [
            3037
           ],
           "yaxis": "y"
          },
          {
           "alignmentgroup": "True",
           "hovertemplate": "Industry=%{x}<br>Year-Month=2021-08<br>Sum=%{y}<extra></extra>",
           "ids": [
            "Water Supply, Sewerage, Waste Management"
           ],
           "legendgroup": "Water Supply, Sewerage, Waste Management",
           "marker": {
            "color": "#FECB52",
            "pattern": {
             "shape": ""
            }
           },
           "name": "Water Supply, Sewerage, Waste Management",
           "offsetgroup": "Water Supply, Sewerage, Waste Management",
           "orientation": "v",
           "showlegend": true,
           "textposition": "auto",
           "type": "bar",
           "x": [
            "Water Supply, Sewerage, Waste Management"
           ],
           "xaxis": "x",
           "y": [
            233
           ],
           "yaxis": "y"
          },
          {
           "alignmentgroup": "True",
           "hovertemplate": "Industry=%{x}<br>Year-Month=2021-08<br>Sum=%{y}<extra></extra>",
           "ids": [
            "Wholesale & Retail"
           ],
           "legendgroup": "Wholesale & Retail",
           "marker": {
            "color": "#636efa",
            "pattern": {
             "shape": ""
            }
           },
           "name": "Wholesale & Retail",
           "offsetgroup": "Wholesale & Retail",
           "orientation": "v",
           "showlegend": true,
           "textposition": "auto",
           "type": "bar",
           "x": [
            "Wholesale & Retail"
           ],
           "xaxis": "x",
           "y": [
            11401
           ],
           "yaxis": "y"
          }
         ],
         "name": "2021-08"
        },
        {
         "data": [
          {
           "alignmentgroup": "True",
           "hovertemplate": "Industry=%{x}<br>Year-Month=2021-09<br>Sum=%{y}<extra></extra>",
           "ids": [
            "Accommodation & Food"
           ],
           "legendgroup": "Accommodation & Food",
           "marker": {
            "color": "#636efa",
            "pattern": {
             "shape": ""
            }
           },
           "name": "Accommodation & Food",
           "offsetgroup": "Accommodation & Food",
           "orientation": "v",
           "showlegend": true,
           "textposition": "auto",
           "type": "bar",
           "x": [
            "Accommodation & Food"
           ],
           "xaxis": "x",
           "y": [
            4378
           ],
           "yaxis": "y"
          },
          {
           "alignmentgroup": "True",
           "hovertemplate": "Industry=%{x}<br>Year-Month=2021-09<br>Sum=%{y}<extra></extra>",
           "ids": [
            "Administration & Security"
           ],
           "legendgroup": "Administration & Security",
           "marker": {
            "color": "#EF553B",
            "pattern": {
             "shape": ""
            }
           },
           "name": "Administration & Security",
           "offsetgroup": "Administration & Security",
           "orientation": "v",
           "showlegend": true,
           "textposition": "auto",
           "type": "bar",
           "x": [
            "Administration & Security"
           ],
           "xaxis": "x",
           "y": [
            195
           ],
           "yaxis": "y"
          },
          {
           "alignmentgroup": "True",
           "hovertemplate": "Industry=%{x}<br>Year-Month=2021-09<br>Sum=%{y}<extra></extra>",
           "ids": [
            "Administrative Servives"
           ],
           "legendgroup": "Administrative Servives",
           "marker": {
            "color": "#00cc96",
            "pattern": {
             "shape": ""
            }
           },
           "name": "Administrative Servives",
           "offsetgroup": "Administrative Servives",
           "orientation": "v",
           "showlegend": true,
           "textposition": "auto",
           "type": "bar",
           "x": [
            "Administrative Servives"
           ],
           "xaxis": "x",
           "y": [
            4695
           ],
           "yaxis": "y"
          },
          {
           "alignmentgroup": "True",
           "hovertemplate": "Industry=%{x}<br>Year-Month=2021-09<br>Sum=%{y}<extra></extra>",
           "ids": [
            "Agriculture, Forestry & Fishing"
           ],
           "legendgroup": "Agriculture, Forestry & Fishing",
           "marker": {
            "color": "#ab63fa",
            "pattern": {
             "shape": ""
            }
           },
           "name": "Agriculture, Forestry & Fishing",
           "offsetgroup": "Agriculture, Forestry & Fishing",
           "orientation": "v",
           "showlegend": true,
           "textposition": "auto",
           "type": "bar",
           "x": [
            "Agriculture, Forestry & Fishing"
           ],
           "xaxis": "x",
           "y": [
            433
           ],
           "yaxis": "y"
          },
          {
           "alignmentgroup": "True",
           "hovertemplate": "Industry=%{x}<br>Year-Month=2021-09<br>Sum=%{y}<extra></extra>",
           "ids": [
            "Arts & Entertainment"
           ],
           "legendgroup": "Arts & Entertainment",
           "marker": {
            "color": "#FFA15A",
            "pattern": {
             "shape": ""
            }
           },
           "name": "Arts & Entertainment",
           "offsetgroup": "Arts & Entertainment",
           "orientation": "v",
           "showlegend": true,
           "textposition": "auto",
           "type": "bar",
           "x": [
            "Arts & Entertainment"
           ],
           "xaxis": "x",
           "y": [
            1300
           ],
           "yaxis": "y"
          },
          {
           "alignmentgroup": "True",
           "hovertemplate": "Industry=%{x}<br>Year-Month=2021-09<br>Sum=%{y}<extra></extra>",
           "ids": [
            "Construction"
           ],
           "legendgroup": "Construction",
           "marker": {
            "color": "#19d3f3",
            "pattern": {
             "shape": ""
            }
           },
           "name": "Construction",
           "offsetgroup": "Construction",
           "orientation": "v",
           "showlegend": true,
           "textposition": "auto",
           "type": "bar",
           "x": [
            "Construction"
           ],
           "xaxis": "x",
           "y": [
            6866
           ],
           "yaxis": "y"
          },
          {
           "alignmentgroup": "True",
           "hovertemplate": "Industry=%{x}<br>Year-Month=2021-09<br>Sum=%{y}<extra></extra>",
           "ids": [
            "Education"
           ],
           "legendgroup": "Education",
           "marker": {
            "color": "#FF6692",
            "pattern": {
             "shape": ""
            }
           },
           "name": "Education",
           "offsetgroup": "Education",
           "orientation": "v",
           "showlegend": true,
           "textposition": "auto",
           "type": "bar",
           "x": [
            "Education"
           ],
           "xaxis": "x",
           "y": [
            1145
           ],
           "yaxis": "y"
          },
          {
           "alignmentgroup": "True",
           "hovertemplate": "Industry=%{x}<br>Year-Month=2021-09<br>Sum=%{y}<extra></extra>",
           "ids": [
            "Energy Supply"
           ],
           "legendgroup": "Energy Supply",
           "marker": {
            "color": "#B6E880",
            "pattern": {
             "shape": ""
            }
           },
           "name": "Energy Supply",
           "offsetgroup": "Energy Supply",
           "orientation": "v",
           "showlegend": true,
           "textposition": "auto",
           "type": "bar",
           "x": [
            "Energy Supply"
           ],
           "xaxis": "x",
           "y": [
            167
           ],
           "yaxis": "y"
          },
          {
           "alignmentgroup": "True",
           "hovertemplate": "Industry=%{x}<br>Year-Month=2021-09<br>Sum=%{y}<extra></extra>",
           "ids": [
            "Extraterritorial Organisations"
           ],
           "legendgroup": "Extraterritorial Organisations",
           "marker": {
            "color": "#FF97FF",
            "pattern": {
             "shape": ""
            }
           },
           "name": "Extraterritorial Organisations",
           "offsetgroup": "Extraterritorial Organisations",
           "orientation": "v",
           "showlegend": true,
           "textposition": "auto",
           "type": "bar",
           "x": [
            "Extraterritorial Organisations"
           ],
           "xaxis": "x",
           "y": [
            1086
           ],
           "yaxis": "y"
          },
          {
           "alignmentgroup": "True",
           "hovertemplate": "Industry=%{x}<br>Year-Month=2021-09<br>Sum=%{y}<extra></extra>",
           "ids": [
            "Financial & Insurance"
           ],
           "legendgroup": "Financial & Insurance",
           "marker": {
            "color": "#FECB52",
            "pattern": {
             "shape": ""
            }
           },
           "name": "Financial & Insurance",
           "offsetgroup": "Financial & Insurance",
           "orientation": "v",
           "showlegend": true,
           "textposition": "auto",
           "type": "bar",
           "x": [
            "Financial & Insurance"
           ],
           "xaxis": "x",
           "y": [
            2585
           ],
           "yaxis": "y"
          },
          {
           "alignmentgroup": "True",
           "hovertemplate": "Industry=%{x}<br>Year-Month=2021-09<br>Sum=%{y}<extra></extra>",
           "ids": [
            "Health & Social Work"
           ],
           "legendgroup": "Health & Social Work",
           "marker": {
            "color": "#636efa",
            "pattern": {
             "shape": ""
            }
           },
           "name": "Health & Social Work",
           "offsetgroup": "Health & Social Work",
           "orientation": "v",
           "showlegend": true,
           "textposition": "auto",
           "type": "bar",
           "x": [
            "Health & Social Work"
           ],
           "xaxis": "x",
           "y": [
            2476
           ],
           "yaxis": "y"
          },
          {
           "alignmentgroup": "True",
           "hovertemplate": "Industry=%{x}<br>Year-Month=2021-09<br>Sum=%{y}<extra></extra>",
           "ids": [
            "Households as Employers"
           ],
           "legendgroup": "Households as Employers",
           "marker": {
            "color": "#EF553B",
            "pattern": {
             "shape": ""
            }
           },
           "name": "Households as Employers",
           "offsetgroup": "Households as Employers",
           "orientation": "v",
           "showlegend": true,
           "textposition": "auto",
           "type": "bar",
           "x": [
            "Households as Employers"
           ],
           "xaxis": "x",
           "y": [
            646
           ],
           "yaxis": "y"
          },
          {
           "alignmentgroup": "True",
           "hovertemplate": "Industry=%{x}<br>Year-Month=2021-09<br>Sum=%{y}<extra></extra>",
           "ids": [
            "Information & Communication"
           ],
           "legendgroup": "Information & Communication",
           "marker": {
            "color": "#00cc96",
            "pattern": {
             "shape": ""
            }
           },
           "name": "Information & Communication",
           "offsetgroup": "Information & Communication",
           "orientation": "v",
           "showlegend": true,
           "textposition": "auto",
           "type": "bar",
           "x": [
            "Information & Communication"
           ],
           "xaxis": "x",
           "y": [
            4634
           ],
           "yaxis": "y"
          },
          {
           "alignmentgroup": "True",
           "hovertemplate": "Industry=%{x}<br>Year-Month=2021-09<br>Sum=%{y}<extra></extra>",
           "ids": [
            "Manufacturing"
           ],
           "legendgroup": "Manufacturing",
           "marker": {
            "color": "#ab63fa",
            "pattern": {
             "shape": ""
            }
           },
           "name": "Manufacturing",
           "offsetgroup": "Manufacturing",
           "orientation": "v",
           "showlegend": true,
           "textposition": "auto",
           "type": "bar",
           "x": [
            "Manufacturing"
           ],
           "xaxis": "x",
           "y": [
            2508
           ],
           "yaxis": "y"
          },
          {
           "alignmentgroup": "True",
           "hovertemplate": "Industry=%{x}<br>Year-Month=2021-09<br>Sum=%{y}<extra></extra>",
           "ids": [
            "Mining & Quarrying"
           ],
           "legendgroup": "Mining & Quarrying",
           "marker": {
            "color": "#FFA15A",
            "pattern": {
             "shape": ""
            }
           },
           "name": "Mining & Quarrying",
           "offsetgroup": "Mining & Quarrying",
           "orientation": "v",
           "showlegend": true,
           "textposition": "auto",
           "type": "bar",
           "x": [
            "Mining & Quarrying"
           ],
           "xaxis": "x",
           "y": [
            78
           ],
           "yaxis": "y"
          },
          {
           "alignmentgroup": "True",
           "hovertemplate": "Industry=%{x}<br>Year-Month=2021-09<br>Sum=%{y}<extra></extra>",
           "ids": [
            "Other Services"
           ],
           "legendgroup": "Other Services",
           "marker": {
            "color": "#19d3f3",
            "pattern": {
             "shape": ""
            }
           },
           "name": "Other Services",
           "offsetgroup": "Other Services",
           "orientation": "v",
           "showlegend": true,
           "textposition": "auto",
           "type": "bar",
           "x": [
            "Other Services"
           ],
           "xaxis": "x",
           "y": [
            3182
           ],
           "yaxis": "y"
          },
          {
           "alignmentgroup": "True",
           "hovertemplate": "Industry=%{x}<br>Year-Month=2021-09<br>Sum=%{y}<extra></extra>",
           "ids": [
            "Professional, Scientific & Technical"
           ],
           "legendgroup": "Professional, Scientific & Technical",
           "marker": {
            "color": "#FF6692",
            "pattern": {
             "shape": ""
            }
           },
           "name": "Professional, Scientific & Technical",
           "offsetgroup": "Professional, Scientific & Technical",
           "orientation": "v",
           "showlegend": true,
           "textposition": "auto",
           "type": "bar",
           "x": [
            "Professional, Scientific & Technical"
           ],
           "xaxis": "x",
           "y": [
            5843
           ],
           "yaxis": "y"
          },
          {
           "alignmentgroup": "True",
           "hovertemplate": "Industry=%{x}<br>Year-Month=2021-09<br>Sum=%{y}<extra></extra>",
           "ids": [
            "Real Estate"
           ],
           "legendgroup": "Real Estate",
           "marker": {
            "color": "#B6E880",
            "pattern": {
             "shape": ""
            }
           },
           "name": "Real Estate",
           "offsetgroup": "Real Estate",
           "orientation": "v",
           "showlegend": true,
           "textposition": "auto",
           "type": "bar",
           "x": [
            "Real Estate"
           ],
           "xaxis": "x",
           "y": [
            5633
           ],
           "yaxis": "y"
          },
          {
           "alignmentgroup": "True",
           "hovertemplate": "Industry=%{x}<br>Year-Month=2021-09<br>Sum=%{y}<extra></extra>",
           "ids": [
            "Transportation & Storage"
           ],
           "legendgroup": "Transportation & Storage",
           "marker": {
            "color": "#FF97FF",
            "pattern": {
             "shape": ""
            }
           },
           "name": "Transportation & Storage",
           "offsetgroup": "Transportation & Storage",
           "orientation": "v",
           "showlegend": true,
           "textposition": "auto",
           "type": "bar",
           "x": [
            "Transportation & Storage"
           ],
           "xaxis": "x",
           "y": [
            2923
           ],
           "yaxis": "y"
          },
          {
           "alignmentgroup": "True",
           "hovertemplate": "Industry=%{x}<br>Year-Month=2021-09<br>Sum=%{y}<extra></extra>",
           "ids": [
            "Water Supply, Sewerage, Waste Management"
           ],
           "legendgroup": "Water Supply, Sewerage, Waste Management",
           "marker": {
            "color": "#FECB52",
            "pattern": {
             "shape": ""
            }
           },
           "name": "Water Supply, Sewerage, Waste Management",
           "offsetgroup": "Water Supply, Sewerage, Waste Management",
           "orientation": "v",
           "showlegend": true,
           "textposition": "auto",
           "type": "bar",
           "x": [
            "Water Supply, Sewerage, Waste Management"
           ],
           "xaxis": "x",
           "y": [
            217
           ],
           "yaxis": "y"
          },
          {
           "alignmentgroup": "True",
           "hovertemplate": "Industry=%{x}<br>Year-Month=2021-09<br>Sum=%{y}<extra></extra>",
           "ids": [
            "Wholesale & Retail"
           ],
           "legendgroup": "Wholesale & Retail",
           "marker": {
            "color": "#636efa",
            "pattern": {
             "shape": ""
            }
           },
           "name": "Wholesale & Retail",
           "offsetgroup": "Wholesale & Retail",
           "orientation": "v",
           "showlegend": true,
           "textposition": "auto",
           "type": "bar",
           "x": [
            "Wholesale & Retail"
           ],
           "xaxis": "x",
           "y": [
            11947
           ],
           "yaxis": "y"
          }
         ],
         "name": "2021-09"
        },
        {
         "data": [
          {
           "alignmentgroup": "True",
           "hovertemplate": "Industry=%{x}<br>Year-Month=2021-10<br>Sum=%{y}<extra></extra>",
           "ids": [
            "Accommodation & Food"
           ],
           "legendgroup": "Accommodation & Food",
           "marker": {
            "color": "#636efa",
            "pattern": {
             "shape": ""
            }
           },
           "name": "Accommodation & Food",
           "offsetgroup": "Accommodation & Food",
           "orientation": "v",
           "showlegend": true,
           "textposition": "auto",
           "type": "bar",
           "x": [
            "Accommodation & Food"
           ],
           "xaxis": "x",
           "y": [
            4060
           ],
           "yaxis": "y"
          },
          {
           "alignmentgroup": "True",
           "hovertemplate": "Industry=%{x}<br>Year-Month=2021-10<br>Sum=%{y}<extra></extra>",
           "ids": [
            "Administration & Security"
           ],
           "legendgroup": "Administration & Security",
           "marker": {
            "color": "#EF553B",
            "pattern": {
             "shape": ""
            }
           },
           "name": "Administration & Security",
           "offsetgroup": "Administration & Security",
           "orientation": "v",
           "showlegend": true,
           "textposition": "auto",
           "type": "bar",
           "x": [
            "Administration & Security"
           ],
           "xaxis": "x",
           "y": [
            185
           ],
           "yaxis": "y"
          },
          {
           "alignmentgroup": "True",
           "hovertemplate": "Industry=%{x}<br>Year-Month=2021-10<br>Sum=%{y}<extra></extra>",
           "ids": [
            "Administrative Servives"
           ],
           "legendgroup": "Administrative Servives",
           "marker": {
            "color": "#00cc96",
            "pattern": {
             "shape": ""
            }
           },
           "name": "Administrative Servives",
           "offsetgroup": "Administrative Servives",
           "orientation": "v",
           "showlegend": true,
           "textposition": "auto",
           "type": "bar",
           "x": [
            "Administrative Servives"
           ],
           "xaxis": "x",
           "y": [
            4219
           ],
           "yaxis": "y"
          },
          {
           "alignmentgroup": "True",
           "hovertemplate": "Industry=%{x}<br>Year-Month=2021-10<br>Sum=%{y}<extra></extra>",
           "ids": [
            "Agriculture, Forestry & Fishing"
           ],
           "legendgroup": "Agriculture, Forestry & Fishing",
           "marker": {
            "color": "#ab63fa",
            "pattern": {
             "shape": ""
            }
           },
           "name": "Agriculture, Forestry & Fishing",
           "offsetgroup": "Agriculture, Forestry & Fishing",
           "orientation": "v",
           "showlegend": true,
           "textposition": "auto",
           "type": "bar",
           "x": [
            "Agriculture, Forestry & Fishing"
           ],
           "xaxis": "x",
           "y": [
            435
           ],
           "yaxis": "y"
          },
          {
           "alignmentgroup": "True",
           "hovertemplate": "Industry=%{x}<br>Year-Month=2021-10<br>Sum=%{y}<extra></extra>",
           "ids": [
            "Arts & Entertainment"
           ],
           "legendgroup": "Arts & Entertainment",
           "marker": {
            "color": "#FFA15A",
            "pattern": {
             "shape": ""
            }
           },
           "name": "Arts & Entertainment",
           "offsetgroup": "Arts & Entertainment",
           "orientation": "v",
           "showlegend": true,
           "textposition": "auto",
           "type": "bar",
           "x": [
            "Arts & Entertainment"
           ],
           "xaxis": "x",
           "y": [
            1237
           ],
           "yaxis": "y"
          },
          {
           "alignmentgroup": "True",
           "hovertemplate": "Industry=%{x}<br>Year-Month=2021-10<br>Sum=%{y}<extra></extra>",
           "ids": [
            "Construction"
           ],
           "legendgroup": "Construction",
           "marker": {
            "color": "#19d3f3",
            "pattern": {
             "shape": ""
            }
           },
           "name": "Construction",
           "offsetgroup": "Construction",
           "orientation": "v",
           "showlegend": true,
           "textposition": "auto",
           "type": "bar",
           "x": [
            "Construction"
           ],
           "xaxis": "x",
           "y": [
            5982
           ],
           "yaxis": "y"
          },
          {
           "alignmentgroup": "True",
           "hovertemplate": "Industry=%{x}<br>Year-Month=2021-10<br>Sum=%{y}<extra></extra>",
           "ids": [
            "Education"
           ],
           "legendgroup": "Education",
           "marker": {
            "color": "#FF6692",
            "pattern": {
             "shape": ""
            }
           },
           "name": "Education",
           "offsetgroup": "Education",
           "orientation": "v",
           "showlegend": true,
           "textposition": "auto",
           "type": "bar",
           "x": [
            "Education"
           ],
           "xaxis": "x",
           "y": [
            1047
           ],
           "yaxis": "y"
          },
          {
           "alignmentgroup": "True",
           "hovertemplate": "Industry=%{x}<br>Year-Month=2021-10<br>Sum=%{y}<extra></extra>",
           "ids": [
            "Energy Supply"
           ],
           "legendgroup": "Energy Supply",
           "marker": {
            "color": "#B6E880",
            "pattern": {
             "shape": ""
            }
           },
           "name": "Energy Supply",
           "offsetgroup": "Energy Supply",
           "orientation": "v",
           "showlegend": true,
           "textposition": "auto",
           "type": "bar",
           "x": [
            "Energy Supply"
           ],
           "xaxis": "x",
           "y": [
            154
           ],
           "yaxis": "y"
          },
          {
           "alignmentgroup": "True",
           "hovertemplate": "Industry=%{x}<br>Year-Month=2021-10<br>Sum=%{y}<extra></extra>",
           "ids": [
            "Extraterritorial Organisations"
           ],
           "legendgroup": "Extraterritorial Organisations",
           "marker": {
            "color": "#FF97FF",
            "pattern": {
             "shape": ""
            }
           },
           "name": "Extraterritorial Organisations",
           "offsetgroup": "Extraterritorial Organisations",
           "orientation": "v",
           "showlegend": true,
           "textposition": "auto",
           "type": "bar",
           "x": [
            "Extraterritorial Organisations"
           ],
           "xaxis": "x",
           "y": [
            1058
           ],
           "yaxis": "y"
          },
          {
           "alignmentgroup": "True",
           "hovertemplate": "Industry=%{x}<br>Year-Month=2021-10<br>Sum=%{y}<extra></extra>",
           "ids": [
            "Financial & Insurance"
           ],
           "legendgroup": "Financial & Insurance",
           "marker": {
            "color": "#FECB52",
            "pattern": {
             "shape": ""
            }
           },
           "name": "Financial & Insurance",
           "offsetgroup": "Financial & Insurance",
           "orientation": "v",
           "showlegend": true,
           "textposition": "auto",
           "type": "bar",
           "x": [
            "Financial & Insurance"
           ],
           "xaxis": "x",
           "y": [
            2598
           ],
           "yaxis": "y"
          },
          {
           "alignmentgroup": "True",
           "hovertemplate": "Industry=%{x}<br>Year-Month=2021-10<br>Sum=%{y}<extra></extra>",
           "ids": [
            "Health & Social Work"
           ],
           "legendgroup": "Health & Social Work",
           "marker": {
            "color": "#636efa",
            "pattern": {
             "shape": ""
            }
           },
           "name": "Health & Social Work",
           "offsetgroup": "Health & Social Work",
           "orientation": "v",
           "showlegend": true,
           "textposition": "auto",
           "type": "bar",
           "x": [
            "Health & Social Work"
           ],
           "xaxis": "x",
           "y": [
            2233
           ],
           "yaxis": "y"
          },
          {
           "alignmentgroup": "True",
           "hovertemplate": "Industry=%{x}<br>Year-Month=2021-10<br>Sum=%{y}<extra></extra>",
           "ids": [
            "Households as Employers"
           ],
           "legendgroup": "Households as Employers",
           "marker": {
            "color": "#EF553B",
            "pattern": {
             "shape": ""
            }
           },
           "name": "Households as Employers",
           "offsetgroup": "Households as Employers",
           "orientation": "v",
           "showlegend": true,
           "textposition": "auto",
           "type": "bar",
           "x": [
            "Households as Employers"
           ],
           "xaxis": "x",
           "y": [
            681
           ],
           "yaxis": "y"
          },
          {
           "alignmentgroup": "True",
           "hovertemplate": "Industry=%{x}<br>Year-Month=2021-10<br>Sum=%{y}<extra></extra>",
           "ids": [
            "Information & Communication"
           ],
           "legendgroup": "Information & Communication",
           "marker": {
            "color": "#00cc96",
            "pattern": {
             "shape": ""
            }
           },
           "name": "Information & Communication",
           "offsetgroup": "Information & Communication",
           "orientation": "v",
           "showlegend": true,
           "textposition": "auto",
           "type": "bar",
           "x": [
            "Information & Communication"
           ],
           "xaxis": "x",
           "y": [
            5193
           ],
           "yaxis": "y"
          },
          {
           "alignmentgroup": "True",
           "hovertemplate": "Industry=%{x}<br>Year-Month=2021-10<br>Sum=%{y}<extra></extra>",
           "ids": [
            "Manufacturing"
           ],
           "legendgroup": "Manufacturing",
           "marker": {
            "color": "#ab63fa",
            "pattern": {
             "shape": ""
            }
           },
           "name": "Manufacturing",
           "offsetgroup": "Manufacturing",
           "orientation": "v",
           "showlegend": true,
           "textposition": "auto",
           "type": "bar",
           "x": [
            "Manufacturing"
           ],
           "xaxis": "x",
           "y": [
            2338
           ],
           "yaxis": "y"
          },
          {
           "alignmentgroup": "True",
           "hovertemplate": "Industry=%{x}<br>Year-Month=2021-10<br>Sum=%{y}<extra></extra>",
           "ids": [
            "Mining & Quarrying"
           ],
           "legendgroup": "Mining & Quarrying",
           "marker": {
            "color": "#FFA15A",
            "pattern": {
             "shape": ""
            }
           },
           "name": "Mining & Quarrying",
           "offsetgroup": "Mining & Quarrying",
           "orientation": "v",
           "showlegend": true,
           "textposition": "auto",
           "type": "bar",
           "x": [
            "Mining & Quarrying"
           ],
           "xaxis": "x",
           "y": [
            66
           ],
           "yaxis": "y"
          },
          {
           "alignmentgroup": "True",
           "hovertemplate": "Industry=%{x}<br>Year-Month=2021-10<br>Sum=%{y}<extra></extra>",
           "ids": [
            "Other Services"
           ],
           "legendgroup": "Other Services",
           "marker": {
            "color": "#19d3f3",
            "pattern": {
             "shape": ""
            }
           },
           "name": "Other Services",
           "offsetgroup": "Other Services",
           "orientation": "v",
           "showlegend": true,
           "textposition": "auto",
           "type": "bar",
           "x": [
            "Other Services"
           ],
           "xaxis": "x",
           "y": [
            2728
           ],
           "yaxis": "y"
          },
          {
           "alignmentgroup": "True",
           "hovertemplate": "Industry=%{x}<br>Year-Month=2021-10<br>Sum=%{y}<extra></extra>",
           "ids": [
            "Professional, Scientific & Technical"
           ],
           "legendgroup": "Professional, Scientific & Technical",
           "marker": {
            "color": "#FF6692",
            "pattern": {
             "shape": ""
            }
           },
           "name": "Professional, Scientific & Technical",
           "offsetgroup": "Professional, Scientific & Technical",
           "orientation": "v",
           "showlegend": true,
           "textposition": "auto",
           "type": "bar",
           "x": [
            "Professional, Scientific & Technical"
           ],
           "xaxis": "x",
           "y": [
            5650
           ],
           "yaxis": "y"
          },
          {
           "alignmentgroup": "True",
           "hovertemplate": "Industry=%{x}<br>Year-Month=2021-10<br>Sum=%{y}<extra></extra>",
           "ids": [
            "Real Estate"
           ],
           "legendgroup": "Real Estate",
           "marker": {
            "color": "#B6E880",
            "pattern": {
             "shape": ""
            }
           },
           "name": "Real Estate",
           "offsetgroup": "Real Estate",
           "orientation": "v",
           "showlegend": true,
           "textposition": "auto",
           "type": "bar",
           "x": [
            "Real Estate"
           ],
           "xaxis": "x",
           "y": [
            5373
           ],
           "yaxis": "y"
          },
          {
           "alignmentgroup": "True",
           "hovertemplate": "Industry=%{x}<br>Year-Month=2021-10<br>Sum=%{y}<extra></extra>",
           "ids": [
            "Transportation & Storage"
           ],
           "legendgroup": "Transportation & Storage",
           "marker": {
            "color": "#FF97FF",
            "pattern": {
             "shape": ""
            }
           },
           "name": "Transportation & Storage",
           "offsetgroup": "Transportation & Storage",
           "orientation": "v",
           "showlegend": true,
           "textposition": "auto",
           "type": "bar",
           "x": [
            "Transportation & Storage"
           ],
           "xaxis": "x",
           "y": [
            2873
           ],
           "yaxis": "y"
          },
          {
           "alignmentgroup": "True",
           "hovertemplate": "Industry=%{x}<br>Year-Month=2021-10<br>Sum=%{y}<extra></extra>",
           "ids": [
            "Water Supply, Sewerage, Waste Management"
           ],
           "legendgroup": "Water Supply, Sewerage, Waste Management",
           "marker": {
            "color": "#FECB52",
            "pattern": {
             "shape": ""
            }
           },
           "name": "Water Supply, Sewerage, Waste Management",
           "offsetgroup": "Water Supply, Sewerage, Waste Management",
           "orientation": "v",
           "showlegend": true,
           "textposition": "auto",
           "type": "bar",
           "x": [
            "Water Supply, Sewerage, Waste Management"
           ],
           "xaxis": "x",
           "y": [
            195
           ],
           "yaxis": "y"
          },
          {
           "alignmentgroup": "True",
           "hovertemplate": "Industry=%{x}<br>Year-Month=2021-10<br>Sum=%{y}<extra></extra>",
           "ids": [
            "Wholesale & Retail"
           ],
           "legendgroup": "Wholesale & Retail",
           "marker": {
            "color": "#636efa",
            "pattern": {
             "shape": ""
            }
           },
           "name": "Wholesale & Retail",
           "offsetgroup": "Wholesale & Retail",
           "orientation": "v",
           "showlegend": true,
           "textposition": "auto",
           "type": "bar",
           "x": [
            "Wholesale & Retail"
           ],
           "xaxis": "x",
           "y": [
            11238
           ],
           "yaxis": "y"
          }
         ],
         "name": "2021-10"
        },
        {
         "data": [
          {
           "alignmentgroup": "True",
           "hovertemplate": "Industry=%{x}<br>Year-Month=2021-11<br>Sum=%{y}<extra></extra>",
           "ids": [
            "Accommodation & Food"
           ],
           "legendgroup": "Accommodation & Food",
           "marker": {
            "color": "#636efa",
            "pattern": {
             "shape": ""
            }
           },
           "name": "Accommodation & Food",
           "offsetgroup": "Accommodation & Food",
           "orientation": "v",
           "showlegend": true,
           "textposition": "auto",
           "type": "bar",
           "x": [
            "Accommodation & Food"
           ],
           "xaxis": "x",
           "y": [
            3676
           ],
           "yaxis": "y"
          },
          {
           "alignmentgroup": "True",
           "hovertemplate": "Industry=%{x}<br>Year-Month=2021-11<br>Sum=%{y}<extra></extra>",
           "ids": [
            "Administration & Security"
           ],
           "legendgroup": "Administration & Security",
           "marker": {
            "color": "#EF553B",
            "pattern": {
             "shape": ""
            }
           },
           "name": "Administration & Security",
           "offsetgroup": "Administration & Security",
           "orientation": "v",
           "showlegend": true,
           "textposition": "auto",
           "type": "bar",
           "x": [
            "Administration & Security"
           ],
           "xaxis": "x",
           "y": [
            169
           ],
           "yaxis": "y"
          },
          {
           "alignmentgroup": "True",
           "hovertemplate": "Industry=%{x}<br>Year-Month=2021-11<br>Sum=%{y}<extra></extra>",
           "ids": [
            "Administrative Servives"
           ],
           "legendgroup": "Administrative Servives",
           "marker": {
            "color": "#00cc96",
            "pattern": {
             "shape": ""
            }
           },
           "name": "Administrative Servives",
           "offsetgroup": "Administrative Servives",
           "orientation": "v",
           "showlegend": true,
           "textposition": "auto",
           "type": "bar",
           "x": [
            "Administrative Servives"
           ],
           "xaxis": "x",
           "y": [
            3739
           ],
           "yaxis": "y"
          },
          {
           "alignmentgroup": "True",
           "hovertemplate": "Industry=%{x}<br>Year-Month=2021-11<br>Sum=%{y}<extra></extra>",
           "ids": [
            "Agriculture, Forestry & Fishing"
           ],
           "legendgroup": "Agriculture, Forestry & Fishing",
           "marker": {
            "color": "#ab63fa",
            "pattern": {
             "shape": ""
            }
           },
           "name": "Agriculture, Forestry & Fishing",
           "offsetgroup": "Agriculture, Forestry & Fishing",
           "orientation": "v",
           "showlegend": true,
           "textposition": "auto",
           "type": "bar",
           "x": [
            "Agriculture, Forestry & Fishing"
           ],
           "xaxis": "x",
           "y": [
            350
           ],
           "yaxis": "y"
          },
          {
           "alignmentgroup": "True",
           "hovertemplate": "Industry=%{x}<br>Year-Month=2021-11<br>Sum=%{y}<extra></extra>",
           "ids": [
            "Arts & Entertainment"
           ],
           "legendgroup": "Arts & Entertainment",
           "marker": {
            "color": "#FFA15A",
            "pattern": {
             "shape": ""
            }
           },
           "name": "Arts & Entertainment",
           "offsetgroup": "Arts & Entertainment",
           "orientation": "v",
           "showlegend": true,
           "textposition": "auto",
           "type": "bar",
           "x": [
            "Arts & Entertainment"
           ],
           "xaxis": "x",
           "y": [
            1118
           ],
           "yaxis": "y"
          },
          {
           "alignmentgroup": "True",
           "hovertemplate": "Industry=%{x}<br>Year-Month=2021-11<br>Sum=%{y}<extra></extra>",
           "ids": [
            "Construction"
           ],
           "legendgroup": "Construction",
           "marker": {
            "color": "#19d3f3",
            "pattern": {
             "shape": ""
            }
           },
           "name": "Construction",
           "offsetgroup": "Construction",
           "orientation": "v",
           "showlegend": true,
           "textposition": "auto",
           "type": "bar",
           "x": [
            "Construction"
           ],
           "xaxis": "x",
           "y": [
            5479
           ],
           "yaxis": "y"
          },
          {
           "alignmentgroup": "True",
           "hovertemplate": "Industry=%{x}<br>Year-Month=2021-11<br>Sum=%{y}<extra></extra>",
           "ids": [
            "Education"
           ],
           "legendgroup": "Education",
           "marker": {
            "color": "#FF6692",
            "pattern": {
             "shape": ""
            }
           },
           "name": "Education",
           "offsetgroup": "Education",
           "orientation": "v",
           "showlegend": true,
           "textposition": "auto",
           "type": "bar",
           "x": [
            "Education"
           ],
           "xaxis": "x",
           "y": [
            964
           ],
           "yaxis": "y"
          },
          {
           "alignmentgroup": "True",
           "hovertemplate": "Industry=%{x}<br>Year-Month=2021-11<br>Sum=%{y}<extra></extra>",
           "ids": [
            "Energy Supply"
           ],
           "legendgroup": "Energy Supply",
           "marker": {
            "color": "#B6E880",
            "pattern": {
             "shape": ""
            }
           },
           "name": "Energy Supply",
           "offsetgroup": "Energy Supply",
           "orientation": "v",
           "showlegend": true,
           "textposition": "auto",
           "type": "bar",
           "x": [
            "Energy Supply"
           ],
           "xaxis": "x",
           "y": [
            128
           ],
           "yaxis": "y"
          },
          {
           "alignmentgroup": "True",
           "hovertemplate": "Industry=%{x}<br>Year-Month=2021-11<br>Sum=%{y}<extra></extra>",
           "ids": [
            "Extraterritorial Organisations"
           ],
           "legendgroup": "Extraterritorial Organisations",
           "marker": {
            "color": "#FF97FF",
            "pattern": {
             "shape": ""
            }
           },
           "name": "Extraterritorial Organisations",
           "offsetgroup": "Extraterritorial Organisations",
           "orientation": "v",
           "showlegend": true,
           "textposition": "auto",
           "type": "bar",
           "x": [
            "Extraterritorial Organisations"
           ],
           "xaxis": "x",
           "y": [
            1564
           ],
           "yaxis": "y"
          },
          {
           "alignmentgroup": "True",
           "hovertemplate": "Industry=%{x}<br>Year-Month=2021-11<br>Sum=%{y}<extra></extra>",
           "ids": [
            "Financial & Insurance"
           ],
           "legendgroup": "Financial & Insurance",
           "marker": {
            "color": "#FECB52",
            "pattern": {
             "shape": ""
            }
           },
           "name": "Financial & Insurance",
           "offsetgroup": "Financial & Insurance",
           "orientation": "v",
           "showlegend": true,
           "textposition": "auto",
           "type": "bar",
           "x": [
            "Financial & Insurance"
           ],
           "xaxis": "x",
           "y": [
            2170
           ],
           "yaxis": "y"
          },
          {
           "alignmentgroup": "True",
           "hovertemplate": "Industry=%{x}<br>Year-Month=2021-11<br>Sum=%{y}<extra></extra>",
           "ids": [
            "Health & Social Work"
           ],
           "legendgroup": "Health & Social Work",
           "marker": {
            "color": "#636efa",
            "pattern": {
             "shape": ""
            }
           },
           "name": "Health & Social Work",
           "offsetgroup": "Health & Social Work",
           "orientation": "v",
           "showlegend": true,
           "textposition": "auto",
           "type": "bar",
           "x": [
            "Health & Social Work"
           ],
           "xaxis": "x",
           "y": [
            2215
           ],
           "yaxis": "y"
          },
          {
           "alignmentgroup": "True",
           "hovertemplate": "Industry=%{x}<br>Year-Month=2021-11<br>Sum=%{y}<extra></extra>",
           "ids": [
            "Households as Employers"
           ],
           "legendgroup": "Households as Employers",
           "marker": {
            "color": "#EF553B",
            "pattern": {
             "shape": ""
            }
           },
           "name": "Households as Employers",
           "offsetgroup": "Households as Employers",
           "orientation": "v",
           "showlegend": true,
           "textposition": "auto",
           "type": "bar",
           "x": [
            "Households as Employers"
           ],
           "xaxis": "x",
           "y": [
            563
           ],
           "yaxis": "y"
          },
          {
           "alignmentgroup": "True",
           "hovertemplate": "Industry=%{x}<br>Year-Month=2021-11<br>Sum=%{y}<extra></extra>",
           "ids": [
            "Information & Communication"
           ],
           "legendgroup": "Information & Communication",
           "marker": {
            "color": "#00cc96",
            "pattern": {
             "shape": ""
            }
           },
           "name": "Information & Communication",
           "offsetgroup": "Information & Communication",
           "orientation": "v",
           "showlegend": true,
           "textposition": "auto",
           "type": "bar",
           "x": [
            "Information & Communication"
           ],
           "xaxis": "x",
           "y": [
            4545
           ],
           "yaxis": "y"
          },
          {
           "alignmentgroup": "True",
           "hovertemplate": "Industry=%{x}<br>Year-Month=2021-11<br>Sum=%{y}<extra></extra>",
           "ids": [
            "Manufacturing"
           ],
           "legendgroup": "Manufacturing",
           "marker": {
            "color": "#ab63fa",
            "pattern": {
             "shape": ""
            }
           },
           "name": "Manufacturing",
           "offsetgroup": "Manufacturing",
           "orientation": "v",
           "showlegend": true,
           "textposition": "auto",
           "type": "bar",
           "x": [
            "Manufacturing"
           ],
           "xaxis": "x",
           "y": [
            2236
           ],
           "yaxis": "y"
          },
          {
           "alignmentgroup": "True",
           "hovertemplate": "Industry=%{x}<br>Year-Month=2021-11<br>Sum=%{y}<extra></extra>",
           "ids": [
            "Mining & Quarrying"
           ],
           "legendgroup": "Mining & Quarrying",
           "marker": {
            "color": "#FFA15A",
            "pattern": {
             "shape": ""
            }
           },
           "name": "Mining & Quarrying",
           "offsetgroup": "Mining & Quarrying",
           "orientation": "v",
           "showlegend": true,
           "textposition": "auto",
           "type": "bar",
           "x": [
            "Mining & Quarrying"
           ],
           "xaxis": "x",
           "y": [
            72
           ],
           "yaxis": "y"
          },
          {
           "alignmentgroup": "True",
           "hovertemplate": "Industry=%{x}<br>Year-Month=2021-11<br>Sum=%{y}<extra></extra>",
           "ids": [
            "Other Services"
           ],
           "legendgroup": "Other Services",
           "marker": {
            "color": "#19d3f3",
            "pattern": {
             "shape": ""
            }
           },
           "name": "Other Services",
           "offsetgroup": "Other Services",
           "orientation": "v",
           "showlegend": true,
           "textposition": "auto",
           "type": "bar",
           "x": [
            "Other Services"
           ],
           "xaxis": "x",
           "y": [
            2542
           ],
           "yaxis": "y"
          },
          {
           "alignmentgroup": "True",
           "hovertemplate": "Industry=%{x}<br>Year-Month=2021-11<br>Sum=%{y}<extra></extra>",
           "ids": [
            "Professional, Scientific & Technical"
           ],
           "legendgroup": "Professional, Scientific & Technical",
           "marker": {
            "color": "#FF6692",
            "pattern": {
             "shape": ""
            }
           },
           "name": "Professional, Scientific & Technical",
           "offsetgroup": "Professional, Scientific & Technical",
           "orientation": "v",
           "showlegend": true,
           "textposition": "auto",
           "type": "bar",
           "x": [
            "Professional, Scientific & Technical"
           ],
           "xaxis": "x",
           "y": [
            5268
           ],
           "yaxis": "y"
          },
          {
           "alignmentgroup": "True",
           "hovertemplate": "Industry=%{x}<br>Year-Month=2021-11<br>Sum=%{y}<extra></extra>",
           "ids": [
            "Real Estate"
           ],
           "legendgroup": "Real Estate",
           "marker": {
            "color": "#B6E880",
            "pattern": {
             "shape": ""
            }
           },
           "name": "Real Estate",
           "offsetgroup": "Real Estate",
           "orientation": "v",
           "showlegend": true,
           "textposition": "auto",
           "type": "bar",
           "x": [
            "Real Estate"
           ],
           "xaxis": "x",
           "y": [
            4892
           ],
           "yaxis": "y"
          },
          {
           "alignmentgroup": "True",
           "hovertemplate": "Industry=%{x}<br>Year-Month=2021-11<br>Sum=%{y}<extra></extra>",
           "ids": [
            "Transportation & Storage"
           ],
           "legendgroup": "Transportation & Storage",
           "marker": {
            "color": "#FF97FF",
            "pattern": {
             "shape": ""
            }
           },
           "name": "Transportation & Storage",
           "offsetgroup": "Transportation & Storage",
           "orientation": "v",
           "showlegend": true,
           "textposition": "auto",
           "type": "bar",
           "x": [
            "Transportation & Storage"
           ],
           "xaxis": "x",
           "y": [
            2681
           ],
           "yaxis": "y"
          },
          {
           "alignmentgroup": "True",
           "hovertemplate": "Industry=%{x}<br>Year-Month=2021-11<br>Sum=%{y}<extra></extra>",
           "ids": [
            "Water Supply, Sewerage, Waste Management"
           ],
           "legendgroup": "Water Supply, Sewerage, Waste Management",
           "marker": {
            "color": "#FECB52",
            "pattern": {
             "shape": ""
            }
           },
           "name": "Water Supply, Sewerage, Waste Management",
           "offsetgroup": "Water Supply, Sewerage, Waste Management",
           "orientation": "v",
           "showlegend": true,
           "textposition": "auto",
           "type": "bar",
           "x": [
            "Water Supply, Sewerage, Waste Management"
           ],
           "xaxis": "x",
           "y": [
            163
           ],
           "yaxis": "y"
          },
          {
           "alignmentgroup": "True",
           "hovertemplate": "Industry=%{x}<br>Year-Month=2021-11<br>Sum=%{y}<extra></extra>",
           "ids": [
            "Wholesale & Retail"
           ],
           "legendgroup": "Wholesale & Retail",
           "marker": {
            "color": "#636efa",
            "pattern": {
             "shape": ""
            }
           },
           "name": "Wholesale & Retail",
           "offsetgroup": "Wholesale & Retail",
           "orientation": "v",
           "showlegend": true,
           "textposition": "auto",
           "type": "bar",
           "x": [
            "Wholesale & Retail"
           ],
           "xaxis": "x",
           "y": [
            10497
           ],
           "yaxis": "y"
          }
         ],
         "name": "2021-11"
        },
        {
         "data": [
          {
           "alignmentgroup": "True",
           "hovertemplate": "Industry=%{x}<br>Year-Month=2021-12<br>Sum=%{y}<extra></extra>",
           "ids": [
            "Accommodation & Food"
           ],
           "legendgroup": "Accommodation & Food",
           "marker": {
            "color": "#636efa",
            "pattern": {
             "shape": ""
            }
           },
           "name": "Accommodation & Food",
           "offsetgroup": "Accommodation & Food",
           "orientation": "v",
           "showlegend": true,
           "textposition": "auto",
           "type": "bar",
           "x": [
            "Accommodation & Food"
           ],
           "xaxis": "x",
           "y": [
            3412
           ],
           "yaxis": "y"
          },
          {
           "alignmentgroup": "True",
           "hovertemplate": "Industry=%{x}<br>Year-Month=2021-12<br>Sum=%{y}<extra></extra>",
           "ids": [
            "Administration & Security"
           ],
           "legendgroup": "Administration & Security",
           "marker": {
            "color": "#EF553B",
            "pattern": {
             "shape": ""
            }
           },
           "name": "Administration & Security",
           "offsetgroup": "Administration & Security",
           "orientation": "v",
           "showlegend": true,
           "textposition": "auto",
           "type": "bar",
           "x": [
            "Administration & Security"
           ],
           "xaxis": "x",
           "y": [
            161
           ],
           "yaxis": "y"
          },
          {
           "alignmentgroup": "True",
           "hovertemplate": "Industry=%{x}<br>Year-Month=2021-12<br>Sum=%{y}<extra></extra>",
           "ids": [
            "Administrative Servives"
           ],
           "legendgroup": "Administrative Servives",
           "marker": {
            "color": "#00cc96",
            "pattern": {
             "shape": ""
            }
           },
           "name": "Administrative Servives",
           "offsetgroup": "Administrative Servives",
           "orientation": "v",
           "showlegend": true,
           "textposition": "auto",
           "type": "bar",
           "x": [
            "Administrative Servives"
           ],
           "xaxis": "x",
           "y": [
            3626
           ],
           "yaxis": "y"
          },
          {
           "alignmentgroup": "True",
           "hovertemplate": "Industry=%{x}<br>Year-Month=2021-12<br>Sum=%{y}<extra></extra>",
           "ids": [
            "Agriculture, Forestry & Fishing"
           ],
           "legendgroup": "Agriculture, Forestry & Fishing",
           "marker": {
            "color": "#ab63fa",
            "pattern": {
             "shape": ""
            }
           },
           "name": "Agriculture, Forestry & Fishing",
           "offsetgroup": "Agriculture, Forestry & Fishing",
           "orientation": "v",
           "showlegend": true,
           "textposition": "auto",
           "type": "bar",
           "x": [
            "Agriculture, Forestry & Fishing"
           ],
           "xaxis": "x",
           "y": [
            356
           ],
           "yaxis": "y"
          },
          {
           "alignmentgroup": "True",
           "hovertemplate": "Industry=%{x}<br>Year-Month=2021-12<br>Sum=%{y}<extra></extra>",
           "ids": [
            "Arts & Entertainment"
           ],
           "legendgroup": "Arts & Entertainment",
           "marker": {
            "color": "#FFA15A",
            "pattern": {
             "shape": ""
            }
           },
           "name": "Arts & Entertainment",
           "offsetgroup": "Arts & Entertainment",
           "orientation": "v",
           "showlegend": true,
           "textposition": "auto",
           "type": "bar",
           "x": [
            "Arts & Entertainment"
           ],
           "xaxis": "x",
           "y": [
            1060
           ],
           "yaxis": "y"
          },
          {
           "alignmentgroup": "True",
           "hovertemplate": "Industry=%{x}<br>Year-Month=2021-12<br>Sum=%{y}<extra></extra>",
           "ids": [
            "Construction"
           ],
           "legendgroup": "Construction",
           "marker": {
            "color": "#19d3f3",
            "pattern": {
             "shape": ""
            }
           },
           "name": "Construction",
           "offsetgroup": "Construction",
           "orientation": "v",
           "showlegend": true,
           "textposition": "auto",
           "type": "bar",
           "x": [
            "Construction"
           ],
           "xaxis": "x",
           "y": [
            4995
           ],
           "yaxis": "y"
          },
          {
           "alignmentgroup": "True",
           "hovertemplate": "Industry=%{x}<br>Year-Month=2021-12<br>Sum=%{y}<extra></extra>",
           "ids": [
            "Education"
           ],
           "legendgroup": "Education",
           "marker": {
            "color": "#FF6692",
            "pattern": {
             "shape": ""
            }
           },
           "name": "Education",
           "offsetgroup": "Education",
           "orientation": "v",
           "showlegend": true,
           "textposition": "auto",
           "type": "bar",
           "x": [
            "Education"
           ],
           "xaxis": "x",
           "y": [
            980
           ],
           "yaxis": "y"
          },
          {
           "alignmentgroup": "True",
           "hovertemplate": "Industry=%{x}<br>Year-Month=2021-12<br>Sum=%{y}<extra></extra>",
           "ids": [
            "Energy Supply"
           ],
           "legendgroup": "Energy Supply",
           "marker": {
            "color": "#B6E880",
            "pattern": {
             "shape": ""
            }
           },
           "name": "Energy Supply",
           "offsetgroup": "Energy Supply",
           "orientation": "v",
           "showlegend": true,
           "textposition": "auto",
           "type": "bar",
           "x": [
            "Energy Supply"
           ],
           "xaxis": "x",
           "y": [
            129
           ],
           "yaxis": "y"
          },
          {
           "alignmentgroup": "True",
           "hovertemplate": "Industry=%{x}<br>Year-Month=2021-12<br>Sum=%{y}<extra></extra>",
           "ids": [
            "Extraterritorial Organisations"
           ],
           "legendgroup": "Extraterritorial Organisations",
           "marker": {
            "color": "#FF97FF",
            "pattern": {
             "shape": ""
            }
           },
           "name": "Extraterritorial Organisations",
           "offsetgroup": "Extraterritorial Organisations",
           "orientation": "v",
           "showlegend": true,
           "textposition": "auto",
           "type": "bar",
           "x": [
            "Extraterritorial Organisations"
           ],
           "xaxis": "x",
           "y": [
            1343
           ],
           "yaxis": "y"
          },
          {
           "alignmentgroup": "True",
           "hovertemplate": "Industry=%{x}<br>Year-Month=2021-12<br>Sum=%{y}<extra></extra>",
           "ids": [
            "Financial & Insurance"
           ],
           "legendgroup": "Financial & Insurance",
           "marker": {
            "color": "#FECB52",
            "pattern": {
             "shape": ""
            }
           },
           "name": "Financial & Insurance",
           "offsetgroup": "Financial & Insurance",
           "orientation": "v",
           "showlegend": true,
           "textposition": "auto",
           "type": "bar",
           "x": [
            "Financial & Insurance"
           ],
           "xaxis": "x",
           "y": [
            2235
           ],
           "yaxis": "y"
          },
          {
           "alignmentgroup": "True",
           "hovertemplate": "Industry=%{x}<br>Year-Month=2021-12<br>Sum=%{y}<extra></extra>",
           "ids": [
            "Health & Social Work"
           ],
           "legendgroup": "Health & Social Work",
           "marker": {
            "color": "#636efa",
            "pattern": {
             "shape": ""
            }
           },
           "name": "Health & Social Work",
           "offsetgroup": "Health & Social Work",
           "orientation": "v",
           "showlegend": true,
           "textposition": "auto",
           "type": "bar",
           "x": [
            "Health & Social Work"
           ],
           "xaxis": "x",
           "y": [
            2180
           ],
           "yaxis": "y"
          },
          {
           "alignmentgroup": "True",
           "hovertemplate": "Industry=%{x}<br>Year-Month=2021-12<br>Sum=%{y}<extra></extra>",
           "ids": [
            "Households as Employers"
           ],
           "legendgroup": "Households as Employers",
           "marker": {
            "color": "#EF553B",
            "pattern": {
             "shape": ""
            }
           },
           "name": "Households as Employers",
           "offsetgroup": "Households as Employers",
           "orientation": "v",
           "showlegend": true,
           "textposition": "auto",
           "type": "bar",
           "x": [
            "Households as Employers"
           ],
           "xaxis": "x",
           "y": [
            530
           ],
           "yaxis": "y"
          },
          {
           "alignmentgroup": "True",
           "hovertemplate": "Industry=%{x}<br>Year-Month=2021-12<br>Sum=%{y}<extra></extra>",
           "ids": [
            "Information & Communication"
           ],
           "legendgroup": "Information & Communication",
           "marker": {
            "color": "#00cc96",
            "pattern": {
             "shape": ""
            }
           },
           "name": "Information & Communication",
           "offsetgroup": "Information & Communication",
           "orientation": "v",
           "showlegend": true,
           "textposition": "auto",
           "type": "bar",
           "x": [
            "Information & Communication"
           ],
           "xaxis": "x",
           "y": [
            4389
           ],
           "yaxis": "y"
          },
          {
           "alignmentgroup": "True",
           "hovertemplate": "Industry=%{x}<br>Year-Month=2021-12<br>Sum=%{y}<extra></extra>",
           "ids": [
            "Manufacturing"
           ],
           "legendgroup": "Manufacturing",
           "marker": {
            "color": "#ab63fa",
            "pattern": {
             "shape": ""
            }
           },
           "name": "Manufacturing",
           "offsetgroup": "Manufacturing",
           "orientation": "v",
           "showlegend": true,
           "textposition": "auto",
           "type": "bar",
           "x": [
            "Manufacturing"
           ],
           "xaxis": "x",
           "y": [
            2094
           ],
           "yaxis": "y"
          },
          {
           "alignmentgroup": "True",
           "hovertemplate": "Industry=%{x}<br>Year-Month=2021-12<br>Sum=%{y}<extra></extra>",
           "ids": [
            "Mining & Quarrying"
           ],
           "legendgroup": "Mining & Quarrying",
           "marker": {
            "color": "#FFA15A",
            "pattern": {
             "shape": ""
            }
           },
           "name": "Mining & Quarrying",
           "offsetgroup": "Mining & Quarrying",
           "orientation": "v",
           "showlegend": true,
           "textposition": "auto",
           "type": "bar",
           "x": [
            "Mining & Quarrying"
           ],
           "xaxis": "x",
           "y": [
            74
           ],
           "yaxis": "y"
          },
          {
           "alignmentgroup": "True",
           "hovertemplate": "Industry=%{x}<br>Year-Month=2021-12<br>Sum=%{y}<extra></extra>",
           "ids": [
            "Other Services"
           ],
           "legendgroup": "Other Services",
           "marker": {
            "color": "#19d3f3",
            "pattern": {
             "shape": ""
            }
           },
           "name": "Other Services",
           "offsetgroup": "Other Services",
           "orientation": "v",
           "showlegend": true,
           "textposition": "auto",
           "type": "bar",
           "x": [
            "Other Services"
           ],
           "xaxis": "x",
           "y": [
            2596
           ],
           "yaxis": "y"
          },
          {
           "alignmentgroup": "True",
           "hovertemplate": "Industry=%{x}<br>Year-Month=2021-12<br>Sum=%{y}<extra></extra>",
           "ids": [
            "Professional, Scientific & Technical"
           ],
           "legendgroup": "Professional, Scientific & Technical",
           "marker": {
            "color": "#FF6692",
            "pattern": {
             "shape": ""
            }
           },
           "name": "Professional, Scientific & Technical",
           "offsetgroup": "Professional, Scientific & Technical",
           "orientation": "v",
           "showlegend": true,
           "textposition": "auto",
           "type": "bar",
           "x": [
            "Professional, Scientific & Technical"
           ],
           "xaxis": "x",
           "y": [
            5008
           ],
           "yaxis": "y"
          },
          {
           "alignmentgroup": "True",
           "hovertemplate": "Industry=%{x}<br>Year-Month=2021-12<br>Sum=%{y}<extra></extra>",
           "ids": [
            "Real Estate"
           ],
           "legendgroup": "Real Estate",
           "marker": {
            "color": "#B6E880",
            "pattern": {
             "shape": ""
            }
           },
           "name": "Real Estate",
           "offsetgroup": "Real Estate",
           "orientation": "v",
           "showlegend": true,
           "textposition": "auto",
           "type": "bar",
           "x": [
            "Real Estate"
           ],
           "xaxis": "x",
           "y": [
            4627
           ],
           "yaxis": "y"
          },
          {
           "alignmentgroup": "True",
           "hovertemplate": "Industry=%{x}<br>Year-Month=2021-12<br>Sum=%{y}<extra></extra>",
           "ids": [
            "Transportation & Storage"
           ],
           "legendgroup": "Transportation & Storage",
           "marker": {
            "color": "#FF97FF",
            "pattern": {
             "shape": ""
            }
           },
           "name": "Transportation & Storage",
           "offsetgroup": "Transportation & Storage",
           "orientation": "v",
           "showlegend": true,
           "textposition": "auto",
           "type": "bar",
           "x": [
            "Transportation & Storage"
           ],
           "xaxis": "x",
           "y": [
            1957
           ],
           "yaxis": "y"
          },
          {
           "alignmentgroup": "True",
           "hovertemplate": "Industry=%{x}<br>Year-Month=2021-12<br>Sum=%{y}<extra></extra>",
           "ids": [
            "Water Supply, Sewerage, Waste Management"
           ],
           "legendgroup": "Water Supply, Sewerage, Waste Management",
           "marker": {
            "color": "#FECB52",
            "pattern": {
             "shape": ""
            }
           },
           "name": "Water Supply, Sewerage, Waste Management",
           "offsetgroup": "Water Supply, Sewerage, Waste Management",
           "orientation": "v",
           "showlegend": true,
           "textposition": "auto",
           "type": "bar",
           "x": [
            "Water Supply, Sewerage, Waste Management"
           ],
           "xaxis": "x",
           "y": [
            133
           ],
           "yaxis": "y"
          },
          {
           "alignmentgroup": "True",
           "hovertemplate": "Industry=%{x}<br>Year-Month=2021-12<br>Sum=%{y}<extra></extra>",
           "ids": [
            "Wholesale & Retail"
           ],
           "legendgroup": "Wholesale & Retail",
           "marker": {
            "color": "#636efa",
            "pattern": {
             "shape": ""
            }
           },
           "name": "Wholesale & Retail",
           "offsetgroup": "Wholesale & Retail",
           "orientation": "v",
           "showlegend": true,
           "textposition": "auto",
           "type": "bar",
           "x": [
            "Wholesale & Retail"
           ],
           "xaxis": "x",
           "y": [
            10394
           ],
           "yaxis": "y"
          }
         ],
         "name": "2021-12"
        },
        {
         "data": [
          {
           "alignmentgroup": "True",
           "hovertemplate": "Industry=%{x}<br>Year-Month=2022-01<br>Sum=%{y}<extra></extra>",
           "ids": [
            "Accommodation & Food"
           ],
           "legendgroup": "Accommodation & Food",
           "marker": {
            "color": "#636efa",
            "pattern": {
             "shape": ""
            }
           },
           "name": "Accommodation & Food",
           "offsetgroup": "Accommodation & Food",
           "orientation": "v",
           "showlegend": true,
           "textposition": "auto",
           "type": "bar",
           "x": [
            "Accommodation & Food"
           ],
           "xaxis": "x",
           "y": [
            3395
           ],
           "yaxis": "y"
          },
          {
           "alignmentgroup": "True",
           "hovertemplate": "Industry=%{x}<br>Year-Month=2022-01<br>Sum=%{y}<extra></extra>",
           "ids": [
            "Administration & Security"
           ],
           "legendgroup": "Administration & Security",
           "marker": {
            "color": "#EF553B",
            "pattern": {
             "shape": ""
            }
           },
           "name": "Administration & Security",
           "offsetgroup": "Administration & Security",
           "orientation": "v",
           "showlegend": true,
           "textposition": "auto",
           "type": "bar",
           "x": [
            "Administration & Security"
           ],
           "xaxis": "x",
           "y": [
            195
           ],
           "yaxis": "y"
          },
          {
           "alignmentgroup": "True",
           "hovertemplate": "Industry=%{x}<br>Year-Month=2022-01<br>Sum=%{y}<extra></extra>",
           "ids": [
            "Administrative Servives"
           ],
           "legendgroup": "Administrative Servives",
           "marker": {
            "color": "#00cc96",
            "pattern": {
             "shape": ""
            }
           },
           "name": "Administrative Servives",
           "offsetgroup": "Administrative Servives",
           "orientation": "v",
           "showlegend": true,
           "textposition": "auto",
           "type": "bar",
           "x": [
            "Administrative Servives"
           ],
           "xaxis": "x",
           "y": [
            3951
           ],
           "yaxis": "y"
          },
          {
           "alignmentgroup": "True",
           "hovertemplate": "Industry=%{x}<br>Year-Month=2022-01<br>Sum=%{y}<extra></extra>",
           "ids": [
            "Agriculture, Forestry & Fishing"
           ],
           "legendgroup": "Agriculture, Forestry & Fishing",
           "marker": {
            "color": "#ab63fa",
            "pattern": {
             "shape": ""
            }
           },
           "name": "Agriculture, Forestry & Fishing",
           "offsetgroup": "Agriculture, Forestry & Fishing",
           "orientation": "v",
           "showlegend": true,
           "textposition": "auto",
           "type": "bar",
           "x": [
            "Agriculture, Forestry & Fishing"
           ],
           "xaxis": "x",
           "y": [
            325
           ],
           "yaxis": "y"
          },
          {
           "alignmentgroup": "True",
           "hovertemplate": "Industry=%{x}<br>Year-Month=2022-01<br>Sum=%{y}<extra></extra>",
           "ids": [
            "Arts & Entertainment"
           ],
           "legendgroup": "Arts & Entertainment",
           "marker": {
            "color": "#FFA15A",
            "pattern": {
             "shape": ""
            }
           },
           "name": "Arts & Entertainment",
           "offsetgroup": "Arts & Entertainment",
           "orientation": "v",
           "showlegend": true,
           "textposition": "auto",
           "type": "bar",
           "x": [
            "Arts & Entertainment"
           ],
           "xaxis": "x",
           "y": [
            1081
           ],
           "yaxis": "y"
          },
          {
           "alignmentgroup": "True",
           "hovertemplate": "Industry=%{x}<br>Year-Month=2022-01<br>Sum=%{y}<extra></extra>",
           "ids": [
            "Construction"
           ],
           "legendgroup": "Construction",
           "marker": {
            "color": "#19d3f3",
            "pattern": {
             "shape": ""
            }
           },
           "name": "Construction",
           "offsetgroup": "Construction",
           "orientation": "v",
           "showlegend": true,
           "textposition": "auto",
           "type": "bar",
           "x": [
            "Construction"
           ],
           "xaxis": "x",
           "y": [
            5551
           ],
           "yaxis": "y"
          },
          {
           "alignmentgroup": "True",
           "hovertemplate": "Industry=%{x}<br>Year-Month=2022-01<br>Sum=%{y}<extra></extra>",
           "ids": [
            "Education"
           ],
           "legendgroup": "Education",
           "marker": {
            "color": "#FF6692",
            "pattern": {
             "shape": ""
            }
           },
           "name": "Education",
           "offsetgroup": "Education",
           "orientation": "v",
           "showlegend": true,
           "textposition": "auto",
           "type": "bar",
           "x": [
            "Education"
           ],
           "xaxis": "x",
           "y": [
            986
           ],
           "yaxis": "y"
          },
          {
           "alignmentgroup": "True",
           "hovertemplate": "Industry=%{x}<br>Year-Month=2022-01<br>Sum=%{y}<extra></extra>",
           "ids": [
            "Energy Supply"
           ],
           "legendgroup": "Energy Supply",
           "marker": {
            "color": "#B6E880",
            "pattern": {
             "shape": ""
            }
           },
           "name": "Energy Supply",
           "offsetgroup": "Energy Supply",
           "orientation": "v",
           "showlegend": true,
           "textposition": "auto",
           "type": "bar",
           "x": [
            "Energy Supply"
           ],
           "xaxis": "x",
           "y": [
            140
           ],
           "yaxis": "y"
          },
          {
           "alignmentgroup": "True",
           "hovertemplate": "Industry=%{x}<br>Year-Month=2022-01<br>Sum=%{y}<extra></extra>",
           "ids": [
            "Extraterritorial Organisations"
           ],
           "legendgroup": "Extraterritorial Organisations",
           "marker": {
            "color": "#FF97FF",
            "pattern": {
             "shape": ""
            }
           },
           "name": "Extraterritorial Organisations",
           "offsetgroup": "Extraterritorial Organisations",
           "orientation": "v",
           "showlegend": true,
           "textposition": "auto",
           "type": "bar",
           "x": [
            "Extraterritorial Organisations"
           ],
           "xaxis": "x",
           "y": [
            826
           ],
           "yaxis": "y"
          },
          {
           "alignmentgroup": "True",
           "hovertemplate": "Industry=%{x}<br>Year-Month=2022-01<br>Sum=%{y}<extra></extra>",
           "ids": [
            "Financial & Insurance"
           ],
           "legendgroup": "Financial & Insurance",
           "marker": {
            "color": "#FECB52",
            "pattern": {
             "shape": ""
            }
           },
           "name": "Financial & Insurance",
           "offsetgroup": "Financial & Insurance",
           "orientation": "v",
           "showlegend": true,
           "textposition": "auto",
           "type": "bar",
           "x": [
            "Financial & Insurance"
           ],
           "xaxis": "x",
           "y": [
            1831
           ],
           "yaxis": "y"
          },
          {
           "alignmentgroup": "True",
           "hovertemplate": "Industry=%{x}<br>Year-Month=2022-01<br>Sum=%{y}<extra></extra>",
           "ids": [
            "Health & Social Work"
           ],
           "legendgroup": "Health & Social Work",
           "marker": {
            "color": "#636efa",
            "pattern": {
             "shape": ""
            }
           },
           "name": "Health & Social Work",
           "offsetgroup": "Health & Social Work",
           "orientation": "v",
           "showlegend": true,
           "textposition": "auto",
           "type": "bar",
           "x": [
            "Health & Social Work"
           ],
           "xaxis": "x",
           "y": [
            2423
           ],
           "yaxis": "y"
          },
          {
           "alignmentgroup": "True",
           "hovertemplate": "Industry=%{x}<br>Year-Month=2022-01<br>Sum=%{y}<extra></extra>",
           "ids": [
            "Households as Employers"
           ],
           "legendgroup": "Households as Employers",
           "marker": {
            "color": "#EF553B",
            "pattern": {
             "shape": ""
            }
           },
           "name": "Households as Employers",
           "offsetgroup": "Households as Employers",
           "orientation": "v",
           "showlegend": true,
           "textposition": "auto",
           "type": "bar",
           "x": [
            "Households as Employers"
           ],
           "xaxis": "x",
           "y": [
            522
           ],
           "yaxis": "y"
          },
          {
           "alignmentgroup": "True",
           "hovertemplate": "Industry=%{x}<br>Year-Month=2022-01<br>Sum=%{y}<extra></extra>",
           "ids": [
            "Information & Communication"
           ],
           "legendgroup": "Information & Communication",
           "marker": {
            "color": "#00cc96",
            "pattern": {
             "shape": ""
            }
           },
           "name": "Information & Communication",
           "offsetgroup": "Information & Communication",
           "orientation": "v",
           "showlegend": true,
           "textposition": "auto",
           "type": "bar",
           "x": [
            "Information & Communication"
           ],
           "xaxis": "x",
           "y": [
            3873
           ],
           "yaxis": "y"
          },
          {
           "alignmentgroup": "True",
           "hovertemplate": "Industry=%{x}<br>Year-Month=2022-01<br>Sum=%{y}<extra></extra>",
           "ids": [
            "Manufacturing"
           ],
           "legendgroup": "Manufacturing",
           "marker": {
            "color": "#ab63fa",
            "pattern": {
             "shape": ""
            }
           },
           "name": "Manufacturing",
           "offsetgroup": "Manufacturing",
           "orientation": "v",
           "showlegend": true,
           "textposition": "auto",
           "type": "bar",
           "x": [
            "Manufacturing"
           ],
           "xaxis": "x",
           "y": [
            1993
           ],
           "yaxis": "y"
          },
          {
           "alignmentgroup": "True",
           "hovertemplate": "Industry=%{x}<br>Year-Month=2022-01<br>Sum=%{y}<extra></extra>",
           "ids": [
            "Mining & Quarrying"
           ],
           "legendgroup": "Mining & Quarrying",
           "marker": {
            "color": "#FFA15A",
            "pattern": {
             "shape": ""
            }
           },
           "name": "Mining & Quarrying",
           "offsetgroup": "Mining & Quarrying",
           "orientation": "v",
           "showlegend": true,
           "textposition": "auto",
           "type": "bar",
           "x": [
            "Mining & Quarrying"
           ],
           "xaxis": "x",
           "y": [
            55
           ],
           "yaxis": "y"
          },
          {
           "alignmentgroup": "True",
           "hovertemplate": "Industry=%{x}<br>Year-Month=2022-01<br>Sum=%{y}<extra></extra>",
           "ids": [
            "Other Services"
           ],
           "legendgroup": "Other Services",
           "marker": {
            "color": "#19d3f3",
            "pattern": {
             "shape": ""
            }
           },
           "name": "Other Services",
           "offsetgroup": "Other Services",
           "orientation": "v",
           "showlegend": true,
           "textposition": "auto",
           "type": "bar",
           "x": [
            "Other Services"
           ],
           "xaxis": "x",
           "y": [
            2411
           ],
           "yaxis": "y"
          },
          {
           "alignmentgroup": "True",
           "hovertemplate": "Industry=%{x}<br>Year-Month=2022-01<br>Sum=%{y}<extra></extra>",
           "ids": [
            "Professional, Scientific & Technical"
           ],
           "legendgroup": "Professional, Scientific & Technical",
           "marker": {
            "color": "#FF6692",
            "pattern": {
             "shape": ""
            }
           },
           "name": "Professional, Scientific & Technical",
           "offsetgroup": "Professional, Scientific & Technical",
           "orientation": "v",
           "showlegend": true,
           "textposition": "auto",
           "type": "bar",
           "x": [
            "Professional, Scientific & Technical"
           ],
           "xaxis": "x",
           "y": [
            5098
           ],
           "yaxis": "y"
          },
          {
           "alignmentgroup": "True",
           "hovertemplate": "Industry=%{x}<br>Year-Month=2022-01<br>Sum=%{y}<extra></extra>",
           "ids": [
            "Real Estate"
           ],
           "legendgroup": "Real Estate",
           "marker": {
            "color": "#B6E880",
            "pattern": {
             "shape": ""
            }
           },
           "name": "Real Estate",
           "offsetgroup": "Real Estate",
           "orientation": "v",
           "showlegend": true,
           "textposition": "auto",
           "type": "bar",
           "x": [
            "Real Estate"
           ],
           "xaxis": "x",
           "y": [
            4884
           ],
           "yaxis": "y"
          },
          {
           "alignmentgroup": "True",
           "hovertemplate": "Industry=%{x}<br>Year-Month=2022-01<br>Sum=%{y}<extra></extra>",
           "ids": [
            "Transportation & Storage"
           ],
           "legendgroup": "Transportation & Storage",
           "marker": {
            "color": "#FF97FF",
            "pattern": {
             "shape": ""
            }
           },
           "name": "Transportation & Storage",
           "offsetgroup": "Transportation & Storage",
           "orientation": "v",
           "showlegend": true,
           "textposition": "auto",
           "type": "bar",
           "x": [
            "Transportation & Storage"
           ],
           "xaxis": "x",
           "y": [
            2139
           ],
           "yaxis": "y"
          },
          {
           "alignmentgroup": "True",
           "hovertemplate": "Industry=%{x}<br>Year-Month=2022-01<br>Sum=%{y}<extra></extra>",
           "ids": [
            "Water Supply, Sewerage, Waste Management"
           ],
           "legendgroup": "Water Supply, Sewerage, Waste Management",
           "marker": {
            "color": "#FECB52",
            "pattern": {
             "shape": ""
            }
           },
           "name": "Water Supply, Sewerage, Waste Management",
           "offsetgroup": "Water Supply, Sewerage, Waste Management",
           "orientation": "v",
           "showlegend": true,
           "textposition": "auto",
           "type": "bar",
           "x": [
            "Water Supply, Sewerage, Waste Management"
           ],
           "xaxis": "x",
           "y": [
            163
           ],
           "yaxis": "y"
          },
          {
           "alignmentgroup": "True",
           "hovertemplate": "Industry=%{x}<br>Year-Month=2022-01<br>Sum=%{y}<extra></extra>",
           "ids": [
            "Wholesale & Retail"
           ],
           "legendgroup": "Wholesale & Retail",
           "marker": {
            "color": "#636efa",
            "pattern": {
             "shape": ""
            }
           },
           "name": "Wholesale & Retail",
           "offsetgroup": "Wholesale & Retail",
           "orientation": "v",
           "showlegend": true,
           "textposition": "auto",
           "type": "bar",
           "x": [
            "Wholesale & Retail"
           ],
           "xaxis": "x",
           "y": [
            9731
           ],
           "yaxis": "y"
          }
         ],
         "name": "2022-01"
        },
        {
         "data": [
          {
           "alignmentgroup": "True",
           "hovertemplate": "Industry=%{x}<br>Year-Month=2022-02<br>Sum=%{y}<extra></extra>",
           "ids": [
            "Accommodation & Food"
           ],
           "legendgroup": "Accommodation & Food",
           "marker": {
            "color": "#636efa",
            "pattern": {
             "shape": ""
            }
           },
           "name": "Accommodation & Food",
           "offsetgroup": "Accommodation & Food",
           "orientation": "v",
           "showlegend": true,
           "textposition": "auto",
           "type": "bar",
           "x": [
            "Accommodation & Food"
           ],
           "xaxis": "x",
           "y": [
            2827
           ],
           "yaxis": "y"
          },
          {
           "alignmentgroup": "True",
           "hovertemplate": "Industry=%{x}<br>Year-Month=2022-02<br>Sum=%{y}<extra></extra>",
           "ids": [
            "Administration & Security"
           ],
           "legendgroup": "Administration & Security",
           "marker": {
            "color": "#EF553B",
            "pattern": {
             "shape": ""
            }
           },
           "name": "Administration & Security",
           "offsetgroup": "Administration & Security",
           "orientation": "v",
           "showlegend": true,
           "textposition": "auto",
           "type": "bar",
           "x": [
            "Administration & Security"
           ],
           "xaxis": "x",
           "y": [
            162
           ],
           "yaxis": "y"
          },
          {
           "alignmentgroup": "True",
           "hovertemplate": "Industry=%{x}<br>Year-Month=2022-02<br>Sum=%{y}<extra></extra>",
           "ids": [
            "Administrative Servives"
           ],
           "legendgroup": "Administrative Servives",
           "marker": {
            "color": "#00cc96",
            "pattern": {
             "shape": ""
            }
           },
           "name": "Administrative Servives",
           "offsetgroup": "Administrative Servives",
           "orientation": "v",
           "showlegend": true,
           "textposition": "auto",
           "type": "bar",
           "x": [
            "Administrative Servives"
           ],
           "xaxis": "x",
           "y": [
            3038
           ],
           "yaxis": "y"
          },
          {
           "alignmentgroup": "True",
           "hovertemplate": "Industry=%{x}<br>Year-Month=2022-02<br>Sum=%{y}<extra></extra>",
           "ids": [
            "Agriculture, Forestry & Fishing"
           ],
           "legendgroup": "Agriculture, Forestry & Fishing",
           "marker": {
            "color": "#ab63fa",
            "pattern": {
             "shape": ""
            }
           },
           "name": "Agriculture, Forestry & Fishing",
           "offsetgroup": "Agriculture, Forestry & Fishing",
           "orientation": "v",
           "showlegend": true,
           "textposition": "auto",
           "type": "bar",
           "x": [
            "Agriculture, Forestry & Fishing"
           ],
           "xaxis": "x",
           "y": [
            230
           ],
           "yaxis": "y"
          },
          {
           "alignmentgroup": "True",
           "hovertemplate": "Industry=%{x}<br>Year-Month=2022-02<br>Sum=%{y}<extra></extra>",
           "ids": [
            "Arts & Entertainment"
           ],
           "legendgroup": "Arts & Entertainment",
           "marker": {
            "color": "#FFA15A",
            "pattern": {
             "shape": ""
            }
           },
           "name": "Arts & Entertainment",
           "offsetgroup": "Arts & Entertainment",
           "orientation": "v",
           "showlegend": true,
           "textposition": "auto",
           "type": "bar",
           "x": [
            "Arts & Entertainment"
           ],
           "xaxis": "x",
           "y": [
            892
           ],
           "yaxis": "y"
          },
          {
           "alignmentgroup": "True",
           "hovertemplate": "Industry=%{x}<br>Year-Month=2022-02<br>Sum=%{y}<extra></extra>",
           "ids": [
            "Construction"
           ],
           "legendgroup": "Construction",
           "marker": {
            "color": "#19d3f3",
            "pattern": {
             "shape": ""
            }
           },
           "name": "Construction",
           "offsetgroup": "Construction",
           "orientation": "v",
           "showlegend": true,
           "textposition": "auto",
           "type": "bar",
           "x": [
            "Construction"
           ],
           "xaxis": "x",
           "y": [
            4487
           ],
           "yaxis": "y"
          },
          {
           "alignmentgroup": "True",
           "hovertemplate": "Industry=%{x}<br>Year-Month=2022-02<br>Sum=%{y}<extra></extra>",
           "ids": [
            "Education"
           ],
           "legendgroup": "Education",
           "marker": {
            "color": "#FF6692",
            "pattern": {
             "shape": ""
            }
           },
           "name": "Education",
           "offsetgroup": "Education",
           "orientation": "v",
           "showlegend": true,
           "textposition": "auto",
           "type": "bar",
           "x": [
            "Education"
           ],
           "xaxis": "x",
           "y": [
            730
           ],
           "yaxis": "y"
          },
          {
           "alignmentgroup": "True",
           "hovertemplate": "Industry=%{x}<br>Year-Month=2022-02<br>Sum=%{y}<extra></extra>",
           "ids": [
            "Energy Supply"
           ],
           "legendgroup": "Energy Supply",
           "marker": {
            "color": "#B6E880",
            "pattern": {
             "shape": ""
            }
           },
           "name": "Energy Supply",
           "offsetgroup": "Energy Supply",
           "orientation": "v",
           "showlegend": true,
           "textposition": "auto",
           "type": "bar",
           "x": [
            "Energy Supply"
           ],
           "xaxis": "x",
           "y": [
            102
           ],
           "yaxis": "y"
          },
          {
           "alignmentgroup": "True",
           "hovertemplate": "Industry=%{x}<br>Year-Month=2022-02<br>Sum=%{y}<extra></extra>",
           "ids": [
            "Extraterritorial Organisations"
           ],
           "legendgroup": "Extraterritorial Organisations",
           "marker": {
            "color": "#FF97FF",
            "pattern": {
             "shape": ""
            }
           },
           "name": "Extraterritorial Organisations",
           "offsetgroup": "Extraterritorial Organisations",
           "orientation": "v",
           "showlegend": true,
           "textposition": "auto",
           "type": "bar",
           "x": [
            "Extraterritorial Organisations"
           ],
           "xaxis": "x",
           "y": [
            765
           ],
           "yaxis": "y"
          },
          {
           "alignmentgroup": "True",
           "hovertemplate": "Industry=%{x}<br>Year-Month=2022-02<br>Sum=%{y}<extra></extra>",
           "ids": [
            "Financial & Insurance"
           ],
           "legendgroup": "Financial & Insurance",
           "marker": {
            "color": "#FECB52",
            "pattern": {
             "shape": ""
            }
           },
           "name": "Financial & Insurance",
           "offsetgroup": "Financial & Insurance",
           "orientation": "v",
           "showlegend": true,
           "textposition": "auto",
           "type": "bar",
           "x": [
            "Financial & Insurance"
           ],
           "xaxis": "x",
           "y": [
            1568
           ],
           "yaxis": "y"
          },
          {
           "alignmentgroup": "True",
           "hovertemplate": "Industry=%{x}<br>Year-Month=2022-02<br>Sum=%{y}<extra></extra>",
           "ids": [
            "Health & Social Work"
           ],
           "legendgroup": "Health & Social Work",
           "marker": {
            "color": "#636efa",
            "pattern": {
             "shape": ""
            }
           },
           "name": "Health & Social Work",
           "offsetgroup": "Health & Social Work",
           "orientation": "v",
           "showlegend": true,
           "textposition": "auto",
           "type": "bar",
           "x": [
            "Health & Social Work"
           ],
           "xaxis": "x",
           "y": [
            1932
           ],
           "yaxis": "y"
          },
          {
           "alignmentgroup": "True",
           "hovertemplate": "Industry=%{x}<br>Year-Month=2022-02<br>Sum=%{y}<extra></extra>",
           "ids": [
            "Households as Employers"
           ],
           "legendgroup": "Households as Employers",
           "marker": {
            "color": "#EF553B",
            "pattern": {
             "shape": ""
            }
           },
           "name": "Households as Employers",
           "offsetgroup": "Households as Employers",
           "orientation": "v",
           "showlegend": true,
           "textposition": "auto",
           "type": "bar",
           "x": [
            "Households as Employers"
           ],
           "xaxis": "x",
           "y": [
            460
           ],
           "yaxis": "y"
          },
          {
           "alignmentgroup": "True",
           "hovertemplate": "Industry=%{x}<br>Year-Month=2022-02<br>Sum=%{y}<extra></extra>",
           "ids": [
            "Information & Communication"
           ],
           "legendgroup": "Information & Communication",
           "marker": {
            "color": "#00cc96",
            "pattern": {
             "shape": ""
            }
           },
           "name": "Information & Communication",
           "offsetgroup": "Information & Communication",
           "orientation": "v",
           "showlegend": true,
           "textposition": "auto",
           "type": "bar",
           "x": [
            "Information & Communication"
           ],
           "xaxis": "x",
           "y": [
            3154
           ],
           "yaxis": "y"
          },
          {
           "alignmentgroup": "True",
           "hovertemplate": "Industry=%{x}<br>Year-Month=2022-02<br>Sum=%{y}<extra></extra>",
           "ids": [
            "Manufacturing"
           ],
           "legendgroup": "Manufacturing",
           "marker": {
            "color": "#ab63fa",
            "pattern": {
             "shape": ""
            }
           },
           "name": "Manufacturing",
           "offsetgroup": "Manufacturing",
           "orientation": "v",
           "showlegend": true,
           "textposition": "auto",
           "type": "bar",
           "x": [
            "Manufacturing"
           ],
           "xaxis": "x",
           "y": [
            1692
           ],
           "yaxis": "y"
          },
          {
           "alignmentgroup": "True",
           "hovertemplate": "Industry=%{x}<br>Year-Month=2022-02<br>Sum=%{y}<extra></extra>",
           "ids": [
            "Mining & Quarrying"
           ],
           "legendgroup": "Mining & Quarrying",
           "marker": {
            "color": "#FFA15A",
            "pattern": {
             "shape": ""
            }
           },
           "name": "Mining & Quarrying",
           "offsetgroup": "Mining & Quarrying",
           "orientation": "v",
           "showlegend": true,
           "textposition": "auto",
           "type": "bar",
           "x": [
            "Mining & Quarrying"
           ],
           "xaxis": "x",
           "y": [
            53
           ],
           "yaxis": "y"
          },
          {
           "alignmentgroup": "True",
           "hovertemplate": "Industry=%{x}<br>Year-Month=2022-02<br>Sum=%{y}<extra></extra>",
           "ids": [
            "Other Services"
           ],
           "legendgroup": "Other Services",
           "marker": {
            "color": "#19d3f3",
            "pattern": {
             "shape": ""
            }
           },
           "name": "Other Services",
           "offsetgroup": "Other Services",
           "orientation": "v",
           "showlegend": true,
           "textposition": "auto",
           "type": "bar",
           "x": [
            "Other Services"
           ],
           "xaxis": "x",
           "y": [
            1942
           ],
           "yaxis": "y"
          },
          {
           "alignmentgroup": "True",
           "hovertemplate": "Industry=%{x}<br>Year-Month=2022-02<br>Sum=%{y}<extra></extra>",
           "ids": [
            "Professional, Scientific & Technical"
           ],
           "legendgroup": "Professional, Scientific & Technical",
           "marker": {
            "color": "#FF6692",
            "pattern": {
             "shape": ""
            }
           },
           "name": "Professional, Scientific & Technical",
           "offsetgroup": "Professional, Scientific & Technical",
           "orientation": "v",
           "showlegend": true,
           "textposition": "auto",
           "type": "bar",
           "x": [
            "Professional, Scientific & Technical"
           ],
           "xaxis": "x",
           "y": [
            3982
           ],
           "yaxis": "y"
          },
          {
           "alignmentgroup": "True",
           "hovertemplate": "Industry=%{x}<br>Year-Month=2022-02<br>Sum=%{y}<extra></extra>",
           "ids": [
            "Real Estate"
           ],
           "legendgroup": "Real Estate",
           "marker": {
            "color": "#B6E880",
            "pattern": {
             "shape": ""
            }
           },
           "name": "Real Estate",
           "offsetgroup": "Real Estate",
           "orientation": "v",
           "showlegend": true,
           "textposition": "auto",
           "type": "bar",
           "x": [
            "Real Estate"
           ],
           "xaxis": "x",
           "y": [
            3943
           ],
           "yaxis": "y"
          },
          {
           "alignmentgroup": "True",
           "hovertemplate": "Industry=%{x}<br>Year-Month=2022-02<br>Sum=%{y}<extra></extra>",
           "ids": [
            "Transportation & Storage"
           ],
           "legendgroup": "Transportation & Storage",
           "marker": {
            "color": "#FF97FF",
            "pattern": {
             "shape": ""
            }
           },
           "name": "Transportation & Storage",
           "offsetgroup": "Transportation & Storage",
           "orientation": "v",
           "showlegend": true,
           "textposition": "auto",
           "type": "bar",
           "x": [
            "Transportation & Storage"
           ],
           "xaxis": "x",
           "y": [
            2051
           ],
           "yaxis": "y"
          },
          {
           "alignmentgroup": "True",
           "hovertemplate": "Industry=%{x}<br>Year-Month=2022-02<br>Sum=%{y}<extra></extra>",
           "ids": [
            "Water Supply, Sewerage, Waste Management"
           ],
           "legendgroup": "Water Supply, Sewerage, Waste Management",
           "marker": {
            "color": "#FECB52",
            "pattern": {
             "shape": ""
            }
           },
           "name": "Water Supply, Sewerage, Waste Management",
           "offsetgroup": "Water Supply, Sewerage, Waste Management",
           "orientation": "v",
           "showlegend": true,
           "textposition": "auto",
           "type": "bar",
           "x": [
            "Water Supply, Sewerage, Waste Management"
           ],
           "xaxis": "x",
           "y": [
            125
           ],
           "yaxis": "y"
          },
          {
           "alignmentgroup": "True",
           "hovertemplate": "Industry=%{x}<br>Year-Month=2022-02<br>Sum=%{y}<extra></extra>",
           "ids": [
            "Wholesale & Retail"
           ],
           "legendgroup": "Wholesale & Retail",
           "marker": {
            "color": "#636efa",
            "pattern": {
             "shape": ""
            }
           },
           "name": "Wholesale & Retail",
           "offsetgroup": "Wholesale & Retail",
           "orientation": "v",
           "showlegend": true,
           "textposition": "auto",
           "type": "bar",
           "x": [
            "Wholesale & Retail"
           ],
           "xaxis": "x",
           "y": [
            7940
           ],
           "yaxis": "y"
          }
         ],
         "name": "2022-02"
        },
        {
         "data": [
          {
           "alignmentgroup": "True",
           "hovertemplate": "Industry=%{x}<br>Year-Month=2022-03<br>Sum=%{y}<extra></extra>",
           "ids": [
            "Accommodation & Food"
           ],
           "legendgroup": "Accommodation & Food",
           "marker": {
            "color": "#636efa",
            "pattern": {
             "shape": ""
            }
           },
           "name": "Accommodation & Food",
           "offsetgroup": "Accommodation & Food",
           "orientation": "v",
           "showlegend": true,
           "textposition": "auto",
           "type": "bar",
           "x": [
            "Accommodation & Food"
           ],
           "xaxis": "x",
           "y": [
            4068
           ],
           "yaxis": "y"
          },
          {
           "alignmentgroup": "True",
           "hovertemplate": "Industry=%{x}<br>Year-Month=2022-03<br>Sum=%{y}<extra></extra>",
           "ids": [
            "Administration & Security"
           ],
           "legendgroup": "Administration & Security",
           "marker": {
            "color": "#EF553B",
            "pattern": {
             "shape": ""
            }
           },
           "name": "Administration & Security",
           "offsetgroup": "Administration & Security",
           "orientation": "v",
           "showlegend": true,
           "textposition": "auto",
           "type": "bar",
           "x": [
            "Administration & Security"
           ],
           "xaxis": "x",
           "y": [
            188
           ],
           "yaxis": "y"
          },
          {
           "alignmentgroup": "True",
           "hovertemplate": "Industry=%{x}<br>Year-Month=2022-03<br>Sum=%{y}<extra></extra>",
           "ids": [
            "Administrative Servives"
           ],
           "legendgroup": "Administrative Servives",
           "marker": {
            "color": "#00cc96",
            "pattern": {
             "shape": ""
            }
           },
           "name": "Administrative Servives",
           "offsetgroup": "Administrative Servives",
           "orientation": "v",
           "showlegend": true,
           "textposition": "auto",
           "type": "bar",
           "x": [
            "Administrative Servives"
           ],
           "xaxis": "x",
           "y": [
            4334
           ],
           "yaxis": "y"
          },
          {
           "alignmentgroup": "True",
           "hovertemplate": "Industry=%{x}<br>Year-Month=2022-03<br>Sum=%{y}<extra></extra>",
           "ids": [
            "Agriculture, Forestry & Fishing"
           ],
           "legendgroup": "Agriculture, Forestry & Fishing",
           "marker": {
            "color": "#ab63fa",
            "pattern": {
             "shape": ""
            }
           },
           "name": "Agriculture, Forestry & Fishing",
           "offsetgroup": "Agriculture, Forestry & Fishing",
           "orientation": "v",
           "showlegend": true,
           "textposition": "auto",
           "type": "bar",
           "x": [
            "Agriculture, Forestry & Fishing"
           ],
           "xaxis": "x",
           "y": [
            379
           ],
           "yaxis": "y"
          },
          {
           "alignmentgroup": "True",
           "hovertemplate": "Industry=%{x}<br>Year-Month=2022-03<br>Sum=%{y}<extra></extra>",
           "ids": [
            "Arts & Entertainment"
           ],
           "legendgroup": "Arts & Entertainment",
           "marker": {
            "color": "#FFA15A",
            "pattern": {
             "shape": ""
            }
           },
           "name": "Arts & Entertainment",
           "offsetgroup": "Arts & Entertainment",
           "orientation": "v",
           "showlegend": true,
           "textposition": "auto",
           "type": "bar",
           "x": [
            "Arts & Entertainment"
           ],
           "xaxis": "x",
           "y": [
            1190
           ],
           "yaxis": "y"
          },
          {
           "alignmentgroup": "True",
           "hovertemplate": "Industry=%{x}<br>Year-Month=2022-03<br>Sum=%{y}<extra></extra>",
           "ids": [
            "Construction"
           ],
           "legendgroup": "Construction",
           "marker": {
            "color": "#19d3f3",
            "pattern": {
             "shape": ""
            }
           },
           "name": "Construction",
           "offsetgroup": "Construction",
           "orientation": "v",
           "showlegend": true,
           "textposition": "auto",
           "type": "bar",
           "x": [
            "Construction"
           ],
           "xaxis": "x",
           "y": [
            6266
           ],
           "yaxis": "y"
          },
          {
           "alignmentgroup": "True",
           "hovertemplate": "Industry=%{x}<br>Year-Month=2022-03<br>Sum=%{y}<extra></extra>",
           "ids": [
            "Education"
           ],
           "legendgroup": "Education",
           "marker": {
            "color": "#FF6692",
            "pattern": {
             "shape": ""
            }
           },
           "name": "Education",
           "offsetgroup": "Education",
           "orientation": "v",
           "showlegend": true,
           "textposition": "auto",
           "type": "bar",
           "x": [
            "Education"
           ],
           "xaxis": "x",
           "y": [
            1052
           ],
           "yaxis": "y"
          },
          {
           "alignmentgroup": "True",
           "hovertemplate": "Industry=%{x}<br>Year-Month=2022-03<br>Sum=%{y}<extra></extra>",
           "ids": [
            "Energy Supply"
           ],
           "legendgroup": "Energy Supply",
           "marker": {
            "color": "#B6E880",
            "pattern": {
             "shape": ""
            }
           },
           "name": "Energy Supply",
           "offsetgroup": "Energy Supply",
           "orientation": "v",
           "showlegend": true,
           "textposition": "auto",
           "type": "bar",
           "x": [
            "Energy Supply"
           ],
           "xaxis": "x",
           "y": [
            183
           ],
           "yaxis": "y"
          },
          {
           "alignmentgroup": "True",
           "hovertemplate": "Industry=%{x}<br>Year-Month=2022-03<br>Sum=%{y}<extra></extra>",
           "ids": [
            "Extraterritorial Organisations"
           ],
           "legendgroup": "Extraterritorial Organisations",
           "marker": {
            "color": "#FF97FF",
            "pattern": {
             "shape": ""
            }
           },
           "name": "Extraterritorial Organisations",
           "offsetgroup": "Extraterritorial Organisations",
           "orientation": "v",
           "showlegend": true,
           "textposition": "auto",
           "type": "bar",
           "x": [
            "Extraterritorial Organisations"
           ],
           "xaxis": "x",
           "y": [
            905
           ],
           "yaxis": "y"
          },
          {
           "alignmentgroup": "True",
           "hovertemplate": "Industry=%{x}<br>Year-Month=2022-03<br>Sum=%{y}<extra></extra>",
           "ids": [
            "Financial & Insurance"
           ],
           "legendgroup": "Financial & Insurance",
           "marker": {
            "color": "#FECB52",
            "pattern": {
             "shape": ""
            }
           },
           "name": "Financial & Insurance",
           "offsetgroup": "Financial & Insurance",
           "orientation": "v",
           "showlegend": true,
           "textposition": "auto",
           "type": "bar",
           "x": [
            "Financial & Insurance"
           ],
           "xaxis": "x",
           "y": [
            2157
           ],
           "yaxis": "y"
          },
          {
           "alignmentgroup": "True",
           "hovertemplate": "Industry=%{x}<br>Year-Month=2022-03<br>Sum=%{y}<extra></extra>",
           "ids": [
            "Health & Social Work"
           ],
           "legendgroup": "Health & Social Work",
           "marker": {
            "color": "#636efa",
            "pattern": {
             "shape": ""
            }
           },
           "name": "Health & Social Work",
           "offsetgroup": "Health & Social Work",
           "orientation": "v",
           "showlegend": true,
           "textposition": "auto",
           "type": "bar",
           "x": [
            "Health & Social Work"
           ],
           "xaxis": "x",
           "y": [
            2699
           ],
           "yaxis": "y"
          },
          {
           "alignmentgroup": "True",
           "hovertemplate": "Industry=%{x}<br>Year-Month=2022-03<br>Sum=%{y}<extra></extra>",
           "ids": [
            "Households as Employers"
           ],
           "legendgroup": "Households as Employers",
           "marker": {
            "color": "#EF553B",
            "pattern": {
             "shape": ""
            }
           },
           "name": "Households as Employers",
           "offsetgroup": "Households as Employers",
           "orientation": "v",
           "showlegend": true,
           "textposition": "auto",
           "type": "bar",
           "x": [
            "Households as Employers"
           ],
           "xaxis": "x",
           "y": [
            572
           ],
           "yaxis": "y"
          },
          {
           "alignmentgroup": "True",
           "hovertemplate": "Industry=%{x}<br>Year-Month=2022-03<br>Sum=%{y}<extra></extra>",
           "ids": [
            "Information & Communication"
           ],
           "legendgroup": "Information & Communication",
           "marker": {
            "color": "#00cc96",
            "pattern": {
             "shape": ""
            }
           },
           "name": "Information & Communication",
           "offsetgroup": "Information & Communication",
           "orientation": "v",
           "showlegend": true,
           "textposition": "auto",
           "type": "bar",
           "x": [
            "Information & Communication"
           ],
           "xaxis": "x",
           "y": [
            4093
           ],
           "yaxis": "y"
          },
          {
           "alignmentgroup": "True",
           "hovertemplate": "Industry=%{x}<br>Year-Month=2022-03<br>Sum=%{y}<extra></extra>",
           "ids": [
            "Manufacturing"
           ],
           "legendgroup": "Manufacturing",
           "marker": {
            "color": "#ab63fa",
            "pattern": {
             "shape": ""
            }
           },
           "name": "Manufacturing",
           "offsetgroup": "Manufacturing",
           "orientation": "v",
           "showlegend": true,
           "textposition": "auto",
           "type": "bar",
           "x": [
            "Manufacturing"
           ],
           "xaxis": "x",
           "y": [
            2130
           ],
           "yaxis": "y"
          },
          {
           "alignmentgroup": "True",
           "hovertemplate": "Industry=%{x}<br>Year-Month=2022-03<br>Sum=%{y}<extra></extra>",
           "ids": [
            "Mining & Quarrying"
           ],
           "legendgroup": "Mining & Quarrying",
           "marker": {
            "color": "#FFA15A",
            "pattern": {
             "shape": ""
            }
           },
           "name": "Mining & Quarrying",
           "offsetgroup": "Mining & Quarrying",
           "orientation": "v",
           "showlegend": true,
           "textposition": "auto",
           "type": "bar",
           "x": [
            "Mining & Quarrying"
           ],
           "xaxis": "x",
           "y": [
            75
           ],
           "yaxis": "y"
          },
          {
           "alignmentgroup": "True",
           "hovertemplate": "Industry=%{x}<br>Year-Month=2022-03<br>Sum=%{y}<extra></extra>",
           "ids": [
            "Other Services"
           ],
           "legendgroup": "Other Services",
           "marker": {
            "color": "#19d3f3",
            "pattern": {
             "shape": ""
            }
           },
           "name": "Other Services",
           "offsetgroup": "Other Services",
           "orientation": "v",
           "showlegend": true,
           "textposition": "auto",
           "type": "bar",
           "x": [
            "Other Services"
           ],
           "xaxis": "x",
           "y": [
            2870
           ],
           "yaxis": "y"
          },
          {
           "alignmentgroup": "True",
           "hovertemplate": "Industry=%{x}<br>Year-Month=2022-03<br>Sum=%{y}<extra></extra>",
           "ids": [
            "Professional, Scientific & Technical"
           ],
           "legendgroup": "Professional, Scientific & Technical",
           "marker": {
            "color": "#FF6692",
            "pattern": {
             "shape": ""
            }
           },
           "name": "Professional, Scientific & Technical",
           "offsetgroup": "Professional, Scientific & Technical",
           "orientation": "v",
           "showlegend": true,
           "textposition": "auto",
           "type": "bar",
           "x": [
            "Professional, Scientific & Technical"
           ],
           "xaxis": "x",
           "y": [
            5379
           ],
           "yaxis": "y"
          },
          {
           "alignmentgroup": "True",
           "hovertemplate": "Industry=%{x}<br>Year-Month=2022-03<br>Sum=%{y}<extra></extra>",
           "ids": [
            "Real Estate"
           ],
           "legendgroup": "Real Estate",
           "marker": {
            "color": "#B6E880",
            "pattern": {
             "shape": ""
            }
           },
           "name": "Real Estate",
           "offsetgroup": "Real Estate",
           "orientation": "v",
           "showlegend": true,
           "textposition": "auto",
           "type": "bar",
           "x": [
            "Real Estate"
           ],
           "xaxis": "x",
           "y": [
            5219
           ],
           "yaxis": "y"
          },
          {
           "alignmentgroup": "True",
           "hovertemplate": "Industry=%{x}<br>Year-Month=2022-03<br>Sum=%{y}<extra></extra>",
           "ids": [
            "Transportation & Storage"
           ],
           "legendgroup": "Transportation & Storage",
           "marker": {
            "color": "#FF97FF",
            "pattern": {
             "shape": ""
            }
           },
           "name": "Transportation & Storage",
           "offsetgroup": "Transportation & Storage",
           "orientation": "v",
           "showlegend": true,
           "textposition": "auto",
           "type": "bar",
           "x": [
            "Transportation & Storage"
           ],
           "xaxis": "x",
           "y": [
            2441
           ],
           "yaxis": "y"
          },
          {
           "alignmentgroup": "True",
           "hovertemplate": "Industry=%{x}<br>Year-Month=2022-03<br>Sum=%{y}<extra></extra>",
           "ids": [
            "Water Supply, Sewerage, Waste Management"
           ],
           "legendgroup": "Water Supply, Sewerage, Waste Management",
           "marker": {
            "color": "#FECB52",
            "pattern": {
             "shape": ""
            }
           },
           "name": "Water Supply, Sewerage, Waste Management",
           "offsetgroup": "Water Supply, Sewerage, Waste Management",
           "orientation": "v",
           "showlegend": true,
           "textposition": "auto",
           "type": "bar",
           "x": [
            "Water Supply, Sewerage, Waste Management"
           ],
           "xaxis": "x",
           "y": [
            170
           ],
           "yaxis": "y"
          },
          {
           "alignmentgroup": "True",
           "hovertemplate": "Industry=%{x}<br>Year-Month=2022-03<br>Sum=%{y}<extra></extra>",
           "ids": [
            "Wholesale & Retail"
           ],
           "legendgroup": "Wholesale & Retail",
           "marker": {
            "color": "#636efa",
            "pattern": {
             "shape": ""
            }
           },
           "name": "Wholesale & Retail",
           "offsetgroup": "Wholesale & Retail",
           "orientation": "v",
           "showlegend": true,
           "textposition": "auto",
           "type": "bar",
           "x": [
            "Wholesale & Retail"
           ],
           "xaxis": "x",
           "y": [
            10419
           ],
           "yaxis": "y"
          }
         ],
         "name": "2022-03"
        },
        {
         "data": [
          {
           "alignmentgroup": "True",
           "hovertemplate": "Industry=%{x}<br>Year-Month=2022-04<br>Sum=%{y}<extra></extra>",
           "ids": [
            "Accommodation & Food"
           ],
           "legendgroup": "Accommodation & Food",
           "marker": {
            "color": "#636efa",
            "pattern": {
             "shape": ""
            }
           },
           "name": "Accommodation & Food",
           "offsetgroup": "Accommodation & Food",
           "orientation": "v",
           "showlegend": true,
           "textposition": "auto",
           "type": "bar",
           "x": [
            "Accommodation & Food"
           ],
           "xaxis": "x",
           "y": [
            3687
           ],
           "yaxis": "y"
          },
          {
           "alignmentgroup": "True",
           "hovertemplate": "Industry=%{x}<br>Year-Month=2022-04<br>Sum=%{y}<extra></extra>",
           "ids": [
            "Administration & Security"
           ],
           "legendgroup": "Administration & Security",
           "marker": {
            "color": "#EF553B",
            "pattern": {
             "shape": ""
            }
           },
           "name": "Administration & Security",
           "offsetgroup": "Administration & Security",
           "orientation": "v",
           "showlegend": true,
           "textposition": "auto",
           "type": "bar",
           "x": [
            "Administration & Security"
           ],
           "xaxis": "x",
           "y": [
            166
           ],
           "yaxis": "y"
          },
          {
           "alignmentgroup": "True",
           "hovertemplate": "Industry=%{x}<br>Year-Month=2022-04<br>Sum=%{y}<extra></extra>",
           "ids": [
            "Administrative Servives"
           ],
           "legendgroup": "Administrative Servives",
           "marker": {
            "color": "#00cc96",
            "pattern": {
             "shape": ""
            }
           },
           "name": "Administrative Servives",
           "offsetgroup": "Administrative Servives",
           "orientation": "v",
           "showlegend": true,
           "textposition": "auto",
           "type": "bar",
           "x": [
            "Administrative Servives"
           ],
           "xaxis": "x",
           "y": [
            3885
           ],
           "yaxis": "y"
          },
          {
           "alignmentgroup": "True",
           "hovertemplate": "Industry=%{x}<br>Year-Month=2022-04<br>Sum=%{y}<extra></extra>",
           "ids": [
            "Agriculture, Forestry & Fishing"
           ],
           "legendgroup": "Agriculture, Forestry & Fishing",
           "marker": {
            "color": "#ab63fa",
            "pattern": {
             "shape": ""
            }
           },
           "name": "Agriculture, Forestry & Fishing",
           "offsetgroup": "Agriculture, Forestry & Fishing",
           "orientation": "v",
           "showlegend": true,
           "textposition": "auto",
           "type": "bar",
           "x": [
            "Agriculture, Forestry & Fishing"
           ],
           "xaxis": "x",
           "y": [
            333
           ],
           "yaxis": "y"
          },
          {
           "alignmentgroup": "True",
           "hovertemplate": "Industry=%{x}<br>Year-Month=2022-04<br>Sum=%{y}<extra></extra>",
           "ids": [
            "Arts & Entertainment"
           ],
           "legendgroup": "Arts & Entertainment",
           "marker": {
            "color": "#FFA15A",
            "pattern": {
             "shape": ""
            }
           },
           "name": "Arts & Entertainment",
           "offsetgroup": "Arts & Entertainment",
           "orientation": "v",
           "showlegend": true,
           "textposition": "auto",
           "type": "bar",
           "x": [
            "Arts & Entertainment"
           ],
           "xaxis": "x",
           "y": [
            1068
           ],
           "yaxis": "y"
          },
          {
           "alignmentgroup": "True",
           "hovertemplate": "Industry=%{x}<br>Year-Month=2022-04<br>Sum=%{y}<extra></extra>",
           "ids": [
            "Construction"
           ],
           "legendgroup": "Construction",
           "marker": {
            "color": "#19d3f3",
            "pattern": {
             "shape": ""
            }
           },
           "name": "Construction",
           "offsetgroup": "Construction",
           "orientation": "v",
           "showlegend": true,
           "textposition": "auto",
           "type": "bar",
           "x": [
            "Construction"
           ],
           "xaxis": "x",
           "y": [
            5605
           ],
           "yaxis": "y"
          },
          {
           "alignmentgroup": "True",
           "hovertemplate": "Industry=%{x}<br>Year-Month=2022-04<br>Sum=%{y}<extra></extra>",
           "ids": [
            "Education"
           ],
           "legendgroup": "Education",
           "marker": {
            "color": "#FF6692",
            "pattern": {
             "shape": ""
            }
           },
           "name": "Education",
           "offsetgroup": "Education",
           "orientation": "v",
           "showlegend": true,
           "textposition": "auto",
           "type": "bar",
           "x": [
            "Education"
           ],
           "xaxis": "x",
           "y": [
            941
           ],
           "yaxis": "y"
          },
          {
           "alignmentgroup": "True",
           "hovertemplate": "Industry=%{x}<br>Year-Month=2022-04<br>Sum=%{y}<extra></extra>",
           "ids": [
            "Energy Supply"
           ],
           "legendgroup": "Energy Supply",
           "marker": {
            "color": "#B6E880",
            "pattern": {
             "shape": ""
            }
           },
           "name": "Energy Supply",
           "offsetgroup": "Energy Supply",
           "orientation": "v",
           "showlegend": true,
           "textposition": "auto",
           "type": "bar",
           "x": [
            "Energy Supply"
           ],
           "xaxis": "x",
           "y": [
            148
           ],
           "yaxis": "y"
          },
          {
           "alignmentgroup": "True",
           "hovertemplate": "Industry=%{x}<br>Year-Month=2022-04<br>Sum=%{y}<extra></extra>",
           "ids": [
            "Extraterritorial Organisations"
           ],
           "legendgroup": "Extraterritorial Organisations",
           "marker": {
            "color": "#FF97FF",
            "pattern": {
             "shape": ""
            }
           },
           "name": "Extraterritorial Organisations",
           "offsetgroup": "Extraterritorial Organisations",
           "orientation": "v",
           "showlegend": true,
           "textposition": "auto",
           "type": "bar",
           "x": [
            "Extraterritorial Organisations"
           ],
           "xaxis": "x",
           "y": [
            961
           ],
           "yaxis": "y"
          },
          {
           "alignmentgroup": "True",
           "hovertemplate": "Industry=%{x}<br>Year-Month=2022-04<br>Sum=%{y}<extra></extra>",
           "ids": [
            "Financial & Insurance"
           ],
           "legendgroup": "Financial & Insurance",
           "marker": {
            "color": "#FECB52",
            "pattern": {
             "shape": ""
            }
           },
           "name": "Financial & Insurance",
           "offsetgroup": "Financial & Insurance",
           "orientation": "v",
           "showlegend": true,
           "textposition": "auto",
           "type": "bar",
           "x": [
            "Financial & Insurance"
           ],
           "xaxis": "x",
           "y": [
            1927
           ],
           "yaxis": "y"
          },
          {
           "alignmentgroup": "True",
           "hovertemplate": "Industry=%{x}<br>Year-Month=2022-04<br>Sum=%{y}<extra></extra>",
           "ids": [
            "Health & Social Work"
           ],
           "legendgroup": "Health & Social Work",
           "marker": {
            "color": "#636efa",
            "pattern": {
             "shape": ""
            }
           },
           "name": "Health & Social Work",
           "offsetgroup": "Health & Social Work",
           "orientation": "v",
           "showlegend": true,
           "textposition": "auto",
           "type": "bar",
           "x": [
            "Health & Social Work"
           ],
           "xaxis": "x",
           "y": [
            2377
           ],
           "yaxis": "y"
          },
          {
           "alignmentgroup": "True",
           "hovertemplate": "Industry=%{x}<br>Year-Month=2022-04<br>Sum=%{y}<extra></extra>",
           "ids": [
            "Households as Employers"
           ],
           "legendgroup": "Households as Employers",
           "marker": {
            "color": "#EF553B",
            "pattern": {
             "shape": ""
            }
           },
           "name": "Households as Employers",
           "offsetgroup": "Households as Employers",
           "orientation": "v",
           "showlegend": true,
           "textposition": "auto",
           "type": "bar",
           "x": [
            "Households as Employers"
           ],
           "xaxis": "x",
           "y": [
            531
           ],
           "yaxis": "y"
          },
          {
           "alignmentgroup": "True",
           "hovertemplate": "Industry=%{x}<br>Year-Month=2022-04<br>Sum=%{y}<extra></extra>",
           "ids": [
            "Information & Communication"
           ],
           "legendgroup": "Information & Communication",
           "marker": {
            "color": "#00cc96",
            "pattern": {
             "shape": ""
            }
           },
           "name": "Information & Communication",
           "offsetgroup": "Information & Communication",
           "orientation": "v",
           "showlegend": true,
           "textposition": "auto",
           "type": "bar",
           "x": [
            "Information & Communication"
           ],
           "xaxis": "x",
           "y": [
            4071
           ],
           "yaxis": "y"
          },
          {
           "alignmentgroup": "True",
           "hovertemplate": "Industry=%{x}<br>Year-Month=2022-04<br>Sum=%{y}<extra></extra>",
           "ids": [
            "Manufacturing"
           ],
           "legendgroup": "Manufacturing",
           "marker": {
            "color": "#ab63fa",
            "pattern": {
             "shape": ""
            }
           },
           "name": "Manufacturing",
           "offsetgroup": "Manufacturing",
           "orientation": "v",
           "showlegend": true,
           "textposition": "auto",
           "type": "bar",
           "x": [
            "Manufacturing"
           ],
           "xaxis": "x",
           "y": [
            1955
           ],
           "yaxis": "y"
          },
          {
           "alignmentgroup": "True",
           "hovertemplate": "Industry=%{x}<br>Year-Month=2022-04<br>Sum=%{y}<extra></extra>",
           "ids": [
            "Mining & Quarrying"
           ],
           "legendgroup": "Mining & Quarrying",
           "marker": {
            "color": "#FFA15A",
            "pattern": {
             "shape": ""
            }
           },
           "name": "Mining & Quarrying",
           "offsetgroup": "Mining & Quarrying",
           "orientation": "v",
           "showlegend": true,
           "textposition": "auto",
           "type": "bar",
           "x": [
            "Mining & Quarrying"
           ],
           "xaxis": "x",
           "y": [
            71
           ],
           "yaxis": "y"
          },
          {
           "alignmentgroup": "True",
           "hovertemplate": "Industry=%{x}<br>Year-Month=2022-04<br>Sum=%{y}<extra></extra>",
           "ids": [
            "Other Services"
           ],
           "legendgroup": "Other Services",
           "marker": {
            "color": "#19d3f3",
            "pattern": {
             "shape": ""
            }
           },
           "name": "Other Services",
           "offsetgroup": "Other Services",
           "orientation": "v",
           "showlegend": true,
           "textposition": "auto",
           "type": "bar",
           "x": [
            "Other Services"
           ],
           "xaxis": "x",
           "y": [
            2488
           ],
           "yaxis": "y"
          },
          {
           "alignmentgroup": "True",
           "hovertemplate": "Industry=%{x}<br>Year-Month=2022-04<br>Sum=%{y}<extra></extra>",
           "ids": [
            "Professional, Scientific & Technical"
           ],
           "legendgroup": "Professional, Scientific & Technical",
           "marker": {
            "color": "#FF6692",
            "pattern": {
             "shape": ""
            }
           },
           "name": "Professional, Scientific & Technical",
           "offsetgroup": "Professional, Scientific & Technical",
           "orientation": "v",
           "showlegend": true,
           "textposition": "auto",
           "type": "bar",
           "x": [
            "Professional, Scientific & Technical"
           ],
           "xaxis": "x",
           "y": [
            4959
           ],
           "yaxis": "y"
          },
          {
           "alignmentgroup": "True",
           "hovertemplate": "Industry=%{x}<br>Year-Month=2022-04<br>Sum=%{y}<extra></extra>",
           "ids": [
            "Real Estate"
           ],
           "legendgroup": "Real Estate",
           "marker": {
            "color": "#B6E880",
            "pattern": {
             "shape": ""
            }
           },
           "name": "Real Estate",
           "offsetgroup": "Real Estate",
           "orientation": "v",
           "showlegend": true,
           "textposition": "auto",
           "type": "bar",
           "x": [
            "Real Estate"
           ],
           "xaxis": "x",
           "y": [
            4654
           ],
           "yaxis": "y"
          },
          {
           "alignmentgroup": "True",
           "hovertemplate": "Industry=%{x}<br>Year-Month=2022-04<br>Sum=%{y}<extra></extra>",
           "ids": [
            "Transportation & Storage"
           ],
           "legendgroup": "Transportation & Storage",
           "marker": {
            "color": "#FF97FF",
            "pattern": {
             "shape": ""
            }
           },
           "name": "Transportation & Storage",
           "offsetgroup": "Transportation & Storage",
           "orientation": "v",
           "showlegend": true,
           "textposition": "auto",
           "type": "bar",
           "x": [
            "Transportation & Storage"
           ],
           "xaxis": "x",
           "y": [
            2377
           ],
           "yaxis": "y"
          },
          {
           "alignmentgroup": "True",
           "hovertemplate": "Industry=%{x}<br>Year-Month=2022-04<br>Sum=%{y}<extra></extra>",
           "ids": [
            "Water Supply, Sewerage, Waste Management"
           ],
           "legendgroup": "Water Supply, Sewerage, Waste Management",
           "marker": {
            "color": "#FECB52",
            "pattern": {
             "shape": ""
            }
           },
           "name": "Water Supply, Sewerage, Waste Management",
           "offsetgroup": "Water Supply, Sewerage, Waste Management",
           "orientation": "v",
           "showlegend": true,
           "textposition": "auto",
           "type": "bar",
           "x": [
            "Water Supply, Sewerage, Waste Management"
           ],
           "xaxis": "x",
           "y": [
            162
           ],
           "yaxis": "y"
          },
          {
           "alignmentgroup": "True",
           "hovertemplate": "Industry=%{x}<br>Year-Month=2022-04<br>Sum=%{y}<extra></extra>",
           "ids": [
            "Wholesale & Retail"
           ],
           "legendgroup": "Wholesale & Retail",
           "marker": {
            "color": "#636efa",
            "pattern": {
             "shape": ""
            }
           },
           "name": "Wholesale & Retail",
           "offsetgroup": "Wholesale & Retail",
           "orientation": "v",
           "showlegend": true,
           "textposition": "auto",
           "type": "bar",
           "x": [
            "Wholesale & Retail"
           ],
           "xaxis": "x",
           "y": [
            10765
           ],
           "yaxis": "y"
          }
         ],
         "name": "2022-04"
        },
        {
         "data": [
          {
           "alignmentgroup": "True",
           "hovertemplate": "Industry=%{x}<br>Year-Month=2022-05<br>Sum=%{y}<extra></extra>",
           "ids": [
            "Accommodation & Food"
           ],
           "legendgroup": "Accommodation & Food",
           "marker": {
            "color": "#636efa",
            "pattern": {
             "shape": ""
            }
           },
           "name": "Accommodation & Food",
           "offsetgroup": "Accommodation & Food",
           "orientation": "v",
           "showlegend": true,
           "textposition": "auto",
           "type": "bar",
           "x": [
            "Accommodation & Food"
           ],
           "xaxis": "x",
           "y": [
            3830
           ],
           "yaxis": "y"
          },
          {
           "alignmentgroup": "True",
           "hovertemplate": "Industry=%{x}<br>Year-Month=2022-05<br>Sum=%{y}<extra></extra>",
           "ids": [
            "Administration & Security"
           ],
           "legendgroup": "Administration & Security",
           "marker": {
            "color": "#EF553B",
            "pattern": {
             "shape": ""
            }
           },
           "name": "Administration & Security",
           "offsetgroup": "Administration & Security",
           "orientation": "v",
           "showlegend": true,
           "textposition": "auto",
           "type": "bar",
           "x": [
            "Administration & Security"
           ],
           "xaxis": "x",
           "y": [
            203
           ],
           "yaxis": "y"
          },
          {
           "alignmentgroup": "True",
           "hovertemplate": "Industry=%{x}<br>Year-Month=2022-05<br>Sum=%{y}<extra></extra>",
           "ids": [
            "Administrative Servives"
           ],
           "legendgroup": "Administrative Servives",
           "marker": {
            "color": "#00cc96",
            "pattern": {
             "shape": ""
            }
           },
           "name": "Administrative Servives",
           "offsetgroup": "Administrative Servives",
           "orientation": "v",
           "showlegend": true,
           "textposition": "auto",
           "type": "bar",
           "x": [
            "Administrative Servives"
           ],
           "xaxis": "x",
           "y": [
            4278
           ],
           "yaxis": "y"
          },
          {
           "alignmentgroup": "True",
           "hovertemplate": "Industry=%{x}<br>Year-Month=2022-05<br>Sum=%{y}<extra></extra>",
           "ids": [
            "Agriculture, Forestry & Fishing"
           ],
           "legendgroup": "Agriculture, Forestry & Fishing",
           "marker": {
            "color": "#ab63fa",
            "pattern": {
             "shape": ""
            }
           },
           "name": "Agriculture, Forestry & Fishing",
           "offsetgroup": "Agriculture, Forestry & Fishing",
           "orientation": "v",
           "showlegend": true,
           "textposition": "auto",
           "type": "bar",
           "x": [
            "Agriculture, Forestry & Fishing"
           ],
           "xaxis": "x",
           "y": [
            272
           ],
           "yaxis": "y"
          },
          {
           "alignmentgroup": "True",
           "hovertemplate": "Industry=%{x}<br>Year-Month=2022-05<br>Sum=%{y}<extra></extra>",
           "ids": [
            "Arts & Entertainment"
           ],
           "legendgroup": "Arts & Entertainment",
           "marker": {
            "color": "#FFA15A",
            "pattern": {
             "shape": ""
            }
           },
           "name": "Arts & Entertainment",
           "offsetgroup": "Arts & Entertainment",
           "orientation": "v",
           "showlegend": true,
           "textposition": "auto",
           "type": "bar",
           "x": [
            "Arts & Entertainment"
           ],
           "xaxis": "x",
           "y": [
            1015
           ],
           "yaxis": "y"
          },
          {
           "alignmentgroup": "True",
           "hovertemplate": "Industry=%{x}<br>Year-Month=2022-05<br>Sum=%{y}<extra></extra>",
           "ids": [
            "Construction"
           ],
           "legendgroup": "Construction",
           "marker": {
            "color": "#19d3f3",
            "pattern": {
             "shape": ""
            }
           },
           "name": "Construction",
           "offsetgroup": "Construction",
           "orientation": "v",
           "showlegend": true,
           "textposition": "auto",
           "type": "bar",
           "x": [
            "Construction"
           ],
           "xaxis": "x",
           "y": [
            6129
           ],
           "yaxis": "y"
          },
          {
           "alignmentgroup": "True",
           "hovertemplate": "Industry=%{x}<br>Year-Month=2022-05<br>Sum=%{y}<extra></extra>",
           "ids": [
            "Education"
           ],
           "legendgroup": "Education",
           "marker": {
            "color": "#FF6692",
            "pattern": {
             "shape": ""
            }
           },
           "name": "Education",
           "offsetgroup": "Education",
           "orientation": "v",
           "showlegend": true,
           "textposition": "auto",
           "type": "bar",
           "x": [
            "Education"
           ],
           "xaxis": "x",
           "y": [
            965
           ],
           "yaxis": "y"
          },
          {
           "alignmentgroup": "True",
           "hovertemplate": "Industry=%{x}<br>Year-Month=2022-05<br>Sum=%{y}<extra></extra>",
           "ids": [
            "Energy Supply"
           ],
           "legendgroup": "Energy Supply",
           "marker": {
            "color": "#B6E880",
            "pattern": {
             "shape": ""
            }
           },
           "name": "Energy Supply",
           "offsetgroup": "Energy Supply",
           "orientation": "v",
           "showlegend": true,
           "textposition": "auto",
           "type": "bar",
           "x": [
            "Energy Supply"
           ],
           "xaxis": "x",
           "y": [
            136
           ],
           "yaxis": "y"
          },
          {
           "alignmentgroup": "True",
           "hovertemplate": "Industry=%{x}<br>Year-Month=2022-05<br>Sum=%{y}<extra></extra>",
           "ids": [
            "Extraterritorial Organisations"
           ],
           "legendgroup": "Extraterritorial Organisations",
           "marker": {
            "color": "#FF97FF",
            "pattern": {
             "shape": ""
            }
           },
           "name": "Extraterritorial Organisations",
           "offsetgroup": "Extraterritorial Organisations",
           "orientation": "v",
           "showlegend": true,
           "textposition": "auto",
           "type": "bar",
           "x": [
            "Extraterritorial Organisations"
           ],
           "xaxis": "x",
           "y": [
            799
           ],
           "yaxis": "y"
          },
          {
           "alignmentgroup": "True",
           "hovertemplate": "Industry=%{x}<br>Year-Month=2022-05<br>Sum=%{y}<extra></extra>",
           "ids": [
            "Financial & Insurance"
           ],
           "legendgroup": "Financial & Insurance",
           "marker": {
            "color": "#FECB52",
            "pattern": {
             "shape": ""
            }
           },
           "name": "Financial & Insurance",
           "offsetgroup": "Financial & Insurance",
           "orientation": "v",
           "showlegend": true,
           "textposition": "auto",
           "type": "bar",
           "x": [
            "Financial & Insurance"
           ],
           "xaxis": "x",
           "y": [
            1946
           ],
           "yaxis": "y"
          },
          {
           "alignmentgroup": "True",
           "hovertemplate": "Industry=%{x}<br>Year-Month=2022-05<br>Sum=%{y}<extra></extra>",
           "ids": [
            "Health & Social Work"
           ],
           "legendgroup": "Health & Social Work",
           "marker": {
            "color": "#636efa",
            "pattern": {
             "shape": ""
            }
           },
           "name": "Health & Social Work",
           "offsetgroup": "Health & Social Work",
           "orientation": "v",
           "showlegend": true,
           "textposition": "auto",
           "type": "bar",
           "x": [
            "Health & Social Work"
           ],
           "xaxis": "x",
           "y": [
            2475
           ],
           "yaxis": "y"
          },
          {
           "alignmentgroup": "True",
           "hovertemplate": "Industry=%{x}<br>Year-Month=2022-05<br>Sum=%{y}<extra></extra>",
           "ids": [
            "Households as Employers"
           ],
           "legendgroup": "Households as Employers",
           "marker": {
            "color": "#EF553B",
            "pattern": {
             "shape": ""
            }
           },
           "name": "Households as Employers",
           "offsetgroup": "Households as Employers",
           "orientation": "v",
           "showlegend": true,
           "textposition": "auto",
           "type": "bar",
           "x": [
            "Households as Employers"
           ],
           "xaxis": "x",
           "y": [
            586
           ],
           "yaxis": "y"
          },
          {
           "alignmentgroup": "True",
           "hovertemplate": "Industry=%{x}<br>Year-Month=2022-05<br>Sum=%{y}<extra></extra>",
           "ids": [
            "Information & Communication"
           ],
           "legendgroup": "Information & Communication",
           "marker": {
            "color": "#00cc96",
            "pattern": {
             "shape": ""
            }
           },
           "name": "Information & Communication",
           "offsetgroup": "Information & Communication",
           "orientation": "v",
           "showlegend": true,
           "textposition": "auto",
           "type": "bar",
           "x": [
            "Information & Communication"
           ],
           "xaxis": "x",
           "y": [
            3973
           ],
           "yaxis": "y"
          },
          {
           "alignmentgroup": "True",
           "hovertemplate": "Industry=%{x}<br>Year-Month=2022-05<br>Sum=%{y}<extra></extra>",
           "ids": [
            "Manufacturing"
           ],
           "legendgroup": "Manufacturing",
           "marker": {
            "color": "#ab63fa",
            "pattern": {
             "shape": ""
            }
           },
           "name": "Manufacturing",
           "offsetgroup": "Manufacturing",
           "orientation": "v",
           "showlegend": true,
           "textposition": "auto",
           "type": "bar",
           "x": [
            "Manufacturing"
           ],
           "xaxis": "x",
           "y": [
            2172
           ],
           "yaxis": "y"
          },
          {
           "alignmentgroup": "True",
           "hovertemplate": "Industry=%{x}<br>Year-Month=2022-05<br>Sum=%{y}<extra></extra>",
           "ids": [
            "Mining & Quarrying"
           ],
           "legendgroup": "Mining & Quarrying",
           "marker": {
            "color": "#FFA15A",
            "pattern": {
             "shape": ""
            }
           },
           "name": "Mining & Quarrying",
           "offsetgroup": "Mining & Quarrying",
           "orientation": "v",
           "showlegend": true,
           "textposition": "auto",
           "type": "bar",
           "x": [
            "Mining & Quarrying"
           ],
           "xaxis": "x",
           "y": [
            72
           ],
           "yaxis": "y"
          },
          {
           "alignmentgroup": "True",
           "hovertemplate": "Industry=%{x}<br>Year-Month=2022-05<br>Sum=%{y}<extra></extra>",
           "ids": [
            "Other Services"
           ],
           "legendgroup": "Other Services",
           "marker": {
            "color": "#19d3f3",
            "pattern": {
             "shape": ""
            }
           },
           "name": "Other Services",
           "offsetgroup": "Other Services",
           "orientation": "v",
           "showlegend": true,
           "textposition": "auto",
           "type": "bar",
           "x": [
            "Other Services"
           ],
           "xaxis": "x",
           "y": [
            2582
           ],
           "yaxis": "y"
          },
          {
           "alignmentgroup": "True",
           "hovertemplate": "Industry=%{x}<br>Year-Month=2022-05<br>Sum=%{y}<extra></extra>",
           "ids": [
            "Professional, Scientific & Technical"
           ],
           "legendgroup": "Professional, Scientific & Technical",
           "marker": {
            "color": "#FF6692",
            "pattern": {
             "shape": ""
            }
           },
           "name": "Professional, Scientific & Technical",
           "offsetgroup": "Professional, Scientific & Technical",
           "orientation": "v",
           "showlegend": true,
           "textposition": "auto",
           "type": "bar",
           "x": [
            "Professional, Scientific & Technical"
           ],
           "xaxis": "x",
           "y": [
            5130
           ],
           "yaxis": "y"
          },
          {
           "alignmentgroup": "True",
           "hovertemplate": "Industry=%{x}<br>Year-Month=2022-05<br>Sum=%{y}<extra></extra>",
           "ids": [
            "Real Estate"
           ],
           "legendgroup": "Real Estate",
           "marker": {
            "color": "#B6E880",
            "pattern": {
             "shape": ""
            }
           },
           "name": "Real Estate",
           "offsetgroup": "Real Estate",
           "orientation": "v",
           "showlegend": true,
           "textposition": "auto",
           "type": "bar",
           "x": [
            "Real Estate"
           ],
           "xaxis": "x",
           "y": [
            4923
           ],
           "yaxis": "y"
          },
          {
           "alignmentgroup": "True",
           "hovertemplate": "Industry=%{x}<br>Year-Month=2022-05<br>Sum=%{y}<extra></extra>",
           "ids": [
            "Transportation & Storage"
           ],
           "legendgroup": "Transportation & Storage",
           "marker": {
            "color": "#FF97FF",
            "pattern": {
             "shape": ""
            }
           },
           "name": "Transportation & Storage",
           "offsetgroup": "Transportation & Storage",
           "orientation": "v",
           "showlegend": true,
           "textposition": "auto",
           "type": "bar",
           "x": [
            "Transportation & Storage"
           ],
           "xaxis": "x",
           "y": [
            2238
           ],
           "yaxis": "y"
          },
          {
           "alignmentgroup": "True",
           "hovertemplate": "Industry=%{x}<br>Year-Month=2022-05<br>Sum=%{y}<extra></extra>",
           "ids": [
            "Water Supply, Sewerage, Waste Management"
           ],
           "legendgroup": "Water Supply, Sewerage, Waste Management",
           "marker": {
            "color": "#FECB52",
            "pattern": {
             "shape": ""
            }
           },
           "name": "Water Supply, Sewerage, Waste Management",
           "offsetgroup": "Water Supply, Sewerage, Waste Management",
           "orientation": "v",
           "showlegend": true,
           "textposition": "auto",
           "type": "bar",
           "x": [
            "Water Supply, Sewerage, Waste Management"
           ],
           "xaxis": "x",
           "y": [
            172
           ],
           "yaxis": "y"
          },
          {
           "alignmentgroup": "True",
           "hovertemplate": "Industry=%{x}<br>Year-Month=2022-05<br>Sum=%{y}<extra></extra>",
           "ids": [
            "Wholesale & Retail"
           ],
           "legendgroup": "Wholesale & Retail",
           "marker": {
            "color": "#636efa",
            "pattern": {
             "shape": ""
            }
           },
           "name": "Wholesale & Retail",
           "offsetgroup": "Wholesale & Retail",
           "orientation": "v",
           "showlegend": true,
           "textposition": "auto",
           "type": "bar",
           "x": [
            "Wholesale & Retail"
           ],
           "xaxis": "x",
           "y": [
            10728
           ],
           "yaxis": "y"
          }
         ],
         "name": "2022-05"
        },
        {
         "data": [
          {
           "alignmentgroup": "True",
           "hovertemplate": "Industry=%{x}<br>Year-Month=2022-06<br>Sum=%{y}<extra></extra>",
           "ids": [
            "Accommodation & Food"
           ],
           "legendgroup": "Accommodation & Food",
           "marker": {
            "color": "#636efa",
            "pattern": {
             "shape": ""
            }
           },
           "name": "Accommodation & Food",
           "offsetgroup": "Accommodation & Food",
           "orientation": "v",
           "showlegend": true,
           "textposition": "auto",
           "type": "bar",
           "x": [
            "Accommodation & Food"
           ],
           "xaxis": "x",
           "y": [
            3808
           ],
           "yaxis": "y"
          },
          {
           "alignmentgroup": "True",
           "hovertemplate": "Industry=%{x}<br>Year-Month=2022-06<br>Sum=%{y}<extra></extra>",
           "ids": [
            "Administration & Security"
           ],
           "legendgroup": "Administration & Security",
           "marker": {
            "color": "#EF553B",
            "pattern": {
             "shape": ""
            }
           },
           "name": "Administration & Security",
           "offsetgroup": "Administration & Security",
           "orientation": "v",
           "showlegend": true,
           "textposition": "auto",
           "type": "bar",
           "x": [
            "Administration & Security"
           ],
           "xaxis": "x",
           "y": [
            217
           ],
           "yaxis": "y"
          },
          {
           "alignmentgroup": "True",
           "hovertemplate": "Industry=%{x}<br>Year-Month=2022-06<br>Sum=%{y}<extra></extra>",
           "ids": [
            "Administrative Servives"
           ],
           "legendgroup": "Administrative Servives",
           "marker": {
            "color": "#00cc96",
            "pattern": {
             "shape": ""
            }
           },
           "name": "Administrative Servives",
           "offsetgroup": "Administrative Servives",
           "orientation": "v",
           "showlegend": true,
           "textposition": "auto",
           "type": "bar",
           "x": [
            "Administrative Servives"
           ],
           "xaxis": "x",
           "y": [
            3978
           ],
           "yaxis": "y"
          },
          {
           "alignmentgroup": "True",
           "hovertemplate": "Industry=%{x}<br>Year-Month=2022-06<br>Sum=%{y}<extra></extra>",
           "ids": [
            "Agriculture, Forestry & Fishing"
           ],
           "legendgroup": "Agriculture, Forestry & Fishing",
           "marker": {
            "color": "#ab63fa",
            "pattern": {
             "shape": ""
            }
           },
           "name": "Agriculture, Forestry & Fishing",
           "offsetgroup": "Agriculture, Forestry & Fishing",
           "orientation": "v",
           "showlegend": true,
           "textposition": "auto",
           "type": "bar",
           "x": [
            "Agriculture, Forestry & Fishing"
           ],
           "xaxis": "x",
           "y": [
            314
           ],
           "yaxis": "y"
          },
          {
           "alignmentgroup": "True",
           "hovertemplate": "Industry=%{x}<br>Year-Month=2022-06<br>Sum=%{y}<extra></extra>",
           "ids": [
            "Arts & Entertainment"
           ],
           "legendgroup": "Arts & Entertainment",
           "marker": {
            "color": "#FFA15A",
            "pattern": {
             "shape": ""
            }
           },
           "name": "Arts & Entertainment",
           "offsetgroup": "Arts & Entertainment",
           "orientation": "v",
           "showlegend": true,
           "textposition": "auto",
           "type": "bar",
           "x": [
            "Arts & Entertainment"
           ],
           "xaxis": "x",
           "y": [
            1050
           ],
           "yaxis": "y"
          },
          {
           "alignmentgroup": "True",
           "hovertemplate": "Industry=%{x}<br>Year-Month=2022-06<br>Sum=%{y}<extra></extra>",
           "ids": [
            "Construction"
           ],
           "legendgroup": "Construction",
           "marker": {
            "color": "#19d3f3",
            "pattern": {
             "shape": ""
            }
           },
           "name": "Construction",
           "offsetgroup": "Construction",
           "orientation": "v",
           "showlegend": true,
           "textposition": "auto",
           "type": "bar",
           "x": [
            "Construction"
           ],
           "xaxis": "x",
           "y": [
            6004
           ],
           "yaxis": "y"
          },
          {
           "alignmentgroup": "True",
           "hovertemplate": "Industry=%{x}<br>Year-Month=2022-06<br>Sum=%{y}<extra></extra>",
           "ids": [
            "Education"
           ],
           "legendgroup": "Education",
           "marker": {
            "color": "#FF6692",
            "pattern": {
             "shape": ""
            }
           },
           "name": "Education",
           "offsetgroup": "Education",
           "orientation": "v",
           "showlegend": true,
           "textposition": "auto",
           "type": "bar",
           "x": [
            "Education"
           ],
           "xaxis": "x",
           "y": [
            962
           ],
           "yaxis": "y"
          },
          {
           "alignmentgroup": "True",
           "hovertemplate": "Industry=%{x}<br>Year-Month=2022-06<br>Sum=%{y}<extra></extra>",
           "ids": [
            "Energy Supply"
           ],
           "legendgroup": "Energy Supply",
           "marker": {
            "color": "#B6E880",
            "pattern": {
             "shape": ""
            }
           },
           "name": "Energy Supply",
           "offsetgroup": "Energy Supply",
           "orientation": "v",
           "showlegend": true,
           "textposition": "auto",
           "type": "bar",
           "x": [
            "Energy Supply"
           ],
           "xaxis": "x",
           "y": [
            129
           ],
           "yaxis": "y"
          },
          {
           "alignmentgroup": "True",
           "hovertemplate": "Industry=%{x}<br>Year-Month=2022-06<br>Sum=%{y}<extra></extra>",
           "ids": [
            "Extraterritorial Organisations"
           ],
           "legendgroup": "Extraterritorial Organisations",
           "marker": {
            "color": "#FF97FF",
            "pattern": {
             "shape": ""
            }
           },
           "name": "Extraterritorial Organisations",
           "offsetgroup": "Extraterritorial Organisations",
           "orientation": "v",
           "showlegend": true,
           "textposition": "auto",
           "type": "bar",
           "x": [
            "Extraterritorial Organisations"
           ],
           "xaxis": "x",
           "y": [
            848
           ],
           "yaxis": "y"
          },
          {
           "alignmentgroup": "True",
           "hovertemplate": "Industry=%{x}<br>Year-Month=2022-06<br>Sum=%{y}<extra></extra>",
           "ids": [
            "Financial & Insurance"
           ],
           "legendgroup": "Financial & Insurance",
           "marker": {
            "color": "#FECB52",
            "pattern": {
             "shape": ""
            }
           },
           "name": "Financial & Insurance",
           "offsetgroup": "Financial & Insurance",
           "orientation": "v",
           "showlegend": true,
           "textposition": "auto",
           "type": "bar",
           "x": [
            "Financial & Insurance"
           ],
           "xaxis": "x",
           "y": [
            2072
           ],
           "yaxis": "y"
          },
          {
           "alignmentgroup": "True",
           "hovertemplate": "Industry=%{x}<br>Year-Month=2022-06<br>Sum=%{y}<extra></extra>",
           "ids": [
            "Health & Social Work"
           ],
           "legendgroup": "Health & Social Work",
           "marker": {
            "color": "#636efa",
            "pattern": {
             "shape": ""
            }
           },
           "name": "Health & Social Work",
           "offsetgroup": "Health & Social Work",
           "orientation": "v",
           "showlegend": true,
           "textposition": "auto",
           "type": "bar",
           "x": [
            "Health & Social Work"
           ],
           "xaxis": "x",
           "y": [
            2550
           ],
           "yaxis": "y"
          },
          {
           "alignmentgroup": "True",
           "hovertemplate": "Industry=%{x}<br>Year-Month=2022-06<br>Sum=%{y}<extra></extra>",
           "ids": [
            "Households as Employers"
           ],
           "legendgroup": "Households as Employers",
           "marker": {
            "color": "#EF553B",
            "pattern": {
             "shape": ""
            }
           },
           "name": "Households as Employers",
           "offsetgroup": "Households as Employers",
           "orientation": "v",
           "showlegend": true,
           "textposition": "auto",
           "type": "bar",
           "x": [
            "Households as Employers"
           ],
           "xaxis": "x",
           "y": [
            632
           ],
           "yaxis": "y"
          },
          {
           "alignmentgroup": "True",
           "hovertemplate": "Industry=%{x}<br>Year-Month=2022-06<br>Sum=%{y}<extra></extra>",
           "ids": [
            "Information & Communication"
           ],
           "legendgroup": "Information & Communication",
           "marker": {
            "color": "#00cc96",
            "pattern": {
             "shape": ""
            }
           },
           "name": "Information & Communication",
           "offsetgroup": "Information & Communication",
           "orientation": "v",
           "showlegend": true,
           "textposition": "auto",
           "type": "bar",
           "x": [
            "Information & Communication"
           ],
           "xaxis": "x",
           "y": [
            4193
           ],
           "yaxis": "y"
          },
          {
           "alignmentgroup": "True",
           "hovertemplate": "Industry=%{x}<br>Year-Month=2022-06<br>Sum=%{y}<extra></extra>",
           "ids": [
            "Manufacturing"
           ],
           "legendgroup": "Manufacturing",
           "marker": {
            "color": "#ab63fa",
            "pattern": {
             "shape": ""
            }
           },
           "name": "Manufacturing",
           "offsetgroup": "Manufacturing",
           "orientation": "v",
           "showlegend": true,
           "textposition": "auto",
           "type": "bar",
           "x": [
            "Manufacturing"
           ],
           "xaxis": "x",
           "y": [
            2099
           ],
           "yaxis": "y"
          },
          {
           "alignmentgroup": "True",
           "hovertemplate": "Industry=%{x}<br>Year-Month=2022-06<br>Sum=%{y}<extra></extra>",
           "ids": [
            "Mining & Quarrying"
           ],
           "legendgroup": "Mining & Quarrying",
           "marker": {
            "color": "#FFA15A",
            "pattern": {
             "shape": ""
            }
           },
           "name": "Mining & Quarrying",
           "offsetgroup": "Mining & Quarrying",
           "orientation": "v",
           "showlegend": true,
           "textposition": "auto",
           "type": "bar",
           "x": [
            "Mining & Quarrying"
           ],
           "xaxis": "x",
           "y": [
            82
           ],
           "yaxis": "y"
          },
          {
           "alignmentgroup": "True",
           "hovertemplate": "Industry=%{x}<br>Year-Month=2022-06<br>Sum=%{y}<extra></extra>",
           "ids": [
            "Other Services"
           ],
           "legendgroup": "Other Services",
           "marker": {
            "color": "#19d3f3",
            "pattern": {
             "shape": ""
            }
           },
           "name": "Other Services",
           "offsetgroup": "Other Services",
           "orientation": "v",
           "showlegend": true,
           "textposition": "auto",
           "type": "bar",
           "x": [
            "Other Services"
           ],
           "xaxis": "x",
           "y": [
            2626
           ],
           "yaxis": "y"
          },
          {
           "alignmentgroup": "True",
           "hovertemplate": "Industry=%{x}<br>Year-Month=2022-06<br>Sum=%{y}<extra></extra>",
           "ids": [
            "Professional, Scientific & Technical"
           ],
           "legendgroup": "Professional, Scientific & Technical",
           "marker": {
            "color": "#FF6692",
            "pattern": {
             "shape": ""
            }
           },
           "name": "Professional, Scientific & Technical",
           "offsetgroup": "Professional, Scientific & Technical",
           "orientation": "v",
           "showlegend": true,
           "textposition": "auto",
           "type": "bar",
           "x": [
            "Professional, Scientific & Technical"
           ],
           "xaxis": "x",
           "y": [
            5172
           ],
           "yaxis": "y"
          },
          {
           "alignmentgroup": "True",
           "hovertemplate": "Industry=%{x}<br>Year-Month=2022-06<br>Sum=%{y}<extra></extra>",
           "ids": [
            "Real Estate"
           ],
           "legendgroup": "Real Estate",
           "marker": {
            "color": "#B6E880",
            "pattern": {
             "shape": ""
            }
           },
           "name": "Real Estate",
           "offsetgroup": "Real Estate",
           "orientation": "v",
           "showlegend": true,
           "textposition": "auto",
           "type": "bar",
           "x": [
            "Real Estate"
           ],
           "xaxis": "x",
           "y": [
            5029
           ],
           "yaxis": "y"
          },
          {
           "alignmentgroup": "True",
           "hovertemplate": "Industry=%{x}<br>Year-Month=2022-06<br>Sum=%{y}<extra></extra>",
           "ids": [
            "Transportation & Storage"
           ],
           "legendgroup": "Transportation & Storage",
           "marker": {
            "color": "#FF97FF",
            "pattern": {
             "shape": ""
            }
           },
           "name": "Transportation & Storage",
           "offsetgroup": "Transportation & Storage",
           "orientation": "v",
           "showlegend": true,
           "textposition": "auto",
           "type": "bar",
           "x": [
            "Transportation & Storage"
           ],
           "xaxis": "x",
           "y": [
            2585
           ],
           "yaxis": "y"
          },
          {
           "alignmentgroup": "True",
           "hovertemplate": "Industry=%{x}<br>Year-Month=2022-06<br>Sum=%{y}<extra></extra>",
           "ids": [
            "Water Supply, Sewerage, Waste Management"
           ],
           "legendgroup": "Water Supply, Sewerage, Waste Management",
           "marker": {
            "color": "#FECB52",
            "pattern": {
             "shape": ""
            }
           },
           "name": "Water Supply, Sewerage, Waste Management",
           "offsetgroup": "Water Supply, Sewerage, Waste Management",
           "orientation": "v",
           "showlegend": true,
           "textposition": "auto",
           "type": "bar",
           "x": [
            "Water Supply, Sewerage, Waste Management"
           ],
           "xaxis": "x",
           "y": [
            157
           ],
           "yaxis": "y"
          },
          {
           "alignmentgroup": "True",
           "hovertemplate": "Industry=%{x}<br>Year-Month=2022-06<br>Sum=%{y}<extra></extra>",
           "ids": [
            "Wholesale & Retail"
           ],
           "legendgroup": "Wholesale & Retail",
           "marker": {
            "color": "#636efa",
            "pattern": {
             "shape": ""
            }
           },
           "name": "Wholesale & Retail",
           "offsetgroup": "Wholesale & Retail",
           "orientation": "v",
           "showlegend": true,
           "textposition": "auto",
           "type": "bar",
           "x": [
            "Wholesale & Retail"
           ],
           "xaxis": "x",
           "y": [
            10821
           ],
           "yaxis": "y"
          }
         ],
         "name": "2022-06"
        },
        {
         "data": [
          {
           "alignmentgroup": "True",
           "hovertemplate": "Industry=%{x}<br>Year-Month=2022-07<br>Sum=%{y}<extra></extra>",
           "ids": [
            "Accommodation & Food"
           ],
           "legendgroup": "Accommodation & Food",
           "marker": {
            "color": "#636efa",
            "pattern": {
             "shape": ""
            }
           },
           "name": "Accommodation & Food",
           "offsetgroup": "Accommodation & Food",
           "orientation": "v",
           "showlegend": true,
           "textposition": "auto",
           "type": "bar",
           "x": [
            "Accommodation & Food"
           ],
           "xaxis": "x",
           "y": [
            1108
           ],
           "yaxis": "y"
          },
          {
           "alignmentgroup": "True",
           "hovertemplate": "Industry=%{x}<br>Year-Month=2022-07<br>Sum=%{y}<extra></extra>",
           "ids": [
            "Administration & Security"
           ],
           "legendgroup": "Administration & Security",
           "marker": {
            "color": "#EF553B",
            "pattern": {
             "shape": ""
            }
           },
           "name": "Administration & Security",
           "offsetgroup": "Administration & Security",
           "orientation": "v",
           "showlegend": true,
           "textposition": "auto",
           "type": "bar",
           "x": [
            "Administration & Security"
           ],
           "xaxis": "x",
           "y": [
            53
           ],
           "yaxis": "y"
          },
          {
           "alignmentgroup": "True",
           "hovertemplate": "Industry=%{x}<br>Year-Month=2022-07<br>Sum=%{y}<extra></extra>",
           "ids": [
            "Administrative Servives"
           ],
           "legendgroup": "Administrative Servives",
           "marker": {
            "color": "#00cc96",
            "pattern": {
             "shape": ""
            }
           },
           "name": "Administrative Servives",
           "offsetgroup": "Administrative Servives",
           "orientation": "v",
           "showlegend": true,
           "textposition": "auto",
           "type": "bar",
           "x": [
            "Administrative Servives"
           ],
           "xaxis": "x",
           "y": [
            1173
           ],
           "yaxis": "y"
          },
          {
           "alignmentgroup": "True",
           "hovertemplate": "Industry=%{x}<br>Year-Month=2022-07<br>Sum=%{y}<extra></extra>",
           "ids": [
            "Agriculture, Forestry & Fishing"
           ],
           "legendgroup": "Agriculture, Forestry & Fishing",
           "marker": {
            "color": "#ab63fa",
            "pattern": {
             "shape": ""
            }
           },
           "name": "Agriculture, Forestry & Fishing",
           "offsetgroup": "Agriculture, Forestry & Fishing",
           "orientation": "v",
           "showlegend": true,
           "textposition": "auto",
           "type": "bar",
           "x": [
            "Agriculture, Forestry & Fishing"
           ],
           "xaxis": "x",
           "y": [
            87
           ],
           "yaxis": "y"
          },
          {
           "alignmentgroup": "True",
           "hovertemplate": "Industry=%{x}<br>Year-Month=2022-07<br>Sum=%{y}<extra></extra>",
           "ids": [
            "Arts & Entertainment"
           ],
           "legendgroup": "Arts & Entertainment",
           "marker": {
            "color": "#FFA15A",
            "pattern": {
             "shape": ""
            }
           },
           "name": "Arts & Entertainment",
           "offsetgroup": "Arts & Entertainment",
           "orientation": "v",
           "showlegend": true,
           "textposition": "auto",
           "type": "bar",
           "x": [
            "Arts & Entertainment"
           ],
           "xaxis": "x",
           "y": [
            332
           ],
           "yaxis": "y"
          },
          {
           "alignmentgroup": "True",
           "hovertemplate": "Industry=%{x}<br>Year-Month=2022-07<br>Sum=%{y}<extra></extra>",
           "ids": [
            "Construction"
           ],
           "legendgroup": "Construction",
           "marker": {
            "color": "#19d3f3",
            "pattern": {
             "shape": ""
            }
           },
           "name": "Construction",
           "offsetgroup": "Construction",
           "orientation": "v",
           "showlegend": true,
           "textposition": "auto",
           "type": "bar",
           "x": [
            "Construction"
           ],
           "xaxis": "x",
           "y": [
            1603
           ],
           "yaxis": "y"
          },
          {
           "alignmentgroup": "True",
           "hovertemplate": "Industry=%{x}<br>Year-Month=2022-07<br>Sum=%{y}<extra></extra>",
           "ids": [
            "Education"
           ],
           "legendgroup": "Education",
           "marker": {
            "color": "#FF6692",
            "pattern": {
             "shape": ""
            }
           },
           "name": "Education",
           "offsetgroup": "Education",
           "orientation": "v",
           "showlegend": true,
           "textposition": "auto",
           "type": "bar",
           "x": [
            "Education"
           ],
           "xaxis": "x",
           "y": [
            263
           ],
           "yaxis": "y"
          },
          {
           "alignmentgroup": "True",
           "hovertemplate": "Industry=%{x}<br>Year-Month=2022-07<br>Sum=%{y}<extra></extra>",
           "ids": [
            "Energy Supply"
           ],
           "legendgroup": "Energy Supply",
           "marker": {
            "color": "#B6E880",
            "pattern": {
             "shape": ""
            }
           },
           "name": "Energy Supply",
           "offsetgroup": "Energy Supply",
           "orientation": "v",
           "showlegend": true,
           "textposition": "auto",
           "type": "bar",
           "x": [
            "Energy Supply"
           ],
           "xaxis": "x",
           "y": [
            31
           ],
           "yaxis": "y"
          },
          {
           "alignmentgroup": "True",
           "hovertemplate": "Industry=%{x}<br>Year-Month=2022-07<br>Sum=%{y}<extra></extra>",
           "ids": [
            "Extraterritorial Organisations"
           ],
           "legendgroup": "Extraterritorial Organisations",
           "marker": {
            "color": "#FF97FF",
            "pattern": {
             "shape": ""
            }
           },
           "name": "Extraterritorial Organisations",
           "offsetgroup": "Extraterritorial Organisations",
           "orientation": "v",
           "showlegend": true,
           "textposition": "auto",
           "type": "bar",
           "x": [
            "Extraterritorial Organisations"
           ],
           "xaxis": "x",
           "y": [
            289
           ],
           "yaxis": "y"
          },
          {
           "alignmentgroup": "True",
           "hovertemplate": "Industry=%{x}<br>Year-Month=2022-07<br>Sum=%{y}<extra></extra>",
           "ids": [
            "Financial & Insurance"
           ],
           "legendgroup": "Financial & Insurance",
           "marker": {
            "color": "#FECB52",
            "pattern": {
             "shape": ""
            }
           },
           "name": "Financial & Insurance",
           "offsetgroup": "Financial & Insurance",
           "orientation": "v",
           "showlegend": true,
           "textposition": "auto",
           "type": "bar",
           "x": [
            "Financial & Insurance"
           ],
           "xaxis": "x",
           "y": [
            482
           ],
           "yaxis": "y"
          },
          {
           "alignmentgroup": "True",
           "hovertemplate": "Industry=%{x}<br>Year-Month=2022-07<br>Sum=%{y}<extra></extra>",
           "ids": [
            "Health & Social Work"
           ],
           "legendgroup": "Health & Social Work",
           "marker": {
            "color": "#636efa",
            "pattern": {
             "shape": ""
            }
           },
           "name": "Health & Social Work",
           "offsetgroup": "Health & Social Work",
           "orientation": "v",
           "showlegend": true,
           "textposition": "auto",
           "type": "bar",
           "x": [
            "Health & Social Work"
           ],
           "xaxis": "x",
           "y": [
            657
           ],
           "yaxis": "y"
          },
          {
           "alignmentgroup": "True",
           "hovertemplate": "Industry=%{x}<br>Year-Month=2022-07<br>Sum=%{y}<extra></extra>",
           "ids": [
            "Households as Employers"
           ],
           "legendgroup": "Households as Employers",
           "marker": {
            "color": "#EF553B",
            "pattern": {
             "shape": ""
            }
           },
           "name": "Households as Employers",
           "offsetgroup": "Households as Employers",
           "orientation": "v",
           "showlegend": true,
           "textposition": "auto",
           "type": "bar",
           "x": [
            "Households as Employers"
           ],
           "xaxis": "x",
           "y": [
            153
           ],
           "yaxis": "y"
          },
          {
           "alignmentgroup": "True",
           "hovertemplate": "Industry=%{x}<br>Year-Month=2022-07<br>Sum=%{y}<extra></extra>",
           "ids": [
            "Information & Communication"
           ],
           "legendgroup": "Information & Communication",
           "marker": {
            "color": "#00cc96",
            "pattern": {
             "shape": ""
            }
           },
           "name": "Information & Communication",
           "offsetgroup": "Information & Communication",
           "orientation": "v",
           "showlegend": true,
           "textposition": "auto",
           "type": "bar",
           "x": [
            "Information & Communication"
           ],
           "xaxis": "x",
           "y": [
            1110
           ],
           "yaxis": "y"
          },
          {
           "alignmentgroup": "True",
           "hovertemplate": "Industry=%{x}<br>Year-Month=2022-07<br>Sum=%{y}<extra></extra>",
           "ids": [
            "Manufacturing"
           ],
           "legendgroup": "Manufacturing",
           "marker": {
            "color": "#ab63fa",
            "pattern": {
             "shape": ""
            }
           },
           "name": "Manufacturing",
           "offsetgroup": "Manufacturing",
           "orientation": "v",
           "showlegend": true,
           "textposition": "auto",
           "type": "bar",
           "x": [
            "Manufacturing"
           ],
           "xaxis": "x",
           "y": [
            583
           ],
           "yaxis": "y"
          },
          {
           "alignmentgroup": "True",
           "hovertemplate": "Industry=%{x}<br>Year-Month=2022-07<br>Sum=%{y}<extra></extra>",
           "ids": [
            "Mining & Quarrying"
           ],
           "legendgroup": "Mining & Quarrying",
           "marker": {
            "color": "#FFA15A",
            "pattern": {
             "shape": ""
            }
           },
           "name": "Mining & Quarrying",
           "offsetgroup": "Mining & Quarrying",
           "orientation": "v",
           "showlegend": true,
           "textposition": "auto",
           "type": "bar",
           "x": [
            "Mining & Quarrying"
           ],
           "xaxis": "x",
           "y": [
            16
           ],
           "yaxis": "y"
          },
          {
           "alignmentgroup": "True",
           "hovertemplate": "Industry=%{x}<br>Year-Month=2022-07<br>Sum=%{y}<extra></extra>",
           "ids": [
            "Other Services"
           ],
           "legendgroup": "Other Services",
           "marker": {
            "color": "#19d3f3",
            "pattern": {
             "shape": ""
            }
           },
           "name": "Other Services",
           "offsetgroup": "Other Services",
           "orientation": "v",
           "showlegend": true,
           "textposition": "auto",
           "type": "bar",
           "x": [
            "Other Services"
           ],
           "xaxis": "x",
           "y": [
            806
           ],
           "yaxis": "y"
          },
          {
           "alignmentgroup": "True",
           "hovertemplate": "Industry=%{x}<br>Year-Month=2022-07<br>Sum=%{y}<extra></extra>",
           "ids": [
            "Professional, Scientific & Technical"
           ],
           "legendgroup": "Professional, Scientific & Technical",
           "marker": {
            "color": "#FF6692",
            "pattern": {
             "shape": ""
            }
           },
           "name": "Professional, Scientific & Technical",
           "offsetgroup": "Professional, Scientific & Technical",
           "orientation": "v",
           "showlegend": true,
           "textposition": "auto",
           "type": "bar",
           "x": [
            "Professional, Scientific & Technical"
           ],
           "xaxis": "x",
           "y": [
            1428
           ],
           "yaxis": "y"
          },
          {
           "alignmentgroup": "True",
           "hovertemplate": "Industry=%{x}<br>Year-Month=2022-07<br>Sum=%{y}<extra></extra>",
           "ids": [
            "Real Estate"
           ],
           "legendgroup": "Real Estate",
           "marker": {
            "color": "#B6E880",
            "pattern": {
             "shape": ""
            }
           },
           "name": "Real Estate",
           "offsetgroup": "Real Estate",
           "orientation": "v",
           "showlegend": true,
           "textposition": "auto",
           "type": "bar",
           "x": [
            "Real Estate"
           ],
           "xaxis": "x",
           "y": [
            1408
           ],
           "yaxis": "y"
          },
          {
           "alignmentgroup": "True",
           "hovertemplate": "Industry=%{x}<br>Year-Month=2022-07<br>Sum=%{y}<extra></extra>",
           "ids": [
            "Transportation & Storage"
           ],
           "legendgroup": "Transportation & Storage",
           "marker": {
            "color": "#FF97FF",
            "pattern": {
             "shape": ""
            }
           },
           "name": "Transportation & Storage",
           "offsetgroup": "Transportation & Storage",
           "orientation": "v",
           "showlegend": true,
           "textposition": "auto",
           "type": "bar",
           "x": [
            "Transportation & Storage"
           ],
           "xaxis": "x",
           "y": [
            703
           ],
           "yaxis": "y"
          },
          {
           "alignmentgroup": "True",
           "hovertemplate": "Industry=%{x}<br>Year-Month=2022-07<br>Sum=%{y}<extra></extra>",
           "ids": [
            "Water Supply, Sewerage, Waste Management"
           ],
           "legendgroup": "Water Supply, Sewerage, Waste Management",
           "marker": {
            "color": "#FECB52",
            "pattern": {
             "shape": ""
            }
           },
           "name": "Water Supply, Sewerage, Waste Management",
           "offsetgroup": "Water Supply, Sewerage, Waste Management",
           "orientation": "v",
           "showlegend": true,
           "textposition": "auto",
           "type": "bar",
           "x": [
            "Water Supply, Sewerage, Waste Management"
           ],
           "xaxis": "x",
           "y": [
            36
           ],
           "yaxis": "y"
          },
          {
           "alignmentgroup": "True",
           "hovertemplate": "Industry=%{x}<br>Year-Month=2022-07<br>Sum=%{y}<extra></extra>",
           "ids": [
            "Wholesale & Retail"
           ],
           "legendgroup": "Wholesale & Retail",
           "marker": {
            "color": "#636efa",
            "pattern": {
             "shape": ""
            }
           },
           "name": "Wholesale & Retail",
           "offsetgroup": "Wholesale & Retail",
           "orientation": "v",
           "showlegend": true,
           "textposition": "auto",
           "type": "bar",
           "x": [
            "Wholesale & Retail"
           ],
           "xaxis": "x",
           "y": [
            2943
           ],
           "yaxis": "y"
          }
         ],
         "name": "2022-07"
        },
        {
         "data": [
          {
           "alignmentgroup": "True",
           "hovertemplate": "Industry=%{x}<br>Year-Month=2022-08<br>Sum=%{y}<extra></extra>",
           "ids": [
            "Accommodation & Food"
           ],
           "legendgroup": "Accommodation & Food",
           "marker": {
            "color": "#636efa",
            "pattern": {
             "shape": ""
            }
           },
           "name": "Accommodation & Food",
           "offsetgroup": "Accommodation & Food",
           "orientation": "v",
           "showlegend": true,
           "textposition": "auto",
           "type": "bar",
           "x": [
            "Accommodation & Food"
           ],
           "xaxis": "x",
           "y": [
            855
           ],
           "yaxis": "y"
          },
          {
           "alignmentgroup": "True",
           "hovertemplate": "Industry=%{x}<br>Year-Month=2022-08<br>Sum=%{y}<extra></extra>",
           "ids": [
            "Administration & Security"
           ],
           "legendgroup": "Administration & Security",
           "marker": {
            "color": "#EF553B",
            "pattern": {
             "shape": ""
            }
           },
           "name": "Administration & Security",
           "offsetgroup": "Administration & Security",
           "orientation": "v",
           "showlegend": true,
           "textposition": "auto",
           "type": "bar",
           "x": [
            "Administration & Security"
           ],
           "xaxis": "x",
           "y": [
            46
           ],
           "yaxis": "y"
          },
          {
           "alignmentgroup": "True",
           "hovertemplate": "Industry=%{x}<br>Year-Month=2022-08<br>Sum=%{y}<extra></extra>",
           "ids": [
            "Administrative Servives"
           ],
           "legendgroup": "Administrative Servives",
           "marker": {
            "color": "#00cc96",
            "pattern": {
             "shape": ""
            }
           },
           "name": "Administrative Servives",
           "offsetgroup": "Administrative Servives",
           "orientation": "v",
           "showlegend": true,
           "textposition": "auto",
           "type": "bar",
           "x": [
            "Administrative Servives"
           ],
           "xaxis": "x",
           "y": [
            912
           ],
           "yaxis": "y"
          },
          {
           "alignmentgroup": "True",
           "hovertemplate": "Industry=%{x}<br>Year-Month=2022-08<br>Sum=%{y}<extra></extra>",
           "ids": [
            "Agriculture, Forestry & Fishing"
           ],
           "legendgroup": "Agriculture, Forestry & Fishing",
           "marker": {
            "color": "#ab63fa",
            "pattern": {
             "shape": ""
            }
           },
           "name": "Agriculture, Forestry & Fishing",
           "offsetgroup": "Agriculture, Forestry & Fishing",
           "orientation": "v",
           "showlegend": true,
           "textposition": "auto",
           "type": "bar",
           "x": [
            "Agriculture, Forestry & Fishing"
           ],
           "xaxis": "x",
           "y": [
            74
           ],
           "yaxis": "y"
          },
          {
           "alignmentgroup": "True",
           "hovertemplate": "Industry=%{x}<br>Year-Month=2022-08<br>Sum=%{y}<extra></extra>",
           "ids": [
            "Arts & Entertainment"
           ],
           "legendgroup": "Arts & Entertainment",
           "marker": {
            "color": "#FFA15A",
            "pattern": {
             "shape": ""
            }
           },
           "name": "Arts & Entertainment",
           "offsetgroup": "Arts & Entertainment",
           "orientation": "v",
           "showlegend": true,
           "textposition": "auto",
           "type": "bar",
           "x": [
            "Arts & Entertainment"
           ],
           "xaxis": "x",
           "y": [
            258
           ],
           "yaxis": "y"
          },
          {
           "alignmentgroup": "True",
           "hovertemplate": "Industry=%{x}<br>Year-Month=2022-08<br>Sum=%{y}<extra></extra>",
           "ids": [
            "Construction"
           ],
           "legendgroup": "Construction",
           "marker": {
            "color": "#19d3f3",
            "pattern": {
             "shape": ""
            }
           },
           "name": "Construction",
           "offsetgroup": "Construction",
           "orientation": "v",
           "showlegend": true,
           "textposition": "auto",
           "type": "bar",
           "x": [
            "Construction"
           ],
           "xaxis": "x",
           "y": [
            1397
           ],
           "yaxis": "y"
          },
          {
           "alignmentgroup": "True",
           "hovertemplate": "Industry=%{x}<br>Year-Month=2022-08<br>Sum=%{y}<extra></extra>",
           "ids": [
            "Education"
           ],
           "legendgroup": "Education",
           "marker": {
            "color": "#FF6692",
            "pattern": {
             "shape": ""
            }
           },
           "name": "Education",
           "offsetgroup": "Education",
           "orientation": "v",
           "showlegend": true,
           "textposition": "auto",
           "type": "bar",
           "x": [
            "Education"
           ],
           "xaxis": "x",
           "y": [
            211
           ],
           "yaxis": "y"
          },
          {
           "alignmentgroup": "True",
           "hovertemplate": "Industry=%{x}<br>Year-Month=2022-08<br>Sum=%{y}<extra></extra>",
           "ids": [
            "Energy Supply"
           ],
           "legendgroup": "Energy Supply",
           "marker": {
            "color": "#B6E880",
            "pattern": {
             "shape": ""
            }
           },
           "name": "Energy Supply",
           "offsetgroup": "Energy Supply",
           "orientation": "v",
           "showlegend": true,
           "textposition": "auto",
           "type": "bar",
           "x": [
            "Energy Supply"
           ],
           "xaxis": "x",
           "y": [
            35
           ],
           "yaxis": "y"
          },
          {
           "alignmentgroup": "True",
           "hovertemplate": "Industry=%{x}<br>Year-Month=2022-08<br>Sum=%{y}<extra></extra>",
           "ids": [
            "Extraterritorial Organisations"
           ],
           "legendgroup": "Extraterritorial Organisations",
           "marker": {
            "color": "#FF97FF",
            "pattern": {
             "shape": ""
            }
           },
           "name": "Extraterritorial Organisations",
           "offsetgroup": "Extraterritorial Organisations",
           "orientation": "v",
           "showlegend": true,
           "textposition": "auto",
           "type": "bar",
           "x": [
            "Extraterritorial Organisations"
           ],
           "xaxis": "x",
           "y": [
            185
           ],
           "yaxis": "y"
          },
          {
           "alignmentgroup": "True",
           "hovertemplate": "Industry=%{x}<br>Year-Month=2022-08<br>Sum=%{y}<extra></extra>",
           "ids": [
            "Financial & Insurance"
           ],
           "legendgroup": "Financial & Insurance",
           "marker": {
            "color": "#FECB52",
            "pattern": {
             "shape": ""
            }
           },
           "name": "Financial & Insurance",
           "offsetgroup": "Financial & Insurance",
           "orientation": "v",
           "showlegend": true,
           "textposition": "auto",
           "type": "bar",
           "x": [
            "Financial & Insurance"
           ],
           "xaxis": "x",
           "y": [
            424
           ],
           "yaxis": "y"
          },
          {
           "alignmentgroup": "True",
           "hovertemplate": "Industry=%{x}<br>Year-Month=2022-08<br>Sum=%{y}<extra></extra>",
           "ids": [
            "Health & Social Work"
           ],
           "legendgroup": "Health & Social Work",
           "marker": {
            "color": "#636efa",
            "pattern": {
             "shape": ""
            }
           },
           "name": "Health & Social Work",
           "offsetgroup": "Health & Social Work",
           "orientation": "v",
           "showlegend": true,
           "textposition": "auto",
           "type": "bar",
           "x": [
            "Health & Social Work"
           ],
           "xaxis": "x",
           "y": [
            590
           ],
           "yaxis": "y"
          },
          {
           "alignmentgroup": "True",
           "hovertemplate": "Industry=%{x}<br>Year-Month=2022-08<br>Sum=%{y}<extra></extra>",
           "ids": [
            "Households as Employers"
           ],
           "legendgroup": "Households as Employers",
           "marker": {
            "color": "#EF553B",
            "pattern": {
             "shape": ""
            }
           },
           "name": "Households as Employers",
           "offsetgroup": "Households as Employers",
           "orientation": "v",
           "showlegend": true,
           "textposition": "auto",
           "type": "bar",
           "x": [
            "Households as Employers"
           ],
           "xaxis": "x",
           "y": [
            120
           ],
           "yaxis": "y"
          },
          {
           "alignmentgroup": "True",
           "hovertemplate": "Industry=%{x}<br>Year-Month=2022-08<br>Sum=%{y}<extra></extra>",
           "ids": [
            "Information & Communication"
           ],
           "legendgroup": "Information & Communication",
           "marker": {
            "color": "#00cc96",
            "pattern": {
             "shape": ""
            }
           },
           "name": "Information & Communication",
           "offsetgroup": "Information & Communication",
           "orientation": "v",
           "showlegend": true,
           "textposition": "auto",
           "type": "bar",
           "x": [
            "Information & Communication"
           ],
           "xaxis": "x",
           "y": [
            860
           ],
           "yaxis": "y"
          },
          {
           "alignmentgroup": "True",
           "hovertemplate": "Industry=%{x}<br>Year-Month=2022-08<br>Sum=%{y}<extra></extra>",
           "ids": [
            "Manufacturing"
           ],
           "legendgroup": "Manufacturing",
           "marker": {
            "color": "#ab63fa",
            "pattern": {
             "shape": ""
            }
           },
           "name": "Manufacturing",
           "offsetgroup": "Manufacturing",
           "orientation": "v",
           "showlegend": true,
           "textposition": "auto",
           "type": "bar",
           "x": [
            "Manufacturing"
           ],
           "xaxis": "x",
           "y": [
            529
           ],
           "yaxis": "y"
          },
          {
           "alignmentgroup": "True",
           "hovertemplate": "Industry=%{x}<br>Year-Month=2022-08<br>Sum=%{y}<extra></extra>",
           "ids": [
            "Mining & Quarrying"
           ],
           "legendgroup": "Mining & Quarrying",
           "marker": {
            "color": "#FFA15A",
            "pattern": {
             "shape": ""
            }
           },
           "name": "Mining & Quarrying",
           "offsetgroup": "Mining & Quarrying",
           "orientation": "v",
           "showlegend": true,
           "textposition": "auto",
           "type": "bar",
           "x": [
            "Mining & Quarrying"
           ],
           "xaxis": "x",
           "y": [
            15
           ],
           "yaxis": "y"
          },
          {
           "alignmentgroup": "True",
           "hovertemplate": "Industry=%{x}<br>Year-Month=2022-08<br>Sum=%{y}<extra></extra>",
           "ids": [
            "Other Services"
           ],
           "legendgroup": "Other Services",
           "marker": {
            "color": "#19d3f3",
            "pattern": {
             "shape": ""
            }
           },
           "name": "Other Services",
           "offsetgroup": "Other Services",
           "orientation": "v",
           "showlegend": true,
           "textposition": "auto",
           "type": "bar",
           "x": [
            "Other Services"
           ],
           "xaxis": "x",
           "y": [
            649
           ],
           "yaxis": "y"
          },
          {
           "alignmentgroup": "True",
           "hovertemplate": "Industry=%{x}<br>Year-Month=2022-08<br>Sum=%{y}<extra></extra>",
           "ids": [
            "Professional, Scientific & Technical"
           ],
           "legendgroup": "Professional, Scientific & Technical",
           "marker": {
            "color": "#FF6692",
            "pattern": {
             "shape": ""
            }
           },
           "name": "Professional, Scientific & Technical",
           "offsetgroup": "Professional, Scientific & Technical",
           "orientation": "v",
           "showlegend": true,
           "textposition": "auto",
           "type": "bar",
           "x": [
            "Professional, Scientific & Technical"
           ],
           "xaxis": "x",
           "y": [
            1148
           ],
           "yaxis": "y"
          },
          {
           "alignmentgroup": "True",
           "hovertemplate": "Industry=%{x}<br>Year-Month=2022-08<br>Sum=%{y}<extra></extra>",
           "ids": [
            "Real Estate"
           ],
           "legendgroup": "Real Estate",
           "marker": {
            "color": "#B6E880",
            "pattern": {
             "shape": ""
            }
           },
           "name": "Real Estate",
           "offsetgroup": "Real Estate",
           "orientation": "v",
           "showlegend": true,
           "textposition": "auto",
           "type": "bar",
           "x": [
            "Real Estate"
           ],
           "xaxis": "x",
           "y": [
            1244
           ],
           "yaxis": "y"
          },
          {
           "alignmentgroup": "True",
           "hovertemplate": "Industry=%{x}<br>Year-Month=2022-08<br>Sum=%{y}<extra></extra>",
           "ids": [
            "Transportation & Storage"
           ],
           "legendgroup": "Transportation & Storage",
           "marker": {
            "color": "#FF97FF",
            "pattern": {
             "shape": ""
            }
           },
           "name": "Transportation & Storage",
           "offsetgroup": "Transportation & Storage",
           "orientation": "v",
           "showlegend": true,
           "textposition": "auto",
           "type": "bar",
           "x": [
            "Transportation & Storage"
           ],
           "xaxis": "x",
           "y": [
            561
           ],
           "yaxis": "y"
          },
          {
           "alignmentgroup": "True",
           "hovertemplate": "Industry=%{x}<br>Year-Month=2022-08<br>Sum=%{y}<extra></extra>",
           "ids": [
            "Water Supply, Sewerage, Waste Management"
           ],
           "legendgroup": "Water Supply, Sewerage, Waste Management",
           "marker": {
            "color": "#FECB52",
            "pattern": {
             "shape": ""
            }
           },
           "name": "Water Supply, Sewerage, Waste Management",
           "offsetgroup": "Water Supply, Sewerage, Waste Management",
           "orientation": "v",
           "showlegend": true,
           "textposition": "auto",
           "type": "bar",
           "x": [
            "Water Supply, Sewerage, Waste Management"
           ],
           "xaxis": "x",
           "y": [
            39
           ],
           "yaxis": "y"
          },
          {
           "alignmentgroup": "True",
           "hovertemplate": "Industry=%{x}<br>Year-Month=2022-08<br>Sum=%{y}<extra></extra>",
           "ids": [
            "Wholesale & Retail"
           ],
           "legendgroup": "Wholesale & Retail",
           "marker": {
            "color": "#636efa",
            "pattern": {
             "shape": ""
            }
           },
           "name": "Wholesale & Retail",
           "offsetgroup": "Wholesale & Retail",
           "orientation": "v",
           "showlegend": true,
           "textposition": "auto",
           "type": "bar",
           "x": [
            "Wholesale & Retail"
           ],
           "xaxis": "x",
           "y": [
            2425
           ],
           "yaxis": "y"
          }
         ],
         "name": "2022-08"
        },
        {
         "data": [
          {
           "alignmentgroup": "True",
           "hovertemplate": "Industry=%{x}<br>Year-Month=2022-09<br>Sum=%{y}<extra></extra>",
           "ids": [
            "Accommodation & Food"
           ],
           "legendgroup": "Accommodation & Food",
           "marker": {
            "color": "#636efa",
            "pattern": {
             "shape": ""
            }
           },
           "name": "Accommodation & Food",
           "offsetgroup": "Accommodation & Food",
           "orientation": "v",
           "showlegend": true,
           "textposition": "auto",
           "type": "bar",
           "x": [
            "Accommodation & Food"
           ],
           "xaxis": "x",
           "y": [
            1023
           ],
           "yaxis": "y"
          },
          {
           "alignmentgroup": "True",
           "hovertemplate": "Industry=%{x}<br>Year-Month=2022-09<br>Sum=%{y}<extra></extra>",
           "ids": [
            "Administration & Security"
           ],
           "legendgroup": "Administration & Security",
           "marker": {
            "color": "#EF553B",
            "pattern": {
             "shape": ""
            }
           },
           "name": "Administration & Security",
           "offsetgroup": "Administration & Security",
           "orientation": "v",
           "showlegend": true,
           "textposition": "auto",
           "type": "bar",
           "x": [
            "Administration & Security"
           ],
           "xaxis": "x",
           "y": [
            52
           ],
           "yaxis": "y"
          },
          {
           "alignmentgroup": "True",
           "hovertemplate": "Industry=%{x}<br>Year-Month=2022-09<br>Sum=%{y}<extra></extra>",
           "ids": [
            "Administrative Servives"
           ],
           "legendgroup": "Administrative Servives",
           "marker": {
            "color": "#00cc96",
            "pattern": {
             "shape": ""
            }
           },
           "name": "Administrative Servives",
           "offsetgroup": "Administrative Servives",
           "orientation": "v",
           "showlegend": true,
           "textposition": "auto",
           "type": "bar",
           "x": [
            "Administrative Servives"
           ],
           "xaxis": "x",
           "y": [
            1008
           ],
           "yaxis": "y"
          },
          {
           "alignmentgroup": "True",
           "hovertemplate": "Industry=%{x}<br>Year-Month=2022-09<br>Sum=%{y}<extra></extra>",
           "ids": [
            "Agriculture, Forestry & Fishing"
           ],
           "legendgroup": "Agriculture, Forestry & Fishing",
           "marker": {
            "color": "#ab63fa",
            "pattern": {
             "shape": ""
            }
           },
           "name": "Agriculture, Forestry & Fishing",
           "offsetgroup": "Agriculture, Forestry & Fishing",
           "orientation": "v",
           "showlegend": true,
           "textposition": "auto",
           "type": "bar",
           "x": [
            "Agriculture, Forestry & Fishing"
           ],
           "xaxis": "x",
           "y": [
            97
           ],
           "yaxis": "y"
          },
          {
           "alignmentgroup": "True",
           "hovertemplate": "Industry=%{x}<br>Year-Month=2022-09<br>Sum=%{y}<extra></extra>",
           "ids": [
            "Arts & Entertainment"
           ],
           "legendgroup": "Arts & Entertainment",
           "marker": {
            "color": "#FFA15A",
            "pattern": {
             "shape": ""
            }
           },
           "name": "Arts & Entertainment",
           "offsetgroup": "Arts & Entertainment",
           "orientation": "v",
           "showlegend": true,
           "textposition": "auto",
           "type": "bar",
           "x": [
            "Arts & Entertainment"
           ],
           "xaxis": "x",
           "y": [
            286
           ],
           "yaxis": "y"
          },
          {
           "alignmentgroup": "True",
           "hovertemplate": "Industry=%{x}<br>Year-Month=2022-09<br>Sum=%{y}<extra></extra>",
           "ids": [
            "Construction"
           ],
           "legendgroup": "Construction",
           "marker": {
            "color": "#19d3f3",
            "pattern": {
             "shape": ""
            }
           },
           "name": "Construction",
           "offsetgroup": "Construction",
           "orientation": "v",
           "showlegend": true,
           "textposition": "auto",
           "type": "bar",
           "x": [
            "Construction"
           ],
           "xaxis": "x",
           "y": [
            1498
           ],
           "yaxis": "y"
          },
          {
           "alignmentgroup": "True",
           "hovertemplate": "Industry=%{x}<br>Year-Month=2022-09<br>Sum=%{y}<extra></extra>",
           "ids": [
            "Education"
           ],
           "legendgroup": "Education",
           "marker": {
            "color": "#FF6692",
            "pattern": {
             "shape": ""
            }
           },
           "name": "Education",
           "offsetgroup": "Education",
           "orientation": "v",
           "showlegend": true,
           "textposition": "auto",
           "type": "bar",
           "x": [
            "Education"
           ],
           "xaxis": "x",
           "y": [
            224
           ],
           "yaxis": "y"
          },
          {
           "alignmentgroup": "True",
           "hovertemplate": "Industry=%{x}<br>Year-Month=2022-09<br>Sum=%{y}<extra></extra>",
           "ids": [
            "Energy Supply"
           ],
           "legendgroup": "Energy Supply",
           "marker": {
            "color": "#B6E880",
            "pattern": {
             "shape": ""
            }
           },
           "name": "Energy Supply",
           "offsetgroup": "Energy Supply",
           "orientation": "v",
           "showlegend": true,
           "textposition": "auto",
           "type": "bar",
           "x": [
            "Energy Supply"
           ],
           "xaxis": "x",
           "y": [
            33
           ],
           "yaxis": "y"
          },
          {
           "alignmentgroup": "True",
           "hovertemplate": "Industry=%{x}<br>Year-Month=2022-09<br>Sum=%{y}<extra></extra>",
           "ids": [
            "Extraterritorial Organisations"
           ],
           "legendgroup": "Extraterritorial Organisations",
           "marker": {
            "color": "#FF97FF",
            "pattern": {
             "shape": ""
            }
           },
           "name": "Extraterritorial Organisations",
           "offsetgroup": "Extraterritorial Organisations",
           "orientation": "v",
           "showlegend": true,
           "textposition": "auto",
           "type": "bar",
           "x": [
            "Extraterritorial Organisations"
           ],
           "xaxis": "x",
           "y": [
            182
           ],
           "yaxis": "y"
          },
          {
           "alignmentgroup": "True",
           "hovertemplate": "Industry=%{x}<br>Year-Month=2022-09<br>Sum=%{y}<extra></extra>",
           "ids": [
            "Financial & Insurance"
           ],
           "legendgroup": "Financial & Insurance",
           "marker": {
            "color": "#FECB52",
            "pattern": {
             "shape": ""
            }
           },
           "name": "Financial & Insurance",
           "offsetgroup": "Financial & Insurance",
           "orientation": "v",
           "showlegend": true,
           "textposition": "auto",
           "type": "bar",
           "x": [
            "Financial & Insurance"
           ],
           "xaxis": "x",
           "y": [
            470
           ],
           "yaxis": "y"
          },
          {
           "alignmentgroup": "True",
           "hovertemplate": "Industry=%{x}<br>Year-Month=2022-09<br>Sum=%{y}<extra></extra>",
           "ids": [
            "Health & Social Work"
           ],
           "legendgroup": "Health & Social Work",
           "marker": {
            "color": "#636efa",
            "pattern": {
             "shape": ""
            }
           },
           "name": "Health & Social Work",
           "offsetgroup": "Health & Social Work",
           "orientation": "v",
           "showlegend": true,
           "textposition": "auto",
           "type": "bar",
           "x": [
            "Health & Social Work"
           ],
           "xaxis": "x",
           "y": [
            661
           ],
           "yaxis": "y"
          },
          {
           "alignmentgroup": "True",
           "hovertemplate": "Industry=%{x}<br>Year-Month=2022-09<br>Sum=%{y}<extra></extra>",
           "ids": [
            "Households as Employers"
           ],
           "legendgroup": "Households as Employers",
           "marker": {
            "color": "#EF553B",
            "pattern": {
             "shape": ""
            }
           },
           "name": "Households as Employers",
           "offsetgroup": "Households as Employers",
           "orientation": "v",
           "showlegend": true,
           "textposition": "auto",
           "type": "bar",
           "x": [
            "Households as Employers"
           ],
           "xaxis": "x",
           "y": [
            135
           ],
           "yaxis": "y"
          },
          {
           "alignmentgroup": "True",
           "hovertemplate": "Industry=%{x}<br>Year-Month=2022-09<br>Sum=%{y}<extra></extra>",
           "ids": [
            "Information & Communication"
           ],
           "legendgroup": "Information & Communication",
           "marker": {
            "color": "#00cc96",
            "pattern": {
             "shape": ""
            }
           },
           "name": "Information & Communication",
           "offsetgroup": "Information & Communication",
           "orientation": "v",
           "showlegend": true,
           "textposition": "auto",
           "type": "bar",
           "x": [
            "Information & Communication"
           ],
           "xaxis": "x",
           "y": [
            986
           ],
           "yaxis": "y"
          },
          {
           "alignmentgroup": "True",
           "hovertemplate": "Industry=%{x}<br>Year-Month=2022-09<br>Sum=%{y}<extra></extra>",
           "ids": [
            "Manufacturing"
           ],
           "legendgroup": "Manufacturing",
           "marker": {
            "color": "#ab63fa",
            "pattern": {
             "shape": ""
            }
           },
           "name": "Manufacturing",
           "offsetgroup": "Manufacturing",
           "orientation": "v",
           "showlegend": true,
           "textposition": "auto",
           "type": "bar",
           "x": [
            "Manufacturing"
           ],
           "xaxis": "x",
           "y": [
            536
           ],
           "yaxis": "y"
          },
          {
           "alignmentgroup": "True",
           "hovertemplate": "Industry=%{x}<br>Year-Month=2022-09<br>Sum=%{y}<extra></extra>",
           "ids": [
            "Mining & Quarrying"
           ],
           "legendgroup": "Mining & Quarrying",
           "marker": {
            "color": "#FFA15A",
            "pattern": {
             "shape": ""
            }
           },
           "name": "Mining & Quarrying",
           "offsetgroup": "Mining & Quarrying",
           "orientation": "v",
           "showlegend": true,
           "textposition": "auto",
           "type": "bar",
           "x": [
            "Mining & Quarrying"
           ],
           "xaxis": "x",
           "y": [
            16
           ],
           "yaxis": "y"
          },
          {
           "alignmentgroup": "True",
           "hovertemplate": "Industry=%{x}<br>Year-Month=2022-09<br>Sum=%{y}<extra></extra>",
           "ids": [
            "Other Services"
           ],
           "legendgroup": "Other Services",
           "marker": {
            "color": "#19d3f3",
            "pattern": {
             "shape": ""
            }
           },
           "name": "Other Services",
           "offsetgroup": "Other Services",
           "orientation": "v",
           "showlegend": true,
           "textposition": "auto",
           "type": "bar",
           "x": [
            "Other Services"
           ],
           "xaxis": "x",
           "y": [
            615
           ],
           "yaxis": "y"
          },
          {
           "alignmentgroup": "True",
           "hovertemplate": "Industry=%{x}<br>Year-Month=2022-09<br>Sum=%{y}<extra></extra>",
           "ids": [
            "Professional, Scientific & Technical"
           ],
           "legendgroup": "Professional, Scientific & Technical",
           "marker": {
            "color": "#FF6692",
            "pattern": {
             "shape": ""
            }
           },
           "name": "Professional, Scientific & Technical",
           "offsetgroup": "Professional, Scientific & Technical",
           "orientation": "v",
           "showlegend": true,
           "textposition": "auto",
           "type": "bar",
           "x": [
            "Professional, Scientific & Technical"
           ],
           "xaxis": "x",
           "y": [
            1207
           ],
           "yaxis": "y"
          },
          {
           "alignmentgroup": "True",
           "hovertemplate": "Industry=%{x}<br>Year-Month=2022-09<br>Sum=%{y}<extra></extra>",
           "ids": [
            "Real Estate"
           ],
           "legendgroup": "Real Estate",
           "marker": {
            "color": "#B6E880",
            "pattern": {
             "shape": ""
            }
           },
           "name": "Real Estate",
           "offsetgroup": "Real Estate",
           "orientation": "v",
           "showlegend": true,
           "textposition": "auto",
           "type": "bar",
           "x": [
            "Real Estate"
           ],
           "xaxis": "x",
           "y": [
            1254
           ],
           "yaxis": "y"
          },
          {
           "alignmentgroup": "True",
           "hovertemplate": "Industry=%{x}<br>Year-Month=2022-09<br>Sum=%{y}<extra></extra>",
           "ids": [
            "Transportation & Storage"
           ],
           "legendgroup": "Transportation & Storage",
           "marker": {
            "color": "#FF97FF",
            "pattern": {
             "shape": ""
            }
           },
           "name": "Transportation & Storage",
           "offsetgroup": "Transportation & Storage",
           "orientation": "v",
           "showlegend": true,
           "textposition": "auto",
           "type": "bar",
           "x": [
            "Transportation & Storage"
           ],
           "xaxis": "x",
           "y": [
            636
           ],
           "yaxis": "y"
          },
          {
           "alignmentgroup": "True",
           "hovertemplate": "Industry=%{x}<br>Year-Month=2022-09<br>Sum=%{y}<extra></extra>",
           "ids": [
            "Water Supply, Sewerage, Waste Management"
           ],
           "legendgroup": "Water Supply, Sewerage, Waste Management",
           "marker": {
            "color": "#FECB52",
            "pattern": {
             "shape": ""
            }
           },
           "name": "Water Supply, Sewerage, Waste Management",
           "offsetgroup": "Water Supply, Sewerage, Waste Management",
           "orientation": "v",
           "showlegend": true,
           "textposition": "auto",
           "type": "bar",
           "x": [
            "Water Supply, Sewerage, Waste Management"
           ],
           "xaxis": "x",
           "y": [
            44
           ],
           "yaxis": "y"
          },
          {
           "alignmentgroup": "True",
           "hovertemplate": "Industry=%{x}<br>Year-Month=2022-09<br>Sum=%{y}<extra></extra>",
           "ids": [
            "Wholesale & Retail"
           ],
           "legendgroup": "Wholesale & Retail",
           "marker": {
            "color": "#636efa",
            "pattern": {
             "shape": ""
            }
           },
           "name": "Wholesale & Retail",
           "offsetgroup": "Wholesale & Retail",
           "orientation": "v",
           "showlegend": true,
           "textposition": "auto",
           "type": "bar",
           "x": [
            "Wholesale & Retail"
           ],
           "xaxis": "x",
           "y": [
            2594
           ],
           "yaxis": "y"
          }
         ],
         "name": "2022-09"
        },
        {
         "data": [
          {
           "alignmentgroup": "True",
           "hovertemplate": "Industry=%{x}<br>Year-Month=2022-10<br>Sum=%{y}<extra></extra>",
           "ids": [
            "Accommodation & Food"
           ],
           "legendgroup": "Accommodation & Food",
           "marker": {
            "color": "#636efa",
            "pattern": {
             "shape": ""
            }
           },
           "name": "Accommodation & Food",
           "offsetgroup": "Accommodation & Food",
           "orientation": "v",
           "showlegend": true,
           "textposition": "auto",
           "type": "bar",
           "x": [
            "Accommodation & Food"
           ],
           "xaxis": "x",
           "y": [
            1086
           ],
           "yaxis": "y"
          },
          {
           "alignmentgroup": "True",
           "hovertemplate": "Industry=%{x}<br>Year-Month=2022-10<br>Sum=%{y}<extra></extra>",
           "ids": [
            "Administration & Security"
           ],
           "legendgroup": "Administration & Security",
           "marker": {
            "color": "#EF553B",
            "pattern": {
             "shape": ""
            }
           },
           "name": "Administration & Security",
           "offsetgroup": "Administration & Security",
           "orientation": "v",
           "showlegend": true,
           "textposition": "auto",
           "type": "bar",
           "x": [
            "Administration & Security"
           ],
           "xaxis": "x",
           "y": [
            48
           ],
           "yaxis": "y"
          },
          {
           "alignmentgroup": "True",
           "hovertemplate": "Industry=%{x}<br>Year-Month=2022-10<br>Sum=%{y}<extra></extra>",
           "ids": [
            "Administrative Servives"
           ],
           "legendgroup": "Administrative Servives",
           "marker": {
            "color": "#00cc96",
            "pattern": {
             "shape": ""
            }
           },
           "name": "Administrative Servives",
           "offsetgroup": "Administrative Servives",
           "orientation": "v",
           "showlegend": true,
           "textposition": "auto",
           "type": "bar",
           "x": [
            "Administrative Servives"
           ],
           "xaxis": "x",
           "y": [
            1196
           ],
           "yaxis": "y"
          },
          {
           "alignmentgroup": "True",
           "hovertemplate": "Industry=%{x}<br>Year-Month=2022-10<br>Sum=%{y}<extra></extra>",
           "ids": [
            "Agriculture, Forestry & Fishing"
           ],
           "legendgroup": "Agriculture, Forestry & Fishing",
           "marker": {
            "color": "#ab63fa",
            "pattern": {
             "shape": ""
            }
           },
           "name": "Agriculture, Forestry & Fishing",
           "offsetgroup": "Agriculture, Forestry & Fishing",
           "orientation": "v",
           "showlegend": true,
           "textposition": "auto",
           "type": "bar",
           "x": [
            "Agriculture, Forestry & Fishing"
           ],
           "xaxis": "x",
           "y": [
            96
           ],
           "yaxis": "y"
          },
          {
           "alignmentgroup": "True",
           "hovertemplate": "Industry=%{x}<br>Year-Month=2022-10<br>Sum=%{y}<extra></extra>",
           "ids": [
            "Arts & Entertainment"
           ],
           "legendgroup": "Arts & Entertainment",
           "marker": {
            "color": "#FFA15A",
            "pattern": {
             "shape": ""
            }
           },
           "name": "Arts & Entertainment",
           "offsetgroup": "Arts & Entertainment",
           "orientation": "v",
           "showlegend": true,
           "textposition": "auto",
           "type": "bar",
           "x": [
            "Arts & Entertainment"
           ],
           "xaxis": "x",
           "y": [
            299
           ],
           "yaxis": "y"
          },
          {
           "alignmentgroup": "True",
           "hovertemplate": "Industry=%{x}<br>Year-Month=2022-10<br>Sum=%{y}<extra></extra>",
           "ids": [
            "Construction"
           ],
           "legendgroup": "Construction",
           "marker": {
            "color": "#19d3f3",
            "pattern": {
             "shape": ""
            }
           },
           "name": "Construction",
           "offsetgroup": "Construction",
           "orientation": "v",
           "showlegend": true,
           "textposition": "auto",
           "type": "bar",
           "x": [
            "Construction"
           ],
           "xaxis": "x",
           "y": [
            1656
           ],
           "yaxis": "y"
          },
          {
           "alignmentgroup": "True",
           "hovertemplate": "Industry=%{x}<br>Year-Month=2022-10<br>Sum=%{y}<extra></extra>",
           "ids": [
            "Education"
           ],
           "legendgroup": "Education",
           "marker": {
            "color": "#FF6692",
            "pattern": {
             "shape": ""
            }
           },
           "name": "Education",
           "offsetgroup": "Education",
           "orientation": "v",
           "showlegend": true,
           "textposition": "auto",
           "type": "bar",
           "x": [
            "Education"
           ],
           "xaxis": "x",
           "y": [
            269
           ],
           "yaxis": "y"
          },
          {
           "alignmentgroup": "True",
           "hovertemplate": "Industry=%{x}<br>Year-Month=2022-10<br>Sum=%{y}<extra></extra>",
           "ids": [
            "Energy Supply"
           ],
           "legendgroup": "Energy Supply",
           "marker": {
            "color": "#B6E880",
            "pattern": {
             "shape": ""
            }
           },
           "name": "Energy Supply",
           "offsetgroup": "Energy Supply",
           "orientation": "v",
           "showlegend": true,
           "textposition": "auto",
           "type": "bar",
           "x": [
            "Energy Supply"
           ],
           "xaxis": "x",
           "y": [
            39
           ],
           "yaxis": "y"
          },
          {
           "alignmentgroup": "True",
           "hovertemplate": "Industry=%{x}<br>Year-Month=2022-10<br>Sum=%{y}<extra></extra>",
           "ids": [
            "Extraterritorial Organisations"
           ],
           "legendgroup": "Extraterritorial Organisations",
           "marker": {
            "color": "#FF97FF",
            "pattern": {
             "shape": ""
            }
           },
           "name": "Extraterritorial Organisations",
           "offsetgroup": "Extraterritorial Organisations",
           "orientation": "v",
           "showlegend": true,
           "textposition": "auto",
           "type": "bar",
           "x": [
            "Extraterritorial Organisations"
           ],
           "xaxis": "x",
           "y": [
            232
           ],
           "yaxis": "y"
          },
          {
           "alignmentgroup": "True",
           "hovertemplate": "Industry=%{x}<br>Year-Month=2022-10<br>Sum=%{y}<extra></extra>",
           "ids": [
            "Financial & Insurance"
           ],
           "legendgroup": "Financial & Insurance",
           "marker": {
            "color": "#FECB52",
            "pattern": {
             "shape": ""
            }
           },
           "name": "Financial & Insurance",
           "offsetgroup": "Financial & Insurance",
           "orientation": "v",
           "showlegend": true,
           "textposition": "auto",
           "type": "bar",
           "x": [
            "Financial & Insurance"
           ],
           "xaxis": "x",
           "y": [
            561
           ],
           "yaxis": "y"
          },
          {
           "alignmentgroup": "True",
           "hovertemplate": "Industry=%{x}<br>Year-Month=2022-10<br>Sum=%{y}<extra></extra>",
           "ids": [
            "Health & Social Work"
           ],
           "legendgroup": "Health & Social Work",
           "marker": {
            "color": "#636efa",
            "pattern": {
             "shape": ""
            }
           },
           "name": "Health & Social Work",
           "offsetgroup": "Health & Social Work",
           "orientation": "v",
           "showlegend": true,
           "textposition": "auto",
           "type": "bar",
           "x": [
            "Health & Social Work"
           ],
           "xaxis": "x",
           "y": [
            757
           ],
           "yaxis": "y"
          },
          {
           "alignmentgroup": "True",
           "hovertemplate": "Industry=%{x}<br>Year-Month=2022-10<br>Sum=%{y}<extra></extra>",
           "ids": [
            "Households as Employers"
           ],
           "legendgroup": "Households as Employers",
           "marker": {
            "color": "#EF553B",
            "pattern": {
             "shape": ""
            }
           },
           "name": "Households as Employers",
           "offsetgroup": "Households as Employers",
           "orientation": "v",
           "showlegend": true,
           "textposition": "auto",
           "type": "bar",
           "x": [
            "Households as Employers"
           ],
           "xaxis": "x",
           "y": [
            182
           ],
           "yaxis": "y"
          },
          {
           "alignmentgroup": "True",
           "hovertemplate": "Industry=%{x}<br>Year-Month=2022-10<br>Sum=%{y}<extra></extra>",
           "ids": [
            "Information & Communication"
           ],
           "legendgroup": "Information & Communication",
           "marker": {
            "color": "#00cc96",
            "pattern": {
             "shape": ""
            }
           },
           "name": "Information & Communication",
           "offsetgroup": "Information & Communication",
           "orientation": "v",
           "showlegend": true,
           "textposition": "auto",
           "type": "bar",
           "x": [
            "Information & Communication"
           ],
           "xaxis": "x",
           "y": [
            1175
           ],
           "yaxis": "y"
          },
          {
           "alignmentgroup": "True",
           "hovertemplate": "Industry=%{x}<br>Year-Month=2022-10<br>Sum=%{y}<extra></extra>",
           "ids": [
            "Manufacturing"
           ],
           "legendgroup": "Manufacturing",
           "marker": {
            "color": "#ab63fa",
            "pattern": {
             "shape": ""
            }
           },
           "name": "Manufacturing",
           "offsetgroup": "Manufacturing",
           "orientation": "v",
           "showlegend": true,
           "textposition": "auto",
           "type": "bar",
           "x": [
            "Manufacturing"
           ],
           "xaxis": "x",
           "y": [
            577
           ],
           "yaxis": "y"
          },
          {
           "alignmentgroup": "True",
           "hovertemplate": "Industry=%{x}<br>Year-Month=2022-10<br>Sum=%{y}<extra></extra>",
           "ids": [
            "Mining & Quarrying"
           ],
           "legendgroup": "Mining & Quarrying",
           "marker": {
            "color": "#FFA15A",
            "pattern": {
             "shape": ""
            }
           },
           "name": "Mining & Quarrying",
           "offsetgroup": "Mining & Quarrying",
           "orientation": "v",
           "showlegend": true,
           "textposition": "auto",
           "type": "bar",
           "x": [
            "Mining & Quarrying"
           ],
           "xaxis": "x",
           "y": [
            23
           ],
           "yaxis": "y"
          },
          {
           "alignmentgroup": "True",
           "hovertemplate": "Industry=%{x}<br>Year-Month=2022-10<br>Sum=%{y}<extra></extra>",
           "ids": [
            "Other Services"
           ],
           "legendgroup": "Other Services",
           "marker": {
            "color": "#19d3f3",
            "pattern": {
             "shape": ""
            }
           },
           "name": "Other Services",
           "offsetgroup": "Other Services",
           "orientation": "v",
           "showlegend": true,
           "textposition": "auto",
           "type": "bar",
           "x": [
            "Other Services"
           ],
           "xaxis": "x",
           "y": [
            812
           ],
           "yaxis": "y"
          },
          {
           "alignmentgroup": "True",
           "hovertemplate": "Industry=%{x}<br>Year-Month=2022-10<br>Sum=%{y}<extra></extra>",
           "ids": [
            "Professional, Scientific & Technical"
           ],
           "legendgroup": "Professional, Scientific & Technical",
           "marker": {
            "color": "#FF6692",
            "pattern": {
             "shape": ""
            }
           },
           "name": "Professional, Scientific & Technical",
           "offsetgroup": "Professional, Scientific & Technical",
           "orientation": "v",
           "showlegend": true,
           "textposition": "auto",
           "type": "bar",
           "x": [
            "Professional, Scientific & Technical"
           ],
           "xaxis": "x",
           "y": [
            1474
           ],
           "yaxis": "y"
          },
          {
           "alignmentgroup": "True",
           "hovertemplate": "Industry=%{x}<br>Year-Month=2022-10<br>Sum=%{y}<extra></extra>",
           "ids": [
            "Real Estate"
           ],
           "legendgroup": "Real Estate",
           "marker": {
            "color": "#B6E880",
            "pattern": {
             "shape": ""
            }
           },
           "name": "Real Estate",
           "offsetgroup": "Real Estate",
           "orientation": "v",
           "showlegend": true,
           "textposition": "auto",
           "type": "bar",
           "x": [
            "Real Estate"
           ],
           "xaxis": "x",
           "y": [
            1392
           ],
           "yaxis": "y"
          },
          {
           "alignmentgroup": "True",
           "hovertemplate": "Industry=%{x}<br>Year-Month=2022-10<br>Sum=%{y}<extra></extra>",
           "ids": [
            "Transportation & Storage"
           ],
           "legendgroup": "Transportation & Storage",
           "marker": {
            "color": "#FF97FF",
            "pattern": {
             "shape": ""
            }
           },
           "name": "Transportation & Storage",
           "offsetgroup": "Transportation & Storage",
           "orientation": "v",
           "showlegend": true,
           "textposition": "auto",
           "type": "bar",
           "x": [
            "Transportation & Storage"
           ],
           "xaxis": "x",
           "y": [
            742
           ],
           "yaxis": "y"
          },
          {
           "alignmentgroup": "True",
           "hovertemplate": "Industry=%{x}<br>Year-Month=2022-10<br>Sum=%{y}<extra></extra>",
           "ids": [
            "Water Supply, Sewerage, Waste Management"
           ],
           "legendgroup": "Water Supply, Sewerage, Waste Management",
           "marker": {
            "color": "#FECB52",
            "pattern": {
             "shape": ""
            }
           },
           "name": "Water Supply, Sewerage, Waste Management",
           "offsetgroup": "Water Supply, Sewerage, Waste Management",
           "orientation": "v",
           "showlegend": true,
           "textposition": "auto",
           "type": "bar",
           "x": [
            "Water Supply, Sewerage, Waste Management"
           ],
           "xaxis": "x",
           "y": [
            52
           ],
           "yaxis": "y"
          },
          {
           "alignmentgroup": "True",
           "hovertemplate": "Industry=%{x}<br>Year-Month=2022-10<br>Sum=%{y}<extra></extra>",
           "ids": [
            "Wholesale & Retail"
           ],
           "legendgroup": "Wholesale & Retail",
           "marker": {
            "color": "#636efa",
            "pattern": {
             "shape": ""
            }
           },
           "name": "Wholesale & Retail",
           "offsetgroup": "Wholesale & Retail",
           "orientation": "v",
           "showlegend": true,
           "textposition": "auto",
           "type": "bar",
           "x": [
            "Wholesale & Retail"
           ],
           "xaxis": "x",
           "y": [
            3120
           ],
           "yaxis": "y"
          }
         ],
         "name": "2022-10"
        },
        {
         "data": [
          {
           "alignmentgroup": "True",
           "hovertemplate": "Industry=%{x}<br>Year-Month=2022-11<br>Sum=%{y}<extra></extra>",
           "ids": [
            "Accommodation & Food"
           ],
           "legendgroup": "Accommodation & Food",
           "marker": {
            "color": "#636efa",
            "pattern": {
             "shape": ""
            }
           },
           "name": "Accommodation & Food",
           "offsetgroup": "Accommodation & Food",
           "orientation": "v",
           "showlegend": true,
           "textposition": "auto",
           "type": "bar",
           "x": [
            "Accommodation & Food"
           ],
           "xaxis": "x",
           "y": [
            1050
           ],
           "yaxis": "y"
          },
          {
           "alignmentgroup": "True",
           "hovertemplate": "Industry=%{x}<br>Year-Month=2022-11<br>Sum=%{y}<extra></extra>",
           "ids": [
            "Administration & Security"
           ],
           "legendgroup": "Administration & Security",
           "marker": {
            "color": "#EF553B",
            "pattern": {
             "shape": ""
            }
           },
           "name": "Administration & Security",
           "offsetgroup": "Administration & Security",
           "orientation": "v",
           "showlegend": true,
           "textposition": "auto",
           "type": "bar",
           "x": [
            "Administration & Security"
           ],
           "xaxis": "x",
           "y": [
            57
           ],
           "yaxis": "y"
          },
          {
           "alignmentgroup": "True",
           "hovertemplate": "Industry=%{x}<br>Year-Month=2022-11<br>Sum=%{y}<extra></extra>",
           "ids": [
            "Administrative Servives"
           ],
           "legendgroup": "Administrative Servives",
           "marker": {
            "color": "#00cc96",
            "pattern": {
             "shape": ""
            }
           },
           "name": "Administrative Servives",
           "offsetgroup": "Administrative Servives",
           "orientation": "v",
           "showlegend": true,
           "textposition": "auto",
           "type": "bar",
           "x": [
            "Administrative Servives"
           ],
           "xaxis": "x",
           "y": [
            1127
           ],
           "yaxis": "y"
          },
          {
           "alignmentgroup": "True",
           "hovertemplate": "Industry=%{x}<br>Year-Month=2022-11<br>Sum=%{y}<extra></extra>",
           "ids": [
            "Agriculture, Forestry & Fishing"
           ],
           "legendgroup": "Agriculture, Forestry & Fishing",
           "marker": {
            "color": "#ab63fa",
            "pattern": {
             "shape": ""
            }
           },
           "name": "Agriculture, Forestry & Fishing",
           "offsetgroup": "Agriculture, Forestry & Fishing",
           "orientation": "v",
           "showlegend": true,
           "textposition": "auto",
           "type": "bar",
           "x": [
            "Agriculture, Forestry & Fishing"
           ],
           "xaxis": "x",
           "y": [
            88
           ],
           "yaxis": "y"
          },
          {
           "alignmentgroup": "True",
           "hovertemplate": "Industry=%{x}<br>Year-Month=2022-11<br>Sum=%{y}<extra></extra>",
           "ids": [
            "Arts & Entertainment"
           ],
           "legendgroup": "Arts & Entertainment",
           "marker": {
            "color": "#FFA15A",
            "pattern": {
             "shape": ""
            }
           },
           "name": "Arts & Entertainment",
           "offsetgroup": "Arts & Entertainment",
           "orientation": "v",
           "showlegend": true,
           "textposition": "auto",
           "type": "bar",
           "x": [
            "Arts & Entertainment"
           ],
           "xaxis": "x",
           "y": [
            282
           ],
           "yaxis": "y"
          },
          {
           "alignmentgroup": "True",
           "hovertemplate": "Industry=%{x}<br>Year-Month=2022-11<br>Sum=%{y}<extra></extra>",
           "ids": [
            "Construction"
           ],
           "legendgroup": "Construction",
           "marker": {
            "color": "#19d3f3",
            "pattern": {
             "shape": ""
            }
           },
           "name": "Construction",
           "offsetgroup": "Construction",
           "orientation": "v",
           "showlegend": true,
           "textposition": "auto",
           "type": "bar",
           "x": [
            "Construction"
           ],
           "xaxis": "x",
           "y": [
            1574
           ],
           "yaxis": "y"
          },
          {
           "alignmentgroup": "True",
           "hovertemplate": "Industry=%{x}<br>Year-Month=2022-11<br>Sum=%{y}<extra></extra>",
           "ids": [
            "Education"
           ],
           "legendgroup": "Education",
           "marker": {
            "color": "#FF6692",
            "pattern": {
             "shape": ""
            }
           },
           "name": "Education",
           "offsetgroup": "Education",
           "orientation": "v",
           "showlegend": true,
           "textposition": "auto",
           "type": "bar",
           "x": [
            "Education"
           ],
           "xaxis": "x",
           "y": [
            253
           ],
           "yaxis": "y"
          },
          {
           "alignmentgroup": "True",
           "hovertemplate": "Industry=%{x}<br>Year-Month=2022-11<br>Sum=%{y}<extra></extra>",
           "ids": [
            "Energy Supply"
           ],
           "legendgroup": "Energy Supply",
           "marker": {
            "color": "#B6E880",
            "pattern": {
             "shape": ""
            }
           },
           "name": "Energy Supply",
           "offsetgroup": "Energy Supply",
           "orientation": "v",
           "showlegend": true,
           "textposition": "auto",
           "type": "bar",
           "x": [
            "Energy Supply"
           ],
           "xaxis": "x",
           "y": [
            35
           ],
           "yaxis": "y"
          },
          {
           "alignmentgroup": "True",
           "hovertemplate": "Industry=%{x}<br>Year-Month=2022-11<br>Sum=%{y}<extra></extra>",
           "ids": [
            "Extraterritorial Organisations"
           ],
           "legendgroup": "Extraterritorial Organisations",
           "marker": {
            "color": "#FF97FF",
            "pattern": {
             "shape": ""
            }
           },
           "name": "Extraterritorial Organisations",
           "offsetgroup": "Extraterritorial Organisations",
           "orientation": "v",
           "showlegend": true,
           "textposition": "auto",
           "type": "bar",
           "x": [
            "Extraterritorial Organisations"
           ],
           "xaxis": "x",
           "y": [
            249
           ],
           "yaxis": "y"
          },
          {
           "alignmentgroup": "True",
           "hovertemplate": "Industry=%{x}<br>Year-Month=2022-11<br>Sum=%{y}<extra></extra>",
           "ids": [
            "Financial & Insurance"
           ],
           "legendgroup": "Financial & Insurance",
           "marker": {
            "color": "#FECB52",
            "pattern": {
             "shape": ""
            }
           },
           "name": "Financial & Insurance",
           "offsetgroup": "Financial & Insurance",
           "orientation": "v",
           "showlegend": true,
           "textposition": "auto",
           "type": "bar",
           "x": [
            "Financial & Insurance"
           ],
           "xaxis": "x",
           "y": [
            568
           ],
           "yaxis": "y"
          },
          {
           "alignmentgroup": "True",
           "hovertemplate": "Industry=%{x}<br>Year-Month=2022-11<br>Sum=%{y}<extra></extra>",
           "ids": [
            "Health & Social Work"
           ],
           "legendgroup": "Health & Social Work",
           "marker": {
            "color": "#636efa",
            "pattern": {
             "shape": ""
            }
           },
           "name": "Health & Social Work",
           "offsetgroup": "Health & Social Work",
           "orientation": "v",
           "showlegend": true,
           "textposition": "auto",
           "type": "bar",
           "x": [
            "Health & Social Work"
           ],
           "xaxis": "x",
           "y": [
            682
           ],
           "yaxis": "y"
          },
          {
           "alignmentgroup": "True",
           "hovertemplate": "Industry=%{x}<br>Year-Month=2022-11<br>Sum=%{y}<extra></extra>",
           "ids": [
            "Households as Employers"
           ],
           "legendgroup": "Households as Employers",
           "marker": {
            "color": "#EF553B",
            "pattern": {
             "shape": ""
            }
           },
           "name": "Households as Employers",
           "offsetgroup": "Households as Employers",
           "orientation": "v",
           "showlegend": true,
           "textposition": "auto",
           "type": "bar",
           "x": [
            "Households as Employers"
           ],
           "xaxis": "x",
           "y": [
            181
           ],
           "yaxis": "y"
          },
          {
           "alignmentgroup": "True",
           "hovertemplate": "Industry=%{x}<br>Year-Month=2022-11<br>Sum=%{y}<extra></extra>",
           "ids": [
            "Information & Communication"
           ],
           "legendgroup": "Information & Communication",
           "marker": {
            "color": "#00cc96",
            "pattern": {
             "shape": ""
            }
           },
           "name": "Information & Communication",
           "offsetgroup": "Information & Communication",
           "orientation": "v",
           "showlegend": true,
           "textposition": "auto",
           "type": "bar",
           "x": [
            "Information & Communication"
           ],
           "xaxis": "x",
           "y": [
            1098
           ],
           "yaxis": "y"
          },
          {
           "alignmentgroup": "True",
           "hovertemplate": "Industry=%{x}<br>Year-Month=2022-11<br>Sum=%{y}<extra></extra>",
           "ids": [
            "Manufacturing"
           ],
           "legendgroup": "Manufacturing",
           "marker": {
            "color": "#ab63fa",
            "pattern": {
             "shape": ""
            }
           },
           "name": "Manufacturing",
           "offsetgroup": "Manufacturing",
           "orientation": "v",
           "showlegend": true,
           "textposition": "auto",
           "type": "bar",
           "x": [
            "Manufacturing"
           ],
           "xaxis": "x",
           "y": [
            560
           ],
           "yaxis": "y"
          },
          {
           "alignmentgroup": "True",
           "hovertemplate": "Industry=%{x}<br>Year-Month=2022-11<br>Sum=%{y}<extra></extra>",
           "ids": [
            "Mining & Quarrying"
           ],
           "legendgroup": "Mining & Quarrying",
           "marker": {
            "color": "#FFA15A",
            "pattern": {
             "shape": ""
            }
           },
           "name": "Mining & Quarrying",
           "offsetgroup": "Mining & Quarrying",
           "orientation": "v",
           "showlegend": true,
           "textposition": "auto",
           "type": "bar",
           "x": [
            "Mining & Quarrying"
           ],
           "xaxis": "x",
           "y": [
            32
           ],
           "yaxis": "y"
          },
          {
           "alignmentgroup": "True",
           "hovertemplate": "Industry=%{x}<br>Year-Month=2022-11<br>Sum=%{y}<extra></extra>",
           "ids": [
            "Other Services"
           ],
           "legendgroup": "Other Services",
           "marker": {
            "color": "#19d3f3",
            "pattern": {
             "shape": ""
            }
           },
           "name": "Other Services",
           "offsetgroup": "Other Services",
           "orientation": "v",
           "showlegend": true,
           "textposition": "auto",
           "type": "bar",
           "x": [
            "Other Services"
           ],
           "xaxis": "x",
           "y": [
            687
           ],
           "yaxis": "y"
          },
          {
           "alignmentgroup": "True",
           "hovertemplate": "Industry=%{x}<br>Year-Month=2022-11<br>Sum=%{y}<extra></extra>",
           "ids": [
            "Professional, Scientific & Technical"
           ],
           "legendgroup": "Professional, Scientific & Technical",
           "marker": {
            "color": "#FF6692",
            "pattern": {
             "shape": ""
            }
           },
           "name": "Professional, Scientific & Technical",
           "offsetgroup": "Professional, Scientific & Technical",
           "orientation": "v",
           "showlegend": true,
           "textposition": "auto",
           "type": "bar",
           "x": [
            "Professional, Scientific & Technical"
           ],
           "xaxis": "x",
           "y": [
            1383
           ],
           "yaxis": "y"
          },
          {
           "alignmentgroup": "True",
           "hovertemplate": "Industry=%{x}<br>Year-Month=2022-11<br>Sum=%{y}<extra></extra>",
           "ids": [
            "Real Estate"
           ],
           "legendgroup": "Real Estate",
           "marker": {
            "color": "#B6E880",
            "pattern": {
             "shape": ""
            }
           },
           "name": "Real Estate",
           "offsetgroup": "Real Estate",
           "orientation": "v",
           "showlegend": true,
           "textposition": "auto",
           "type": "bar",
           "x": [
            "Real Estate"
           ],
           "xaxis": "x",
           "y": [
            1456
           ],
           "yaxis": "y"
          },
          {
           "alignmentgroup": "True",
           "hovertemplate": "Industry=%{x}<br>Year-Month=2022-11<br>Sum=%{y}<extra></extra>",
           "ids": [
            "Transportation & Storage"
           ],
           "legendgroup": "Transportation & Storage",
           "marker": {
            "color": "#FF97FF",
            "pattern": {
             "shape": ""
            }
           },
           "name": "Transportation & Storage",
           "offsetgroup": "Transportation & Storage",
           "orientation": "v",
           "showlegend": true,
           "textposition": "auto",
           "type": "bar",
           "x": [
            "Transportation & Storage"
           ],
           "xaxis": "x",
           "y": [
            615
           ],
           "yaxis": "y"
          },
          {
           "alignmentgroup": "True",
           "hovertemplate": "Industry=%{x}<br>Year-Month=2022-11<br>Sum=%{y}<extra></extra>",
           "ids": [
            "Water Supply, Sewerage, Waste Management"
           ],
           "legendgroup": "Water Supply, Sewerage, Waste Management",
           "marker": {
            "color": "#FECB52",
            "pattern": {
             "shape": ""
            }
           },
           "name": "Water Supply, Sewerage, Waste Management",
           "offsetgroup": "Water Supply, Sewerage, Waste Management",
           "orientation": "v",
           "showlegend": true,
           "textposition": "auto",
           "type": "bar",
           "x": [
            "Water Supply, Sewerage, Waste Management"
           ],
           "xaxis": "x",
           "y": [
            45
           ],
           "yaxis": "y"
          },
          {
           "alignmentgroup": "True",
           "hovertemplate": "Industry=%{x}<br>Year-Month=2022-11<br>Sum=%{y}<extra></extra>",
           "ids": [
            "Wholesale & Retail"
           ],
           "legendgroup": "Wholesale & Retail",
           "marker": {
            "color": "#636efa",
            "pattern": {
             "shape": ""
            }
           },
           "name": "Wholesale & Retail",
           "offsetgroup": "Wholesale & Retail",
           "orientation": "v",
           "showlegend": true,
           "textposition": "auto",
           "type": "bar",
           "x": [
            "Wholesale & Retail"
           ],
           "xaxis": "x",
           "y": [
            2799
           ],
           "yaxis": "y"
          }
         ],
         "name": "2022-11"
        },
        {
         "data": [
          {
           "alignmentgroup": "True",
           "hovertemplate": "Industry=%{x}<br>Year-Month=2022-12<br>Sum=%{y}<extra></extra>",
           "ids": [
            "Accommodation & Food"
           ],
           "legendgroup": "Accommodation & Food",
           "marker": {
            "color": "#636efa",
            "pattern": {
             "shape": ""
            }
           },
           "name": "Accommodation & Food",
           "offsetgroup": "Accommodation & Food",
           "orientation": "v",
           "showlegend": true,
           "textposition": "auto",
           "type": "bar",
           "x": [
            "Accommodation & Food"
           ],
           "xaxis": "x",
           "y": [
            710
           ],
           "yaxis": "y"
          },
          {
           "alignmentgroup": "True",
           "hovertemplate": "Industry=%{x}<br>Year-Month=2022-12<br>Sum=%{y}<extra></extra>",
           "ids": [
            "Administration & Security"
           ],
           "legendgroup": "Administration & Security",
           "marker": {
            "color": "#EF553B",
            "pattern": {
             "shape": ""
            }
           },
           "name": "Administration & Security",
           "offsetgroup": "Administration & Security",
           "orientation": "v",
           "showlegend": true,
           "textposition": "auto",
           "type": "bar",
           "x": [
            "Administration & Security"
           ],
           "xaxis": "x",
           "y": [
            37
           ],
           "yaxis": "y"
          },
          {
           "alignmentgroup": "True",
           "hovertemplate": "Industry=%{x}<br>Year-Month=2022-12<br>Sum=%{y}<extra></extra>",
           "ids": [
            "Administrative Servives"
           ],
           "legendgroup": "Administrative Servives",
           "marker": {
            "color": "#00cc96",
            "pattern": {
             "shape": ""
            }
           },
           "name": "Administrative Servives",
           "offsetgroup": "Administrative Servives",
           "orientation": "v",
           "showlegend": true,
           "textposition": "auto",
           "type": "bar",
           "x": [
            "Administrative Servives"
           ],
           "xaxis": "x",
           "y": [
            811
           ],
           "yaxis": "y"
          },
          {
           "alignmentgroup": "True",
           "hovertemplate": "Industry=%{x}<br>Year-Month=2022-12<br>Sum=%{y}<extra></extra>",
           "ids": [
            "Agriculture, Forestry & Fishing"
           ],
           "legendgroup": "Agriculture, Forestry & Fishing",
           "marker": {
            "color": "#ab63fa",
            "pattern": {
             "shape": ""
            }
           },
           "name": "Agriculture, Forestry & Fishing",
           "offsetgroup": "Agriculture, Forestry & Fishing",
           "orientation": "v",
           "showlegend": true,
           "textposition": "auto",
           "type": "bar",
           "x": [
            "Agriculture, Forestry & Fishing"
           ],
           "xaxis": "x",
           "y": [
            62
           ],
           "yaxis": "y"
          },
          {
           "alignmentgroup": "True",
           "hovertemplate": "Industry=%{x}<br>Year-Month=2022-12<br>Sum=%{y}<extra></extra>",
           "ids": [
            "Arts & Entertainment"
           ],
           "legendgroup": "Arts & Entertainment",
           "marker": {
            "color": "#FFA15A",
            "pattern": {
             "shape": ""
            }
           },
           "name": "Arts & Entertainment",
           "offsetgroup": "Arts & Entertainment",
           "orientation": "v",
           "showlegend": true,
           "textposition": "auto",
           "type": "bar",
           "x": [
            "Arts & Entertainment"
           ],
           "xaxis": "x",
           "y": [
            210
           ],
           "yaxis": "y"
          },
          {
           "alignmentgroup": "True",
           "hovertemplate": "Industry=%{x}<br>Year-Month=2022-12<br>Sum=%{y}<extra></extra>",
           "ids": [
            "Construction"
           ],
           "legendgroup": "Construction",
           "marker": {
            "color": "#19d3f3",
            "pattern": {
             "shape": ""
            }
           },
           "name": "Construction",
           "offsetgroup": "Construction",
           "orientation": "v",
           "showlegend": true,
           "textposition": "auto",
           "type": "bar",
           "x": [
            "Construction"
           ],
           "xaxis": "x",
           "y": [
            1110
           ],
           "yaxis": "y"
          },
          {
           "alignmentgroup": "True",
           "hovertemplate": "Industry=%{x}<br>Year-Month=2022-12<br>Sum=%{y}<extra></extra>",
           "ids": [
            "Education"
           ],
           "legendgroup": "Education",
           "marker": {
            "color": "#FF6692",
            "pattern": {
             "shape": ""
            }
           },
           "name": "Education",
           "offsetgroup": "Education",
           "orientation": "v",
           "showlegend": true,
           "textposition": "auto",
           "type": "bar",
           "x": [
            "Education"
           ],
           "xaxis": "x",
           "y": [
            185
           ],
           "yaxis": "y"
          },
          {
           "alignmentgroup": "True",
           "hovertemplate": "Industry=%{x}<br>Year-Month=2022-12<br>Sum=%{y}<extra></extra>",
           "ids": [
            "Energy Supply"
           ],
           "legendgroup": "Energy Supply",
           "marker": {
            "color": "#B6E880",
            "pattern": {
             "shape": ""
            }
           },
           "name": "Energy Supply",
           "offsetgroup": "Energy Supply",
           "orientation": "v",
           "showlegend": true,
           "textposition": "auto",
           "type": "bar",
           "x": [
            "Energy Supply"
           ],
           "xaxis": "x",
           "y": [
            43
           ],
           "yaxis": "y"
          },
          {
           "alignmentgroup": "True",
           "hovertemplate": "Industry=%{x}<br>Year-Month=2022-12<br>Sum=%{y}<extra></extra>",
           "ids": [
            "Extraterritorial Organisations"
           ],
           "legendgroup": "Extraterritorial Organisations",
           "marker": {
            "color": "#FF97FF",
            "pattern": {
             "shape": ""
            }
           },
           "name": "Extraterritorial Organisations",
           "offsetgroup": "Extraterritorial Organisations",
           "orientation": "v",
           "showlegend": true,
           "textposition": "auto",
           "type": "bar",
           "x": [
            "Extraterritorial Organisations"
           ],
           "xaxis": "x",
           "y": [
            139
           ],
           "yaxis": "y"
          },
          {
           "alignmentgroup": "True",
           "hovertemplate": "Industry=%{x}<br>Year-Month=2022-12<br>Sum=%{y}<extra></extra>",
           "ids": [
            "Financial & Insurance"
           ],
           "legendgroup": "Financial & Insurance",
           "marker": {
            "color": "#FECB52",
            "pattern": {
             "shape": ""
            }
           },
           "name": "Financial & Insurance",
           "offsetgroup": "Financial & Insurance",
           "orientation": "v",
           "showlegend": true,
           "textposition": "auto",
           "type": "bar",
           "x": [
            "Financial & Insurance"
           ],
           "xaxis": "x",
           "y": [
            379
           ],
           "yaxis": "y"
          },
          {
           "alignmentgroup": "True",
           "hovertemplate": "Industry=%{x}<br>Year-Month=2022-12<br>Sum=%{y}<extra></extra>",
           "ids": [
            "Health & Social Work"
           ],
           "legendgroup": "Health & Social Work",
           "marker": {
            "color": "#636efa",
            "pattern": {
             "shape": ""
            }
           },
           "name": "Health & Social Work",
           "offsetgroup": "Health & Social Work",
           "orientation": "v",
           "showlegend": true,
           "textposition": "auto",
           "type": "bar",
           "x": [
            "Health & Social Work"
           ],
           "xaxis": "x",
           "y": [
            485
           ],
           "yaxis": "y"
          },
          {
           "alignmentgroup": "True",
           "hovertemplate": "Industry=%{x}<br>Year-Month=2022-12<br>Sum=%{y}<extra></extra>",
           "ids": [
            "Households as Employers"
           ],
           "legendgroup": "Households as Employers",
           "marker": {
            "color": "#EF553B",
            "pattern": {
             "shape": ""
            }
           },
           "name": "Households as Employers",
           "offsetgroup": "Households as Employers",
           "orientation": "v",
           "showlegend": true,
           "textposition": "auto",
           "type": "bar",
           "x": [
            "Households as Employers"
           ],
           "xaxis": "x",
           "y": [
            79
           ],
           "yaxis": "y"
          },
          {
           "alignmentgroup": "True",
           "hovertemplate": "Industry=%{x}<br>Year-Month=2022-12<br>Sum=%{y}<extra></extra>",
           "ids": [
            "Information & Communication"
           ],
           "legendgroup": "Information & Communication",
           "marker": {
            "color": "#00cc96",
            "pattern": {
             "shape": ""
            }
           },
           "name": "Information & Communication",
           "offsetgroup": "Information & Communication",
           "orientation": "v",
           "showlegend": true,
           "textposition": "auto",
           "type": "bar",
           "x": [
            "Information & Communication"
           ],
           "xaxis": "x",
           "y": [
            701
           ],
           "yaxis": "y"
          },
          {
           "alignmentgroup": "True",
           "hovertemplate": "Industry=%{x}<br>Year-Month=2022-12<br>Sum=%{y}<extra></extra>",
           "ids": [
            "Manufacturing"
           ],
           "legendgroup": "Manufacturing",
           "marker": {
            "color": "#ab63fa",
            "pattern": {
             "shape": ""
            }
           },
           "name": "Manufacturing",
           "offsetgroup": "Manufacturing",
           "orientation": "v",
           "showlegend": true,
           "textposition": "auto",
           "type": "bar",
           "x": [
            "Manufacturing"
           ],
           "xaxis": "x",
           "y": [
            421
           ],
           "yaxis": "y"
          },
          {
           "alignmentgroup": "True",
           "hovertemplate": "Industry=%{x}<br>Year-Month=2022-12<br>Sum=%{y}<extra></extra>",
           "ids": [
            "Mining & Quarrying"
           ],
           "legendgroup": "Mining & Quarrying",
           "marker": {
            "color": "#FFA15A",
            "pattern": {
             "shape": ""
            }
           },
           "name": "Mining & Quarrying",
           "offsetgroup": "Mining & Quarrying",
           "orientation": "v",
           "showlegend": true,
           "textposition": "auto",
           "type": "bar",
           "x": [
            "Mining & Quarrying"
           ],
           "xaxis": "x",
           "y": [
            11
           ],
           "yaxis": "y"
          },
          {
           "alignmentgroup": "True",
           "hovertemplate": "Industry=%{x}<br>Year-Month=2022-12<br>Sum=%{y}<extra></extra>",
           "ids": [
            "Other Services"
           ],
           "legendgroup": "Other Services",
           "marker": {
            "color": "#19d3f3",
            "pattern": {
             "shape": ""
            }
           },
           "name": "Other Services",
           "offsetgroup": "Other Services",
           "orientation": "v",
           "showlegend": true,
           "textposition": "auto",
           "type": "bar",
           "x": [
            "Other Services"
           ],
           "xaxis": "x",
           "y": [
            518
           ],
           "yaxis": "y"
          },
          {
           "alignmentgroup": "True",
           "hovertemplate": "Industry=%{x}<br>Year-Month=2022-12<br>Sum=%{y}<extra></extra>",
           "ids": [
            "Professional, Scientific & Technical"
           ],
           "legendgroup": "Professional, Scientific & Technical",
           "marker": {
            "color": "#FF6692",
            "pattern": {
             "shape": ""
            }
           },
           "name": "Professional, Scientific & Technical",
           "offsetgroup": "Professional, Scientific & Technical",
           "orientation": "v",
           "showlegend": true,
           "textposition": "auto",
           "type": "bar",
           "x": [
            "Professional, Scientific & Technical"
           ],
           "xaxis": "x",
           "y": [
            966
           ],
           "yaxis": "y"
          },
          {
           "alignmentgroup": "True",
           "hovertemplate": "Industry=%{x}<br>Year-Month=2022-12<br>Sum=%{y}<extra></extra>",
           "ids": [
            "Real Estate"
           ],
           "legendgroup": "Real Estate",
           "marker": {
            "color": "#B6E880",
            "pattern": {
             "shape": ""
            }
           },
           "name": "Real Estate",
           "offsetgroup": "Real Estate",
           "orientation": "v",
           "showlegend": true,
           "textposition": "auto",
           "type": "bar",
           "x": [
            "Real Estate"
           ],
           "xaxis": "x",
           "y": [
            912
           ],
           "yaxis": "y"
          },
          {
           "alignmentgroup": "True",
           "hovertemplate": "Industry=%{x}<br>Year-Month=2022-12<br>Sum=%{y}<extra></extra>",
           "ids": [
            "Transportation & Storage"
           ],
           "legendgroup": "Transportation & Storage",
           "marker": {
            "color": "#FF97FF",
            "pattern": {
             "shape": ""
            }
           },
           "name": "Transportation & Storage",
           "offsetgroup": "Transportation & Storage",
           "orientation": "v",
           "showlegend": true,
           "textposition": "auto",
           "type": "bar",
           "x": [
            "Transportation & Storage"
           ],
           "xaxis": "x",
           "y": [
            398
           ],
           "yaxis": "y"
          },
          {
           "alignmentgroup": "True",
           "hovertemplate": "Industry=%{x}<br>Year-Month=2022-12<br>Sum=%{y}<extra></extra>",
           "ids": [
            "Water Supply, Sewerage, Waste Management"
           ],
           "legendgroup": "Water Supply, Sewerage, Waste Management",
           "marker": {
            "color": "#FECB52",
            "pattern": {
             "shape": ""
            }
           },
           "name": "Water Supply, Sewerage, Waste Management",
           "offsetgroup": "Water Supply, Sewerage, Waste Management",
           "orientation": "v",
           "showlegend": true,
           "textposition": "auto",
           "type": "bar",
           "x": [
            "Water Supply, Sewerage, Waste Management"
           ],
           "xaxis": "x",
           "y": [
            48
           ],
           "yaxis": "y"
          },
          {
           "alignmentgroup": "True",
           "hovertemplate": "Industry=%{x}<br>Year-Month=2022-12<br>Sum=%{y}<extra></extra>",
           "ids": [
            "Wholesale & Retail"
           ],
           "legendgroup": "Wholesale & Retail",
           "marker": {
            "color": "#636efa",
            "pattern": {
             "shape": ""
            }
           },
           "name": "Wholesale & Retail",
           "offsetgroup": "Wholesale & Retail",
           "orientation": "v",
           "showlegend": true,
           "textposition": "auto",
           "type": "bar",
           "x": [
            "Wholesale & Retail"
           ],
           "xaxis": "x",
           "y": [
            2075
           ],
           "yaxis": "y"
          }
         ],
         "name": "2022-12"
        }
       ],
       "layout": {
        "barmode": "relative",
        "font": {
         "color": "Grey",
         "family": "Futura",
         "size": 8
        },
        "height": 600,
        "legend": {
         "title": {
          "text": "Industry"
         },
         "tracegroupgap": 0
        },
        "paper_bgcolor": "#ededed",
        "sliders": [
         {
          "active": 0,
          "currentvalue": {
           "prefix": "Year-Month="
          },
          "len": 0.9,
          "pad": {
           "b": 10,
           "t": 60
          },
          "steps": [
           {
            "args": [
             [
              "2020-01"
             ],
             {
              "frame": {
               "duration": 0,
               "redraw": true
              },
              "fromcurrent": true,
              "mode": "immediate",
              "transition": {
               "duration": 0,
               "easing": "linear"
              }
             }
            ],
            "label": "2020-01",
            "method": "animate"
           },
           {
            "args": [
             [
              "2020-02"
             ],
             {
              "frame": {
               "duration": 0,
               "redraw": true
              },
              "fromcurrent": true,
              "mode": "immediate",
              "transition": {
               "duration": 0,
               "easing": "linear"
              }
             }
            ],
            "label": "2020-02",
            "method": "animate"
           },
           {
            "args": [
             [
              "2020-03"
             ],
             {
              "frame": {
               "duration": 0,
               "redraw": true
              },
              "fromcurrent": true,
              "mode": "immediate",
              "transition": {
               "duration": 0,
               "easing": "linear"
              }
             }
            ],
            "label": "2020-03",
            "method": "animate"
           },
           {
            "args": [
             [
              "2020-04"
             ],
             {
              "frame": {
               "duration": 0,
               "redraw": true
              },
              "fromcurrent": true,
              "mode": "immediate",
              "transition": {
               "duration": 0,
               "easing": "linear"
              }
             }
            ],
            "label": "2020-04",
            "method": "animate"
           },
           {
            "args": [
             [
              "2020-05"
             ],
             {
              "frame": {
               "duration": 0,
               "redraw": true
              },
              "fromcurrent": true,
              "mode": "immediate",
              "transition": {
               "duration": 0,
               "easing": "linear"
              }
             }
            ],
            "label": "2020-05",
            "method": "animate"
           },
           {
            "args": [
             [
              "2020-06"
             ],
             {
              "frame": {
               "duration": 0,
               "redraw": true
              },
              "fromcurrent": true,
              "mode": "immediate",
              "transition": {
               "duration": 0,
               "easing": "linear"
              }
             }
            ],
            "label": "2020-06",
            "method": "animate"
           },
           {
            "args": [
             [
              "2020-07"
             ],
             {
              "frame": {
               "duration": 0,
               "redraw": true
              },
              "fromcurrent": true,
              "mode": "immediate",
              "transition": {
               "duration": 0,
               "easing": "linear"
              }
             }
            ],
            "label": "2020-07",
            "method": "animate"
           },
           {
            "args": [
             [
              "2020-08"
             ],
             {
              "frame": {
               "duration": 0,
               "redraw": true
              },
              "fromcurrent": true,
              "mode": "immediate",
              "transition": {
               "duration": 0,
               "easing": "linear"
              }
             }
            ],
            "label": "2020-08",
            "method": "animate"
           },
           {
            "args": [
             [
              "2020-09"
             ],
             {
              "frame": {
               "duration": 0,
               "redraw": true
              },
              "fromcurrent": true,
              "mode": "immediate",
              "transition": {
               "duration": 0,
               "easing": "linear"
              }
             }
            ],
            "label": "2020-09",
            "method": "animate"
           },
           {
            "args": [
             [
              "2020-10"
             ],
             {
              "frame": {
               "duration": 0,
               "redraw": true
              },
              "fromcurrent": true,
              "mode": "immediate",
              "transition": {
               "duration": 0,
               "easing": "linear"
              }
             }
            ],
            "label": "2020-10",
            "method": "animate"
           },
           {
            "args": [
             [
              "2020-11"
             ],
             {
              "frame": {
               "duration": 0,
               "redraw": true
              },
              "fromcurrent": true,
              "mode": "immediate",
              "transition": {
               "duration": 0,
               "easing": "linear"
              }
             }
            ],
            "label": "2020-11",
            "method": "animate"
           },
           {
            "args": [
             [
              "2020-12"
             ],
             {
              "frame": {
               "duration": 0,
               "redraw": true
              },
              "fromcurrent": true,
              "mode": "immediate",
              "transition": {
               "duration": 0,
               "easing": "linear"
              }
             }
            ],
            "label": "2020-12",
            "method": "animate"
           },
           {
            "args": [
             [
              "2021-01"
             ],
             {
              "frame": {
               "duration": 0,
               "redraw": true
              },
              "fromcurrent": true,
              "mode": "immediate",
              "transition": {
               "duration": 0,
               "easing": "linear"
              }
             }
            ],
            "label": "2021-01",
            "method": "animate"
           },
           {
            "args": [
             [
              "2021-02"
             ],
             {
              "frame": {
               "duration": 0,
               "redraw": true
              },
              "fromcurrent": true,
              "mode": "immediate",
              "transition": {
               "duration": 0,
               "easing": "linear"
              }
             }
            ],
            "label": "2021-02",
            "method": "animate"
           },
           {
            "args": [
             [
              "2021-03"
             ],
             {
              "frame": {
               "duration": 0,
               "redraw": true
              },
              "fromcurrent": true,
              "mode": "immediate",
              "transition": {
               "duration": 0,
               "easing": "linear"
              }
             }
            ],
            "label": "2021-03",
            "method": "animate"
           },
           {
            "args": [
             [
              "2021-04"
             ],
             {
              "frame": {
               "duration": 0,
               "redraw": true
              },
              "fromcurrent": true,
              "mode": "immediate",
              "transition": {
               "duration": 0,
               "easing": "linear"
              }
             }
            ],
            "label": "2021-04",
            "method": "animate"
           },
           {
            "args": [
             [
              "2021-05"
             ],
             {
              "frame": {
               "duration": 0,
               "redraw": true
              },
              "fromcurrent": true,
              "mode": "immediate",
              "transition": {
               "duration": 0,
               "easing": "linear"
              }
             }
            ],
            "label": "2021-05",
            "method": "animate"
           },
           {
            "args": [
             [
              "2021-06"
             ],
             {
              "frame": {
               "duration": 0,
               "redraw": true
              },
              "fromcurrent": true,
              "mode": "immediate",
              "transition": {
               "duration": 0,
               "easing": "linear"
              }
             }
            ],
            "label": "2021-06",
            "method": "animate"
           },
           {
            "args": [
             [
              "2021-07"
             ],
             {
              "frame": {
               "duration": 0,
               "redraw": true
              },
              "fromcurrent": true,
              "mode": "immediate",
              "transition": {
               "duration": 0,
               "easing": "linear"
              }
             }
            ],
            "label": "2021-07",
            "method": "animate"
           },
           {
            "args": [
             [
              "2021-08"
             ],
             {
              "frame": {
               "duration": 0,
               "redraw": true
              },
              "fromcurrent": true,
              "mode": "immediate",
              "transition": {
               "duration": 0,
               "easing": "linear"
              }
             }
            ],
            "label": "2021-08",
            "method": "animate"
           },
           {
            "args": [
             [
              "2021-09"
             ],
             {
              "frame": {
               "duration": 0,
               "redraw": true
              },
              "fromcurrent": true,
              "mode": "immediate",
              "transition": {
               "duration": 0,
               "easing": "linear"
              }
             }
            ],
            "label": "2021-09",
            "method": "animate"
           },
           {
            "args": [
             [
              "2021-10"
             ],
             {
              "frame": {
               "duration": 0,
               "redraw": true
              },
              "fromcurrent": true,
              "mode": "immediate",
              "transition": {
               "duration": 0,
               "easing": "linear"
              }
             }
            ],
            "label": "2021-10",
            "method": "animate"
           },
           {
            "args": [
             [
              "2021-11"
             ],
             {
              "frame": {
               "duration": 0,
               "redraw": true
              },
              "fromcurrent": true,
              "mode": "immediate",
              "transition": {
               "duration": 0,
               "easing": "linear"
              }
             }
            ],
            "label": "2021-11",
            "method": "animate"
           },
           {
            "args": [
             [
              "2021-12"
             ],
             {
              "frame": {
               "duration": 0,
               "redraw": true
              },
              "fromcurrent": true,
              "mode": "immediate",
              "transition": {
               "duration": 0,
               "easing": "linear"
              }
             }
            ],
            "label": "2021-12",
            "method": "animate"
           },
           {
            "args": [
             [
              "2022-01"
             ],
             {
              "frame": {
               "duration": 0,
               "redraw": true
              },
              "fromcurrent": true,
              "mode": "immediate",
              "transition": {
               "duration": 0,
               "easing": "linear"
              }
             }
            ],
            "label": "2022-01",
            "method": "animate"
           },
           {
            "args": [
             [
              "2022-02"
             ],
             {
              "frame": {
               "duration": 0,
               "redraw": true
              },
              "fromcurrent": true,
              "mode": "immediate",
              "transition": {
               "duration": 0,
               "easing": "linear"
              }
             }
            ],
            "label": "2022-02",
            "method": "animate"
           },
           {
            "args": [
             [
              "2022-03"
             ],
             {
              "frame": {
               "duration": 0,
               "redraw": true
              },
              "fromcurrent": true,
              "mode": "immediate",
              "transition": {
               "duration": 0,
               "easing": "linear"
              }
             }
            ],
            "label": "2022-03",
            "method": "animate"
           },
           {
            "args": [
             [
              "2022-04"
             ],
             {
              "frame": {
               "duration": 0,
               "redraw": true
              },
              "fromcurrent": true,
              "mode": "immediate",
              "transition": {
               "duration": 0,
               "easing": "linear"
              }
             }
            ],
            "label": "2022-04",
            "method": "animate"
           },
           {
            "args": [
             [
              "2022-05"
             ],
             {
              "frame": {
               "duration": 0,
               "redraw": true
              },
              "fromcurrent": true,
              "mode": "immediate",
              "transition": {
               "duration": 0,
               "easing": "linear"
              }
             }
            ],
            "label": "2022-05",
            "method": "animate"
           },
           {
            "args": [
             [
              "2022-06"
             ],
             {
              "frame": {
               "duration": 0,
               "redraw": true
              },
              "fromcurrent": true,
              "mode": "immediate",
              "transition": {
               "duration": 0,
               "easing": "linear"
              }
             }
            ],
            "label": "2022-06",
            "method": "animate"
           },
           {
            "args": [
             [
              "2022-07"
             ],
             {
              "frame": {
               "duration": 0,
               "redraw": true
              },
              "fromcurrent": true,
              "mode": "immediate",
              "transition": {
               "duration": 0,
               "easing": "linear"
              }
             }
            ],
            "label": "2022-07",
            "method": "animate"
           },
           {
            "args": [
             [
              "2022-08"
             ],
             {
              "frame": {
               "duration": 0,
               "redraw": true
              },
              "fromcurrent": true,
              "mode": "immediate",
              "transition": {
               "duration": 0,
               "easing": "linear"
              }
             }
            ],
            "label": "2022-08",
            "method": "animate"
           },
           {
            "args": [
             [
              "2022-09"
             ],
             {
              "frame": {
               "duration": 0,
               "redraw": true
              },
              "fromcurrent": true,
              "mode": "immediate",
              "transition": {
               "duration": 0,
               "easing": "linear"
              }
             }
            ],
            "label": "2022-09",
            "method": "animate"
           },
           {
            "args": [
             [
              "2022-10"
             ],
             {
              "frame": {
               "duration": 0,
               "redraw": true
              },
              "fromcurrent": true,
              "mode": "immediate",
              "transition": {
               "duration": 0,
               "easing": "linear"
              }
             }
            ],
            "label": "2022-10",
            "method": "animate"
           },
           {
            "args": [
             [
              "2022-11"
             ],
             {
              "frame": {
               "duration": 0,
               "redraw": true
              },
              "fromcurrent": true,
              "mode": "immediate",
              "transition": {
               "duration": 0,
               "easing": "linear"
              }
             }
            ],
            "label": "2022-11",
            "method": "animate"
           },
           {
            "args": [
             [
              "2022-12"
             ],
             {
              "frame": {
               "duration": 0,
               "redraw": true
              },
              "fromcurrent": true,
              "mode": "immediate",
              "transition": {
               "duration": 0,
               "easing": "linear"
              }
             }
            ],
            "label": "2022-12",
            "method": "animate"
           }
          ],
          "x": 0.1,
          "xanchor": "left",
          "y": 0,
          "yanchor": "top"
         }
        ],
        "template": {
         "data": {
          "bar": [
           {
            "error_x": {
             "color": "#2a3f5f"
            },
            "error_y": {
             "color": "#2a3f5f"
            },
            "marker": {
             "line": {
              "color": "#E5ECF6",
              "width": 0.5
             },
             "pattern": {
              "fillmode": "overlay",
              "size": 10,
              "solidity": 0.2
             }
            },
            "type": "bar"
           }
          ],
          "barpolar": [
           {
            "marker": {
             "line": {
              "color": "#E5ECF6",
              "width": 0.5
             },
             "pattern": {
              "fillmode": "overlay",
              "size": 10,
              "solidity": 0.2
             }
            },
            "type": "barpolar"
           }
          ],
          "carpet": [
           {
            "aaxis": {
             "endlinecolor": "#2a3f5f",
             "gridcolor": "white",
             "linecolor": "white",
             "minorgridcolor": "white",
             "startlinecolor": "#2a3f5f"
            },
            "baxis": {
             "endlinecolor": "#2a3f5f",
             "gridcolor": "white",
             "linecolor": "white",
             "minorgridcolor": "white",
             "startlinecolor": "#2a3f5f"
            },
            "type": "carpet"
           }
          ],
          "choropleth": [
           {
            "colorbar": {
             "outlinewidth": 0,
             "ticks": ""
            },
            "type": "choropleth"
           }
          ],
          "contour": [
           {
            "colorbar": {
             "outlinewidth": 0,
             "ticks": ""
            },
            "colorscale": [
             [
              0,
              "#0d0887"
             ],
             [
              0.1111111111111111,
              "#46039f"
             ],
             [
              0.2222222222222222,
              "#7201a8"
             ],
             [
              0.3333333333333333,
              "#9c179e"
             ],
             [
              0.4444444444444444,
              "#bd3786"
             ],
             [
              0.5555555555555556,
              "#d8576b"
             ],
             [
              0.6666666666666666,
              "#ed7953"
             ],
             [
              0.7777777777777778,
              "#fb9f3a"
             ],
             [
              0.8888888888888888,
              "#fdca26"
             ],
             [
              1,
              "#f0f921"
             ]
            ],
            "type": "contour"
           }
          ],
          "contourcarpet": [
           {
            "colorbar": {
             "outlinewidth": 0,
             "ticks": ""
            },
            "type": "contourcarpet"
           }
          ],
          "heatmap": [
           {
            "colorbar": {
             "outlinewidth": 0,
             "ticks": ""
            },
            "colorscale": [
             [
              0,
              "#0d0887"
             ],
             [
              0.1111111111111111,
              "#46039f"
             ],
             [
              0.2222222222222222,
              "#7201a8"
             ],
             [
              0.3333333333333333,
              "#9c179e"
             ],
             [
              0.4444444444444444,
              "#bd3786"
             ],
             [
              0.5555555555555556,
              "#d8576b"
             ],
             [
              0.6666666666666666,
              "#ed7953"
             ],
             [
              0.7777777777777778,
              "#fb9f3a"
             ],
             [
              0.8888888888888888,
              "#fdca26"
             ],
             [
              1,
              "#f0f921"
             ]
            ],
            "type": "heatmap"
           }
          ],
          "heatmapgl": [
           {
            "colorbar": {
             "outlinewidth": 0,
             "ticks": ""
            },
            "colorscale": [
             [
              0,
              "#0d0887"
             ],
             [
              0.1111111111111111,
              "#46039f"
             ],
             [
              0.2222222222222222,
              "#7201a8"
             ],
             [
              0.3333333333333333,
              "#9c179e"
             ],
             [
              0.4444444444444444,
              "#bd3786"
             ],
             [
              0.5555555555555556,
              "#d8576b"
             ],
             [
              0.6666666666666666,
              "#ed7953"
             ],
             [
              0.7777777777777778,
              "#fb9f3a"
             ],
             [
              0.8888888888888888,
              "#fdca26"
             ],
             [
              1,
              "#f0f921"
             ]
            ],
            "type": "heatmapgl"
           }
          ],
          "histogram": [
           {
            "marker": {
             "pattern": {
              "fillmode": "overlay",
              "size": 10,
              "solidity": 0.2
             }
            },
            "type": "histogram"
           }
          ],
          "histogram2d": [
           {
            "colorbar": {
             "outlinewidth": 0,
             "ticks": ""
            },
            "colorscale": [
             [
              0,
              "#0d0887"
             ],
             [
              0.1111111111111111,
              "#46039f"
             ],
             [
              0.2222222222222222,
              "#7201a8"
             ],
             [
              0.3333333333333333,
              "#9c179e"
             ],
             [
              0.4444444444444444,
              "#bd3786"
             ],
             [
              0.5555555555555556,
              "#d8576b"
             ],
             [
              0.6666666666666666,
              "#ed7953"
             ],
             [
              0.7777777777777778,
              "#fb9f3a"
             ],
             [
              0.8888888888888888,
              "#fdca26"
             ],
             [
              1,
              "#f0f921"
             ]
            ],
            "type": "histogram2d"
           }
          ],
          "histogram2dcontour": [
           {
            "colorbar": {
             "outlinewidth": 0,
             "ticks": ""
            },
            "colorscale": [
             [
              0,
              "#0d0887"
             ],
             [
              0.1111111111111111,
              "#46039f"
             ],
             [
              0.2222222222222222,
              "#7201a8"
             ],
             [
              0.3333333333333333,
              "#9c179e"
             ],
             [
              0.4444444444444444,
              "#bd3786"
             ],
             [
              0.5555555555555556,
              "#d8576b"
             ],
             [
              0.6666666666666666,
              "#ed7953"
             ],
             [
              0.7777777777777778,
              "#fb9f3a"
             ],
             [
              0.8888888888888888,
              "#fdca26"
             ],
             [
              1,
              "#f0f921"
             ]
            ],
            "type": "histogram2dcontour"
           }
          ],
          "mesh3d": [
           {
            "colorbar": {
             "outlinewidth": 0,
             "ticks": ""
            },
            "type": "mesh3d"
           }
          ],
          "parcoords": [
           {
            "line": {
             "colorbar": {
              "outlinewidth": 0,
              "ticks": ""
             }
            },
            "type": "parcoords"
           }
          ],
          "pie": [
           {
            "automargin": true,
            "type": "pie"
           }
          ],
          "scatter": [
           {
            "fillpattern": {
             "fillmode": "overlay",
             "size": 10,
             "solidity": 0.2
            },
            "type": "scatter"
           }
          ],
          "scatter3d": [
           {
            "line": {
             "colorbar": {
              "outlinewidth": 0,
              "ticks": ""
             }
            },
            "marker": {
             "colorbar": {
              "outlinewidth": 0,
              "ticks": ""
             }
            },
            "type": "scatter3d"
           }
          ],
          "scattercarpet": [
           {
            "marker": {
             "colorbar": {
              "outlinewidth": 0,
              "ticks": ""
             }
            },
            "type": "scattercarpet"
           }
          ],
          "scattergeo": [
           {
            "marker": {
             "colorbar": {
              "outlinewidth": 0,
              "ticks": ""
             }
            },
            "type": "scattergeo"
           }
          ],
          "scattergl": [
           {
            "marker": {
             "colorbar": {
              "outlinewidth": 0,
              "ticks": ""
             }
            },
            "type": "scattergl"
           }
          ],
          "scattermapbox": [
           {
            "marker": {
             "colorbar": {
              "outlinewidth": 0,
              "ticks": ""
             }
            },
            "type": "scattermapbox"
           }
          ],
          "scatterpolar": [
           {
            "marker": {
             "colorbar": {
              "outlinewidth": 0,
              "ticks": ""
             }
            },
            "type": "scatterpolar"
           }
          ],
          "scatterpolargl": [
           {
            "marker": {
             "colorbar": {
              "outlinewidth": 0,
              "ticks": ""
             }
            },
            "type": "scatterpolargl"
           }
          ],
          "scatterternary": [
           {
            "marker": {
             "colorbar": {
              "outlinewidth": 0,
              "ticks": ""
             }
            },
            "type": "scatterternary"
           }
          ],
          "surface": [
           {
            "colorbar": {
             "outlinewidth": 0,
             "ticks": ""
            },
            "colorscale": [
             [
              0,
              "#0d0887"
             ],
             [
              0.1111111111111111,
              "#46039f"
             ],
             [
              0.2222222222222222,
              "#7201a8"
             ],
             [
              0.3333333333333333,
              "#9c179e"
             ],
             [
              0.4444444444444444,
              "#bd3786"
             ],
             [
              0.5555555555555556,
              "#d8576b"
             ],
             [
              0.6666666666666666,
              "#ed7953"
             ],
             [
              0.7777777777777778,
              "#fb9f3a"
             ],
             [
              0.8888888888888888,
              "#fdca26"
             ],
             [
              1,
              "#f0f921"
             ]
            ],
            "type": "surface"
           }
          ],
          "table": [
           {
            "cells": {
             "fill": {
              "color": "#EBF0F8"
             },
             "line": {
              "color": "white"
             }
            },
            "header": {
             "fill": {
              "color": "#C8D4E3"
             },
             "line": {
              "color": "white"
             }
            },
            "type": "table"
           }
          ]
         },
         "layout": {
          "annotationdefaults": {
           "arrowcolor": "#2a3f5f",
           "arrowhead": 0,
           "arrowwidth": 1
          },
          "autotypenumbers": "strict",
          "coloraxis": {
           "colorbar": {
            "outlinewidth": 0,
            "ticks": ""
           }
          },
          "colorscale": {
           "diverging": [
            [
             0,
             "#8e0152"
            ],
            [
             0.1,
             "#c51b7d"
            ],
            [
             0.2,
             "#de77ae"
            ],
            [
             0.3,
             "#f1b6da"
            ],
            [
             0.4,
             "#fde0ef"
            ],
            [
             0.5,
             "#f7f7f7"
            ],
            [
             0.6,
             "#e6f5d0"
            ],
            [
             0.7,
             "#b8e186"
            ],
            [
             0.8,
             "#7fbc41"
            ],
            [
             0.9,
             "#4d9221"
            ],
            [
             1,
             "#276419"
            ]
           ],
           "sequential": [
            [
             0,
             "#0d0887"
            ],
            [
             0.1111111111111111,
             "#46039f"
            ],
            [
             0.2222222222222222,
             "#7201a8"
            ],
            [
             0.3333333333333333,
             "#9c179e"
            ],
            [
             0.4444444444444444,
             "#bd3786"
            ],
            [
             0.5555555555555556,
             "#d8576b"
            ],
            [
             0.6666666666666666,
             "#ed7953"
            ],
            [
             0.7777777777777778,
             "#fb9f3a"
            ],
            [
             0.8888888888888888,
             "#fdca26"
            ],
            [
             1,
             "#f0f921"
            ]
           ],
           "sequentialminus": [
            [
             0,
             "#0d0887"
            ],
            [
             0.1111111111111111,
             "#46039f"
            ],
            [
             0.2222222222222222,
             "#7201a8"
            ],
            [
             0.3333333333333333,
             "#9c179e"
            ],
            [
             0.4444444444444444,
             "#bd3786"
            ],
            [
             0.5555555555555556,
             "#d8576b"
            ],
            [
             0.6666666666666666,
             "#ed7953"
            ],
            [
             0.7777777777777778,
             "#fb9f3a"
            ],
            [
             0.8888888888888888,
             "#fdca26"
            ],
            [
             1,
             "#f0f921"
            ]
           ]
          },
          "colorway": [
           "#636efa",
           "#EF553B",
           "#00cc96",
           "#ab63fa",
           "#FFA15A",
           "#19d3f3",
           "#FF6692",
           "#B6E880",
           "#FF97FF",
           "#FECB52"
          ],
          "font": {
           "color": "#2a3f5f"
          },
          "geo": {
           "bgcolor": "white",
           "lakecolor": "white",
           "landcolor": "#E5ECF6",
           "showlakes": true,
           "showland": true,
           "subunitcolor": "white"
          },
          "hoverlabel": {
           "align": "left"
          },
          "hovermode": "closest",
          "mapbox": {
           "style": "light"
          },
          "paper_bgcolor": "white",
          "plot_bgcolor": "#E5ECF6",
          "polar": {
           "angularaxis": {
            "gridcolor": "white",
            "linecolor": "white",
            "ticks": ""
           },
           "bgcolor": "#E5ECF6",
           "radialaxis": {
            "gridcolor": "white",
            "linecolor": "white",
            "ticks": ""
           }
          },
          "scene": {
           "xaxis": {
            "backgroundcolor": "#E5ECF6",
            "gridcolor": "white",
            "gridwidth": 2,
            "linecolor": "white",
            "showbackground": true,
            "ticks": "",
            "zerolinecolor": "white"
           },
           "yaxis": {
            "backgroundcolor": "#E5ECF6",
            "gridcolor": "white",
            "gridwidth": 2,
            "linecolor": "white",
            "showbackground": true,
            "ticks": "",
            "zerolinecolor": "white"
           },
           "zaxis": {
            "backgroundcolor": "#E5ECF6",
            "gridcolor": "white",
            "gridwidth": 2,
            "linecolor": "white",
            "showbackground": true,
            "ticks": "",
            "zerolinecolor": "white"
           }
          },
          "shapedefaults": {
           "line": {
            "color": "#2a3f5f"
           }
          },
          "ternary": {
           "aaxis": {
            "gridcolor": "white",
            "linecolor": "white",
            "ticks": ""
           },
           "baxis": {
            "gridcolor": "white",
            "linecolor": "white",
            "ticks": ""
           },
           "bgcolor": "#E5ECF6",
           "caxis": {
            "gridcolor": "white",
            "linecolor": "white",
            "ticks": ""
           }
          },
          "title": {
           "x": 0.05
          },
          "xaxis": {
           "automargin": true,
           "gridcolor": "white",
           "linecolor": "white",
           "ticks": "",
           "title": {
            "standoff": 15
           },
           "zerolinecolor": "white",
           "zerolinewidth": 2
          },
          "yaxis": {
           "automargin": true,
           "gridcolor": "white",
           "linecolor": "white",
           "ticks": "",
           "title": {
            "standoff": 15
           },
           "zerolinecolor": "white",
           "zerolinewidth": 2
          }
         }
        },
        "title": {
         "font": {
          "color": "black",
          "family": "Futura",
          "size": 20
         },
         "text": "<b>CHANGES OF ACTIVE COMPANIES AMONGST INDUSTRIES DURING COVID-19<b>",
         "x": 0.5
        },
        "updatemenus": [
         {
          "buttons": [
           {
            "args": [
             null,
             {
              "frame": {
               "duration": 500,
               "redraw": true
              },
              "fromcurrent": true,
              "mode": "immediate",
              "transition": {
               "duration": 500,
               "easing": "linear"
              }
             }
            ],
            "label": "&#9654;",
            "method": "animate"
           },
           {
            "args": [
             [
              null
             ],
             {
              "frame": {
               "duration": 0,
               "redraw": true
              },
              "fromcurrent": true,
              "mode": "immediate",
              "transition": {
               "duration": 0,
               "easing": "linear"
              }
             }
            ],
            "label": "&#9724;",
            "method": "animate"
           }
          ],
          "direction": "left",
          "pad": {
           "r": 10,
           "t": 70
          },
          "showactive": false,
          "type": "buttons",
          "x": 0.1,
          "xanchor": "right",
          "y": 0,
          "yanchor": "top"
         }
        ],
        "width": 1000,
        "xaxis": {
         "anchor": "y",
         "categoryarray": [
          "Accommodation & Food",
          "Administration & Security",
          "Administrative Servives",
          "Agriculture, Forestry & Fishing",
          "Arts & Entertainment",
          "Construction",
          "Education",
          "Energy Supply",
          "Extraterritorial Organisations",
          "Financial & Insurance",
          "Health & Social Work",
          "Households as Employers",
          "Information & Communication",
          "Manufacturing",
          "Mining & Quarrying",
          "Other Services",
          "Professional, Scientific & Technical",
          "Real Estate",
          "Transportation & Storage",
          "Water Supply, Sewerage, Waste Management",
          "Wholesale & Retail"
         ],
         "categoryorder": "array",
         "domain": [
          0,
          1
         ],
         "title": {
          "text": "Industry"
         }
        },
        "yaxis": {
         "anchor": "x",
         "domain": [
          0,
          1
         ],
         "range": [
          0,
          10000
         ],
         "title": {
          "text": "Total Number of Companies <i>(in thousands)</i>"
         }
        }
       }
      }
     },
     "metadata": {},
     "output_type": "display_data"
    }
   ],
   "source": [
    "# Get active and distressed companies\n",
    "active_comp = plot1.loc[plot1['CompanyStatus'] == 'Active', :]\n",
    "\n",
    "# Count the number of companies in each industry\n",
    "size = active_comp.groupby(by=['Year-Month','Year','Industry']).size().reset_index(name='Sum')\n",
    "\n",
    "# Plot\n",
    "bar_fig = go.Figure()\n",
    "\n",
    "bar_fig = px.bar(size, x=\"Industry\", y=\"Sum\", color=\"Industry\",\n",
    "                 animation_frame=\"Year-Month\", animation_group=\"Industry\", \n",
    "                 range_y=[0, 10000],title=\"<b>CHANGES OF ACTIVE COMPANIES AMONGST INDUSTRIES DURING COVID-19<b>\",)\n",
    "\n",
    "bar_fig.update_layout(font=dict(family=\"Futura\", size=8, color=\"Grey\"), \n",
    "                      title_x=0.5,title_font_size=20,title_font_color='black',\n",
    "                      width=1000, height=600,title_font_family=\"Futura\",\n",
    "                      paper_bgcolor=\"#ededed\")\n",
    "\n",
    "# y axis\n",
    "bar_fig.update_yaxes(title=\"Total Number of Companies <i>(in thousands)</i>\")\n",
    "\n",
    "# Save figure \n",
    "bar_fig.write_html('ActiveCompaniesDuringCovid-19.html')\n",
    "\n",
    "# display figure\n",
    "bar_fig.show()"
   ]
  },
  {
   "cell_type": "code",
   "execution_count": 109,
   "metadata": {},
   "outputs": [
    {
     "data": {
      "application/vnd.plotly.v1+json": {
       "config": {
        "plotlyServerURL": "https://plot.ly"
       },
       "data": [
        {
         "hovertemplate": "Industry=Accommodation & Food<br>Year-Month=%{x}<br>Sum=%{y}<extra></extra>",
         "ids": [
          "Accommodation & Food",
          "Accommodation & Food",
          "Accommodation & Food",
          "Accommodation & Food",
          "Accommodation & Food",
          "Accommodation & Food",
          "Accommodation & Food",
          "Accommodation & Food",
          "Accommodation & Food",
          "Accommodation & Food",
          "Accommodation & Food",
          "Accommodation & Food",
          "Accommodation & Food",
          "Accommodation & Food",
          "Accommodation & Food",
          "Accommodation & Food",
          "Accommodation & Food",
          "Accommodation & Food",
          "Accommodation & Food",
          "Accommodation & Food",
          "Accommodation & Food",
          "Accommodation & Food",
          "Accommodation & Food",
          "Accommodation & Food",
          "Accommodation & Food",
          "Accommodation & Food",
          "Accommodation & Food",
          "Accommodation & Food",
          "Accommodation & Food",
          "Accommodation & Food",
          "Accommodation & Food",
          "Accommodation & Food",
          "Accommodation & Food",
          "Accommodation & Food",
          "Accommodation & Food",
          "Accommodation & Food"
         ],
         "legendgroup": "Accommodation & Food",
         "line": {
          "color": "#636efa",
          "dash": "solid"
         },
         "marker": {
          "symbol": "circle"
         },
         "mode": "lines",
         "name": "Accommodation & Food",
         "orientation": "v",
         "showlegend": true,
         "type": "scatter",
         "x": [
          "2020-01",
          "2020-02",
          "2020-03",
          "2020-04",
          "2020-05",
          "2020-06",
          "2020-07",
          "2020-08",
          "2020-09",
          "2020-10",
          "2020-11",
          "2020-12",
          "2021-01",
          "2021-02",
          "2021-03",
          "2021-04",
          "2021-05",
          "2021-06",
          "2021-07",
          "2021-08",
          "2021-09",
          "2021-10",
          "2021-11",
          "2021-12",
          "2022-01",
          "2022-02",
          "2022-03",
          "2022-04",
          "2022-05",
          "2022-06",
          "2022-07",
          "2022-08",
          "2022-09",
          "2022-10",
          "2022-11",
          "2022-12"
         ],
         "xaxis": "x",
         "y": [
          2622,
          2713,
          2178,
          1743,
          2189,
          2878,
          3196,
          2540,
          3138,
          2993,
          2513,
          2027,
          3112,
          3330,
          4263,
          4068,
          3847,
          3850,
          3767,
          4279,
          4378,
          4060,
          3676,
          3412,
          3395,
          2827,
          4068,
          3687,
          3830,
          3808,
          1108,
          855,
          1023,
          1086,
          1050,
          710
         ],
         "yaxis": "y"
        },
        {
         "hovertemplate": "Industry=Administration & Security<br>Year-Month=%{x}<br>Sum=%{y}<extra></extra>",
         "ids": [
          "Administration & Security",
          "Administration & Security",
          "Administration & Security",
          "Administration & Security",
          "Administration & Security",
          "Administration & Security",
          "Administration & Security",
          "Administration & Security",
          "Administration & Security",
          "Administration & Security",
          "Administration & Security",
          "Administration & Security",
          "Administration & Security",
          "Administration & Security",
          "Administration & Security",
          "Administration & Security",
          "Administration & Security",
          "Administration & Security",
          "Administration & Security",
          "Administration & Security",
          "Administration & Security",
          "Administration & Security",
          "Administration & Security",
          "Administration & Security",
          "Administration & Security",
          "Administration & Security",
          "Administration & Security",
          "Administration & Security",
          "Administration & Security",
          "Administration & Security",
          "Administration & Security",
          "Administration & Security",
          "Administration & Security",
          "Administration & Security",
          "Administration & Security",
          "Administration & Security"
         ],
         "legendgroup": "Administration & Security",
         "line": {
          "color": "#EF553B",
          "dash": "solid"
         },
         "marker": {
          "symbol": "circle"
         },
         "mode": "lines",
         "name": "Administration & Security",
         "orientation": "v",
         "showlegend": true,
         "type": "scatter",
         "x": [
          "2020-01",
          "2020-02",
          "2020-03",
          "2020-04",
          "2020-05",
          "2020-06",
          "2020-07",
          "2020-08",
          "2020-09",
          "2020-10",
          "2020-11",
          "2020-12",
          "2021-01",
          "2021-02",
          "2021-03",
          "2021-04",
          "2021-05",
          "2021-06",
          "2021-07",
          "2021-08",
          "2021-09",
          "2021-10",
          "2021-11",
          "2021-12",
          "2022-01",
          "2022-02",
          "2022-03",
          "2022-04",
          "2022-05",
          "2022-06",
          "2022-07",
          "2022-08",
          "2022-09",
          "2022-10",
          "2022-11",
          "2022-12"
         ],
         "xaxis": "x",
         "y": [
          116,
          99,
          91,
          84,
          113,
          126,
          129,
          113,
          116,
          120,
          155,
          105,
          143,
          151,
          156,
          179,
          162,
          146,
          156,
          164,
          195,
          185,
          169,
          161,
          195,
          162,
          188,
          166,
          203,
          217,
          53,
          46,
          52,
          48,
          57,
          37
         ],
         "yaxis": "y"
        },
        {
         "hovertemplate": "Industry=Administrative Servives<br>Year-Month=%{x}<br>Sum=%{y}<extra></extra>",
         "ids": [
          "Administrative Servives",
          "Administrative Servives",
          "Administrative Servives",
          "Administrative Servives",
          "Administrative Servives",
          "Administrative Servives",
          "Administrative Servives",
          "Administrative Servives",
          "Administrative Servives",
          "Administrative Servives",
          "Administrative Servives",
          "Administrative Servives",
          "Administrative Servives",
          "Administrative Servives",
          "Administrative Servives",
          "Administrative Servives",
          "Administrative Servives",
          "Administrative Servives",
          "Administrative Servives",
          "Administrative Servives",
          "Administrative Servives",
          "Administrative Servives",
          "Administrative Servives",
          "Administrative Servives",
          "Administrative Servives",
          "Administrative Servives",
          "Administrative Servives",
          "Administrative Servives",
          "Administrative Servives",
          "Administrative Servives",
          "Administrative Servives",
          "Administrative Servives",
          "Administrative Servives",
          "Administrative Servives",
          "Administrative Servives",
          "Administrative Servives"
         ],
         "legendgroup": "Administrative Servives",
         "line": {
          "color": "#00cc96",
          "dash": "solid"
         },
         "marker": {
          "symbol": "circle"
         },
         "mode": "lines",
         "name": "Administrative Servives",
         "orientation": "v",
         "showlegend": true,
         "type": "scatter",
         "x": [
          "2020-01",
          "2020-02",
          "2020-03",
          "2020-04",
          "2020-05",
          "2020-06",
          "2020-07",
          "2020-08",
          "2020-09",
          "2020-10",
          "2020-11",
          "2020-12",
          "2021-01",
          "2021-02",
          "2021-03",
          "2021-04",
          "2021-05",
          "2021-06",
          "2021-07",
          "2021-08",
          "2021-09",
          "2021-10",
          "2021-11",
          "2021-12",
          "2022-01",
          "2022-02",
          "2022-03",
          "2022-04",
          "2022-05",
          "2022-06",
          "2022-07",
          "2022-08",
          "2022-09",
          "2022-10",
          "2022-11",
          "2022-12"
         ],
         "xaxis": "x",
         "y": [
          2786,
          2851,
          2711,
          2427,
          2714,
          3049,
          3555,
          2889,
          3643,
          3318,
          3148,
          2276,
          3748,
          3749,
          5031,
          4190,
          4174,
          4106,
          4008,
          4296,
          4695,
          4219,
          3739,
          3626,
          3951,
          3038,
          4334,
          3885,
          4278,
          3978,
          1173,
          912,
          1008,
          1196,
          1127,
          811
         ],
         "yaxis": "y"
        },
        {
         "hovertemplate": "Industry=Agriculture, Forestry & Fishing<br>Year-Month=%{x}<br>Sum=%{y}<extra></extra>",
         "ids": [
          "Agriculture, Forestry & Fishing",
          "Agriculture, Forestry & Fishing",
          "Agriculture, Forestry & Fishing",
          "Agriculture, Forestry & Fishing",
          "Agriculture, Forestry & Fishing",
          "Agriculture, Forestry & Fishing",
          "Agriculture, Forestry & Fishing",
          "Agriculture, Forestry & Fishing",
          "Agriculture, Forestry & Fishing",
          "Agriculture, Forestry & Fishing",
          "Agriculture, Forestry & Fishing",
          "Agriculture, Forestry & Fishing",
          "Agriculture, Forestry & Fishing",
          "Agriculture, Forestry & Fishing",
          "Agriculture, Forestry & Fishing",
          "Agriculture, Forestry & Fishing",
          "Agriculture, Forestry & Fishing",
          "Agriculture, Forestry & Fishing",
          "Agriculture, Forestry & Fishing",
          "Agriculture, Forestry & Fishing",
          "Agriculture, Forestry & Fishing",
          "Agriculture, Forestry & Fishing",
          "Agriculture, Forestry & Fishing",
          "Agriculture, Forestry & Fishing",
          "Agriculture, Forestry & Fishing",
          "Agriculture, Forestry & Fishing",
          "Agriculture, Forestry & Fishing",
          "Agriculture, Forestry & Fishing",
          "Agriculture, Forestry & Fishing",
          "Agriculture, Forestry & Fishing",
          "Agriculture, Forestry & Fishing",
          "Agriculture, Forestry & Fishing",
          "Agriculture, Forestry & Fishing",
          "Agriculture, Forestry & Fishing",
          "Agriculture, Forestry & Fishing",
          "Agriculture, Forestry & Fishing"
         ],
         "legendgroup": "Agriculture, Forestry & Fishing",
         "line": {
          "color": "#ab63fa",
          "dash": "solid"
         },
         "marker": {
          "symbol": "circle"
         },
         "mode": "lines",
         "name": "Agriculture, Forestry & Fishing",
         "orientation": "v",
         "showlegend": true,
         "type": "scatter",
         "x": [
          "2020-01",
          "2020-02",
          "2020-03",
          "2020-04",
          "2020-05",
          "2020-06",
          "2020-07",
          "2020-08",
          "2020-09",
          "2020-10",
          "2020-11",
          "2020-12",
          "2021-01",
          "2021-02",
          "2021-03",
          "2021-04",
          "2021-05",
          "2021-06",
          "2021-07",
          "2021-08",
          "2021-09",
          "2021-10",
          "2021-11",
          "2021-12",
          "2022-01",
          "2022-02",
          "2022-03",
          "2022-04",
          "2022-05",
          "2022-06",
          "2022-07",
          "2022-08",
          "2022-09",
          "2022-10",
          "2022-11",
          "2022-12"
         ],
         "xaxis": "x",
         "y": [
          219,
          250,
          257,
          232,
          216,
          315,
          303,
          209,
          287,
          286,
          256,
          224,
          339,
          365,
          434,
          369,
          377,
          304,
          334,
          371,
          433,
          435,
          350,
          356,
          325,
          230,
          379,
          333,
          272,
          314,
          87,
          74,
          97,
          96,
          88,
          62
         ],
         "yaxis": "y"
        },
        {
         "hovertemplate": "Industry=Arts & Entertainment<br>Year-Month=%{x}<br>Sum=%{y}<extra></extra>",
         "ids": [
          "Arts & Entertainment",
          "Arts & Entertainment",
          "Arts & Entertainment",
          "Arts & Entertainment",
          "Arts & Entertainment",
          "Arts & Entertainment",
          "Arts & Entertainment",
          "Arts & Entertainment",
          "Arts & Entertainment",
          "Arts & Entertainment",
          "Arts & Entertainment",
          "Arts & Entertainment",
          "Arts & Entertainment",
          "Arts & Entertainment",
          "Arts & Entertainment",
          "Arts & Entertainment",
          "Arts & Entertainment",
          "Arts & Entertainment",
          "Arts & Entertainment",
          "Arts & Entertainment",
          "Arts & Entertainment",
          "Arts & Entertainment",
          "Arts & Entertainment",
          "Arts & Entertainment",
          "Arts & Entertainment",
          "Arts & Entertainment",
          "Arts & Entertainment",
          "Arts & Entertainment",
          "Arts & Entertainment",
          "Arts & Entertainment",
          "Arts & Entertainment",
          "Arts & Entertainment",
          "Arts & Entertainment",
          "Arts & Entertainment",
          "Arts & Entertainment",
          "Arts & Entertainment"
         ],
         "legendgroup": "Arts & Entertainment",
         "line": {
          "color": "#FFA15A",
          "dash": "solid"
         },
         "marker": {
          "symbol": "circle"
         },
         "mode": "lines",
         "name": "Arts & Entertainment",
         "orientation": "v",
         "showlegend": true,
         "type": "scatter",
         "x": [
          "2020-01",
          "2020-02",
          "2020-03",
          "2020-04",
          "2020-05",
          "2020-06",
          "2020-07",
          "2020-08",
          "2020-09",
          "2020-10",
          "2020-11",
          "2020-12",
          "2021-01",
          "2021-02",
          "2021-03",
          "2021-04",
          "2021-05",
          "2021-06",
          "2021-07",
          "2021-08",
          "2021-09",
          "2021-10",
          "2021-11",
          "2021-12",
          "2022-01",
          "2022-02",
          "2022-03",
          "2022-04",
          "2022-05",
          "2022-06",
          "2022-07",
          "2022-08",
          "2022-09",
          "2022-10",
          "2022-11",
          "2022-12"
         ],
         "xaxis": "x",
         "y": [
          904,
          964,
          799,
          710,
          750,
          871,
          984,
          875,
          908,
          920,
          841,
          698,
          1104,
          1091,
          1342,
          1228,
          1214,
          1108,
          1101,
          1193,
          1300,
          1237,
          1118,
          1060,
          1081,
          892,
          1190,
          1068,
          1015,
          1050,
          332,
          258,
          286,
          299,
          282,
          210
         ],
         "yaxis": "y"
        },
        {
         "hovertemplate": "Industry=Construction<br>Year-Month=%{x}<br>Sum=%{y}<extra></extra>",
         "ids": [
          "Construction",
          "Construction",
          "Construction",
          "Construction",
          "Construction",
          "Construction",
          "Construction",
          "Construction",
          "Construction",
          "Construction",
          "Construction",
          "Construction",
          "Construction",
          "Construction",
          "Construction",
          "Construction",
          "Construction",
          "Construction",
          "Construction",
          "Construction",
          "Construction",
          "Construction",
          "Construction",
          "Construction",
          "Construction",
          "Construction",
          "Construction",
          "Construction",
          "Construction",
          "Construction",
          "Construction",
          "Construction",
          "Construction",
          "Construction",
          "Construction",
          "Construction"
         ],
         "legendgroup": "Construction",
         "line": {
          "color": "#19d3f3",
          "dash": "solid"
         },
         "marker": {
          "symbol": "circle"
         },
         "mode": "lines",
         "name": "Construction",
         "orientation": "v",
         "showlegend": true,
         "type": "scatter",
         "x": [
          "2020-01",
          "2020-02",
          "2020-03",
          "2020-04",
          "2020-05",
          "2020-06",
          "2020-07",
          "2020-08",
          "2020-09",
          "2020-10",
          "2020-11",
          "2020-12",
          "2021-01",
          "2021-02",
          "2021-03",
          "2021-04",
          "2021-05",
          "2021-06",
          "2021-07",
          "2021-08",
          "2021-09",
          "2021-10",
          "2021-11",
          "2021-12",
          "2022-01",
          "2022-02",
          "2022-03",
          "2022-04",
          "2022-05",
          "2022-06",
          "2022-07",
          "2022-08",
          "2022-09",
          "2022-10",
          "2022-11",
          "2022-12"
         ],
         "xaxis": "x",
         "y": [
          4172,
          4291,
          3334,
          3047,
          3790,
          4503,
          4872,
          3985,
          4899,
          4949,
          4256,
          3408,
          5468,
          5319,
          6733,
          6180,
          6045,
          5742,
          5555,
          6019,
          6866,
          5982,
          5479,
          4995,
          5551,
          4487,
          6266,
          5605,
          6129,
          6004,
          1603,
          1397,
          1498,
          1656,
          1574,
          1110
         ],
         "yaxis": "y"
        },
        {
         "hovertemplate": "Industry=Education<br>Year-Month=%{x}<br>Sum=%{y}<extra></extra>",
         "ids": [
          "Education",
          "Education",
          "Education",
          "Education",
          "Education",
          "Education",
          "Education",
          "Education",
          "Education",
          "Education",
          "Education",
          "Education",
          "Education",
          "Education",
          "Education",
          "Education",
          "Education",
          "Education",
          "Education",
          "Education",
          "Education",
          "Education",
          "Education",
          "Education",
          "Education",
          "Education",
          "Education",
          "Education",
          "Education",
          "Education",
          "Education",
          "Education",
          "Education",
          "Education",
          "Education",
          "Education"
         ],
         "legendgroup": "Education",
         "line": {
          "color": "#FF6692",
          "dash": "solid"
         },
         "marker": {
          "symbol": "circle"
         },
         "mode": "lines",
         "name": "Education",
         "orientation": "v",
         "showlegend": true,
         "type": "scatter",
         "x": [
          "2020-01",
          "2020-02",
          "2020-03",
          "2020-04",
          "2020-05",
          "2020-06",
          "2020-07",
          "2020-08",
          "2020-09",
          "2020-10",
          "2020-11",
          "2020-12",
          "2021-01",
          "2021-02",
          "2021-03",
          "2021-04",
          "2021-05",
          "2021-06",
          "2021-07",
          "2021-08",
          "2021-09",
          "2021-10",
          "2021-11",
          "2021-12",
          "2022-01",
          "2022-02",
          "2022-03",
          "2022-04",
          "2022-05",
          "2022-06",
          "2022-07",
          "2022-08",
          "2022-09",
          "2022-10",
          "2022-11",
          "2022-12"
         ],
         "xaxis": "x",
         "y": [
          687,
          824,
          670,
          684,
          687,
          869,
          970,
          823,
          892,
          924,
          822,
          735,
          1031,
          926,
          1171,
          1106,
          1109,
          1074,
          1058,
          1123,
          1145,
          1047,
          964,
          980,
          986,
          730,
          1052,
          941,
          965,
          962,
          263,
          211,
          224,
          269,
          253,
          185
         ],
         "yaxis": "y"
        },
        {
         "hovertemplate": "Industry=Energy Supply<br>Year-Month=%{x}<br>Sum=%{y}<extra></extra>",
         "ids": [
          "Energy Supply",
          "Energy Supply",
          "Energy Supply",
          "Energy Supply",
          "Energy Supply",
          "Energy Supply",
          "Energy Supply",
          "Energy Supply",
          "Energy Supply",
          "Energy Supply",
          "Energy Supply",
          "Energy Supply",
          "Energy Supply",
          "Energy Supply",
          "Energy Supply",
          "Energy Supply",
          "Energy Supply",
          "Energy Supply",
          "Energy Supply",
          "Energy Supply",
          "Energy Supply",
          "Energy Supply",
          "Energy Supply",
          "Energy Supply",
          "Energy Supply",
          "Energy Supply",
          "Energy Supply",
          "Energy Supply",
          "Energy Supply",
          "Energy Supply",
          "Energy Supply",
          "Energy Supply",
          "Energy Supply",
          "Energy Supply",
          "Energy Supply",
          "Energy Supply"
         ],
         "legendgroup": "Energy Supply",
         "line": {
          "color": "#B6E880",
          "dash": "solid"
         },
         "marker": {
          "symbol": "circle"
         },
         "mode": "lines",
         "name": "Energy Supply",
         "orientation": "v",
         "showlegend": true,
         "type": "scatter",
         "x": [
          "2020-01",
          "2020-02",
          "2020-03",
          "2020-04",
          "2020-05",
          "2020-06",
          "2020-07",
          "2020-08",
          "2020-09",
          "2020-10",
          "2020-11",
          "2020-12",
          "2021-01",
          "2021-02",
          "2021-03",
          "2021-04",
          "2021-05",
          "2021-06",
          "2021-07",
          "2021-08",
          "2021-09",
          "2021-10",
          "2021-11",
          "2021-12",
          "2022-01",
          "2022-02",
          "2022-03",
          "2022-04",
          "2022-05",
          "2022-06",
          "2022-07",
          "2022-08",
          "2022-09",
          "2022-10",
          "2022-11",
          "2022-12"
         ],
         "xaxis": "x",
         "y": [
          110,
          94,
          82,
          108,
          85,
          111,
          129,
          80,
          143,
          122,
          136,
          96,
          139,
          131,
          159,
          164,
          183,
          146,
          170,
          140,
          167,
          154,
          128,
          129,
          140,
          102,
          183,
          148,
          136,
          129,
          31,
          35,
          33,
          39,
          35,
          43
         ],
         "yaxis": "y"
        },
        {
         "hovertemplate": "Industry=Extraterritorial Organisations<br>Year-Month=%{x}<br>Sum=%{y}<extra></extra>",
         "ids": [
          "Extraterritorial Organisations",
          "Extraterritorial Organisations",
          "Extraterritorial Organisations",
          "Extraterritorial Organisations",
          "Extraterritorial Organisations",
          "Extraterritorial Organisations",
          "Extraterritorial Organisations",
          "Extraterritorial Organisations",
          "Extraterritorial Organisations",
          "Extraterritorial Organisations",
          "Extraterritorial Organisations",
          "Extraterritorial Organisations",
          "Extraterritorial Organisations",
          "Extraterritorial Organisations",
          "Extraterritorial Organisations",
          "Extraterritorial Organisations",
          "Extraterritorial Organisations",
          "Extraterritorial Organisations",
          "Extraterritorial Organisations",
          "Extraterritorial Organisations",
          "Extraterritorial Organisations",
          "Extraterritorial Organisations",
          "Extraterritorial Organisations",
          "Extraterritorial Organisations",
          "Extraterritorial Organisations",
          "Extraterritorial Organisations",
          "Extraterritorial Organisations",
          "Extraterritorial Organisations",
          "Extraterritorial Organisations",
          "Extraterritorial Organisations",
          "Extraterritorial Organisations",
          "Extraterritorial Organisations",
          "Extraterritorial Organisations",
          "Extraterritorial Organisations",
          "Extraterritorial Organisations",
          "Extraterritorial Organisations"
         ],
         "legendgroup": "Extraterritorial Organisations",
         "line": {
          "color": "#FF97FF",
          "dash": "solid"
         },
         "marker": {
          "symbol": "circle"
         },
         "mode": "lines",
         "name": "Extraterritorial Organisations",
         "orientation": "v",
         "showlegend": true,
         "type": "scatter",
         "x": [
          "2020-01",
          "2020-02",
          "2020-03",
          "2020-04",
          "2020-05",
          "2020-06",
          "2020-07",
          "2020-08",
          "2020-09",
          "2020-10",
          "2020-11",
          "2020-12",
          "2021-01",
          "2021-02",
          "2021-03",
          "2021-04",
          "2021-05",
          "2021-06",
          "2021-07",
          "2021-08",
          "2021-09",
          "2021-10",
          "2021-11",
          "2021-12",
          "2022-01",
          "2022-02",
          "2022-03",
          "2022-04",
          "2022-05",
          "2022-06",
          "2022-07",
          "2022-08",
          "2022-09",
          "2022-10",
          "2022-11",
          "2022-12"
         ],
         "xaxis": "x",
         "y": [
          632,
          823,
          695,
          836,
          830,
          871,
          970,
          751,
          824,
          1063,
          924,
          895,
          1298,
          1169,
          1614,
          1509,
          1406,
          1080,
          1012,
          1164,
          1086,
          1058,
          1564,
          1343,
          826,
          765,
          905,
          961,
          799,
          848,
          289,
          185,
          182,
          232,
          249,
          139
         ],
         "yaxis": "y"
        },
        {
         "hovertemplate": "Industry=Financial & Insurance<br>Year-Month=%{x}<br>Sum=%{y}<extra></extra>",
         "ids": [
          "Financial & Insurance",
          "Financial & Insurance",
          "Financial & Insurance",
          "Financial & Insurance",
          "Financial & Insurance",
          "Financial & Insurance",
          "Financial & Insurance",
          "Financial & Insurance",
          "Financial & Insurance",
          "Financial & Insurance",
          "Financial & Insurance",
          "Financial & Insurance",
          "Financial & Insurance",
          "Financial & Insurance",
          "Financial & Insurance",
          "Financial & Insurance",
          "Financial & Insurance",
          "Financial & Insurance",
          "Financial & Insurance",
          "Financial & Insurance",
          "Financial & Insurance",
          "Financial & Insurance",
          "Financial & Insurance",
          "Financial & Insurance",
          "Financial & Insurance",
          "Financial & Insurance",
          "Financial & Insurance",
          "Financial & Insurance",
          "Financial & Insurance",
          "Financial & Insurance",
          "Financial & Insurance",
          "Financial & Insurance",
          "Financial & Insurance",
          "Financial & Insurance",
          "Financial & Insurance",
          "Financial & Insurance"
         ],
         "legendgroup": "Financial & Insurance",
         "line": {
          "color": "#FECB52",
          "dash": "solid"
         },
         "marker": {
          "symbol": "circle"
         },
         "mode": "lines",
         "name": "Financial & Insurance",
         "orientation": "v",
         "showlegend": true,
         "type": "scatter",
         "x": [
          "2020-01",
          "2020-02",
          "2020-03",
          "2020-04",
          "2020-05",
          "2020-06",
          "2020-07",
          "2020-08",
          "2020-09",
          "2020-10",
          "2020-11",
          "2020-12",
          "2021-01",
          "2021-02",
          "2021-03",
          "2021-04",
          "2021-05",
          "2021-06",
          "2021-07",
          "2021-08",
          "2021-09",
          "2021-10",
          "2021-11",
          "2021-12",
          "2022-01",
          "2022-02",
          "2022-03",
          "2022-04",
          "2022-05",
          "2022-06",
          "2022-07",
          "2022-08",
          "2022-09",
          "2022-10",
          "2022-11",
          "2022-12"
         ],
         "xaxis": "x",
         "y": [
          1518,
          1743,
          1503,
          1374,
          1425,
          1525,
          1752,
          1441,
          1861,
          1874,
          1667,
          1463,
          2178,
          2217,
          2524,
          2291,
          2342,
          2062,
          2163,
          2281,
          2585,
          2598,
          2170,
          2235,
          1831,
          1568,
          2157,
          1927,
          1946,
          2072,
          482,
          424,
          470,
          561,
          568,
          379
         ],
         "yaxis": "y"
        },
        {
         "hovertemplate": "Industry=Health & Social Work<br>Year-Month=%{x}<br>Sum=%{y}<extra></extra>",
         "ids": [
          "Health & Social Work",
          "Health & Social Work",
          "Health & Social Work",
          "Health & Social Work",
          "Health & Social Work",
          "Health & Social Work",
          "Health & Social Work",
          "Health & Social Work",
          "Health & Social Work",
          "Health & Social Work",
          "Health & Social Work",
          "Health & Social Work",
          "Health & Social Work",
          "Health & Social Work",
          "Health & Social Work",
          "Health & Social Work",
          "Health & Social Work",
          "Health & Social Work",
          "Health & Social Work",
          "Health & Social Work",
          "Health & Social Work",
          "Health & Social Work",
          "Health & Social Work",
          "Health & Social Work",
          "Health & Social Work",
          "Health & Social Work",
          "Health & Social Work",
          "Health & Social Work",
          "Health & Social Work",
          "Health & Social Work",
          "Health & Social Work",
          "Health & Social Work",
          "Health & Social Work",
          "Health & Social Work",
          "Health & Social Work",
          "Health & Social Work"
         ],
         "legendgroup": "Health & Social Work",
         "line": {
          "color": "#636efa",
          "dash": "solid"
         },
         "marker": {
          "symbol": "circle"
         },
         "mode": "lines",
         "name": "Health & Social Work",
         "orientation": "v",
         "showlegend": true,
         "type": "scatter",
         "x": [
          "2020-01",
          "2020-02",
          "2020-03",
          "2020-04",
          "2020-05",
          "2020-06",
          "2020-07",
          "2020-08",
          "2020-09",
          "2020-10",
          "2020-11",
          "2020-12",
          "2021-01",
          "2021-02",
          "2021-03",
          "2021-04",
          "2021-05",
          "2021-06",
          "2021-07",
          "2021-08",
          "2021-09",
          "2021-10",
          "2021-11",
          "2021-12",
          "2022-01",
          "2022-02",
          "2022-03",
          "2022-04",
          "2022-05",
          "2022-06",
          "2022-07",
          "2022-08",
          "2022-09",
          "2022-10",
          "2022-11",
          "2022-12"
         ],
         "xaxis": "x",
         "y": [
          1504,
          1546,
          1391,
          1287,
          1233,
          1585,
          1690,
          1455,
          1709,
          1700,
          1503,
          1278,
          1956,
          1822,
          2273,
          2078,
          2076,
          2078,
          2143,
          2385,
          2476,
          2233,
          2215,
          2180,
          2423,
          1932,
          2699,
          2377,
          2475,
          2550,
          657,
          590,
          661,
          757,
          682,
          485
         ],
         "yaxis": "y"
        },
        {
         "hovertemplate": "Industry=Households as Employers<br>Year-Month=%{x}<br>Sum=%{y}<extra></extra>",
         "ids": [
          "Households as Employers",
          "Households as Employers",
          "Households as Employers",
          "Households as Employers",
          "Households as Employers",
          "Households as Employers",
          "Households as Employers",
          "Households as Employers",
          "Households as Employers",
          "Households as Employers",
          "Households as Employers",
          "Households as Employers",
          "Households as Employers",
          "Households as Employers",
          "Households as Employers",
          "Households as Employers",
          "Households as Employers",
          "Households as Employers",
          "Households as Employers",
          "Households as Employers",
          "Households as Employers",
          "Households as Employers",
          "Households as Employers",
          "Households as Employers",
          "Households as Employers",
          "Households as Employers",
          "Households as Employers",
          "Households as Employers",
          "Households as Employers",
          "Households as Employers",
          "Households as Employers",
          "Households as Employers",
          "Households as Employers",
          "Households as Employers",
          "Households as Employers",
          "Households as Employers"
         ],
         "legendgroup": "Households as Employers",
         "line": {
          "color": "#EF553B",
          "dash": "solid"
         },
         "marker": {
          "symbol": "circle"
         },
         "mode": "lines",
         "name": "Households as Employers",
         "orientation": "v",
         "showlegend": true,
         "type": "scatter",
         "x": [
          "2020-01",
          "2020-02",
          "2020-03",
          "2020-04",
          "2020-05",
          "2020-06",
          "2020-07",
          "2020-08",
          "2020-09",
          "2020-10",
          "2020-11",
          "2020-12",
          "2021-01",
          "2021-02",
          "2021-03",
          "2021-04",
          "2021-05",
          "2021-06",
          "2021-07",
          "2021-08",
          "2021-09",
          "2021-10",
          "2021-11",
          "2021-12",
          "2022-01",
          "2022-02",
          "2022-03",
          "2022-04",
          "2022-05",
          "2022-06",
          "2022-07",
          "2022-08",
          "2022-09",
          "2022-10",
          "2022-11",
          "2022-12"
         ],
         "xaxis": "x",
         "y": [
          424,
          487,
          474,
          395,
          396,
          508,
          562,
          446,
          510,
          541,
          536,
          420,
          582,
          573,
          705,
          662,
          655,
          588,
          534,
          619,
          646,
          681,
          563,
          530,
          522,
          460,
          572,
          531,
          586,
          632,
          153,
          120,
          135,
          182,
          181,
          79
         ],
         "yaxis": "y"
        },
        {
         "hovertemplate": "Industry=Information & Communication<br>Year-Month=%{x}<br>Sum=%{y}<extra></extra>",
         "ids": [
          "Information & Communication",
          "Information & Communication",
          "Information & Communication",
          "Information & Communication",
          "Information & Communication",
          "Information & Communication",
          "Information & Communication",
          "Information & Communication",
          "Information & Communication",
          "Information & Communication",
          "Information & Communication",
          "Information & Communication",
          "Information & Communication",
          "Information & Communication",
          "Information & Communication",
          "Information & Communication",
          "Information & Communication",
          "Information & Communication",
          "Information & Communication",
          "Information & Communication",
          "Information & Communication",
          "Information & Communication",
          "Information & Communication",
          "Information & Communication",
          "Information & Communication",
          "Information & Communication",
          "Information & Communication",
          "Information & Communication",
          "Information & Communication",
          "Information & Communication",
          "Information & Communication",
          "Information & Communication",
          "Information & Communication",
          "Information & Communication",
          "Information & Communication",
          "Information & Communication"
         ],
         "legendgroup": "Information & Communication",
         "line": {
          "color": "#00cc96",
          "dash": "solid"
         },
         "marker": {
          "symbol": "circle"
         },
         "mode": "lines",
         "name": "Information & Communication",
         "orientation": "v",
         "showlegend": true,
         "type": "scatter",
         "x": [
          "2020-01",
          "2020-02",
          "2020-03",
          "2020-04",
          "2020-05",
          "2020-06",
          "2020-07",
          "2020-08",
          "2020-09",
          "2020-10",
          "2020-11",
          "2020-12",
          "2021-01",
          "2021-02",
          "2021-03",
          "2021-04",
          "2021-05",
          "2021-06",
          "2021-07",
          "2021-08",
          "2021-09",
          "2021-10",
          "2021-11",
          "2021-12",
          "2022-01",
          "2022-02",
          "2022-03",
          "2022-04",
          "2022-05",
          "2022-06",
          "2022-07",
          "2022-08",
          "2022-09",
          "2022-10",
          "2022-11",
          "2022-12"
         ],
         "xaxis": "x",
         "y": [
          2952,
          2984,
          2760,
          2975,
          2800,
          3417,
          3499,
          2908,
          3424,
          3473,
          3129,
          2760,
          4001,
          3858,
          4719,
          4343,
          4084,
          4114,
          4275,
          4472,
          4634,
          5193,
          4545,
          4389,
          3873,
          3154,
          4093,
          4071,
          3973,
          4193,
          1110,
          860,
          986,
          1175,
          1098,
          701
         ],
         "yaxis": "y"
        },
        {
         "hovertemplate": "Industry=Manufacturing<br>Year-Month=%{x}<br>Sum=%{y}<extra></extra>",
         "ids": [
          "Manufacturing",
          "Manufacturing",
          "Manufacturing",
          "Manufacturing",
          "Manufacturing",
          "Manufacturing",
          "Manufacturing",
          "Manufacturing",
          "Manufacturing",
          "Manufacturing",
          "Manufacturing",
          "Manufacturing",
          "Manufacturing",
          "Manufacturing",
          "Manufacturing",
          "Manufacturing",
          "Manufacturing",
          "Manufacturing",
          "Manufacturing",
          "Manufacturing",
          "Manufacturing",
          "Manufacturing",
          "Manufacturing",
          "Manufacturing",
          "Manufacturing",
          "Manufacturing",
          "Manufacturing",
          "Manufacturing",
          "Manufacturing",
          "Manufacturing",
          "Manufacturing",
          "Manufacturing",
          "Manufacturing",
          "Manufacturing",
          "Manufacturing",
          "Manufacturing"
         ],
         "legendgroup": "Manufacturing",
         "line": {
          "color": "#ab63fa",
          "dash": "solid"
         },
         "marker": {
          "symbol": "circle"
         },
         "mode": "lines",
         "name": "Manufacturing",
         "orientation": "v",
         "showlegend": true,
         "type": "scatter",
         "x": [
          "2020-01",
          "2020-02",
          "2020-03",
          "2020-04",
          "2020-05",
          "2020-06",
          "2020-07",
          "2020-08",
          "2020-09",
          "2020-10",
          "2020-11",
          "2020-12",
          "2021-01",
          "2021-02",
          "2021-03",
          "2021-04",
          "2021-05",
          "2021-06",
          "2021-07",
          "2021-08",
          "2021-09",
          "2021-10",
          "2021-11",
          "2021-12",
          "2022-01",
          "2022-02",
          "2022-03",
          "2022-04",
          "2022-05",
          "2022-06",
          "2022-07",
          "2022-08",
          "2022-09",
          "2022-10",
          "2022-11",
          "2022-12"
         ],
         "xaxis": "x",
         "y": [
          1633,
          1733,
          1469,
          1374,
          1568,
          1916,
          2086,
          1654,
          1891,
          2047,
          1712,
          1564,
          2211,
          2226,
          2667,
          2545,
          2234,
          2308,
          1982,
          2253,
          2508,
          2338,
          2236,
          2094,
          1993,
          1692,
          2130,
          1955,
          2172,
          2099,
          583,
          529,
          536,
          577,
          560,
          421
         ],
         "yaxis": "y"
        },
        {
         "hovertemplate": "Industry=Mining & Quarrying<br>Year-Month=%{x}<br>Sum=%{y}<extra></extra>",
         "ids": [
          "Mining & Quarrying",
          "Mining & Quarrying",
          "Mining & Quarrying",
          "Mining & Quarrying",
          "Mining & Quarrying",
          "Mining & Quarrying",
          "Mining & Quarrying",
          "Mining & Quarrying",
          "Mining & Quarrying",
          "Mining & Quarrying",
          "Mining & Quarrying",
          "Mining & Quarrying",
          "Mining & Quarrying",
          "Mining & Quarrying",
          "Mining & Quarrying",
          "Mining & Quarrying",
          "Mining & Quarrying",
          "Mining & Quarrying",
          "Mining & Quarrying",
          "Mining & Quarrying",
          "Mining & Quarrying",
          "Mining & Quarrying",
          "Mining & Quarrying",
          "Mining & Quarrying",
          "Mining & Quarrying",
          "Mining & Quarrying",
          "Mining & Quarrying",
          "Mining & Quarrying",
          "Mining & Quarrying",
          "Mining & Quarrying",
          "Mining & Quarrying",
          "Mining & Quarrying",
          "Mining & Quarrying",
          "Mining & Quarrying",
          "Mining & Quarrying",
          "Mining & Quarrying"
         ],
         "legendgroup": "Mining & Quarrying",
         "line": {
          "color": "#FFA15A",
          "dash": "solid"
         },
         "marker": {
          "symbol": "circle"
         },
         "mode": "lines",
         "name": "Mining & Quarrying",
         "orientation": "v",
         "showlegend": true,
         "type": "scatter",
         "x": [
          "2020-01",
          "2020-02",
          "2020-03",
          "2020-04",
          "2020-05",
          "2020-06",
          "2020-07",
          "2020-08",
          "2020-09",
          "2020-10",
          "2020-11",
          "2020-12",
          "2021-01",
          "2021-02",
          "2021-03",
          "2021-04",
          "2021-05",
          "2021-06",
          "2021-07",
          "2021-08",
          "2021-09",
          "2021-10",
          "2021-11",
          "2021-12",
          "2022-01",
          "2022-02",
          "2022-03",
          "2022-04",
          "2022-05",
          "2022-06",
          "2022-07",
          "2022-08",
          "2022-09",
          "2022-10",
          "2022-11",
          "2022-12"
         ],
         "xaxis": "x",
         "y": [
          70,
          54,
          37,
          54,
          45,
          57,
          56,
          47,
          52,
          69,
          55,
          49,
          83,
          68,
          82,
          75,
          71,
          81,
          79,
          89,
          78,
          66,
          72,
          74,
          55,
          53,
          75,
          71,
          72,
          82,
          16,
          15,
          16,
          23,
          32,
          11
         ],
         "yaxis": "y"
        },
        {
         "hovertemplate": "Industry=Other Services<br>Year-Month=%{x}<br>Sum=%{y}<extra></extra>",
         "ids": [
          "Other Services",
          "Other Services",
          "Other Services",
          "Other Services",
          "Other Services",
          "Other Services",
          "Other Services",
          "Other Services",
          "Other Services",
          "Other Services",
          "Other Services",
          "Other Services",
          "Other Services",
          "Other Services",
          "Other Services",
          "Other Services",
          "Other Services",
          "Other Services",
          "Other Services",
          "Other Services",
          "Other Services",
          "Other Services",
          "Other Services",
          "Other Services",
          "Other Services",
          "Other Services",
          "Other Services",
          "Other Services",
          "Other Services",
          "Other Services",
          "Other Services",
          "Other Services",
          "Other Services",
          "Other Services",
          "Other Services",
          "Other Services"
         ],
         "legendgroup": "Other Services",
         "line": {
          "color": "#19d3f3",
          "dash": "solid"
         },
         "marker": {
          "symbol": "circle"
         },
         "mode": "lines",
         "name": "Other Services",
         "orientation": "v",
         "showlegend": true,
         "type": "scatter",
         "x": [
          "2020-01",
          "2020-02",
          "2020-03",
          "2020-04",
          "2020-05",
          "2020-06",
          "2020-07",
          "2020-08",
          "2020-09",
          "2020-10",
          "2020-11",
          "2020-12",
          "2021-01",
          "2021-02",
          "2021-03",
          "2021-04",
          "2021-05",
          "2021-06",
          "2021-07",
          "2021-08",
          "2021-09",
          "2021-10",
          "2021-11",
          "2021-12",
          "2022-01",
          "2022-02",
          "2022-03",
          "2022-04",
          "2022-05",
          "2022-06",
          "2022-07",
          "2022-08",
          "2022-09",
          "2022-10",
          "2022-11",
          "2022-12"
         ],
         "xaxis": "x",
         "y": [
          1949,
          2046,
          1805,
          1515,
          1760,
          2261,
          2706,
          2325,
          2446,
          2216,
          1938,
          1636,
          2293,
          2347,
          3063,
          3073,
          3053,
          2831,
          2760,
          2949,
          3182,
          2728,
          2542,
          2596,
          2411,
          1942,
          2870,
          2488,
          2582,
          2626,
          806,
          649,
          615,
          812,
          687,
          518
         ],
         "yaxis": "y"
        },
        {
         "hovertemplate": "Industry=Professional, Scientific & Technical<br>Year-Month=%{x}<br>Sum=%{y}<extra></extra>",
         "ids": [
          "Professional, Scientific & Technical",
          "Professional, Scientific & Technical",
          "Professional, Scientific & Technical",
          "Professional, Scientific & Technical",
          "Professional, Scientific & Technical",
          "Professional, Scientific & Technical",
          "Professional, Scientific & Technical",
          "Professional, Scientific & Technical",
          "Professional, Scientific & Technical",
          "Professional, Scientific & Technical",
          "Professional, Scientific & Technical",
          "Professional, Scientific & Technical",
          "Professional, Scientific & Technical",
          "Professional, Scientific & Technical",
          "Professional, Scientific & Technical",
          "Professional, Scientific & Technical",
          "Professional, Scientific & Technical",
          "Professional, Scientific & Technical",
          "Professional, Scientific & Technical",
          "Professional, Scientific & Technical",
          "Professional, Scientific & Technical",
          "Professional, Scientific & Technical",
          "Professional, Scientific & Technical",
          "Professional, Scientific & Technical",
          "Professional, Scientific & Technical",
          "Professional, Scientific & Technical",
          "Professional, Scientific & Technical",
          "Professional, Scientific & Technical",
          "Professional, Scientific & Technical",
          "Professional, Scientific & Technical",
          "Professional, Scientific & Technical",
          "Professional, Scientific & Technical",
          "Professional, Scientific & Technical",
          "Professional, Scientific & Technical",
          "Professional, Scientific & Technical",
          "Professional, Scientific & Technical"
         ],
         "legendgroup": "Professional, Scientific & Technical",
         "line": {
          "color": "#FF6692",
          "dash": "solid"
         },
         "marker": {
          "symbol": "circle"
         },
         "mode": "lines",
         "name": "Professional, Scientific & Technical",
         "orientation": "v",
         "showlegend": true,
         "type": "scatter",
         "x": [
          "2020-01",
          "2020-02",
          "2020-03",
          "2020-04",
          "2020-05",
          "2020-06",
          "2020-07",
          "2020-08",
          "2020-09",
          "2020-10",
          "2020-11",
          "2020-12",
          "2021-01",
          "2021-02",
          "2021-03",
          "2021-04",
          "2021-05",
          "2021-06",
          "2021-07",
          "2021-08",
          "2021-09",
          "2021-10",
          "2021-11",
          "2021-12",
          "2022-01",
          "2022-02",
          "2022-03",
          "2022-04",
          "2022-05",
          "2022-06",
          "2022-07",
          "2022-08",
          "2022-09",
          "2022-10",
          "2022-11",
          "2022-12"
         ],
         "xaxis": "x",
         "y": [
          4371,
          4686,
          4252,
          4178,
          4112,
          4825,
          5275,
          4255,
          5228,
          5327,
          4595,
          3720,
          5389,
          5078,
          6185,
          5943,
          5652,
          5251,
          5287,
          5756,
          5843,
          5650,
          5268,
          5008,
          5098,
          3982,
          5379,
          4959,
          5130,
          5172,
          1428,
          1148,
          1207,
          1474,
          1383,
          966
         ],
         "yaxis": "y"
        },
        {
         "hovertemplate": "Industry=Real Estate<br>Year-Month=%{x}<br>Sum=%{y}<extra></extra>",
         "ids": [
          "Real Estate",
          "Real Estate",
          "Real Estate",
          "Real Estate",
          "Real Estate",
          "Real Estate",
          "Real Estate",
          "Real Estate",
          "Real Estate",
          "Real Estate",
          "Real Estate",
          "Real Estate",
          "Real Estate",
          "Real Estate",
          "Real Estate",
          "Real Estate",
          "Real Estate",
          "Real Estate",
          "Real Estate",
          "Real Estate",
          "Real Estate",
          "Real Estate",
          "Real Estate",
          "Real Estate",
          "Real Estate",
          "Real Estate",
          "Real Estate",
          "Real Estate",
          "Real Estate",
          "Real Estate",
          "Real Estate",
          "Real Estate",
          "Real Estate",
          "Real Estate",
          "Real Estate",
          "Real Estate"
         ],
         "legendgroup": "Real Estate",
         "line": {
          "color": "#B6E880",
          "dash": "solid"
         },
         "marker": {
          "symbol": "circle"
         },
         "mode": "lines",
         "name": "Real Estate",
         "orientation": "v",
         "showlegend": true,
         "type": "scatter",
         "x": [
          "2020-01",
          "2020-02",
          "2020-03",
          "2020-04",
          "2020-05",
          "2020-06",
          "2020-07",
          "2020-08",
          "2020-09",
          "2020-10",
          "2020-11",
          "2020-12",
          "2021-01",
          "2021-02",
          "2021-03",
          "2021-04",
          "2021-05",
          "2021-06",
          "2021-07",
          "2021-08",
          "2021-09",
          "2021-10",
          "2021-11",
          "2021-12",
          "2022-01",
          "2022-02",
          "2022-03",
          "2022-04",
          "2022-05",
          "2022-06",
          "2022-07",
          "2022-08",
          "2022-09",
          "2022-10",
          "2022-11",
          "2022-12"
         ],
         "xaxis": "x",
         "y": [
          3911,
          4197,
          3307,
          3014,
          3580,
          4306,
          5267,
          4198,
          4790,
          4805,
          4400,
          3345,
          5294,
          4868,
          6144,
          5666,
          5449,
          4979,
          4830,
          5211,
          5633,
          5373,
          4892,
          4627,
          4884,
          3943,
          5219,
          4654,
          4923,
          5029,
          1408,
          1244,
          1254,
          1392,
          1456,
          912
         ],
         "yaxis": "y"
        },
        {
         "hovertemplate": "Industry=Transportation & Storage<br>Year-Month=%{x}<br>Sum=%{y}<extra></extra>",
         "ids": [
          "Transportation & Storage",
          "Transportation & Storage",
          "Transportation & Storage",
          "Transportation & Storage",
          "Transportation & Storage",
          "Transportation & Storage",
          "Transportation & Storage",
          "Transportation & Storage",
          "Transportation & Storage",
          "Transportation & Storage",
          "Transportation & Storage",
          "Transportation & Storage",
          "Transportation & Storage",
          "Transportation & Storage",
          "Transportation & Storage",
          "Transportation & Storage",
          "Transportation & Storage",
          "Transportation & Storage",
          "Transportation & Storage",
          "Transportation & Storage",
          "Transportation & Storage",
          "Transportation & Storage",
          "Transportation & Storage",
          "Transportation & Storage",
          "Transportation & Storage",
          "Transportation & Storage",
          "Transportation & Storage",
          "Transportation & Storage",
          "Transportation & Storage",
          "Transportation & Storage",
          "Transportation & Storage",
          "Transportation & Storage",
          "Transportation & Storage",
          "Transportation & Storage",
          "Transportation & Storage",
          "Transportation & Storage"
         ],
         "legendgroup": "Transportation & Storage",
         "line": {
          "color": "#FF97FF",
          "dash": "solid"
         },
         "marker": {
          "symbol": "circle"
         },
         "mode": "lines",
         "name": "Transportation & Storage",
         "orientation": "v",
         "showlegend": true,
         "type": "scatter",
         "x": [
          "2020-01",
          "2020-02",
          "2020-03",
          "2020-04",
          "2020-05",
          "2020-06",
          "2020-07",
          "2020-08",
          "2020-09",
          "2020-10",
          "2020-11",
          "2020-12",
          "2021-01",
          "2021-02",
          "2021-03",
          "2021-04",
          "2021-05",
          "2021-06",
          "2021-07",
          "2021-08",
          "2021-09",
          "2021-10",
          "2021-11",
          "2021-12",
          "2022-01",
          "2022-02",
          "2022-03",
          "2022-04",
          "2022-05",
          "2022-06",
          "2022-07",
          "2022-08",
          "2022-09",
          "2022-10",
          "2022-11",
          "2022-12"
         ],
         "xaxis": "x",
         "y": [
          1577,
          1535,
          1443,
          1078,
          1347,
          1529,
          1686,
          1404,
          1955,
          1654,
          1639,
          1249,
          2156,
          2040,
          2286,
          2438,
          2428,
          2257,
          2874,
          3037,
          2923,
          2873,
          2681,
          1957,
          2139,
          2051,
          2441,
          2377,
          2238,
          2585,
          703,
          561,
          636,
          742,
          615,
          398
         ],
         "yaxis": "y"
        },
        {
         "hovertemplate": "Industry=Water Supply, Sewerage, Waste Management<br>Year-Month=%{x}<br>Sum=%{y}<extra></extra>",
         "ids": [
          "Water Supply, Sewerage, Waste Management",
          "Water Supply, Sewerage, Waste Management",
          "Water Supply, Sewerage, Waste Management",
          "Water Supply, Sewerage, Waste Management",
          "Water Supply, Sewerage, Waste Management",
          "Water Supply, Sewerage, Waste Management",
          "Water Supply, Sewerage, Waste Management",
          "Water Supply, Sewerage, Waste Management",
          "Water Supply, Sewerage, Waste Management",
          "Water Supply, Sewerage, Waste Management",
          "Water Supply, Sewerage, Waste Management",
          "Water Supply, Sewerage, Waste Management",
          "Water Supply, Sewerage, Waste Management",
          "Water Supply, Sewerage, Waste Management",
          "Water Supply, Sewerage, Waste Management",
          "Water Supply, Sewerage, Waste Management",
          "Water Supply, Sewerage, Waste Management",
          "Water Supply, Sewerage, Waste Management",
          "Water Supply, Sewerage, Waste Management",
          "Water Supply, Sewerage, Waste Management",
          "Water Supply, Sewerage, Waste Management",
          "Water Supply, Sewerage, Waste Management",
          "Water Supply, Sewerage, Waste Management",
          "Water Supply, Sewerage, Waste Management",
          "Water Supply, Sewerage, Waste Management",
          "Water Supply, Sewerage, Waste Management",
          "Water Supply, Sewerage, Waste Management",
          "Water Supply, Sewerage, Waste Management",
          "Water Supply, Sewerage, Waste Management",
          "Water Supply, Sewerage, Waste Management",
          "Water Supply, Sewerage, Waste Management",
          "Water Supply, Sewerage, Waste Management",
          "Water Supply, Sewerage, Waste Management",
          "Water Supply, Sewerage, Waste Management",
          "Water Supply, Sewerage, Waste Management",
          "Water Supply, Sewerage, Waste Management"
         ],
         "legendgroup": "Water Supply, Sewerage, Waste Management",
         "line": {
          "color": "#FECB52",
          "dash": "solid"
         },
         "marker": {
          "symbol": "circle"
         },
         "mode": "lines",
         "name": "Water Supply, Sewerage, Waste Management",
         "orientation": "v",
         "showlegend": true,
         "type": "scatter",
         "x": [
          "2020-01",
          "2020-02",
          "2020-03",
          "2020-04",
          "2020-05",
          "2020-06",
          "2020-07",
          "2020-08",
          "2020-09",
          "2020-10",
          "2020-11",
          "2020-12",
          "2021-01",
          "2021-02",
          "2021-03",
          "2021-04",
          "2021-05",
          "2021-06",
          "2021-07",
          "2021-08",
          "2021-09",
          "2021-10",
          "2021-11",
          "2021-12",
          "2022-01",
          "2022-02",
          "2022-03",
          "2022-04",
          "2022-05",
          "2022-06",
          "2022-07",
          "2022-08",
          "2022-09",
          "2022-10",
          "2022-11",
          "2022-12"
         ],
         "xaxis": "x",
         "y": [
          119,
          107,
          104,
          104,
          124,
          147,
          137,
          131,
          143,
          140,
          128,
          101,
          195,
          187,
          254,
          214,
          184,
          193,
          247,
          233,
          217,
          195,
          163,
          133,
          163,
          125,
          170,
          162,
          172,
          157,
          36,
          39,
          44,
          52,
          45,
          48
         ],
         "yaxis": "y"
        },
        {
         "hovertemplate": "Industry=Wholesale & Retail<br>Year-Month=%{x}<br>Sum=%{y}<extra></extra>",
         "ids": [
          "Wholesale & Retail",
          "Wholesale & Retail",
          "Wholesale & Retail",
          "Wholesale & Retail",
          "Wholesale & Retail",
          "Wholesale & Retail",
          "Wholesale & Retail",
          "Wholesale & Retail",
          "Wholesale & Retail",
          "Wholesale & Retail",
          "Wholesale & Retail",
          "Wholesale & Retail",
          "Wholesale & Retail",
          "Wholesale & Retail",
          "Wholesale & Retail",
          "Wholesale & Retail",
          "Wholesale & Retail",
          "Wholesale & Retail",
          "Wholesale & Retail",
          "Wholesale & Retail",
          "Wholesale & Retail",
          "Wholesale & Retail",
          "Wholesale & Retail",
          "Wholesale & Retail",
          "Wholesale & Retail",
          "Wholesale & Retail",
          "Wholesale & Retail",
          "Wholesale & Retail",
          "Wholesale & Retail",
          "Wholesale & Retail",
          "Wholesale & Retail",
          "Wholesale & Retail",
          "Wholesale & Retail",
          "Wholesale & Retail",
          "Wholesale & Retail",
          "Wholesale & Retail"
         ],
         "legendgroup": "Wholesale & Retail",
         "line": {
          "color": "#636efa",
          "dash": "solid"
         },
         "marker": {
          "symbol": "circle"
         },
         "mode": "lines",
         "name": "Wholesale & Retail",
         "orientation": "v",
         "showlegend": true,
         "type": "scatter",
         "x": [
          "2020-01",
          "2020-02",
          "2020-03",
          "2020-04",
          "2020-05",
          "2020-06",
          "2020-07",
          "2020-08",
          "2020-09",
          "2020-10",
          "2020-11",
          "2020-12",
          "2021-01",
          "2021-02",
          "2021-03",
          "2021-04",
          "2021-05",
          "2021-06",
          "2021-07",
          "2021-08",
          "2021-09",
          "2021-10",
          "2021-11",
          "2021-12",
          "2022-01",
          "2022-02",
          "2022-03",
          "2022-04",
          "2022-05",
          "2022-06",
          "2022-07",
          "2022-08",
          "2022-09",
          "2022-10",
          "2022-11",
          "2022-12"
         ],
         "xaxis": "x",
         "y": [
          5538,
          5929,
          5022,
          5721,
          6933,
          8213,
          8542,
          6874,
          7850,
          7713,
          7081,
          6230,
          10238,
          10225,
          12416,
          12389,
          11395,
          10660,
          9843,
          11401,
          11947,
          11238,
          10497,
          10394,
          9731,
          7940,
          10419,
          10765,
          10728,
          10821,
          2943,
          2425,
          2594,
          3120,
          2799,
          2075
         ],
         "yaxis": "y"
        }
       ],
       "layout": {
        "font": {
         "color": "Grey",
         "family": "Futura",
         "size": 8
        },
        "height": 600,
        "legend": {
         "title": {
          "text": "Industry"
         },
         "tracegroupgap": 0
        },
        "paper_bgcolor": "#ededed",
        "template": {
         "data": {
          "bar": [
           {
            "error_x": {
             "color": "#2a3f5f"
            },
            "error_y": {
             "color": "#2a3f5f"
            },
            "marker": {
             "line": {
              "color": "#E5ECF6",
              "width": 0.5
             },
             "pattern": {
              "fillmode": "overlay",
              "size": 10,
              "solidity": 0.2
             }
            },
            "type": "bar"
           }
          ],
          "barpolar": [
           {
            "marker": {
             "line": {
              "color": "#E5ECF6",
              "width": 0.5
             },
             "pattern": {
              "fillmode": "overlay",
              "size": 10,
              "solidity": 0.2
             }
            },
            "type": "barpolar"
           }
          ],
          "carpet": [
           {
            "aaxis": {
             "endlinecolor": "#2a3f5f",
             "gridcolor": "white",
             "linecolor": "white",
             "minorgridcolor": "white",
             "startlinecolor": "#2a3f5f"
            },
            "baxis": {
             "endlinecolor": "#2a3f5f",
             "gridcolor": "white",
             "linecolor": "white",
             "minorgridcolor": "white",
             "startlinecolor": "#2a3f5f"
            },
            "type": "carpet"
           }
          ],
          "choropleth": [
           {
            "colorbar": {
             "outlinewidth": 0,
             "ticks": ""
            },
            "type": "choropleth"
           }
          ],
          "contour": [
           {
            "colorbar": {
             "outlinewidth": 0,
             "ticks": ""
            },
            "colorscale": [
             [
              0,
              "#0d0887"
             ],
             [
              0.1111111111111111,
              "#46039f"
             ],
             [
              0.2222222222222222,
              "#7201a8"
             ],
             [
              0.3333333333333333,
              "#9c179e"
             ],
             [
              0.4444444444444444,
              "#bd3786"
             ],
             [
              0.5555555555555556,
              "#d8576b"
             ],
             [
              0.6666666666666666,
              "#ed7953"
             ],
             [
              0.7777777777777778,
              "#fb9f3a"
             ],
             [
              0.8888888888888888,
              "#fdca26"
             ],
             [
              1,
              "#f0f921"
             ]
            ],
            "type": "contour"
           }
          ],
          "contourcarpet": [
           {
            "colorbar": {
             "outlinewidth": 0,
             "ticks": ""
            },
            "type": "contourcarpet"
           }
          ],
          "heatmap": [
           {
            "colorbar": {
             "outlinewidth": 0,
             "ticks": ""
            },
            "colorscale": [
             [
              0,
              "#0d0887"
             ],
             [
              0.1111111111111111,
              "#46039f"
             ],
             [
              0.2222222222222222,
              "#7201a8"
             ],
             [
              0.3333333333333333,
              "#9c179e"
             ],
             [
              0.4444444444444444,
              "#bd3786"
             ],
             [
              0.5555555555555556,
              "#d8576b"
             ],
             [
              0.6666666666666666,
              "#ed7953"
             ],
             [
              0.7777777777777778,
              "#fb9f3a"
             ],
             [
              0.8888888888888888,
              "#fdca26"
             ],
             [
              1,
              "#f0f921"
             ]
            ],
            "type": "heatmap"
           }
          ],
          "heatmapgl": [
           {
            "colorbar": {
             "outlinewidth": 0,
             "ticks": ""
            },
            "colorscale": [
             [
              0,
              "#0d0887"
             ],
             [
              0.1111111111111111,
              "#46039f"
             ],
             [
              0.2222222222222222,
              "#7201a8"
             ],
             [
              0.3333333333333333,
              "#9c179e"
             ],
             [
              0.4444444444444444,
              "#bd3786"
             ],
             [
              0.5555555555555556,
              "#d8576b"
             ],
             [
              0.6666666666666666,
              "#ed7953"
             ],
             [
              0.7777777777777778,
              "#fb9f3a"
             ],
             [
              0.8888888888888888,
              "#fdca26"
             ],
             [
              1,
              "#f0f921"
             ]
            ],
            "type": "heatmapgl"
           }
          ],
          "histogram": [
           {
            "marker": {
             "pattern": {
              "fillmode": "overlay",
              "size": 10,
              "solidity": 0.2
             }
            },
            "type": "histogram"
           }
          ],
          "histogram2d": [
           {
            "colorbar": {
             "outlinewidth": 0,
             "ticks": ""
            },
            "colorscale": [
             [
              0,
              "#0d0887"
             ],
             [
              0.1111111111111111,
              "#46039f"
             ],
             [
              0.2222222222222222,
              "#7201a8"
             ],
             [
              0.3333333333333333,
              "#9c179e"
             ],
             [
              0.4444444444444444,
              "#bd3786"
             ],
             [
              0.5555555555555556,
              "#d8576b"
             ],
             [
              0.6666666666666666,
              "#ed7953"
             ],
             [
              0.7777777777777778,
              "#fb9f3a"
             ],
             [
              0.8888888888888888,
              "#fdca26"
             ],
             [
              1,
              "#f0f921"
             ]
            ],
            "type": "histogram2d"
           }
          ],
          "histogram2dcontour": [
           {
            "colorbar": {
             "outlinewidth": 0,
             "ticks": ""
            },
            "colorscale": [
             [
              0,
              "#0d0887"
             ],
             [
              0.1111111111111111,
              "#46039f"
             ],
             [
              0.2222222222222222,
              "#7201a8"
             ],
             [
              0.3333333333333333,
              "#9c179e"
             ],
             [
              0.4444444444444444,
              "#bd3786"
             ],
             [
              0.5555555555555556,
              "#d8576b"
             ],
             [
              0.6666666666666666,
              "#ed7953"
             ],
             [
              0.7777777777777778,
              "#fb9f3a"
             ],
             [
              0.8888888888888888,
              "#fdca26"
             ],
             [
              1,
              "#f0f921"
             ]
            ],
            "type": "histogram2dcontour"
           }
          ],
          "mesh3d": [
           {
            "colorbar": {
             "outlinewidth": 0,
             "ticks": ""
            },
            "type": "mesh3d"
           }
          ],
          "parcoords": [
           {
            "line": {
             "colorbar": {
              "outlinewidth": 0,
              "ticks": ""
             }
            },
            "type": "parcoords"
           }
          ],
          "pie": [
           {
            "automargin": true,
            "type": "pie"
           }
          ],
          "scatter": [
           {
            "fillpattern": {
             "fillmode": "overlay",
             "size": 10,
             "solidity": 0.2
            },
            "type": "scatter"
           }
          ],
          "scatter3d": [
           {
            "line": {
             "colorbar": {
              "outlinewidth": 0,
              "ticks": ""
             }
            },
            "marker": {
             "colorbar": {
              "outlinewidth": 0,
              "ticks": ""
             }
            },
            "type": "scatter3d"
           }
          ],
          "scattercarpet": [
           {
            "marker": {
             "colorbar": {
              "outlinewidth": 0,
              "ticks": ""
             }
            },
            "type": "scattercarpet"
           }
          ],
          "scattergeo": [
           {
            "marker": {
             "colorbar": {
              "outlinewidth": 0,
              "ticks": ""
             }
            },
            "type": "scattergeo"
           }
          ],
          "scattergl": [
           {
            "marker": {
             "colorbar": {
              "outlinewidth": 0,
              "ticks": ""
             }
            },
            "type": "scattergl"
           }
          ],
          "scattermapbox": [
           {
            "marker": {
             "colorbar": {
              "outlinewidth": 0,
              "ticks": ""
             }
            },
            "type": "scattermapbox"
           }
          ],
          "scatterpolar": [
           {
            "marker": {
             "colorbar": {
              "outlinewidth": 0,
              "ticks": ""
             }
            },
            "type": "scatterpolar"
           }
          ],
          "scatterpolargl": [
           {
            "marker": {
             "colorbar": {
              "outlinewidth": 0,
              "ticks": ""
             }
            },
            "type": "scatterpolargl"
           }
          ],
          "scatterternary": [
           {
            "marker": {
             "colorbar": {
              "outlinewidth": 0,
              "ticks": ""
             }
            },
            "type": "scatterternary"
           }
          ],
          "surface": [
           {
            "colorbar": {
             "outlinewidth": 0,
             "ticks": ""
            },
            "colorscale": [
             [
              0,
              "#0d0887"
             ],
             [
              0.1111111111111111,
              "#46039f"
             ],
             [
              0.2222222222222222,
              "#7201a8"
             ],
             [
              0.3333333333333333,
              "#9c179e"
             ],
             [
              0.4444444444444444,
              "#bd3786"
             ],
             [
              0.5555555555555556,
              "#d8576b"
             ],
             [
              0.6666666666666666,
              "#ed7953"
             ],
             [
              0.7777777777777778,
              "#fb9f3a"
             ],
             [
              0.8888888888888888,
              "#fdca26"
             ],
             [
              1,
              "#f0f921"
             ]
            ],
            "type": "surface"
           }
          ],
          "table": [
           {
            "cells": {
             "fill": {
              "color": "#EBF0F8"
             },
             "line": {
              "color": "white"
             }
            },
            "header": {
             "fill": {
              "color": "#C8D4E3"
             },
             "line": {
              "color": "white"
             }
            },
            "type": "table"
           }
          ]
         },
         "layout": {
          "annotationdefaults": {
           "arrowcolor": "#2a3f5f",
           "arrowhead": 0,
           "arrowwidth": 1
          },
          "autotypenumbers": "strict",
          "coloraxis": {
           "colorbar": {
            "outlinewidth": 0,
            "ticks": ""
           }
          },
          "colorscale": {
           "diverging": [
            [
             0,
             "#8e0152"
            ],
            [
             0.1,
             "#c51b7d"
            ],
            [
             0.2,
             "#de77ae"
            ],
            [
             0.3,
             "#f1b6da"
            ],
            [
             0.4,
             "#fde0ef"
            ],
            [
             0.5,
             "#f7f7f7"
            ],
            [
             0.6,
             "#e6f5d0"
            ],
            [
             0.7,
             "#b8e186"
            ],
            [
             0.8,
             "#7fbc41"
            ],
            [
             0.9,
             "#4d9221"
            ],
            [
             1,
             "#276419"
            ]
           ],
           "sequential": [
            [
             0,
             "#0d0887"
            ],
            [
             0.1111111111111111,
             "#46039f"
            ],
            [
             0.2222222222222222,
             "#7201a8"
            ],
            [
             0.3333333333333333,
             "#9c179e"
            ],
            [
             0.4444444444444444,
             "#bd3786"
            ],
            [
             0.5555555555555556,
             "#d8576b"
            ],
            [
             0.6666666666666666,
             "#ed7953"
            ],
            [
             0.7777777777777778,
             "#fb9f3a"
            ],
            [
             0.8888888888888888,
             "#fdca26"
            ],
            [
             1,
             "#f0f921"
            ]
           ],
           "sequentialminus": [
            [
             0,
             "#0d0887"
            ],
            [
             0.1111111111111111,
             "#46039f"
            ],
            [
             0.2222222222222222,
             "#7201a8"
            ],
            [
             0.3333333333333333,
             "#9c179e"
            ],
            [
             0.4444444444444444,
             "#bd3786"
            ],
            [
             0.5555555555555556,
             "#d8576b"
            ],
            [
             0.6666666666666666,
             "#ed7953"
            ],
            [
             0.7777777777777778,
             "#fb9f3a"
            ],
            [
             0.8888888888888888,
             "#fdca26"
            ],
            [
             1,
             "#f0f921"
            ]
           ]
          },
          "colorway": [
           "#636efa",
           "#EF553B",
           "#00cc96",
           "#ab63fa",
           "#FFA15A",
           "#19d3f3",
           "#FF6692",
           "#B6E880",
           "#FF97FF",
           "#FECB52"
          ],
          "font": {
           "color": "#2a3f5f"
          },
          "geo": {
           "bgcolor": "white",
           "lakecolor": "white",
           "landcolor": "#E5ECF6",
           "showlakes": true,
           "showland": true,
           "subunitcolor": "white"
          },
          "hoverlabel": {
           "align": "left"
          },
          "hovermode": "closest",
          "mapbox": {
           "style": "light"
          },
          "paper_bgcolor": "white",
          "plot_bgcolor": "#E5ECF6",
          "polar": {
           "angularaxis": {
            "gridcolor": "white",
            "linecolor": "white",
            "ticks": ""
           },
           "bgcolor": "#E5ECF6",
           "radialaxis": {
            "gridcolor": "white",
            "linecolor": "white",
            "ticks": ""
           }
          },
          "scene": {
           "xaxis": {
            "backgroundcolor": "#E5ECF6",
            "gridcolor": "white",
            "gridwidth": 2,
            "linecolor": "white",
            "showbackground": true,
            "ticks": "",
            "zerolinecolor": "white"
           },
           "yaxis": {
            "backgroundcolor": "#E5ECF6",
            "gridcolor": "white",
            "gridwidth": 2,
            "linecolor": "white",
            "showbackground": true,
            "ticks": "",
            "zerolinecolor": "white"
           },
           "zaxis": {
            "backgroundcolor": "#E5ECF6",
            "gridcolor": "white",
            "gridwidth": 2,
            "linecolor": "white",
            "showbackground": true,
            "ticks": "",
            "zerolinecolor": "white"
           }
          },
          "shapedefaults": {
           "line": {
            "color": "#2a3f5f"
           }
          },
          "ternary": {
           "aaxis": {
            "gridcolor": "white",
            "linecolor": "white",
            "ticks": ""
           },
           "baxis": {
            "gridcolor": "white",
            "linecolor": "white",
            "ticks": ""
           },
           "bgcolor": "#E5ECF6",
           "caxis": {
            "gridcolor": "white",
            "linecolor": "white",
            "ticks": ""
           }
          },
          "title": {
           "x": 0.05
          },
          "xaxis": {
           "automargin": true,
           "gridcolor": "white",
           "linecolor": "white",
           "ticks": "",
           "title": {
            "standoff": 15
           },
           "zerolinecolor": "white",
           "zerolinewidth": 2
          },
          "yaxis": {
           "automargin": true,
           "gridcolor": "white",
           "linecolor": "white",
           "ticks": "",
           "title": {
            "standoff": 15
           },
           "zerolinecolor": "white",
           "zerolinewidth": 2
          }
         }
        },
        "title": {
         "font": {
          "color": "black",
          "family": "Futura",
          "size": 20
         },
         "text": "<b>CHANGES OF ACTIVE COMPANIES AMONGST INDUSTRIES DURING COVID-19<b>",
         "x": 0.5
        },
        "width": 1000,
        "xaxis": {
         "anchor": "y",
         "domain": [
          0,
          1
         ],
         "title": {
          "text": "Year-Month"
         }
        },
        "yaxis": {
         "anchor": "x",
         "domain": [
          0,
          1
         ],
         "range": [
          0,
          14000
         ],
         "title": {
          "text": "Total Number of Companies <i>(in thousands)</i>"
         }
        }
       }
      }
     },
     "metadata": {},
     "output_type": "display_data"
    }
   ],
   "source": [
    "# Plot\n",
    "line_fig = go.Figure()\n",
    "\n",
    "line_fig = px.line(size, x=\"Year-Month\", y=\"Sum\", color=\"Industry\",\n",
    "                    animation_group=\"Industry\", range_y=[0, 14000],title=\"<b>CHANGES OF ACTIVE COMPANIES AMONGST INDUSTRIES DURING COVID-19<b>\",)\n",
    "\n",
    "line_fig.update_layout(font=dict(family=\"Futura\", size=8, color=\"Grey\"), \n",
    "                      title_x=0.5,title_font_size=20,title_font_color='black',\n",
    "                      width=1000, height=600,title_font_family=\"Futura\",\n",
    "                      paper_bgcolor=\"#ededed\")\n",
    "\n",
    "# y axis\n",
    "line_fig.update_yaxes(title=\"Total Number of Companies <i>(in thousands)</i>\")\n",
    "\n",
    "# Save figure \n",
    "line_fig.write_html('ActiveCompaniesDuringCovid-19-Line.html')\n",
    "\n",
    "# display figure\n",
    "line_fig.show()"
   ]
  },
  {
   "cell_type": "markdown",
   "metadata": {},
   "source": [
    "# VISUALISATION 2: HEATMAP OF DISTRESSED BUSINESSES IN THE UK DURING COVID-19"
   ]
  },
  {
   "cell_type": "code",
   "execution_count": 16,
   "metadata": {},
   "outputs": [
    {
     "data": {
      "text/html": [
       "<div>\n",
       "<style scoped>\n",
       "    .dataframe tbody tr th:only-of-type {\n",
       "        vertical-align: middle;\n",
       "    }\n",
       "\n",
       "    .dataframe tbody tr th {\n",
       "        vertical-align: top;\n",
       "    }\n",
       "\n",
       "    .dataframe thead th {\n",
       "        text-align: right;\n",
       "    }\n",
       "</style>\n",
       "<table border=\"1\" class=\"dataframe\">\n",
       "  <thead>\n",
       "    <tr style=\"text-align: right;\">\n",
       "      <th></th>\n",
       "      <th>SIC_1</th>\n",
       "      <th>CompanyStatus</th>\n",
       "      <th>Industry</th>\n",
       "      <th>postcode</th>\n",
       "      <th>Year</th>\n",
       "      <th>Year-Month</th>\n",
       "      <th>latitude</th>\n",
       "      <th>longitude</th>\n",
       "      <th>code</th>\n",
       "      <th>description</th>\n",
       "    </tr>\n",
       "  </thead>\n",
       "  <tbody>\n",
       "    <tr>\n",
       "      <th>0</th>\n",
       "      <td>62090</td>\n",
       "      <td>Distressed</td>\n",
       "      <td>Information &amp; Communication</td>\n",
       "      <td>TR4 8UN</td>\n",
       "      <td>2020</td>\n",
       "      <td>2020-05</td>\n",
       "      <td>50.286604</td>\n",
       "      <td>-5.154590</td>\n",
       "      <td>TR</td>\n",
       "      <td>SIC category: Information &amp; Communication\\nCom...</td>\n",
       "    </tr>\n",
       "    <tr>\n",
       "      <th>1</th>\n",
       "      <td>64999</td>\n",
       "      <td>Distressed</td>\n",
       "      <td>Financial &amp; Insurance</td>\n",
       "      <td>SE1 9EY</td>\n",
       "      <td>2021</td>\n",
       "      <td>2021-09</td>\n",
       "      <td>51.507644</td>\n",
       "      <td>-0.107208</td>\n",
       "      <td>SE</td>\n",
       "      <td>SIC category: Financial &amp; Insurance\\nCompany S...</td>\n",
       "    </tr>\n",
       "    <tr>\n",
       "      <th>2</th>\n",
       "      <td>41202</td>\n",
       "      <td>Distressed</td>\n",
       "      <td>Construction</td>\n",
       "      <td>L1 0AH</td>\n",
       "      <td>2020</td>\n",
       "      <td>2020-01</td>\n",
       "      <td>53.395947</td>\n",
       "      <td>-2.980549</td>\n",
       "      <td>L</td>\n",
       "      <td>SIC category: Construction\\nCompany Status: Di...</td>\n",
       "    </tr>\n",
       "    <tr>\n",
       "      <th>3</th>\n",
       "      <td>47890</td>\n",
       "      <td>Distressed</td>\n",
       "      <td>Wholesale &amp; Retail</td>\n",
       "      <td>CV5 8EF</td>\n",
       "      <td>2020</td>\n",
       "      <td>2020-03</td>\n",
       "      <td>52.407448</td>\n",
       "      <td>-1.538685</td>\n",
       "      <td>CV</td>\n",
       "      <td>SIC category: Wholesale &amp; Retail\\nCompany Stat...</td>\n",
       "    </tr>\n",
       "    <tr>\n",
       "      <th>4</th>\n",
       "      <td>99999</td>\n",
       "      <td>Distressed</td>\n",
       "      <td>Extraterritorial Organisations</td>\n",
       "      <td>SG4 7DH</td>\n",
       "      <td>2020</td>\n",
       "      <td>2020-09</td>\n",
       "      <td>51.955684</td>\n",
       "      <td>-0.168762</td>\n",
       "      <td>SG</td>\n",
       "      <td>SIC category: Extraterritorial Organisations\\n...</td>\n",
       "    </tr>\n",
       "  </tbody>\n",
       "</table>\n",
       "</div>"
      ],
      "text/plain": [
       "   SIC_1 CompanyStatus                        Industry postcode  Year  \\\n",
       "0  62090    Distressed     Information & Communication  TR4 8UN  2020   \n",
       "1  64999    Distressed           Financial & Insurance  SE1 9EY  2021   \n",
       "2  41202    Distressed                    Construction   L1 0AH  2020   \n",
       "3  47890    Distressed              Wholesale & Retail  CV5 8EF  2020   \n",
       "4  99999    Distressed  Extraterritorial Organisations  SG4 7DH  2020   \n",
       "\n",
       "  Year-Month   latitude  longitude code  \\\n",
       "0    2020-05  50.286604  -5.154590   TR   \n",
       "1    2021-09  51.507644  -0.107208   SE   \n",
       "2    2020-01  53.395947  -2.980549    L   \n",
       "3    2020-03  52.407448  -1.538685   CV   \n",
       "4    2020-09  51.955684  -0.168762   SG   \n",
       "\n",
       "                                         description  \n",
       "0  SIC category: Information & Communication\\nCom...  \n",
       "1  SIC category: Financial & Insurance\\nCompany S...  \n",
       "2  SIC category: Construction\\nCompany Status: Di...  \n",
       "3  SIC category: Wholesale & Retail\\nCompany Stat...  \n",
       "4  SIC category: Extraterritorial Organisations\\n...  "
      ]
     },
     "execution_count": 16,
     "metadata": {},
     "output_type": "execute_result"
    }
   ],
   "source": [
    "# Import coordinates data\n",
    "geo_df = pd.read_csv(\"ukpostcodes.csv\")\n",
    "geo_df = geo_df.loc[geo_df[\"postcode\"].apply(lambda x: True if re.findall(r\"^[a-zA-Z]+\", x) else False)]\n",
    "geo_df[\"code\"] = geo_df[\"postcode\"].apply(lambda x: re.findall(r\"^[a-zA-Z]+\", x)[0])\n",
    "\n",
    "# Get the uk map\n",
    "uk_bound = gpd.read_file(\"uk_regions.geojson\")\n",
    "\n",
    "# Get the company going distressed during pandemics\n",
    "distress = plot1.loc[plot1['CompanyStatus'] == 'Distressed', :]\n",
    "\n",
    "# Get necessary columns\n",
    "distress1 = distress[['SIC_1', 'CompanyStatus', 'Industry', 'RegAddress.PostCode', 'Year', 'Year-Month']]\n",
    "\n",
    "# Merge postcode latitude and longitude data \n",
    "distress2 = pd.merge(left=distress1.rename({'RegAddress.PostCode':'postcode'}, axis=1),\n",
    "         right=geo_df, on='postcode').dropna().drop_duplicates().reset_index(drop=True).drop('id', axis=1)\n",
    "\n",
    "# Create description columns\n",
    "distress2['description'] = 'SIC category: ' + distress2['Industry'] + '\\n' + 'Company Status: ' + distress2['CompanyStatus']\n",
    "\n",
    "# View data\n",
    "distress2.head()"
   ]
  },
  {
   "cell_type": "code",
   "execution_count": 17,
   "metadata": {},
   "outputs": [
    {
     "data": {
      "application/vnd.plotly.v1+json": {
       "config": {
        "plotlyServerURL": "https://plot.ly"
       },
       "data": [
        {
         "coloraxis": "coloraxis",
         "hovertemplate": "Year-Month=2020-05<br>latitude=%{lat}<br>longitude=%{lon}<extra></extra>",
         "lat": [
          50.286603725546,
          51.601839201040896,
          53.569749,
          51.511385150531694,
          52.57096325,
          57.6993098020997,
          53.488130299028,
          52.0504226015407,
          51.6563203431212,
          51.8533006649813
         ],
         "lon": [
          -5.15458976226551,
          -0.634631571844063,
          -0.049818,
          -0.12689796374613,
          -1.802466955,
          -4.14138993876702,
          -2.233681,
          1.286074,
          -0.040645445571736,
          0.995502068156934
         ],
         "name": "",
         "radius": 6,
         "subplot": "mapbox",
         "type": "densitymapbox"
        }
       ],
       "frames": [
        {
         "data": [
          {
           "coloraxis": "coloraxis",
           "hovertemplate": "Year-Month=2020-05<br>latitude=%{lat}<br>longitude=%{lon}<extra></extra>",
           "lat": [
            50.286603725546,
            51.601839201040896,
            53.569749,
            51.511385150531694,
            52.57096325,
            57.6993098020997,
            53.488130299028,
            52.0504226015407,
            51.6563203431212,
            51.8533006649813
           ],
           "lon": [
            -5.15458976226551,
            -0.634631571844063,
            -0.049818,
            -0.12689796374613,
            -1.802466955,
            -4.14138993876702,
            -2.233681,
            1.286074,
            -0.040645445571736,
            0.995502068156934
           ],
           "name": "",
           "radius": 6,
           "subplot": "mapbox",
           "type": "densitymapbox"
          }
         ],
         "name": "2020-05"
        },
        {
         "data": [
          {
           "coloraxis": "coloraxis",
           "hovertemplate": "Year-Month=2021-09<br>latitude=%{lat}<br>longitude=%{lon}<extra></extra>",
           "lat": [
            51.507644
           ],
           "lon": [
            -0.107208
           ],
           "name": "",
           "radius": 6,
           "subplot": "mapbox",
           "type": "densitymapbox"
          }
         ],
         "name": "2021-09"
        },
        {
         "data": [
          {
           "coloraxis": "coloraxis",
           "hovertemplate": "Year-Month=2020-01<br>latitude=%{lat}<br>longitude=%{lon}<extra></extra>",
           "lat": [
            53.395947393081,
            53.5644713796903,
            56.467000763460305,
            54.5160778800638,
            53.328387,
            52.29512023,
            52.5638471431352,
            52.20348874588431,
            50.714795889116495,
            55.8481668804132,
            53.717222
           ],
           "lon": [
            -2.98054854992412,
            -0.087721983682527,
            -2.8751774626282,
            -1.17206710086798,
            -2.22887161149103,
            -1.967506702,
            1.11553850349601,
            -3.0284603654286,
            -2.4386961902224,
            -3.056727,
            -2.460727
           ],
           "name": "",
           "radius": 6,
           "subplot": "mapbox",
           "type": "densitymapbox"
          }
         ],
         "name": "2020-01"
        },
        {
         "data": [
          {
           "coloraxis": "coloraxis",
           "hovertemplate": "Year-Month=2020-03<br>latitude=%{lat}<br>longitude=%{lon}<extra></extra>",
           "lat": [
            52.4074477240645,
            51.4449884265616,
            51.383369,
            53.389065538609294,
            53.389065538609294,
            51.653324273946495,
            51.5474033695224,
            53.5454772268756,
            51.771667706283694
           ],
           "lon": [
            -1.53868546066779,
            -0.124782,
            0.001293781,
            -2.34882438011593,
            -2.34882438011593,
            -0.198914252689303,
            -0.179663243486846,
            -1.51702422333392,
            -1.25919374538049
           ],
           "name": "",
           "radius": 6,
           "subplot": "mapbox",
           "type": "densitymapbox"
          }
         ],
         "name": "2020-03"
        },
        {
         "data": [
          {
           "coloraxis": "coloraxis",
           "hovertemplate": "Year-Month=2020-09<br>latitude=%{lat}<br>longitude=%{lon}<extra></extra>",
           "lat": [
            51.9556839481544,
            53.58606914,
            51.6080034902602,
            53.5227581945488,
            51.5389943984063
           ],
           "lon": [
            -0.168761578715665,
            -2.464072,
            -0.075958039692608,
            -2.39852089193967,
            0.051447345455585
           ],
           "name": "",
           "radius": 6,
           "subplot": "mapbox",
           "type": "densitymapbox"
          }
         ],
         "name": "2020-09"
        },
        {
         "data": [
          {
           "coloraxis": "coloraxis",
           "hovertemplate": "Year-Month=2020-04<br>latitude=%{lat}<br>longitude=%{lon}<extra></extra>",
           "lat": [
            50.571505,
            54.9584236086131,
            52.5896155419098,
            50.8666168052668,
            51.392249127085506,
            51.516862,
            53.582081,
            53.4988745050831
           ],
           "lon": [
            -3.655041,
            -1.68250965811357,
            -2.17499,
            -1.26673345266217,
            -0.103853524603281,
            -0.166093,
            -1.450691,
            -2.08207344412752
           ],
           "name": "",
           "radius": 6,
           "subplot": "mapbox",
           "type": "densitymapbox"
          }
         ],
         "name": "2020-04"
        },
        {
         "data": [
          {
           "coloraxis": "coloraxis",
           "hovertemplate": "Year-Month=2020-02<br>latitude=%{lat}<br>longitude=%{lon}<extra></extra>",
           "lat": [
            50.571505,
            51.5471873835213,
            51.52195930586,
            51.591517284679696,
            51.5078557892958,
            51.5875093502094,
            53.426366085179694,
            53.518905001855,
            51.5798542431376,
            51.5798542431376,
            51.0140892164448,
            53.3293874443786,
            52.525728456829,
            51.5225630961068,
            52.39169464,
            53.8700644794114
           ],
           "lon": [
            -3.655041,
            -0.227916,
            -0.515799191265203,
            -3.2054892633442,
            -0.139622947914922,
            -0.301425239840434,
            -1.41728882149573,
            -2.65484884888334,
            -0.334965,
            -0.334965,
            -3.06809568082383,
            -2.22695607618444,
            -2.216139,
            -0.092433,
            -1.808175195,
            -3.00067162889739
           ],
           "name": "",
           "radius": 6,
           "subplot": "mapbox",
           "type": "densitymapbox"
          }
         ],
         "name": "2020-02"
        },
        {
         "data": [
          {
           "coloraxis": "coloraxis",
           "hovertemplate": "Year-Month=2021-08<br>latitude=%{lat}<br>longitude=%{lon}<extra></extra>",
           "lat": [
            51.2947857975143,
            51.610713,
            51.5272681438089
           ],
           "lon": [
            0.409457,
            0.496486,
            -0.08892
           ],
           "name": "",
           "radius": 6,
           "subplot": "mapbox",
           "type": "densitymapbox"
          }
         ],
         "name": "2021-08"
        },
        {
         "data": [
          {
           "coloraxis": "coloraxis",
           "hovertemplate": "Year-Month=2020-08<br>latitude=%{lat}<br>longitude=%{lon}<extra></extra>",
           "lat": [
            50.74727898,
            50.7234088814841,
            52.5388310401346,
            53.4948112396564
           ],
           "lon": [
            -1.796424668,
            -3.525186,
            -2.11786247588943,
            -1.14597567695163
           ],
           "name": "",
           "radius": 6,
           "subplot": "mapbox",
           "type": "densitymapbox"
          }
         ],
         "name": "2020-08"
        },
        {
         "data": [
          {
           "coloraxis": "coloraxis",
           "hovertemplate": "Year-Month=2020-06<br>latitude=%{lat}<br>longitude=%{lon}<extra></extra>",
           "lat": [
            53.328387,
            51.5253899456182,
            54.606629,
            53.7868077005244,
            53.555093,
            53.3888273458735
           ],
           "lon": [
            -2.22887161149103,
            -0.128240603965785,
            -5.919201,
            -2.64898251940681,
            -1.4819228248445,
            -2.916947
           ],
           "name": "",
           "radius": 6,
           "subplot": "mapbox",
           "type": "densitymapbox"
          }
         ],
         "name": "2020-06"
        },
        {
         "data": [
          {
           "coloraxis": "coloraxis",
           "hovertemplate": "Year-Month=2021-01<br>latitude=%{lat}<br>longitude=%{lon}<extra></extra>",
           "lat": [
            51.287751,
            53.5018629942712,
            51.5306600989,
            51.611413233944496,
            52.0553599831466
           ],
           "lon": [
            1.344353,
            -2.89104092664232,
            -0.093566463,
            -0.280601990359395,
            -2.71717531211815
           ],
           "name": "",
           "radius": 6,
           "subplot": "mapbox",
           "type": "densitymapbox"
          }
         ],
         "name": "2021-01"
        },
        {
         "data": [
          {
           "coloraxis": "coloraxis",
           "hovertemplate": "Year-Month=2021-04<br>latitude=%{lat}<br>longitude=%{lon}<extra></extra>",
           "lat": [
            51.645169,
            51.4923826648847,
            51.2351787371517
           ],
           "lon": [
            0.053153174112434,
            -0.039889503529641,
            -0.571641992450453
           ],
           "name": "",
           "radius": 6,
           "subplot": "mapbox",
           "type": "densitymapbox"
          }
         ],
         "name": "2021-04"
        },
        {
         "data": [
          {
           "coloraxis": "coloraxis",
           "hovertemplate": "Year-Month=2021-03<br>latitude=%{lat}<br>longitude=%{lon}<extra></extra>",
           "lat": [
            52.52426419,
            53.4414867434212
           ],
           "lon": [
            -1.815690685,
            -2.1586947744256
           ],
           "name": "",
           "radius": 6,
           "subplot": "mapbox",
           "type": "densitymapbox"
          }
         ],
         "name": "2021-03"
        },
        {
         "data": [
          {
           "coloraxis": "coloraxis",
           "hovertemplate": "Year-Month=2020-10<br>latitude=%{lat}<br>longitude=%{lon}<extra></extra>",
           "lat": [
            54.1351156364837,
            53.7936706,
            52.6035619278934,
            51.5926,
            50.7588845267141,
            51.4057264234536,
            53.408113756111696
           ],
           "lon": [
            -2.47583835192366,
            -1.725140032,
            -1.91861369232118,
            0.026127,
            -2.07463487669152,
            -0.069535873143887,
            -2.99307361216862
           ],
           "name": "",
           "radius": 6,
           "subplot": "mapbox",
           "type": "densitymapbox"
          }
         ],
         "name": "2020-10"
        },
        {
         "data": [
          {
           "coloraxis": "coloraxis",
           "hovertemplate": "Year-Month=2020-07<br>latitude=%{lat}<br>longitude=%{lon}<extra></extra>",
           "lat": [
            53.686987375278704,
            51.5221755106527,
            53.541793069985104,
            55.015337,
            52.282572,
            51.5142538741586
           ],
           "lon": [
            -1.613225,
            0.02624316381093,
            -2.1060592084314,
            -7.336394,
            -1.528842,
            -0.111762571673787
           ],
           "name": "",
           "radius": 6,
           "subplot": "mapbox",
           "type": "densitymapbox"
          }
         ],
         "name": "2020-07"
        },
        {
         "data": [
          {
           "coloraxis": "coloraxis",
           "hovertemplate": "Year-Month=2021-12<br>latitude=%{lat}<br>longitude=%{lon}<extra></extra>",
           "lat": [
            51.6326399387594,
            51.4946621831916
           ],
           "lon": [
            -0.099001,
            -0.276038027119627
           ],
           "name": "",
           "radius": 6,
           "subplot": "mapbox",
           "type": "densitymapbox"
          }
         ],
         "name": "2021-12"
        },
        {
         "data": [
          {
           "coloraxis": "coloraxis",
           "hovertemplate": "Year-Month=2021-02<br>latitude=%{lat}<br>longitude=%{lon}<extra></extra>",
           "lat": [
            54.8911115935824,
            52.6599254130714,
            51.9992158936514,
            52.602443
           ],
           "lon": [
            -1.57764945443305,
            1.07723166832553,
            -0.755759599969471,
            -2.038036
           ],
           "name": "",
           "radius": 6,
           "subplot": "mapbox",
           "type": "densitymapbox"
          }
         ],
         "name": "2021-02"
        },
        {
         "data": [
          {
           "coloraxis": "coloraxis",
           "hovertemplate": "Year-Month=2020-11<br>latitude=%{lat}<br>longitude=%{lon}<extra></extra>",
           "lat": [
            53.541793069985104,
            53.348616221508
           ],
           "lon": [
            -2.1060592084314,
            -1.50552090612874
           ],
           "name": "",
           "radius": 6,
           "subplot": "mapbox",
           "type": "densitymapbox"
          }
         ],
         "name": "2020-11"
        },
        {
         "data": [
          {
           "coloraxis": "coloraxis",
           "hovertemplate": "Year-Month=2021-06<br>latitude=%{lat}<br>longitude=%{lon}<extra></extra>",
           "lat": [
            51.50892244656409,
            51.5345454056222,
            53.798528
           ],
           "lon": [
            -0.33632603750514,
            -3.261179,
            -1.550469
           ],
           "name": "",
           "radius": 6,
           "subplot": "mapbox",
           "type": "densitymapbox"
          }
         ],
         "name": "2021-06"
        }
       ],
       "layout": {
        "coloraxis": {
         "colorscale": [
          [
           0,
           "#0d0887"
          ],
          [
           0.1111111111111111,
           "#46039f"
          ],
          [
           0.2222222222222222,
           "#7201a8"
          ],
          [
           0.3333333333333333,
           "#9c179e"
          ],
          [
           0.4444444444444444,
           "#bd3786"
          ],
          [
           0.5555555555555556,
           "#d8576b"
          ],
          [
           0.6666666666666666,
           "#ed7953"
          ],
          [
           0.7777777777777778,
           "#fb9f3a"
          ],
          [
           0.8888888888888888,
           "#fdca26"
          ],
          [
           1,
           "#f0f921"
          ]
         ]
        },
        "font": {
         "color": "Grey",
         "family": "Futura",
         "size": 8
        },
        "geo": {
         "countrycolor": "rgb(217, 217, 217)",
         "countrywidth": 0.5,
         "landcolor": "rgb(250, 250, 250)",
         "showland": true,
         "subunitcolor": "rgb(217, 217, 217)",
         "subunitwidth": 0.5
        },
        "height": 500,
        "legend": {
         "tracegroupgap": 0
        },
        "mapbox": {
         "center": {
          "lat": 53.55,
          "lon": -2.4333
         },
         "domain": {
          "x": [
           0,
           1
          ],
          "y": [
           0,
           1
          ]
         },
         "style": "open-street-map",
         "zoom": 4
        },
        "margin": {
         "b": 0,
         "l": 0,
         "r": 0,
         "t": 0
        },
        "paper_bgcolor": "#ededed",
        "sliders": [
         {
          "active": 0,
          "currentvalue": {
           "prefix": "Year-Month="
          },
          "len": 0.9,
          "pad": {
           "b": 10,
           "t": 60
          },
          "steps": [
           {
            "args": [
             [
              "2020-05"
             ],
             {
              "frame": {
               "duration": 0,
               "redraw": true
              },
              "fromcurrent": true,
              "mode": "immediate",
              "transition": {
               "duration": 0,
               "easing": "linear"
              }
             }
            ],
            "label": "2020-05",
            "method": "animate"
           },
           {
            "args": [
             [
              "2021-09"
             ],
             {
              "frame": {
               "duration": 0,
               "redraw": true
              },
              "fromcurrent": true,
              "mode": "immediate",
              "transition": {
               "duration": 0,
               "easing": "linear"
              }
             }
            ],
            "label": "2021-09",
            "method": "animate"
           },
           {
            "args": [
             [
              "2020-01"
             ],
             {
              "frame": {
               "duration": 0,
               "redraw": true
              },
              "fromcurrent": true,
              "mode": "immediate",
              "transition": {
               "duration": 0,
               "easing": "linear"
              }
             }
            ],
            "label": "2020-01",
            "method": "animate"
           },
           {
            "args": [
             [
              "2020-03"
             ],
             {
              "frame": {
               "duration": 0,
               "redraw": true
              },
              "fromcurrent": true,
              "mode": "immediate",
              "transition": {
               "duration": 0,
               "easing": "linear"
              }
             }
            ],
            "label": "2020-03",
            "method": "animate"
           },
           {
            "args": [
             [
              "2020-09"
             ],
             {
              "frame": {
               "duration": 0,
               "redraw": true
              },
              "fromcurrent": true,
              "mode": "immediate",
              "transition": {
               "duration": 0,
               "easing": "linear"
              }
             }
            ],
            "label": "2020-09",
            "method": "animate"
           },
           {
            "args": [
             [
              "2020-04"
             ],
             {
              "frame": {
               "duration": 0,
               "redraw": true
              },
              "fromcurrent": true,
              "mode": "immediate",
              "transition": {
               "duration": 0,
               "easing": "linear"
              }
             }
            ],
            "label": "2020-04",
            "method": "animate"
           },
           {
            "args": [
             [
              "2020-02"
             ],
             {
              "frame": {
               "duration": 0,
               "redraw": true
              },
              "fromcurrent": true,
              "mode": "immediate",
              "transition": {
               "duration": 0,
               "easing": "linear"
              }
             }
            ],
            "label": "2020-02",
            "method": "animate"
           },
           {
            "args": [
             [
              "2021-08"
             ],
             {
              "frame": {
               "duration": 0,
               "redraw": true
              },
              "fromcurrent": true,
              "mode": "immediate",
              "transition": {
               "duration": 0,
               "easing": "linear"
              }
             }
            ],
            "label": "2021-08",
            "method": "animate"
           },
           {
            "args": [
             [
              "2020-08"
             ],
             {
              "frame": {
               "duration": 0,
               "redraw": true
              },
              "fromcurrent": true,
              "mode": "immediate",
              "transition": {
               "duration": 0,
               "easing": "linear"
              }
             }
            ],
            "label": "2020-08",
            "method": "animate"
           },
           {
            "args": [
             [
              "2020-06"
             ],
             {
              "frame": {
               "duration": 0,
               "redraw": true
              },
              "fromcurrent": true,
              "mode": "immediate",
              "transition": {
               "duration": 0,
               "easing": "linear"
              }
             }
            ],
            "label": "2020-06",
            "method": "animate"
           },
           {
            "args": [
             [
              "2021-01"
             ],
             {
              "frame": {
               "duration": 0,
               "redraw": true
              },
              "fromcurrent": true,
              "mode": "immediate",
              "transition": {
               "duration": 0,
               "easing": "linear"
              }
             }
            ],
            "label": "2021-01",
            "method": "animate"
           },
           {
            "args": [
             [
              "2021-04"
             ],
             {
              "frame": {
               "duration": 0,
               "redraw": true
              },
              "fromcurrent": true,
              "mode": "immediate",
              "transition": {
               "duration": 0,
               "easing": "linear"
              }
             }
            ],
            "label": "2021-04",
            "method": "animate"
           },
           {
            "args": [
             [
              "2021-03"
             ],
             {
              "frame": {
               "duration": 0,
               "redraw": true
              },
              "fromcurrent": true,
              "mode": "immediate",
              "transition": {
               "duration": 0,
               "easing": "linear"
              }
             }
            ],
            "label": "2021-03",
            "method": "animate"
           },
           {
            "args": [
             [
              "2020-10"
             ],
             {
              "frame": {
               "duration": 0,
               "redraw": true
              },
              "fromcurrent": true,
              "mode": "immediate",
              "transition": {
               "duration": 0,
               "easing": "linear"
              }
             }
            ],
            "label": "2020-10",
            "method": "animate"
           },
           {
            "args": [
             [
              "2020-07"
             ],
             {
              "frame": {
               "duration": 0,
               "redraw": true
              },
              "fromcurrent": true,
              "mode": "immediate",
              "transition": {
               "duration": 0,
               "easing": "linear"
              }
             }
            ],
            "label": "2020-07",
            "method": "animate"
           },
           {
            "args": [
             [
              "2021-12"
             ],
             {
              "frame": {
               "duration": 0,
               "redraw": true
              },
              "fromcurrent": true,
              "mode": "immediate",
              "transition": {
               "duration": 0,
               "easing": "linear"
              }
             }
            ],
            "label": "2021-12",
            "method": "animate"
           },
           {
            "args": [
             [
              "2021-02"
             ],
             {
              "frame": {
               "duration": 0,
               "redraw": true
              },
              "fromcurrent": true,
              "mode": "immediate",
              "transition": {
               "duration": 0,
               "easing": "linear"
              }
             }
            ],
            "label": "2021-02",
            "method": "animate"
           },
           {
            "args": [
             [
              "2020-11"
             ],
             {
              "frame": {
               "duration": 0,
               "redraw": true
              },
              "fromcurrent": true,
              "mode": "immediate",
              "transition": {
               "duration": 0,
               "easing": "linear"
              }
             }
            ],
            "label": "2020-11",
            "method": "animate"
           },
           {
            "args": [
             [
              "2021-06"
             ],
             {
              "frame": {
               "duration": 0,
               "redraw": true
              },
              "fromcurrent": true,
              "mode": "immediate",
              "transition": {
               "duration": 0,
               "easing": "linear"
              }
             }
            ],
            "label": "2021-06",
            "method": "animate"
           }
          ],
          "x": 0.1,
          "xanchor": "left",
          "y": 0,
          "yanchor": "top"
         }
        ],
        "template": {
         "data": {
          "bar": [
           {
            "error_x": {
             "color": "#2a3f5f"
            },
            "error_y": {
             "color": "#2a3f5f"
            },
            "marker": {
             "line": {
              "color": "#E5ECF6",
              "width": 0.5
             },
             "pattern": {
              "fillmode": "overlay",
              "size": 10,
              "solidity": 0.2
             }
            },
            "type": "bar"
           }
          ],
          "barpolar": [
           {
            "marker": {
             "line": {
              "color": "#E5ECF6",
              "width": 0.5
             },
             "pattern": {
              "fillmode": "overlay",
              "size": 10,
              "solidity": 0.2
             }
            },
            "type": "barpolar"
           }
          ],
          "carpet": [
           {
            "aaxis": {
             "endlinecolor": "#2a3f5f",
             "gridcolor": "white",
             "linecolor": "white",
             "minorgridcolor": "white",
             "startlinecolor": "#2a3f5f"
            },
            "baxis": {
             "endlinecolor": "#2a3f5f",
             "gridcolor": "white",
             "linecolor": "white",
             "minorgridcolor": "white",
             "startlinecolor": "#2a3f5f"
            },
            "type": "carpet"
           }
          ],
          "choropleth": [
           {
            "colorbar": {
             "outlinewidth": 0,
             "ticks": ""
            },
            "type": "choropleth"
           }
          ],
          "contour": [
           {
            "colorbar": {
             "outlinewidth": 0,
             "ticks": ""
            },
            "colorscale": [
             [
              0,
              "#0d0887"
             ],
             [
              0.1111111111111111,
              "#46039f"
             ],
             [
              0.2222222222222222,
              "#7201a8"
             ],
             [
              0.3333333333333333,
              "#9c179e"
             ],
             [
              0.4444444444444444,
              "#bd3786"
             ],
             [
              0.5555555555555556,
              "#d8576b"
             ],
             [
              0.6666666666666666,
              "#ed7953"
             ],
             [
              0.7777777777777778,
              "#fb9f3a"
             ],
             [
              0.8888888888888888,
              "#fdca26"
             ],
             [
              1,
              "#f0f921"
             ]
            ],
            "type": "contour"
           }
          ],
          "contourcarpet": [
           {
            "colorbar": {
             "outlinewidth": 0,
             "ticks": ""
            },
            "type": "contourcarpet"
           }
          ],
          "heatmap": [
           {
            "colorbar": {
             "outlinewidth": 0,
             "ticks": ""
            },
            "colorscale": [
             [
              0,
              "#0d0887"
             ],
             [
              0.1111111111111111,
              "#46039f"
             ],
             [
              0.2222222222222222,
              "#7201a8"
             ],
             [
              0.3333333333333333,
              "#9c179e"
             ],
             [
              0.4444444444444444,
              "#bd3786"
             ],
             [
              0.5555555555555556,
              "#d8576b"
             ],
             [
              0.6666666666666666,
              "#ed7953"
             ],
             [
              0.7777777777777778,
              "#fb9f3a"
             ],
             [
              0.8888888888888888,
              "#fdca26"
             ],
             [
              1,
              "#f0f921"
             ]
            ],
            "type": "heatmap"
           }
          ],
          "heatmapgl": [
           {
            "colorbar": {
             "outlinewidth": 0,
             "ticks": ""
            },
            "colorscale": [
             [
              0,
              "#0d0887"
             ],
             [
              0.1111111111111111,
              "#46039f"
             ],
             [
              0.2222222222222222,
              "#7201a8"
             ],
             [
              0.3333333333333333,
              "#9c179e"
             ],
             [
              0.4444444444444444,
              "#bd3786"
             ],
             [
              0.5555555555555556,
              "#d8576b"
             ],
             [
              0.6666666666666666,
              "#ed7953"
             ],
             [
              0.7777777777777778,
              "#fb9f3a"
             ],
             [
              0.8888888888888888,
              "#fdca26"
             ],
             [
              1,
              "#f0f921"
             ]
            ],
            "type": "heatmapgl"
           }
          ],
          "histogram": [
           {
            "marker": {
             "pattern": {
              "fillmode": "overlay",
              "size": 10,
              "solidity": 0.2
             }
            },
            "type": "histogram"
           }
          ],
          "histogram2d": [
           {
            "colorbar": {
             "outlinewidth": 0,
             "ticks": ""
            },
            "colorscale": [
             [
              0,
              "#0d0887"
             ],
             [
              0.1111111111111111,
              "#46039f"
             ],
             [
              0.2222222222222222,
              "#7201a8"
             ],
             [
              0.3333333333333333,
              "#9c179e"
             ],
             [
              0.4444444444444444,
              "#bd3786"
             ],
             [
              0.5555555555555556,
              "#d8576b"
             ],
             [
              0.6666666666666666,
              "#ed7953"
             ],
             [
              0.7777777777777778,
              "#fb9f3a"
             ],
             [
              0.8888888888888888,
              "#fdca26"
             ],
             [
              1,
              "#f0f921"
             ]
            ],
            "type": "histogram2d"
           }
          ],
          "histogram2dcontour": [
           {
            "colorbar": {
             "outlinewidth": 0,
             "ticks": ""
            },
            "colorscale": [
             [
              0,
              "#0d0887"
             ],
             [
              0.1111111111111111,
              "#46039f"
             ],
             [
              0.2222222222222222,
              "#7201a8"
             ],
             [
              0.3333333333333333,
              "#9c179e"
             ],
             [
              0.4444444444444444,
              "#bd3786"
             ],
             [
              0.5555555555555556,
              "#d8576b"
             ],
             [
              0.6666666666666666,
              "#ed7953"
             ],
             [
              0.7777777777777778,
              "#fb9f3a"
             ],
             [
              0.8888888888888888,
              "#fdca26"
             ],
             [
              1,
              "#f0f921"
             ]
            ],
            "type": "histogram2dcontour"
           }
          ],
          "mesh3d": [
           {
            "colorbar": {
             "outlinewidth": 0,
             "ticks": ""
            },
            "type": "mesh3d"
           }
          ],
          "parcoords": [
           {
            "line": {
             "colorbar": {
              "outlinewidth": 0,
              "ticks": ""
             }
            },
            "type": "parcoords"
           }
          ],
          "pie": [
           {
            "automargin": true,
            "type": "pie"
           }
          ],
          "scatter": [
           {
            "fillpattern": {
             "fillmode": "overlay",
             "size": 10,
             "solidity": 0.2
            },
            "type": "scatter"
           }
          ],
          "scatter3d": [
           {
            "line": {
             "colorbar": {
              "outlinewidth": 0,
              "ticks": ""
             }
            },
            "marker": {
             "colorbar": {
              "outlinewidth": 0,
              "ticks": ""
             }
            },
            "type": "scatter3d"
           }
          ],
          "scattercarpet": [
           {
            "marker": {
             "colorbar": {
              "outlinewidth": 0,
              "ticks": ""
             }
            },
            "type": "scattercarpet"
           }
          ],
          "scattergeo": [
           {
            "marker": {
             "colorbar": {
              "outlinewidth": 0,
              "ticks": ""
             }
            },
            "type": "scattergeo"
           }
          ],
          "scattergl": [
           {
            "marker": {
             "colorbar": {
              "outlinewidth": 0,
              "ticks": ""
             }
            },
            "type": "scattergl"
           }
          ],
          "scattermapbox": [
           {
            "marker": {
             "colorbar": {
              "outlinewidth": 0,
              "ticks": ""
             }
            },
            "type": "scattermapbox"
           }
          ],
          "scatterpolar": [
           {
            "marker": {
             "colorbar": {
              "outlinewidth": 0,
              "ticks": ""
             }
            },
            "type": "scatterpolar"
           }
          ],
          "scatterpolargl": [
           {
            "marker": {
             "colorbar": {
              "outlinewidth": 0,
              "ticks": ""
             }
            },
            "type": "scatterpolargl"
           }
          ],
          "scatterternary": [
           {
            "marker": {
             "colorbar": {
              "outlinewidth": 0,
              "ticks": ""
             }
            },
            "type": "scatterternary"
           }
          ],
          "surface": [
           {
            "colorbar": {
             "outlinewidth": 0,
             "ticks": ""
            },
            "colorscale": [
             [
              0,
              "#0d0887"
             ],
             [
              0.1111111111111111,
              "#46039f"
             ],
             [
              0.2222222222222222,
              "#7201a8"
             ],
             [
              0.3333333333333333,
              "#9c179e"
             ],
             [
              0.4444444444444444,
              "#bd3786"
             ],
             [
              0.5555555555555556,
              "#d8576b"
             ],
             [
              0.6666666666666666,
              "#ed7953"
             ],
             [
              0.7777777777777778,
              "#fb9f3a"
             ],
             [
              0.8888888888888888,
              "#fdca26"
             ],
             [
              1,
              "#f0f921"
             ]
            ],
            "type": "surface"
           }
          ],
          "table": [
           {
            "cells": {
             "fill": {
              "color": "#EBF0F8"
             },
             "line": {
              "color": "white"
             }
            },
            "header": {
             "fill": {
              "color": "#C8D4E3"
             },
             "line": {
              "color": "white"
             }
            },
            "type": "table"
           }
          ]
         },
         "layout": {
          "annotationdefaults": {
           "arrowcolor": "#2a3f5f",
           "arrowhead": 0,
           "arrowwidth": 1
          },
          "autotypenumbers": "strict",
          "coloraxis": {
           "colorbar": {
            "outlinewidth": 0,
            "ticks": ""
           }
          },
          "colorscale": {
           "diverging": [
            [
             0,
             "#8e0152"
            ],
            [
             0.1,
             "#c51b7d"
            ],
            [
             0.2,
             "#de77ae"
            ],
            [
             0.3,
             "#f1b6da"
            ],
            [
             0.4,
             "#fde0ef"
            ],
            [
             0.5,
             "#f7f7f7"
            ],
            [
             0.6,
             "#e6f5d0"
            ],
            [
             0.7,
             "#b8e186"
            ],
            [
             0.8,
             "#7fbc41"
            ],
            [
             0.9,
             "#4d9221"
            ],
            [
             1,
             "#276419"
            ]
           ],
           "sequential": [
            [
             0,
             "#0d0887"
            ],
            [
             0.1111111111111111,
             "#46039f"
            ],
            [
             0.2222222222222222,
             "#7201a8"
            ],
            [
             0.3333333333333333,
             "#9c179e"
            ],
            [
             0.4444444444444444,
             "#bd3786"
            ],
            [
             0.5555555555555556,
             "#d8576b"
            ],
            [
             0.6666666666666666,
             "#ed7953"
            ],
            [
             0.7777777777777778,
             "#fb9f3a"
            ],
            [
             0.8888888888888888,
             "#fdca26"
            ],
            [
             1,
             "#f0f921"
            ]
           ],
           "sequentialminus": [
            [
             0,
             "#0d0887"
            ],
            [
             0.1111111111111111,
             "#46039f"
            ],
            [
             0.2222222222222222,
             "#7201a8"
            ],
            [
             0.3333333333333333,
             "#9c179e"
            ],
            [
             0.4444444444444444,
             "#bd3786"
            ],
            [
             0.5555555555555556,
             "#d8576b"
            ],
            [
             0.6666666666666666,
             "#ed7953"
            ],
            [
             0.7777777777777778,
             "#fb9f3a"
            ],
            [
             0.8888888888888888,
             "#fdca26"
            ],
            [
             1,
             "#f0f921"
            ]
           ]
          },
          "colorway": [
           "#636efa",
           "#EF553B",
           "#00cc96",
           "#ab63fa",
           "#FFA15A",
           "#19d3f3",
           "#FF6692",
           "#B6E880",
           "#FF97FF",
           "#FECB52"
          ],
          "font": {
           "color": "#2a3f5f"
          },
          "geo": {
           "bgcolor": "white",
           "lakecolor": "white",
           "landcolor": "#E5ECF6",
           "showlakes": true,
           "showland": true,
           "subunitcolor": "white"
          },
          "hoverlabel": {
           "align": "left"
          },
          "hovermode": "closest",
          "mapbox": {
           "style": "light"
          },
          "paper_bgcolor": "white",
          "plot_bgcolor": "#E5ECF6",
          "polar": {
           "angularaxis": {
            "gridcolor": "white",
            "linecolor": "white",
            "ticks": ""
           },
           "bgcolor": "#E5ECF6",
           "radialaxis": {
            "gridcolor": "white",
            "linecolor": "white",
            "ticks": ""
           }
          },
          "scene": {
           "xaxis": {
            "backgroundcolor": "#E5ECF6",
            "gridcolor": "white",
            "gridwidth": 2,
            "linecolor": "white",
            "showbackground": true,
            "ticks": "",
            "zerolinecolor": "white"
           },
           "yaxis": {
            "backgroundcolor": "#E5ECF6",
            "gridcolor": "white",
            "gridwidth": 2,
            "linecolor": "white",
            "showbackground": true,
            "ticks": "",
            "zerolinecolor": "white"
           },
           "zaxis": {
            "backgroundcolor": "#E5ECF6",
            "gridcolor": "white",
            "gridwidth": 2,
            "linecolor": "white",
            "showbackground": true,
            "ticks": "",
            "zerolinecolor": "white"
           }
          },
          "shapedefaults": {
           "line": {
            "color": "#2a3f5f"
           }
          },
          "ternary": {
           "aaxis": {
            "gridcolor": "white",
            "linecolor": "white",
            "ticks": ""
           },
           "baxis": {
            "gridcolor": "white",
            "linecolor": "white",
            "ticks": ""
           },
           "bgcolor": "#E5ECF6",
           "caxis": {
            "gridcolor": "white",
            "linecolor": "white",
            "ticks": ""
           }
          },
          "title": {
           "x": 0.05
          },
          "xaxis": {
           "automargin": true,
           "gridcolor": "white",
           "linecolor": "white",
           "ticks": "",
           "title": {
            "standoff": 15
           },
           "zerolinecolor": "white",
           "zerolinewidth": 2
          },
          "yaxis": {
           "automargin": true,
           "gridcolor": "white",
           "linecolor": "white",
           "ticks": "",
           "title": {
            "standoff": 15
           },
           "zerolinecolor": "white",
           "zerolinewidth": 2
          }
         }
        },
        "title": {
         "font": {
          "color": "#747175",
          "size": 11
         },
         "text": "<br>COVID-19: UK Business Distress and Closures</br>",
         "x": 0.01,
         "y": 0.98
        },
        "updatemenus": [
         {
          "buttons": [
           {
            "args": [
             null,
             {
              "frame": {
               "duration": 500,
               "redraw": true
              },
              "fromcurrent": true,
              "mode": "immediate",
              "transition": {
               "duration": 500,
               "easing": "linear"
              }
             }
            ],
            "label": "&#9654;",
            "method": "animate"
           },
           {
            "args": [
             [
              null
             ],
             {
              "frame": {
               "duration": 0,
               "redraw": true
              },
              "fromcurrent": true,
              "mode": "immediate",
              "transition": {
               "duration": 0,
               "easing": "linear"
              }
             }
            ],
            "label": "&#9724;",
            "method": "animate"
           }
          ],
          "direction": "left",
          "pad": {
           "r": 10,
           "t": 70
          },
          "showactive": false,
          "type": "buttons",
          "x": 0.1,
          "xanchor": "right",
          "y": 0,
          "yanchor": "top"
         }
        ],
        "width": 1000
       }
      }
     },
     "metadata": {},
     "output_type": "display_data"
    }
   ],
   "source": [
    "# Plot geo heatmap\n",
    "map_fig = px.density_mapbox(distress2, lat='latitude', lon='longitude', radius=6,\n",
    "                        center=dict(lat=53.5500, lon=-2.4333 ), zoom=4,\n",
    "                        mapbox_style=\"open-street-map\", animation_frame='Year-Month')\n",
    "\n",
    "map_fig.update_layout(margin=dict(l=0, r=0, t=0, b=0))\n",
    "\n",
    "map_fig.update_layout(font=dict(family=\"Futura\", size=8, color=\"Grey\"),\n",
    "        title = '<br>COVID-19: UK Business Distress and Closures</br>',\n",
    "        title_font_size=11,title_font_color='#747175',title_x=0.01, \n",
    "        title_y=0.98,paper_bgcolor=\"#ededed\", height=500, width=1000,\n",
    "        geo = dict(\n",
    "            showland = True,\n",
    "            landcolor = \"rgb(250, 250, 250)\",\n",
    "            subunitcolor = \"rgb(217, 217, 217)\",\n",
    "            countrycolor = \"rgb(217, 217, 217)\",\n",
    "            countrywidth = 0.5,\n",
    "            subunitwidth = 0.5),\n",
    "            )\n",
    "\n",
    "# Save figure \n",
    "map_fig.write_html('UKBusinessDistressandClosures.html')\n",
    "\n",
    "# display figure\n",
    "map_fig.show()"
   ]
  },
  {
   "cell_type": "markdown",
   "metadata": {},
   "source": [
    "# VISUALISATION 3: COVID-19: Business Financial Crisis"
   ]
  },
  {
   "cell_type": "code",
   "execution_count": 58,
   "metadata": {},
   "outputs": [],
   "source": [
    "# Revalue companies' status in more details\n",
    "plot3 = uk.copy()\n",
    "\n",
    "# Clean Company Status\n",
    "plot3.drop(plot3.loc[plot3['CompanyStatus'].isin([np.nan,'nan','None ','None','None Supplied'])].index, inplace=True)\n",
    "plot3['CompanyStatus'] = plot3['CompanyStatus'].replace({ 'Liquidation': 'Liquidation',\n",
    "                                                      'ADMINISTRATION ORDER': 'In Administration',\n",
    "                                                      'In Administration/Administrative Receiver': 'In Administration',\n",
    "                                                      'In Administration/Receiver Manager': 'In Administration',\n",
    "                                                      'RECEIVERSHIP': 'In Administration',\n",
    "                                                      'ADMINISTRATIVE RECEIVER': 'In Administration',\n",
    "                                                      'RECEIVER MANAGER / ADMINISTRATIVE RECEIVER': 'In Administration',\n",
    "                                                      'Active': 'Active',\n",
    "                                                      'On': 'Active',\n",
    "                                                      'Active - Proposal to Strike off': 'Proposal to Strike off',\n",
    "                                                      'Voluntary Arrangement': 'Voluntary Arrangement',\n",
    "                                                      'Company Company Company Voluntary Arrangement': 'Voluntary Arrangement',\n",
    "                                                      'Live but Receiver Manager on at least one charge': 'On',\n",
    "                                                      'Company Company Voluntary Arrangement': 'Voluntary Arrangement',\n",
    "                                                      'Administrative Receiver': 'In Administration',\n",
    "                                                      'RECEIVER MANAGER / In Administration': 'In Administration',\n",
    "                                                      'On': 'Active',\n",
    "                                                      'RECEIVER MANAGER / In Administration': 'In Administration',\n",
    "                                                      },\n",
    "                                                       regex = True)\n",
    "\n",
    "# Clean SIC code\n",
    "plot3.drop(plot3.loc[plot3['SICCode.SicText_1'].isin([np.nan,'nan','None ','None','None Supplied'])].index, inplace=True)\n",
    "plot3['SIC_1'] = plot3['SICCode.SicText_1'].str.slice(0,5,1)\n",
    "plot3['SIC_1'] = plot3['SIC_1'].replace(' ', '') \n",
    "# Make sure all codes are numbers\n",
    "plot3['SIC_1'] = pd.to_numeric(plot3['SIC_1'])\n",
    "\n",
    "# Clean Industry\n",
    "# Assign classifications to companies\n",
    "plot3.loc[plot3['SIC_1'].isin(cat_1), 'Industry'] = str('Agriculture, Forestry & Fishing')\n",
    "plot3.loc[plot3['SIC_1'].isin(cat_2), 'Industry'] = str('Mining & Quarrying')\n",
    "plot3.loc[plot3['SIC_1'].isin(cat_3), 'Industry'] = str('Manufacturing')\n",
    "plot3.loc[plot3['SIC_1'].isin(cat_4), 'Industry'] = str('Energy Supply')\n",
    "\n",
    "plot3.loc[plot3['SIC_1'].isin(cat_5), 'Industry'] = str('Water Supply, Sewerage, Waste Management')\n",
    "plot3.loc[plot3['SIC_1'].isin(cat_6), 'Industry'] = str('Construction')\n",
    "plot3.loc[plot3['SIC_1'].isin(cat_7), 'Industry'] = str('Wholesale & Retail')\n",
    "plot3.loc[plot3['SIC_1'].isin(cat_8), 'Industry'] = str('Transportation & Storage')\n",
    "\n",
    "plot3.loc[plot3['SIC_1'].isin(cat_9), 'Industry'] = str('Accommodation & Food')\n",
    "plot3.loc[plot3['SIC_1'].isin(cat_10), 'Industry'] = str('Information & Communication')\n",
    "plot3.loc[plot3['SIC_1'].isin(cat_11), 'Industry'] = str('Financial & Insurance')\n",
    "plot3.loc[plot3['SIC_1'].isin(cat_12), 'Industry'] = str('Real Estate')\n",
    "\n",
    "plot3.loc[plot3['SIC_1'].isin(cat_13), 'Industry'] = str('Professional, Scientific & Technical')\n",
    "plot3.loc[plot3['SIC_1'].isin(cat_14), 'Industry'] = str('Administrative Servives')\n",
    "plot3.loc[plot3['SIC_1'].isin(cat_15), 'Industry'] = str('Administration & Security')\n",
    "plot3.loc[plot3['SIC_1'].isin(cat_16), 'Industry'] = str('Education')\n",
    "\n",
    "plot3.loc[plot3['SIC_1'].isin(cat_17), 'Industry'] = str('Health & Social Work')\n",
    "plot3.loc[plot3['SIC_1'].isin(cat_18), 'Industry'] = str('Arts & Entertainment')\n",
    "plot3.loc[plot3['SIC_1'].isin(cat_19), 'Industry'] = str('Other Services')\n",
    "plot3.loc[plot3['SIC_1'].isin(cat_20), 'Industry'] = str('Households as Employers')\n",
    "plot3.loc[plot3['SIC_1'].isin(cat_21), 'Industry'] = str('Extraterritorial Organisations')\n",
    "\n",
    "plot3.drop(plot3.loc[plot3['Industry'].isin([np.nan,'nan','None ','None','None Supplied'])].index, inplace=True)\n"
   ]
  },
  {
   "cell_type": "code",
   "execution_count": 67,
   "metadata": {},
   "outputs": [
    {
     "name": "stdout",
     "output_type": "stream",
     "text": [
      "0 Wholesale & Retail\n",
      "1 Manufacturing\n",
      "2 Information & Communication\n",
      "3 Real Estate\n",
      "4 Professional, Scientific & Technical\n",
      "5 Education\n",
      "6 Transportation & Storage\n",
      "7 Households as Employers\n",
      "8 Administrative Servives\n",
      "9 Health & Social Work\n",
      "10 Other Services\n",
      "11 Construction\n",
      "12 Financial & Insurance\n",
      "13 Accommodation & Food\n",
      "14 Extraterritorial Organisations\n",
      "15 Arts & Entertainment\n",
      "16 Energy Supply\n",
      "17 Agriculture, Forestry & Fishing\n",
      "18 Mining & Quarrying\n",
      "19 Water Supply, Sewerage, Waste Management\n",
      "20 Administration & Security\n",
      "21 Active\n",
      "22 Liquidation\n",
      "23 Proposal to Strike off\n",
      "24 Voluntary Arrangement\n",
      "25 In Administration\n"
     ]
    }
   ],
   "source": [
    "# Get the labels to plot\n",
    "labels = list(plot3['Industry'].unique())\n",
    "labels.extend(list(plot3['CompanyStatus'].unique()))\n",
    "\n",
    "for index, name in enumerate(labels):\n",
    "    print(index, name)"
   ]
  },
  {
   "cell_type": "code",
   "execution_count": 91,
   "metadata": {},
   "outputs": [
    {
     "data": {
      "text/html": [
       "<div>\n",
       "<style scoped>\n",
       "    .dataframe tbody tr th:only-of-type {\n",
       "        vertical-align: middle;\n",
       "    }\n",
       "\n",
       "    .dataframe tbody tr th {\n",
       "        vertical-align: top;\n",
       "    }\n",
       "\n",
       "    .dataframe thead th {\n",
       "        text-align: right;\n",
       "    }\n",
       "</style>\n",
       "<table border=\"1\" class=\"dataframe\">\n",
       "  <thead>\n",
       "    <tr style=\"text-align: right;\">\n",
       "      <th></th>\n",
       "      <th>Industry</th>\n",
       "      <th>CompanyStatus</th>\n",
       "      <th>CompanyName</th>\n",
       "    </tr>\n",
       "  </thead>\n",
       "  <tbody>\n",
       "    <tr>\n",
       "      <th>0</th>\n",
       "      <td>Accommodation &amp; Food</td>\n",
       "      <td>Active</td>\n",
       "      <td>177249</td>\n",
       "    </tr>\n",
       "    <tr>\n",
       "      <th>1</th>\n",
       "      <td>Accommodation &amp; Food</td>\n",
       "      <td>In Administration</td>\n",
       "      <td>2</td>\n",
       "    </tr>\n",
       "    <tr>\n",
       "      <th>2</th>\n",
       "      <td>Accommodation &amp; Food</td>\n",
       "      <td>Liquidation</td>\n",
       "      <td>467</td>\n",
       "    </tr>\n",
       "    <tr>\n",
       "      <th>3</th>\n",
       "      <td>Accommodation &amp; Food</td>\n",
       "      <td>Proposal to Strike off</td>\n",
       "      <td>18519</td>\n",
       "    </tr>\n",
       "    <tr>\n",
       "      <th>4</th>\n",
       "      <td>Accommodation &amp; Food</td>\n",
       "      <td>Voluntary Arrangement</td>\n",
       "      <td>43</td>\n",
       "    </tr>\n",
       "  </tbody>\n",
       "</table>\n",
       "</div>"
      ],
      "text/plain": [
       "               Industry           CompanyStatus  CompanyName\n",
       "0  Accommodation & Food                  Active       177249\n",
       "1  Accommodation & Food       In Administration            2\n",
       "2  Accommodation & Food             Liquidation          467\n",
       "3  Accommodation & Food  Proposal to Strike off        18519\n",
       "4  Accommodation & Food   Voluntary Arrangement           43"
      ]
     },
     "execution_count": 91,
     "metadata": {},
     "output_type": "execute_result"
    }
   ],
   "source": [
    "# Count companies in term of industry\n",
    "plot3_new = pd.DataFrame(plot3.groupby(['Industry', 'CompanyStatus'])['CompanyName'].count())\n",
    "# plot3_new.to_csv(\"CompanyStatus.csv\")\n",
    "plot3_new.reset_index(inplace=True)\n",
    "plot3_new.head(5)"
   ]
  },
  {
   "cell_type": "code",
   "execution_count": 95,
   "metadata": {},
   "outputs": [],
   "source": [
    "# Creat \"start\" and \"target\" for sankey diagram\n",
    "\n",
    "plot3_new['start'] = np.nan\n",
    "\n",
    "plot3_new.loc[plot3_new['Industry'] == 'Wholesale & Retail', 'start'] = 0\n",
    "plot3_new.loc[plot3_new['Industry'] == 'Manufacturing', 'start'] = 1\n",
    "plot3_new.loc[plot3_new['Industry'] == 'Information & Communication', 'start'] = 2\n",
    "plot3_new.loc[plot3_new['Industry'] == 'Real Estate', 'start'] = 3\n",
    "plot3_new.loc[plot3_new['Industry'] == 'Professional, Scientific & Technical', 'start'] = 4\n",
    "plot3_new.loc[plot3_new['Industry'] == 'Educationn', 'start'] = 5\n",
    "plot3_new.loc[plot3_new['Industry'] == 'Transportation & Storage', 'start'] = 6\n",
    "plot3_new.loc[plot3_new['Industry'] == 'Households as Employers', 'start'] = 7\n",
    "plot3_new.loc[plot3_new['Industry'] == 'Administrative Servives', 'start'] = 8\n",
    "plot3_new.loc[plot3_new['Industry'] == 'Health & Social Work', 'start'] = 9\n",
    "plot3_new.loc[plot3_new['Industry'] == 'Other Services', 'start'] = 10\n",
    "plot3_new.loc[plot3_new['Industry'] == 'Construction', 'start'] = 11\n",
    "plot3_new.loc[plot3_new['Industry'] == 'Financial & Insurance', 'start'] = 12\n",
    "plot3_new.loc[plot3_new['Industry'] == 'Accommodation & Food', 'start'] = 13\n",
    "plot3_new.loc[plot3_new['Industry'] == 'Extraterritorial Organisations', 'start'] = 14\n",
    "plot3_new.loc[plot3_new['Industry'] == 'Arts & Entertainment', 'start'] = 15\n",
    "plot3_new.loc[plot3_new['Industry'] == 'Energy Supply', 'start'] = 16\n",
    "plot3_new.loc[plot3_new['Industry'] == 'Agriculture, Forestry & Fishing', 'start'] = 17\n",
    "plot3_new.loc[plot3_new['Industry'] == 'Mining & Quarrying', 'start'] = 18\n",
    "plot3_new.loc[plot3_new['Industry'] == 'Water Supply, Sewerage, Waste Management', 'start'] = 19\n",
    "plot3_new.loc[plot3_new['Industry'] == 'Administration & Security', 'start'] = 20\n",
    "\n",
    "plot3_new['start'] = pd.to_numeric(plot3_new['start'])\n",
    "plot3_new.drop(plot3_new.loc[plot3_new['start'].isin([np.nan,'nan','None ','None','None Supplied'])].index, inplace=True)\n",
    "\n",
    "plot3_new.loc[plot3_new['CompanyStatus'] == 'Active', 'target'] = 21\n",
    "plot3_new.loc[plot3_new['CompanyStatus'] == 'Liquidation', 'target'] = 22\n",
    "plot3_new.loc[plot3_new['CompanyStatus'] == 'Proposal to Strike off', 'target'] = 23\n",
    "plot3_new.loc[plot3_new['CompanyStatus'] == 'Voluntary Arrangement', 'target'] = 23\n",
    "plot3_new.loc[plot3_new['CompanyStatus'] == 'In Administration', 'target'] = 25\n",
    "\n",
    "plot3_new['target'] = pd.to_numeric(plot3_new['target'])"
   ]
  },
  {
   "cell_type": "code",
   "execution_count": 100,
   "metadata": {},
   "outputs": [
    {
     "data": {
      "application/vnd.plotly.v1+json": {
       "config": {
        "plotlyServerURL": "https://plot.ly"
       },
       "data": [
        {
         "link": {
          "color": [
           "#EBBAB5",
           "#292421",
           "#FEF3C7",
           "#292421",
           "#A2B5CD",
           "#292421",
           "#CBB4D5",
           "#292421",
           "#EBBAB5",
           "#292421",
           "#EBBAB5",
           "#292421",
           "#FEF3C7",
           "#292421",
           "#FEF3C7",
           "#292421",
           "#A6E3D7",
           "#292421",
           "#CDB38B",
           "#292421",
           "#A2B5CD",
           "#292421",
           "#A2B5CD",
           "#292421",
           "#CDB38B",
           "#292421",
           "#A6E3D7",
           "#292421",
           "#CBB4D5",
           "#292421",
           "#CBB4D5",
           "#292421"
          ],
          "source": [
           13,
           13,
           13,
           13,
           13,
           20,
           20,
           20,
           8,
           8,
           8,
           8,
           8,
           17,
           17,
           17,
           15,
           15,
           15,
           15,
           15,
           11,
           11,
           11,
           11,
           11,
           16,
           16,
           16,
           16,
           16,
           14,
           14,
           14,
           14,
           12,
           12,
           12,
           12,
           12,
           9,
           9,
           9,
           9,
           9,
           7,
           7,
           7,
           2,
           2,
           2,
           2,
           2,
           1,
           1,
           1,
           1,
           1,
           18,
           18,
           18,
           18,
           18,
           10,
           10,
           10,
           10,
           10,
           4,
           4,
           4,
           4,
           4,
           3,
           3,
           3,
           3,
           3,
           6,
           6,
           6,
           6,
           6,
           19,
           19,
           19,
           19,
           19,
           0,
           0,
           0,
           0,
           0
          ],
          "target": [
           21,
           25,
           22,
           23,
           23,
           21,
           22,
           23,
           21,
           25,
           22,
           23,
           23,
           21,
           22,
           23,
           21,
           25,
           22,
           23,
           23,
           21,
           25,
           22,
           23,
           23,
           21,
           25,
           22,
           23,
           23,
           21,
           22,
           23,
           23,
           21,
           25,
           22,
           23,
           23,
           21,
           25,
           22,
           23,
           23,
           21,
           22,
           23,
           21,
           25,
           22,
           23,
           23,
           21,
           25,
           22,
           23,
           23,
           21,
           25,
           22,
           23,
           23,
           21,
           25,
           22,
           23,
           23,
           21,
           25,
           22,
           23,
           23,
           21,
           25,
           22,
           23,
           23,
           21,
           25,
           22,
           23,
           23,
           21,
           25,
           22,
           23,
           23,
           21,
           25,
           22,
           23,
           23
          ],
          "value": [
           177249,
           2,
           467,
           18519,
           43,
           6944,
           5,
           563,
           278637,
           11,
           749,
           19991,
           49,
           22822,
           60,
           965,
           78326,
           1,
           91,
           4108,
           6,
           353737,
           11,
           1209,
           24608,
           49,
           11468,
           6,
           29,
           471,
           3,
           83491,
           70,
           5002,
           2,
           131077,
           11,
           234,
           4990,
           4,
           138194,
           3,
           115,
           6164,
           9,
           68999,
           13,
           1098,
           294383,
           8,
           772,
           17126,
           12,
           136923,
           13,
           327,
           9371,
           31,
           6358,
           3,
           608,
           461,
           2,
           162730,
           1,
           252,
           12391,
           6,
           431808,
           9,
           992,
           22159,
           29,
           318112,
           3,
           245,
           9011,
           9,
           114759,
           1,
           182,
           11775,
           10,
           10677,
           1,
           41,
           811,
           3,
           449010,
           7,
           693,
           37198,
           42
          ]
         },
         "node": {
          "color": [
           "#808B96",
           "#EC7063",
           "#F7DC6F",
           "#48C9B0",
           "#AF7AC5",
           "#EC7063",
           "#EC7063",
           "#F7DC6F",
           "#F7DC6F",
           "#48C9B0",
           "#48C9B0",
           "#48C9B0",
           "#48C9B0",
           "#48C9B0",
           "#48C9B0",
           "#AF7AC5",
           "#AF7AC5",
           "#AF7AC5",
           "#48C9B0"
          ],
          "label": [
           "Wholesale & Retail",
           "Manufacturing",
           "Information & Communication",
           "Real Estate",
           "Professional, Scientific & Technical",
           "Education",
           "Transportation & Storage",
           "Households as Employers",
           "Administrative Servives",
           "Health & Social Work",
           "Other Services",
           "Construction",
           "Financial & Insurance",
           "Accommodation & Food",
           "Extraterritorial Organisations",
           "Arts & Entertainment",
           "Energy Supply",
           "Agriculture, Forestry & Fishing",
           "Mining & Quarrying",
           "Water Supply, Sewerage, Waste Management",
           "Administration & Security",
           "Active",
           "Liquidation",
           "Proposal to Strike off",
           "Voluntary Arrangement",
           "In Administration"
          ],
          "pad": 10,
          "thickness": 5
         },
         "type": "sankey"
        }
       ],
       "layout": {
        "annotations": [
         {
          "font": {
           "color": "#808080",
           "family": "Futura"
          },
          "showarrow": false,
          "text": "Source: <a href=\"http://download.companieshouse.gov.uk/en_output.html\">Company House</a>",
          "textangle": 0,
          "x": 0,
          "xanchor": "left",
          "y": -0.1
         }
        ],
        "autosize": false,
        "font": {
         "color": "#3D3D3D",
         "family": "Futura",
         "size": 12
        },
        "height": 600,
        "paper_bgcolor": "#E0EEEE",
        "template": {
         "data": {
          "bar": [
           {
            "error_x": {
             "color": "#2a3f5f"
            },
            "error_y": {
             "color": "#2a3f5f"
            },
            "marker": {
             "line": {
              "color": "#E5ECF6",
              "width": 0.5
             },
             "pattern": {
              "fillmode": "overlay",
              "size": 10,
              "solidity": 0.2
             }
            },
            "type": "bar"
           }
          ],
          "barpolar": [
           {
            "marker": {
             "line": {
              "color": "#E5ECF6",
              "width": 0.5
             },
             "pattern": {
              "fillmode": "overlay",
              "size": 10,
              "solidity": 0.2
             }
            },
            "type": "barpolar"
           }
          ],
          "carpet": [
           {
            "aaxis": {
             "endlinecolor": "#2a3f5f",
             "gridcolor": "white",
             "linecolor": "white",
             "minorgridcolor": "white",
             "startlinecolor": "#2a3f5f"
            },
            "baxis": {
             "endlinecolor": "#2a3f5f",
             "gridcolor": "white",
             "linecolor": "white",
             "minorgridcolor": "white",
             "startlinecolor": "#2a3f5f"
            },
            "type": "carpet"
           }
          ],
          "choropleth": [
           {
            "colorbar": {
             "outlinewidth": 0,
             "ticks": ""
            },
            "type": "choropleth"
           }
          ],
          "contour": [
           {
            "colorbar": {
             "outlinewidth": 0,
             "ticks": ""
            },
            "colorscale": [
             [
              0,
              "#0d0887"
             ],
             [
              0.1111111111111111,
              "#46039f"
             ],
             [
              0.2222222222222222,
              "#7201a8"
             ],
             [
              0.3333333333333333,
              "#9c179e"
             ],
             [
              0.4444444444444444,
              "#bd3786"
             ],
             [
              0.5555555555555556,
              "#d8576b"
             ],
             [
              0.6666666666666666,
              "#ed7953"
             ],
             [
              0.7777777777777778,
              "#fb9f3a"
             ],
             [
              0.8888888888888888,
              "#fdca26"
             ],
             [
              1,
              "#f0f921"
             ]
            ],
            "type": "contour"
           }
          ],
          "contourcarpet": [
           {
            "colorbar": {
             "outlinewidth": 0,
             "ticks": ""
            },
            "type": "contourcarpet"
           }
          ],
          "heatmap": [
           {
            "colorbar": {
             "outlinewidth": 0,
             "ticks": ""
            },
            "colorscale": [
             [
              0,
              "#0d0887"
             ],
             [
              0.1111111111111111,
              "#46039f"
             ],
             [
              0.2222222222222222,
              "#7201a8"
             ],
             [
              0.3333333333333333,
              "#9c179e"
             ],
             [
              0.4444444444444444,
              "#bd3786"
             ],
             [
              0.5555555555555556,
              "#d8576b"
             ],
             [
              0.6666666666666666,
              "#ed7953"
             ],
             [
              0.7777777777777778,
              "#fb9f3a"
             ],
             [
              0.8888888888888888,
              "#fdca26"
             ],
             [
              1,
              "#f0f921"
             ]
            ],
            "type": "heatmap"
           }
          ],
          "heatmapgl": [
           {
            "colorbar": {
             "outlinewidth": 0,
             "ticks": ""
            },
            "colorscale": [
             [
              0,
              "#0d0887"
             ],
             [
              0.1111111111111111,
              "#46039f"
             ],
             [
              0.2222222222222222,
              "#7201a8"
             ],
             [
              0.3333333333333333,
              "#9c179e"
             ],
             [
              0.4444444444444444,
              "#bd3786"
             ],
             [
              0.5555555555555556,
              "#d8576b"
             ],
             [
              0.6666666666666666,
              "#ed7953"
             ],
             [
              0.7777777777777778,
              "#fb9f3a"
             ],
             [
              0.8888888888888888,
              "#fdca26"
             ],
             [
              1,
              "#f0f921"
             ]
            ],
            "type": "heatmapgl"
           }
          ],
          "histogram": [
           {
            "marker": {
             "pattern": {
              "fillmode": "overlay",
              "size": 10,
              "solidity": 0.2
             }
            },
            "type": "histogram"
           }
          ],
          "histogram2d": [
           {
            "colorbar": {
             "outlinewidth": 0,
             "ticks": ""
            },
            "colorscale": [
             [
              0,
              "#0d0887"
             ],
             [
              0.1111111111111111,
              "#46039f"
             ],
             [
              0.2222222222222222,
              "#7201a8"
             ],
             [
              0.3333333333333333,
              "#9c179e"
             ],
             [
              0.4444444444444444,
              "#bd3786"
             ],
             [
              0.5555555555555556,
              "#d8576b"
             ],
             [
              0.6666666666666666,
              "#ed7953"
             ],
             [
              0.7777777777777778,
              "#fb9f3a"
             ],
             [
              0.8888888888888888,
              "#fdca26"
             ],
             [
              1,
              "#f0f921"
             ]
            ],
            "type": "histogram2d"
           }
          ],
          "histogram2dcontour": [
           {
            "colorbar": {
             "outlinewidth": 0,
             "ticks": ""
            },
            "colorscale": [
             [
              0,
              "#0d0887"
             ],
             [
              0.1111111111111111,
              "#46039f"
             ],
             [
              0.2222222222222222,
              "#7201a8"
             ],
             [
              0.3333333333333333,
              "#9c179e"
             ],
             [
              0.4444444444444444,
              "#bd3786"
             ],
             [
              0.5555555555555556,
              "#d8576b"
             ],
             [
              0.6666666666666666,
              "#ed7953"
             ],
             [
              0.7777777777777778,
              "#fb9f3a"
             ],
             [
              0.8888888888888888,
              "#fdca26"
             ],
             [
              1,
              "#f0f921"
             ]
            ],
            "type": "histogram2dcontour"
           }
          ],
          "mesh3d": [
           {
            "colorbar": {
             "outlinewidth": 0,
             "ticks": ""
            },
            "type": "mesh3d"
           }
          ],
          "parcoords": [
           {
            "line": {
             "colorbar": {
              "outlinewidth": 0,
              "ticks": ""
             }
            },
            "type": "parcoords"
           }
          ],
          "pie": [
           {
            "automargin": true,
            "type": "pie"
           }
          ],
          "scatter": [
           {
            "fillpattern": {
             "fillmode": "overlay",
             "size": 10,
             "solidity": 0.2
            },
            "type": "scatter"
           }
          ],
          "scatter3d": [
           {
            "line": {
             "colorbar": {
              "outlinewidth": 0,
              "ticks": ""
             }
            },
            "marker": {
             "colorbar": {
              "outlinewidth": 0,
              "ticks": ""
             }
            },
            "type": "scatter3d"
           }
          ],
          "scattercarpet": [
           {
            "marker": {
             "colorbar": {
              "outlinewidth": 0,
              "ticks": ""
             }
            },
            "type": "scattercarpet"
           }
          ],
          "scattergeo": [
           {
            "marker": {
             "colorbar": {
              "outlinewidth": 0,
              "ticks": ""
             }
            },
            "type": "scattergeo"
           }
          ],
          "scattergl": [
           {
            "marker": {
             "colorbar": {
              "outlinewidth": 0,
              "ticks": ""
             }
            },
            "type": "scattergl"
           }
          ],
          "scattermapbox": [
           {
            "marker": {
             "colorbar": {
              "outlinewidth": 0,
              "ticks": ""
             }
            },
            "type": "scattermapbox"
           }
          ],
          "scatterpolar": [
           {
            "marker": {
             "colorbar": {
              "outlinewidth": 0,
              "ticks": ""
             }
            },
            "type": "scatterpolar"
           }
          ],
          "scatterpolargl": [
           {
            "marker": {
             "colorbar": {
              "outlinewidth": 0,
              "ticks": ""
             }
            },
            "type": "scatterpolargl"
           }
          ],
          "scatterternary": [
           {
            "marker": {
             "colorbar": {
              "outlinewidth": 0,
              "ticks": ""
             }
            },
            "type": "scatterternary"
           }
          ],
          "surface": [
           {
            "colorbar": {
             "outlinewidth": 0,
             "ticks": ""
            },
            "colorscale": [
             [
              0,
              "#0d0887"
             ],
             [
              0.1111111111111111,
              "#46039f"
             ],
             [
              0.2222222222222222,
              "#7201a8"
             ],
             [
              0.3333333333333333,
              "#9c179e"
             ],
             [
              0.4444444444444444,
              "#bd3786"
             ],
             [
              0.5555555555555556,
              "#d8576b"
             ],
             [
              0.6666666666666666,
              "#ed7953"
             ],
             [
              0.7777777777777778,
              "#fb9f3a"
             ],
             [
              0.8888888888888888,
              "#fdca26"
             ],
             [
              1,
              "#f0f921"
             ]
            ],
            "type": "surface"
           }
          ],
          "table": [
           {
            "cells": {
             "fill": {
              "color": "#EBF0F8"
             },
             "line": {
              "color": "white"
             }
            },
            "header": {
             "fill": {
              "color": "#C8D4E3"
             },
             "line": {
              "color": "white"
             }
            },
            "type": "table"
           }
          ]
         },
         "layout": {
          "annotationdefaults": {
           "arrowcolor": "#2a3f5f",
           "arrowhead": 0,
           "arrowwidth": 1
          },
          "autotypenumbers": "strict",
          "coloraxis": {
           "colorbar": {
            "outlinewidth": 0,
            "ticks": ""
           }
          },
          "colorscale": {
           "diverging": [
            [
             0,
             "#8e0152"
            ],
            [
             0.1,
             "#c51b7d"
            ],
            [
             0.2,
             "#de77ae"
            ],
            [
             0.3,
             "#f1b6da"
            ],
            [
             0.4,
             "#fde0ef"
            ],
            [
             0.5,
             "#f7f7f7"
            ],
            [
             0.6,
             "#e6f5d0"
            ],
            [
             0.7,
             "#b8e186"
            ],
            [
             0.8,
             "#7fbc41"
            ],
            [
             0.9,
             "#4d9221"
            ],
            [
             1,
             "#276419"
            ]
           ],
           "sequential": [
            [
             0,
             "#0d0887"
            ],
            [
             0.1111111111111111,
             "#46039f"
            ],
            [
             0.2222222222222222,
             "#7201a8"
            ],
            [
             0.3333333333333333,
             "#9c179e"
            ],
            [
             0.4444444444444444,
             "#bd3786"
            ],
            [
             0.5555555555555556,
             "#d8576b"
            ],
            [
             0.6666666666666666,
             "#ed7953"
            ],
            [
             0.7777777777777778,
             "#fb9f3a"
            ],
            [
             0.8888888888888888,
             "#fdca26"
            ],
            [
             1,
             "#f0f921"
            ]
           ],
           "sequentialminus": [
            [
             0,
             "#0d0887"
            ],
            [
             0.1111111111111111,
             "#46039f"
            ],
            [
             0.2222222222222222,
             "#7201a8"
            ],
            [
             0.3333333333333333,
             "#9c179e"
            ],
            [
             0.4444444444444444,
             "#bd3786"
            ],
            [
             0.5555555555555556,
             "#d8576b"
            ],
            [
             0.6666666666666666,
             "#ed7953"
            ],
            [
             0.7777777777777778,
             "#fb9f3a"
            ],
            [
             0.8888888888888888,
             "#fdca26"
            ],
            [
             1,
             "#f0f921"
            ]
           ]
          },
          "colorway": [
           "#636efa",
           "#EF553B",
           "#00cc96",
           "#ab63fa",
           "#FFA15A",
           "#19d3f3",
           "#FF6692",
           "#B6E880",
           "#FF97FF",
           "#FECB52"
          ],
          "font": {
           "color": "#2a3f5f"
          },
          "geo": {
           "bgcolor": "white",
           "lakecolor": "white",
           "landcolor": "#E5ECF6",
           "showlakes": true,
           "showland": true,
           "subunitcolor": "white"
          },
          "hoverlabel": {
           "align": "left"
          },
          "hovermode": "closest",
          "mapbox": {
           "style": "light"
          },
          "paper_bgcolor": "white",
          "plot_bgcolor": "#E5ECF6",
          "polar": {
           "angularaxis": {
            "gridcolor": "white",
            "linecolor": "white",
            "ticks": ""
           },
           "bgcolor": "#E5ECF6",
           "radialaxis": {
            "gridcolor": "white",
            "linecolor": "white",
            "ticks": ""
           }
          },
          "scene": {
           "xaxis": {
            "backgroundcolor": "#E5ECF6",
            "gridcolor": "white",
            "gridwidth": 2,
            "linecolor": "white",
            "showbackground": true,
            "ticks": "",
            "zerolinecolor": "white"
           },
           "yaxis": {
            "backgroundcolor": "#E5ECF6",
            "gridcolor": "white",
            "gridwidth": 2,
            "linecolor": "white",
            "showbackground": true,
            "ticks": "",
            "zerolinecolor": "white"
           },
           "zaxis": {
            "backgroundcolor": "#E5ECF6",
            "gridcolor": "white",
            "gridwidth": 2,
            "linecolor": "white",
            "showbackground": true,
            "ticks": "",
            "zerolinecolor": "white"
           }
          },
          "shapedefaults": {
           "line": {
            "color": "#2a3f5f"
           }
          },
          "ternary": {
           "aaxis": {
            "gridcolor": "white",
            "linecolor": "white",
            "ticks": ""
           },
           "baxis": {
            "gridcolor": "white",
            "linecolor": "white",
            "ticks": ""
           },
           "bgcolor": "#E5ECF6",
           "caxis": {
            "gridcolor": "white",
            "linecolor": "white",
            "ticks": ""
           }
          },
          "title": {
           "x": 0.05
          },
          "xaxis": {
           "automargin": true,
           "gridcolor": "white",
           "linecolor": "white",
           "ticks": "",
           "title": {
            "standoff": 15
           },
           "zerolinecolor": "white",
           "zerolinewidth": 2
          },
          "yaxis": {
           "automargin": true,
           "gridcolor": "white",
           "linecolor": "white",
           "ticks": "",
           "title": {
            "standoff": 15
           },
           "zerolinecolor": "white",
           "zerolinewidth": 2
          }
         }
        },
        "title": {
         "font": {
          "color": "#3D3D3D",
          "family": "Futura",
          "size": 25
         },
         "text": "<b>COVID-19: UK BUSINESS PERFORMANCE 2019-21</b>",
         "x": 0.08
        },
        "width": 1000
       }
      }
     },
     "metadata": {},
     "output_type": "display_data"
    }
   ],
   "source": [
    "# Get data to plot\n",
    "start = list(int(i) for i in round(plot3_new['start']))\n",
    "target = list(int(i) for i in round(plot3_new['target']))\n",
    "size = list(plot3_new['CompanyName'])\n",
    "\n",
    "# Plot sankey diagram\n",
    "\n",
    "# customize node colors\n",
    "color_node = ['#808B96', '#EC7063', '#F7DC6F', '#48C9B0', '#AF7AC5', '#EC7063',\n",
    "              '#EC7063', '#F7DC6F', '#F7DC6F', '#48C9B0', '#48C9B0', '#48C9B0', \n",
    "              '#48C9B0', '#48C9B0', '#48C9B0', '#AF7AC5', '#AF7AC5', '#AF7AC5',\n",
    "              '#48C9B0']\n",
    "\n",
    "# customize link colors\n",
    "color_link = ['#EBBAB5', '#292421', '#FEF3C7', '#292421', '#A2B5CD', '#292421',\n",
    "              '#CBB4D5', '#292421', '#EBBAB5', '#292421', '#EBBAB5', '#292421',\n",
    "              '#FEF3C7', '#292421', '#FEF3C7', '#292421', '#A6E3D7', '#292421', \n",
    "              '#CDB38B', '#292421', '#A2B5CD', '#292421', '#A2B5CD', '#292421', \n",
    "              '#CDB38B', '#292421', '#A6E3D7', '#292421', '#CBB4D5', '#292421', \n",
    "              '#CBB4D5', '#292421']\n",
    "\n",
    "# Create edges\n",
    "link = dict(source = start, target = target, value = size, color = color_link)\n",
    "node = dict(label = labels, pad = 10, thickness = 5, color = color_node)\n",
    "data = go.Sankey(link = link, node = node)\n",
    "\n",
    "# Create figure\n",
    "sankey_fig = go.Figure(data)\n",
    "\n",
    "sankey_fig.update_layout(autosize=False,\n",
    "                  width=1000,\n",
    "                  height=600,\n",
    "                  paper_bgcolor='#E0EEEE',\n",
    "                  title='<b>COVID-19: UK BUSINESS PERFORMANCE 2020-22</b>',\n",
    "                  title_font_size=25,\n",
    "                  title_font_family='Futura',\n",
    "                  title_font_color='#3D3D3D',\n",
    "                  font_color='#3D3D3D',\n",
    "                  font_family='Futura',\n",
    "                  font_size=12,\n",
    "                 )\n",
    "\n",
    "sankey_fig.add_annotation(dict(font=dict(color='#808080'),\n",
    "                                        x=0.0,\n",
    "                                        y=-0.1,\n",
    "                                        showarrow=False,\n",
    "                                        text='Source: '+'<a href=\"http://download.companieshouse.gov.uk/en_output.html\">Company House</a>',\n",
    "                                        textangle=0,\n",
    "                                        font_family='Futura',\n",
    "                                        xanchor='left',))\n",
    "\n",
    "sankey_fig.update_layout(title_x=0.08)\n",
    "\n",
    "\n",
    "# Save figure \n",
    "sankey_fig.write_html('UKBusinessPerformance.html')\n",
    "\n",
    "# Show figure\n",
    "sankey_fig.show()"
   ]
  }
 ],
 "metadata": {
  "kernelspec": {
   "display_name": "Python 3.9.12 ('env_tf')",
   "language": "python",
   "name": "python3"
  },
  "language_info": {
   "codemirror_mode": {
    "name": "ipython",
    "version": 3
   },
   "file_extension": ".py",
   "mimetype": "text/x-python",
   "name": "python",
   "nbconvert_exporter": "python",
   "pygments_lexer": "ipython3",
   "version": "3.9.12"
  },
  "orig_nbformat": 4,
  "vscode": {
   "interpreter": {
    "hash": "95be4cd226d6d6655aa8af00ef338d96f2a0bc9be47fb590bccc5b43b171c5b0"
   }
  }
 },
 "nbformat": 4,
 "nbformat_minor": 2
}
